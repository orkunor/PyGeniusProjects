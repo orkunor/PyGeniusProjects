{
 "cells": [
  {
   "cell_type": "code",
   "execution_count": 2,
   "id": "0d6ac544",
   "metadata": {},
   "outputs": [],
   "source": [
    "\"\"\"\n",
    "\n",
    "KARAKTER DİZİLERİ = STRINGLER \n",
    "\n",
    "\"\"\"\n",
    "# gerçek yaşamda kullanılan yazıların birebir olarak aynısıdır !!! \n",
    "a = 5\n"
   ]
  },
  {
   "cell_type": "code",
   "execution_count": 3,
   "id": "a7c5ee2f",
   "metadata": {},
   "outputs": [
    {
     "data": {
      "text/plain": [
       "'Orkun Orulluoğlu '"
      ]
     },
     "execution_count": 3,
     "metadata": {},
     "output_type": "execute_result"
    }
   ],
   "source": [
    "# tek tırnakla string oluşturabiliriz ... \n",
    "'Orkun Orulluoğlu '"
   ]
  },
  {
   "cell_type": "code",
   "execution_count": 4,
   "id": "23de074f",
   "metadata": {},
   "outputs": [
    {
     "data": {
      "text/plain": [
       "'Merhaba Orkun Bey'"
      ]
     },
     "execution_count": 4,
     "metadata": {},
     "output_type": "execute_result"
    }
   ],
   "source": [
    "#istersek çift tırnakla da string oluşturabiliriz... \n",
    "\"Merhaba Orkun Bey\"\n"
   ]
  },
  {
   "cell_type": "code",
   "execution_count": 5,
   "id": "0df1fac0",
   "metadata": {},
   "outputs": [
    {
     "data": {
      "text/plain": [
       "'merhaba'"
      ]
     },
     "execution_count": 5,
     "metadata": {},
     "output_type": "execute_result"
    }
   ],
   "source": [
    "# üç tırnakla da string oluşturabiliriz.\n",
    "\"\"\"merhaba\"\"\""
   ]
  },
  {
   "cell_type": "code",
   "execution_count": 6,
   "id": "408cb46a",
   "metadata": {},
   "outputs": [
    {
     "ename": "SyntaxError",
     "evalue": "invalid syntax (<ipython-input-6-f059b3ba2e8d>, line 2)",
     "output_type": "error",
     "traceback": [
      "\u001b[1;36m  File \u001b[1;32m\"<ipython-input-6-f059b3ba2e8d>\"\u001b[1;36m, line \u001b[1;32m2\u001b[0m\n\u001b[1;33m    'orkun'un arabası kırmızı renk.'\u001b[0m\n\u001b[1;37m           ^\u001b[0m\n\u001b[1;31mSyntaxError\u001b[0m\u001b[1;31m:\u001b[0m invalid syntax\n"
     ]
    }
   ],
   "source": [
    "# tek tırnak biraz sıkınıtılıdır...\n",
    "'orkun'un arabası kırmızı renk.'"
   ]
  },
  {
   "cell_type": "code",
   "execution_count": 7,
   "id": "21389780",
   "metadata": {},
   "outputs": [
    {
     "data": {
      "text/plain": [
       "\"Orkun'un Bugün Dersi Varrr...\""
      ]
     },
     "execution_count": 7,
     "metadata": {},
     "output_type": "execute_result"
    }
   ],
   "source": [
    "# tek tırnakta 2. tırnak işaretini görünce karakterleri tanımlamayı bitirir dikkat et \n",
    "\"Orkun'un Bugün Dersi Varrr...\""
   ]
  },
  {
   "cell_type": "code",
   "execution_count": 8,
   "id": "5b10e434",
   "metadata": {},
   "outputs": [
    {
     "data": {
      "text/plain": [
       "\"orkun'un arabası kırmızı renk.\""
      ]
     },
     "execution_count": 8,
     "metadata": {},
     "output_type": "execute_result"
    }
   ],
   "source": [
    "# ters slaş işareti python'da kaçış karakteridir bunun sayesinde kaçarsın \"\\\"\n",
    "#kaçınca tek tırnak sorunu çözülür \n",
    "'orkun\\'un arabası kırmızı renk.'"
   ]
  },
  {
   "cell_type": "code",
   "execution_count": 9,
   "id": "adf13f56",
   "metadata": {},
   "outputs": [
    {
     "data": {
      "text/plain": [
       "'Merhaba Orkun'"
      ]
     },
     "execution_count": 9,
     "metadata": {},
     "output_type": "execute_result"
    }
   ],
   "source": [
    "a = \"Merhaba Orkun\"\n",
    "a"
   ]
  },
  {
   "cell_type": "code",
   "execution_count": 14,
   "id": "f8b9082d",
   "metadata": {},
   "outputs": [
    {
     "data": {
      "text/plain": [
       "'t'"
      ]
     },
     "execution_count": 14,
     "metadata": {},
     "output_type": "execute_result"
    }
   ],
   "source": [
    "# her string birer karakter dizilerinden meydana gelir bu önemlidir... \n",
    "# bu karakterin her birine tek tek ulaşabiliriz . \n",
    "# bu indeksler '0' dan başlar\n",
    "c = \"salatalik\"\n",
    "c[4]"
   ]
  },
  {
   "cell_type": "code",
   "execution_count": 15,
   "id": "ce2ffddb",
   "metadata": {},
   "outputs": [
    {
     "data": {
      "text/plain": [
       "'s'"
      ]
     },
     "execution_count": 15,
     "metadata": {},
     "output_type": "execute_result"
    }
   ],
   "source": [
    "c[0]"
   ]
  },
  {
   "cell_type": "code",
   "execution_count": 16,
   "id": "11f7433b",
   "metadata": {},
   "outputs": [
    {
     "data": {
      "text/plain": [
       "'i'"
      ]
     },
     "execution_count": 16,
     "metadata": {},
     "output_type": "execute_result"
    }
   ],
   "source": [
    "# stringler baştan olduğu gibi en sondan da sayılabilir en sondaki karakterin indeksi -1'dir \n",
    "c[-2]"
   ]
  },
  {
   "cell_type": "code",
   "execution_count": 17,
   "id": "63f8d7b9",
   "metadata": {},
   "outputs": [
    {
     "data": {
      "text/plain": [
       "'a'"
      ]
     },
     "execution_count": 17,
     "metadata": {},
     "output_type": "execute_result"
    }
   ],
   "source": [
    "t = \"Ruzgar\"\n",
    "t[-2]"
   ]
  },
  {
   "cell_type": "code",
   "execution_count": 23,
   "id": "2eccbbe4",
   "metadata": {},
   "outputs": [],
   "source": [
    "# bir diziyi parçalayarak aradki istenilen değerleri de alabiliriz \n",
    "# buna ise parçalama indeksi denilmektedir...\n",
    "# [başlama indeksi : bitiş indeksi : atlama indeksi]\n",
    "a = \"Python Programlama Dili Öğreniyorum...\""
   ]
  },
  {
   "cell_type": "code",
   "execution_count": 27,
   "id": "53948b02",
   "metadata": {},
   "outputs": [
    {
     "data": {
      "text/plain": [
       "'Progr'"
      ]
     },
     "execution_count": 27,
     "metadata": {},
     "output_type": "execute_result"
    }
   ],
   "source": [
    "a[6:11]"
   ]
  },
  {
   "cell_type": "code",
   "execution_count": 29,
   "id": "65fb2f16",
   "metadata": {},
   "outputs": [
    {
     "data": {
      "text/plain": [
       "'PythonProg'"
      ]
     },
     "execution_count": 29,
     "metadata": {},
     "output_type": "execute_result"
    }
   ],
   "source": [
    "#başlangıç indeksini vermezsek direkt en baştan başlar... \n",
    "a[:10]"
   ]
  },
  {
   "cell_type": "code",
   "execution_count": 30,
   "id": "a1db4ba3",
   "metadata": {},
   "outputs": [
    {
     "data": {
      "text/plain": [
       "'onProgramlama Dili Öğreniyorum...'"
      ]
     },
     "execution_count": 30,
     "metadata": {},
     "output_type": "execute_result"
    }
   ],
   "source": [
    "# bitiş indeksini de vermezsek başlangıcı verirsek başlar ve en sona kadar gider \n",
    "a[4:]"
   ]
  },
  {
   "cell_type": "code",
   "execution_count": 31,
   "id": "d7996658",
   "metadata": {},
   "outputs": [],
   "source": [
    "# iki tarafa da hiçbir şey vermezesek baştan en sona kadar git anlamına gelir bu "
   ]
  },
  {
   "cell_type": "code",
   "execution_count": 32,
   "id": "48bbb9d9",
   "metadata": {},
   "outputs": [
    {
     "data": {
      "text/plain": [
       "'PythonProgramlama Dili Öğreniyorum...'"
      ]
     },
     "execution_count": 32,
     "metadata": {},
     "output_type": "execute_result"
    }
   ],
   "source": [
    "a[:]"
   ]
  },
  {
   "cell_type": "code",
   "execution_count": 34,
   "id": "071c7cdb",
   "metadata": {},
   "outputs": [
    {
     "data": {
      "text/plain": [
       "'PythonProgramlama Dili Öğreniyorum..'"
      ]
     },
     "execution_count": 34,
     "metadata": {},
     "output_type": "execute_result"
    }
   ],
   "source": [
    "#sondaki karaktere kadar git sonuncuyu alma anlamına geliyor bu \n",
    "a[:-1]"
   ]
  },
  {
   "cell_type": "code",
   "execution_count": 35,
   "id": "643be9aa",
   "metadata": {},
   "outputs": [
    {
     "data": {
      "text/plain": [
       "'PtoPormaaDl ğeiou..'"
      ]
     },
     "execution_count": 35,
     "metadata": {},
     "output_type": "execute_result"
    }
   ],
   "source": [
    "# atlama değeri verirsek o sayı kadar her seferinde atlama işlemi gerçekleştirir. \n",
    "a[::2]"
   ]
  },
  {
   "cell_type": "code",
   "execution_count": 36,
   "id": "0800149a",
   "metadata": {},
   "outputs": [
    {
     "data": {
      "text/plain": [
       "'PythonProgramlama Dili Öğreniyorum...'"
      ]
     },
     "execution_count": 36,
     "metadata": {},
     "output_type": "execute_result"
    }
   ],
   "source": [
    "a[::1]"
   ]
  },
  {
   "cell_type": "code",
   "execution_count": 38,
   "id": "077332c9",
   "metadata": {},
   "outputs": [
    {
     "data": {
      "text/plain": [
       "'PhPgmmDiğnom.'"
      ]
     },
     "execution_count": 38,
     "metadata": {},
     "output_type": "execute_result"
    }
   ],
   "source": [
    "a[::3]"
   ]
  },
  {
   "cell_type": "code",
   "execution_count": 39,
   "id": "d51a9433",
   "metadata": {},
   "outputs": [
    {
     "data": {
      "text/plain": [
       "'hnrga'"
      ]
     },
     "execution_count": 39,
     "metadata": {},
     "output_type": "execute_result"
    }
   ],
   "source": [
    "a[3:12:2]"
   ]
  },
  {
   "cell_type": "code",
   "execution_count": 41,
   "id": "82740e66",
   "metadata": {},
   "outputs": [
    {
     "data": {
      "text/plain": [
       "'...muroyinerğÖ iliD amalmargorPnohtyP'"
      ]
     },
     "execution_count": 41,
     "metadata": {},
     "output_type": "execute_result"
    }
   ],
   "source": [
    "#ters çevirmek için bunu kullanırız... \n",
    "a[::-1]"
   ]
  },
  {
   "cell_type": "code",
   "execution_count": 42,
   "id": "f2494b92",
   "metadata": {},
   "outputs": [],
   "source": [
    "string = \"Merhaba\""
   ]
  },
  {
   "cell_type": "code",
   "execution_count": 43,
   "id": "489bec31",
   "metadata": {},
   "outputs": [
    {
     "data": {
      "text/plain": [
       "7"
      ]
     },
     "execution_count": 43,
     "metadata": {},
     "output_type": "execute_result"
    }
   ],
   "source": [
    "#biz bu string'in uzunluğunu yani içinde bulunan karakter sayısını nasıl bulabiliriz peki \n",
    "# len() adı verdiğimiz fonksiyonu kullanarak bulabiliriz . \n",
    "len(string)"
   ]
  },
  {
   "cell_type": "code",
   "execution_count": 44,
   "id": "28e16148",
   "metadata": {},
   "outputs": [],
   "source": [
    "# stringleri doğrudan direkt olarak değiştiremeyiz dikkat et \n"
   ]
  },
  {
   "cell_type": "code",
   "execution_count": 47,
   "id": "e46cb23e",
   "metadata": {},
   "outputs": [
    {
     "data": {
      "text/plain": [
       "'Orkun Ruzgar Alex'"
      ]
     },
     "execution_count": 47,
     "metadata": {},
     "output_type": "execute_result"
    }
   ],
   "source": [
    "#stringler de toplanabiliri \n",
    "a = \"Orkun\"\n",
    "b = \" Ruzgar\"\n",
    "c = \" Alex\"\n",
    "a + b + c"
   ]
  },
  {
   "cell_type": "code",
   "execution_count": 49,
   "id": "58a87222",
   "metadata": {},
   "outputs": [
    {
     "data": {
      "text/plain": [
       "'Başaracaksın Başaracaksın Başaracaksın '"
      ]
     },
     "execution_count": 49,
     "metadata": {},
     "output_type": "execute_result"
    }
   ],
   "source": [
    "#stringler aynı zamanda çarpılabilir...\n",
    "t = \"Başaracaksın \"\n",
    "t * 3"
   ]
  },
  {
   "cell_type": "code",
   "execution_count": 50,
   "id": "2ef58f6c",
   "metadata": {},
   "outputs": [],
   "source": [
    "b = \"7\""
   ]
  },
  {
   "cell_type": "code",
   "execution_count": 51,
   "id": "42666e07",
   "metadata": {},
   "outputs": [
    {
     "data": {
      "text/plain": [
       "'777'"
      ]
     },
     "execution_count": 51,
     "metadata": {},
     "output_type": "execute_result"
    }
   ],
   "source": [
    "b * 3"
   ]
  },
  {
   "cell_type": "code",
   "execution_count": 52,
   "id": "b80ce48e",
   "metadata": {},
   "outputs": [],
   "source": [
    "a = \"Orkun \"\n",
    "\n",
    "a = a + \"Orulluoğlu\""
   ]
  },
  {
   "cell_type": "code",
   "execution_count": 54,
   "id": "4fb92829",
   "metadata": {},
   "outputs": [
    {
     "data": {
      "text/plain": [
       "'Orkun Orulluoğlu'"
      ]
     },
     "execution_count": 54,
     "metadata": {},
     "output_type": "execute_result"
    }
   ],
   "source": [
    "#herhangi bir şekilde string değiştirilmedi yapıya ekleme yapıldı dikkat et \n",
    "a"
   ]
  },
  {
   "cell_type": "code",
   "execution_count": null,
   "id": "109f58c5",
   "metadata": {},
   "outputs": [],
   "source": []
  }
 ],
 "metadata": {
  "kernelspec": {
   "display_name": "Python 3",
   "language": "python",
   "name": "python3"
  },
  "language_info": {
   "codemirror_mode": {
    "name": "ipython",
    "version": 3
   },
   "file_extension": ".py",
   "mimetype": "text/x-python",
   "name": "python",
   "nbconvert_exporter": "python",
   "pygments_lexer": "ipython3",
   "version": "3.8.8"
  }
 },
 "nbformat": 4,
 "nbformat_minor": 5
}
