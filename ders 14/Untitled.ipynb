{
 "cells": [
  {
   "cell_type": "code",
   "execution_count": 2,
   "id": "1f7a3aca",
   "metadata": {},
   "outputs": [
    {
     "data": {
      "text/plain": [
       "133"
      ]
     },
     "execution_count": 2,
     "metadata": {},
     "output_type": "execute_result"
    }
   ],
   "source": [
    "# her bir satır aslında bir anlamlı ifadedir python bunları tarar ve okuyup devam eder \n",
    "k = 34\n",
    "l = 45\n",
    "m = 54\n",
    "k + l + m "
   ]
  },
  {
   "cell_type": "code",
   "execution_count": 3,
   "id": "4d9d6424",
   "metadata": {},
   "outputs": [
    {
     "data": {
      "text/plain": [
       "-11"
      ]
     },
     "execution_count": 3,
     "metadata": {},
     "output_type": "execute_result"
    }
   ],
   "source": [
    "k - l "
   ]
  },
  {
   "cell_type": "code",
   "execution_count": 4,
   "id": "c1acda90",
   "metadata": {},
   "outputs": [
    {
     "data": {
      "text/plain": [
       "-9"
      ]
     },
     "execution_count": 4,
     "metadata": {},
     "output_type": "execute_result"
    }
   ],
   "source": [
    "l - m "
   ]
  },
  {
   "cell_type": "code",
   "execution_count": 5,
   "id": "fcb69d84",
   "metadata": {},
   "outputs": [
    {
     "data": {
      "text/plain": [
       "82620"
      ]
     },
     "execution_count": 5,
     "metadata": {},
     "output_type": "execute_result"
    }
   ],
   "source": [
    "k * l * m "
   ]
  },
  {
   "cell_type": "code",
   "execution_count": 6,
   "id": "3befb568",
   "metadata": {},
   "outputs": [
    {
     "data": {
      "text/plain": [
       "0.7555555555555555"
      ]
     },
     "execution_count": 6,
     "metadata": {},
     "output_type": "execute_result"
    }
   ],
   "source": [
    "k / l "
   ]
  },
  {
   "cell_type": "code",
   "execution_count": 7,
   "id": "7aba082d",
   "metadata": {},
   "outputs": [
    {
     "data": {
      "text/plain": [
       "7.699999999999999"
      ]
     },
     "execution_count": 7,
     "metadata": {},
     "output_type": "execute_result"
    }
   ],
   "source": [
    "i = 3.4\n",
    "j = 4.3\n",
    "i + j"
   ]
  },
  {
   "cell_type": "code",
   "execution_count": 8,
   "id": "f5f43541",
   "metadata": {},
   "outputs": [
    {
     "data": {
      "text/plain": [
       "-0.8999999999999999"
      ]
     },
     "execution_count": 8,
     "metadata": {},
     "output_type": "execute_result"
    }
   ],
   "source": [
    "i - j"
   ]
  },
  {
   "cell_type": "code",
   "execution_count": 9,
   "id": "9f099dba",
   "metadata": {},
   "outputs": [
    {
     "data": {
      "text/plain": [
       "14.62"
      ]
     },
     "execution_count": 9,
     "metadata": {},
     "output_type": "execute_result"
    }
   ],
   "source": [
    "i * j"
   ]
  },
  {
   "cell_type": "code",
   "execution_count": 10,
   "id": "204898bd",
   "metadata": {},
   "outputs": [
    {
     "data": {
      "text/plain": [
       "0.7906976744186046"
      ]
     },
     "execution_count": 10,
     "metadata": {},
     "output_type": "execute_result"
    }
   ],
   "source": [
    "i / j"
   ]
  },
  {
   "cell_type": "code",
   "execution_count": 11,
   "id": "58ed18ed",
   "metadata": {},
   "outputs": [
    {
     "data": {
      "text/plain": [
       "1.2647058823529411"
      ]
     },
     "execution_count": 11,
     "metadata": {},
     "output_type": "execute_result"
    }
   ],
   "source": [
    "j / i "
   ]
  },
  {
   "cell_type": "code",
   "execution_count": 3,
   "id": "f29e145c",
   "metadata": {},
   "outputs": [
    {
     "data": {
      "text/plain": [
       "9"
      ]
     },
     "execution_count": 3,
     "metadata": {},
     "output_type": "execute_result"
    }
   ],
   "source": [
    "# // bu ifadeyi kullanarak tam bölme işlemi yapıyoruz...\n",
    "a = 345\n",
    "b = 37\n",
    "a // b "
   ]
  },
  {
   "cell_type": "code",
   "execution_count": 2,
   "id": "6afe48d6",
   "metadata": {},
   "outputs": [
    {
     "data": {
      "text/plain": [
       "9.324324324324325"
      ]
     },
     "execution_count": 2,
     "metadata": {},
     "output_type": "execute_result"
    }
   ],
   "source": [
    "a / b "
   ]
  },
  {
   "cell_type": "code",
   "execution_count": 13,
   "id": "6ff09867",
   "metadata": {},
   "outputs": [
    {
     "data": {
      "text/plain": [
       "333"
      ]
     },
     "execution_count": 13,
     "metadata": {},
     "output_type": "execute_result"
    }
   ],
   "source": [
    "37 * 9 "
   ]
  },
  {
   "cell_type": "code",
   "execution_count": 14,
   "id": "3faabc2b",
   "metadata": {},
   "outputs": [],
   "source": [
    "# gördüğümüz üzere burada tam sayı böylmesi yapıyoruz \n",
    "# // bu tam sayı bölmesi yapan bir operatördür \n"
   ]
  },
  {
   "cell_type": "code",
   "execution_count": 15,
   "id": "89c4e6ac",
   "metadata": {},
   "outputs": [
    {
     "data": {
      "text/plain": [
       "1.9912280701754386"
      ]
     },
     "execution_count": 15,
     "metadata": {},
     "output_type": "execute_result"
    }
   ],
   "source": [
    "22.7 / 11.4"
   ]
  },
  {
   "cell_type": "code",
   "execution_count": 16,
   "id": "3ff7fbd9",
   "metadata": {},
   "outputs": [
    {
     "data": {
      "text/plain": [
       "1.0"
      ]
     },
     "execution_count": 16,
     "metadata": {},
     "output_type": "execute_result"
    }
   ],
   "source": [
    "22.7 // 11.4"
   ]
  },
  {
   "cell_type": "code",
   "execution_count": 17,
   "id": "22f25701",
   "metadata": {},
   "outputs": [
    {
     "data": {
      "text/plain": [
       "2"
      ]
     },
     "execution_count": 17,
     "metadata": {},
     "output_type": "execute_result"
    }
   ],
   "source": [
    "17 % 5"
   ]
  },
  {
   "cell_type": "code",
   "execution_count": 18,
   "id": "09dcf5bf",
   "metadata": {},
   "outputs": [
    {
     "data": {
      "text/plain": [
       "19"
      ]
     },
     "execution_count": 18,
     "metadata": {},
     "output_type": "execute_result"
    }
   ],
   "source": [
    "19"
   ]
  },
  {
   "cell_type": "code",
   "execution_count": 19,
   "id": "714a7b6f",
   "metadata": {},
   "outputs": [
    {
     "data": {
      "text/plain": [
       "5"
      ]
     },
     "execution_count": 19,
     "metadata": {},
     "output_type": "execute_result"
    }
   ],
   "source": [
    "19 % 7"
   ]
  },
  {
   "cell_type": "code",
   "execution_count": 20,
   "id": "d769200e",
   "metadata": {},
   "outputs": [
    {
     "data": {
      "text/plain": [
       "11.299999999999999"
      ]
     },
     "execution_count": 20,
     "metadata": {},
     "output_type": "execute_result"
    }
   ],
   "source": [
    "22.7 % 11.4"
   ]
  },
  {
   "cell_type": "code",
   "execution_count": 21,
   "id": "28927cca",
   "metadata": {},
   "outputs": [
    {
     "data": {
      "text/plain": [
       "0"
      ]
     },
     "execution_count": 21,
     "metadata": {},
     "output_type": "execute_result"
    }
   ],
   "source": [
    "42 % 7 "
   ]
  },
  {
   "cell_type": "code",
   "execution_count": 22,
   "id": "d2ea0834",
   "metadata": {},
   "outputs": [],
   "source": [
    "# % bu operatör sayesiinde bölümden kalanı buluyoruz!!! "
   ]
  },
  {
   "cell_type": "code",
   "execution_count": 23,
   "id": "1bc12d05",
   "metadata": {},
   "outputs": [
    {
     "data": {
      "text/plain": [
       "16"
      ]
     },
     "execution_count": 23,
     "metadata": {},
     "output_type": "execute_result"
    }
   ],
   "source": [
    "# ** bu operatör sayesinde üssü alınır \n",
    "2 ** 4"
   ]
  },
  {
   "cell_type": "code",
   "execution_count": 24,
   "id": "537253da",
   "metadata": {},
   "outputs": [
    {
     "data": {
      "text/plain": [
       "64"
      ]
     },
     "execution_count": 24,
     "metadata": {},
     "output_type": "execute_result"
    }
   ],
   "source": [
    "2 ** 6"
   ]
  },
  {
   "cell_type": "code",
   "execution_count": 25,
   "id": "fbbe2a35",
   "metadata": {},
   "outputs": [
    {
     "data": {
      "text/plain": [
       "729"
      ]
     },
     "execution_count": 25,
     "metadata": {},
     "output_type": "execute_result"
    }
   ],
   "source": [
    "3 ** 6"
   ]
  },
  {
   "cell_type": "code",
   "execution_count": 26,
   "id": "e04b13d1",
   "metadata": {},
   "outputs": [
    {
     "data": {
      "text/plain": [
       "343"
      ]
     },
     "execution_count": 26,
     "metadata": {},
     "output_type": "execute_result"
    }
   ],
   "source": [
    "7 ** 3"
   ]
  },
  {
   "cell_type": "code",
   "execution_count": 27,
   "id": "dc28d91f",
   "metadata": {},
   "outputs": [
    {
     "data": {
      "text/plain": [
       "216"
      ]
     },
     "execution_count": 27,
     "metadata": {},
     "output_type": "execute_result"
    }
   ],
   "source": [
    "6 ** 3"
   ]
  },
  {
   "cell_type": "code",
   "execution_count": 28,
   "id": "ba4d3d4b",
   "metadata": {},
   "outputs": [
    {
     "data": {
      "text/plain": [
       "2.0"
      ]
     },
     "execution_count": 28,
     "metadata": {},
     "output_type": "execute_result"
    }
   ],
   "source": [
    "4 ** (1/2)"
   ]
  },
  {
   "cell_type": "code",
   "execution_count": 29,
   "id": "9b461518",
   "metadata": {},
   "outputs": [
    {
     "data": {
      "text/plain": [
       "4.5"
      ]
     },
     "execution_count": 29,
     "metadata": {},
     "output_type": "execute_result"
    }
   ],
   "source": [
    "9**1/2"
   ]
  },
  {
   "cell_type": "code",
   "execution_count": 30,
   "id": "5b91ef89",
   "metadata": {},
   "outputs": [
    {
     "data": {
      "text/plain": [
       "2.0"
      ]
     },
     "execution_count": 30,
     "metadata": {},
     "output_type": "execute_result"
    }
   ],
   "source": [
    "16 ** (1/4)"
   ]
  },
  {
   "cell_type": "code",
   "execution_count": 31,
   "id": "6e276767",
   "metadata": {},
   "outputs": [
    {
     "data": {
      "text/plain": [
       "-7"
      ]
     },
     "execution_count": 31,
     "metadata": {},
     "output_type": "execute_result"
    }
   ],
   "source": [
    "a = 7 \n",
    "-a"
   ]
  },
  {
   "cell_type": "code",
   "execution_count": 32,
   "id": "03428333",
   "metadata": {},
   "outputs": [
    {
     "data": {
      "text/plain": [
       "5"
      ]
     },
     "execution_count": 32,
     "metadata": {},
     "output_type": "execute_result"
    }
   ],
   "source": [
    "b = -5\n",
    "-b"
   ]
  },
  {
   "cell_type": "code",
   "execution_count": 33,
   "id": "403c98cb",
   "metadata": {},
   "outputs": [
    {
     "data": {
      "text/plain": [
       "43.0"
      ]
     },
     "execution_count": 33,
     "metadata": {},
     "output_type": "execute_result"
    }
   ],
   "source": [
    "# Python'daki işlem sırası matematikteki işlem sırasıyla birebir aynıdır.. \n",
    "# işlemler soldan sağa doğru değerlendirilir... dikkat et !!! \n",
    "8 + 7 / 2 * 4 + 21"
   ]
  },
  {
   "cell_type": "code",
   "execution_count": 34,
   "id": "cb8c64c2",
   "metadata": {},
   "outputs": [
    {
     "data": {
      "text/plain": [
       "11.0"
      ]
     },
     "execution_count": 34,
     "metadata": {},
     "output_type": "execute_result"
    }
   ],
   "source": [
    "10 ** 2 // 3 / 3"
   ]
  },
  {
   "cell_type": "code",
   "execution_count": null,
   "id": "eccfe717",
   "metadata": {},
   "outputs": [],
   "source": [
    " "
   ]
  }
 ],
 "metadata": {
  "kernelspec": {
   "display_name": "Python 3",
   "language": "python",
   "name": "python3"
  },
  "language_info": {
   "codemirror_mode": {
    "name": "ipython",
    "version": 3
   },
   "file_extension": ".py",
   "mimetype": "text/x-python",
   "name": "python",
   "nbconvert_exporter": "python",
   "pygments_lexer": "ipython3",
   "version": "3.8.8"
  }
 },
 "nbformat": 4,
 "nbformat_minor": 5
}
