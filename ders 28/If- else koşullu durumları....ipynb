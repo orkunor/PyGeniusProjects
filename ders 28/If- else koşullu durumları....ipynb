{
 "cells": [
  {
   "cell_type": "code",
   "execution_count": 1,
   "id": "bd931e3d",
   "metadata": {},
   "outputs": [],
   "source": [
    "# öncelikle bir python programı nasıl çalışır kodların okunma mantığı nedir buna bakalım \n",
    "# bir python programı en üstten başlayarak kodalrı adım adım çalıştırarak ilerler çalıştırıcak kod kalmadığı zaman \n",
    "# program sona erer..."
   ]
  },
  {
   "cell_type": "code",
   "execution_count": 2,
   "id": "b9190160",
   "metadata": {},
   "outputs": [],
   "source": [
    "# Python kodları bloklardan oluşur ve python bu blokların her birini çalıştırmak zorunda değildir...\n",
    "# python da bloklar tanımlanırken bu bloklar girintilerden oluşur peki bu ne anlama gelir :\n",
    "# bir kodu biraz daha içerde yazarak girinti oluşturulur bunlara girintiler adı verilir ve bloklar oluşturur"
   ]
  },
  {
   "cell_type": "code",
   "execution_count": 4,
   "id": "b48fd838",
   "metadata": {},
   "outputs": [
    {
     "name": "stdout",
     "output_type": "stream",
     "text": [
      "2\n",
      "Merhaba\n"
     ]
    }
   ],
   "source": [
    "a = 2 # bu kod BLOK 1'e aittir\n",
    "\n",
    "if (a == 2):\n",
    "    print(a) # blok 2'ye ait bir koddur... \n",
    "print(\"Merhaba\") # bu kod BLOK 1'e aittir..."
   ]
  },
  {
   "cell_type": "code",
   "execution_count": 5,
   "id": "e54d89fd",
   "metadata": {},
   "outputs": [
    {
     "name": "stdout",
     "output_type": "stream",
     "text": [
      "Merhaba\n"
     ]
    }
   ],
   "source": [
    "a = 2 # bu kod BLOK 1'e aittir\n",
    "\n",
    "if (a == 3):\n",
    "    print(a) # blok 2'ye ait bir koddur... \n",
    "print(\"Merhaba\") # bu kod BLOK 1'e aittir..."
   ]
  },
  {
   "cell_type": "code",
   "execution_count": 6,
   "id": "1f4fbf70",
   "metadata": {},
   "outputs": [],
   "source": [
    "\"\"\"\n",
    "Koşullu durumlar bizim günlük hayatta da sürekli karşılaştığımız durumlardır \n",
    " => yağmur yağma durumuna göre şemsiye alırız \n",
    " => uyku gelme durumuna göre yatağımıza gideriz...\n",
    "\n",
    "\n",
    "\"\"\"\n",
    "a = 0"
   ]
  },
  {
   "cell_type": "code",
   "execution_count": 8,
   "id": "c2ab2ce5",
   "metadata": {},
   "outputs": [],
   "source": [
    "\"\"\"\n",
    "if bloğu ==> \n",
    "\n",
    "if bloğu yaparken \n",
    "if(koşul):\n",
    "    if bloğu koşul sağlanınca yani True olunca çalıştırılır \n",
    "    if bloğu girintilerle oluşturulur...\n",
    "    yapılacak işlemler...\n",
    "\n",
    "# if bloklarında \n",
    "\"\"\"\n",
    "a = 0"
   ]
  },
  {
   "cell_type": "code",
   "execution_count": 17,
   "id": "41181118",
   "metadata": {},
   "outputs": [
    {
     "name": "stdout",
     "output_type": "stream",
     "text": [
      "Lütfen yaşınızı giriniz : 19\n",
      "Mekana girebilirsiniz Hoşgeldiniz...\n",
      "Kod bitti...\n"
     ]
    }
   ],
   "source": [
    "yas = int(input(\"Lütfen yaşınızı giriniz : \"))\n",
    "\n",
    "if(yas >= 18 ):\n",
    "    print(\"Mekana girebilirsiniz Hoşgeldiniz...\")\n",
    "else:  # eğer koşul sağlanmazsa anlamına gelmektedir ... \n",
    "    print(\"Mekana giremezsiniz...\")\n",
    "print(\"Kod bitti...\")"
   ]
  },
  {
   "cell_type": "code",
   "execution_count": 18,
   "id": "65f7b56b",
   "metadata": {},
   "outputs": [
    {
     "name": "stdout",
     "output_type": "stream",
     "text": [
      "Lütfen yaşınızı giriniz : 15\n",
      "Mekana giremezsiniz...\n",
      "Kod bitti...\n"
     ]
    }
   ],
   "source": [
    "yas = int(input(\"Lütfen yaşınızı giriniz : \"))\n",
    "\n",
    "if(yas >= 18 ):\n",
    "    print(\"Mekana girebilirsiniz Hoşgeldiniz...\")\n",
    "else:  # eğer koşul sağlanmazsa anlamına gelmektedir ... \n",
    "    print(\"Mekana giremezsiniz...\")\n",
    "print(\"Kod bitti...\")"
   ]
  },
  {
   "cell_type": "code",
   "execution_count": 20,
   "id": "9587c648",
   "metadata": {},
   "outputs": [
    {
     "name": "stdout",
     "output_type": "stream",
     "text": [
      "Lütfen bir sayı giriniz : 4\n",
      "Sıfır veya Pozitif sayı...\n"
     ]
    }
   ],
   "source": [
    "sayı = int(input(\"Lütfen bir sayı giriniz : \"))\n",
    "\n",
    "if sayı < 0:\n",
    "    print(\"Negatif sayı...\")\n",
    "else:\n",
    "    print(\"Sıfır veya Pozitif sayı...\")"
   ]
  },
  {
   "cell_type": "code",
   "execution_count": 21,
   "id": "3c7b3564",
   "metadata": {},
   "outputs": [
    {
     "name": "stdout",
     "output_type": "stream",
     "text": [
      "Lütfen bir sayı giriniz : -4\n",
      "Negatif sayı...\n"
     ]
    }
   ],
   "source": [
    "sayı = int(input(\"Lütfen bir sayı giriniz : \"))\n",
    "\n",
    "if sayı < 0:\n",
    "    print(\"Negatif sayı...\")\n",
    "else:\n",
    "    print(\"Sıfır veya Pozitif sayı...\")"
   ]
  },
  {
   "cell_type": "code",
   "execution_count": 22,
   "id": "539b0ee6",
   "metadata": {},
   "outputs": [
    {
     "name": "stdout",
     "output_type": "stream",
     "text": [
      "Lütfen bir sayı giriniz : 5\n",
      "Sıfır veya Pozitif sayı...\n"
     ]
    }
   ],
   "source": [
    "sayı = int(input(\"Lütfen bir sayı giriniz : \"))\n",
    "\n",
    "if sayı < 0:\n",
    "    print(\"Negatif sayı...\")\n",
    "else:\n",
    "    print(\"Sıfır veya Pozitif sayı...\")"
   ]
  },
  {
   "cell_type": "code",
   "execution_count": null,
   "id": "3d7258d1",
   "metadata": {},
   "outputs": [],
   "source": []
  }
 ],
 "metadata": {
  "kernelspec": {
   "display_name": "Python 3",
   "language": "python",
   "name": "python3"
  },
  "language_info": {
   "codemirror_mode": {
    "name": "ipython",
    "version": 3
   },
   "file_extension": ".py",
   "mimetype": "text/x-python",
   "name": "python",
   "nbconvert_exporter": "python",
   "pygments_lexer": "ipython3",
   "version": "3.8.8"
  }
 },
 "nbformat": 4,
 "nbformat_minor": 5
}
