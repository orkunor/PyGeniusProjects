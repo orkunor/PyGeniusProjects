{
 "cells": [
  {
   "cell_type": "code",
   "execution_count": 1,
   "id": "4fccaf15",
   "metadata": {},
   "outputs": [
    {
     "data": {
      "text/plain": [
       "False"
      ]
     },
     "execution_count": 1,
     "metadata": {},
     "output_type": "execute_result"
    }
   ],
   "source": [
    "\"\"\"\n",
    "** öncelikle in operatörünü inceleyelim => \n",
    "\"in\" operatörü python'da bir elemanın başka bir listede , stringde veya demette olup olmadığını kontrol eder...\n",
    "\"\"\"\n",
    "5 in [1,2,3,4,7]"
   ]
  },
  {
   "cell_type": "code",
   "execution_count": 2,
   "id": "8ca31163",
   "metadata": {},
   "outputs": [
    {
     "data": {
      "text/plain": [
       "True"
      ]
     },
     "execution_count": 2,
     "metadata": {},
     "output_type": "execute_result"
    }
   ],
   "source": [
    "5 in [1,2,3,4,5,6]"
   ]
  },
  {
   "cell_type": "code",
   "execution_count": 5,
   "id": "025b5516",
   "metadata": {},
   "outputs": [
    {
     "data": {
      "text/plain": [
       "True"
      ]
     },
     "execution_count": 5,
     "metadata": {},
     "output_type": "execute_result"
    }
   ],
   "source": [
    "\"o\" in\"o\""
   ]
  },
  {
   "cell_type": "code",
   "execution_count": 6,
   "id": "6fbdde97",
   "metadata": {},
   "outputs": [
    {
     "data": {
      "text/plain": [
       "True"
      ]
     },
     "execution_count": 6,
     "metadata": {},
     "output_type": "execute_result"
    }
   ],
   "source": [
    "\"o\" in \"orkun\""
   ]
  },
  {
   "cell_type": "code",
   "execution_count": 7,
   "id": "e7fcdc6f",
   "metadata": {},
   "outputs": [
    {
     "data": {
      "text/plain": [
       "True"
      ]
     },
     "execution_count": 7,
     "metadata": {},
     "output_type": "execute_result"
    }
   ],
   "source": [
    "\"p\" in \"python\""
   ]
  },
  {
   "cell_type": "code",
   "execution_count": 8,
   "id": "5fffb836",
   "metadata": {},
   "outputs": [
    {
     "data": {
      "text/plain": [
       "False"
      ]
     },
     "execution_count": 8,
     "metadata": {},
     "output_type": "execute_result"
    }
   ],
   "source": [
    "\"s\" in \"python\""
   ]
  },
  {
   "cell_type": "code",
   "execution_count": 9,
   "id": "d561c1c5",
   "metadata": {},
   "outputs": [
    {
     "data": {
      "text/plain": [
       "True"
      ]
     },
     "execution_count": 9,
     "metadata": {},
     "output_type": "execute_result"
    }
   ],
   "source": [
    "1 in {1,2,3,4}"
   ]
  },
  {
   "cell_type": "code",
   "execution_count": 10,
   "id": "9eb26198",
   "metadata": {},
   "outputs": [
    {
     "data": {
      "text/plain": [
       "True"
      ]
     },
     "execution_count": 10,
     "metadata": {},
     "output_type": "execute_result"
    }
   ],
   "source": [
    "not 4 in [1,2,3]"
   ]
  },
  {
   "cell_type": "code",
   "execution_count": 11,
   "id": "a4f740c1",
   "metadata": {},
   "outputs": [],
   "source": [
    "\"\"\"\n",
    "for döngüsü ; listelerin , demetlerin , stringlerin ve hatta sözlüklerin üzerinde dolaşmamızı sağlayan bir döngüdür . \n",
    "  \n",
    "   \n",
    "   \n",
    "   for eleman in veri_yapısı(liste,demet,dict)\n",
    "       yapılacak işlemler\n",
    "\n",
    "bu yapı bize şunu söyler \n",
    "    eleman değişkeni her döngünün başında listenin demetin vs her bir elemanına eşit olacak ve her döngüde bu elemanla işlem \n",
    "    yapılacaktır \n",
    "\"\"\"\n",
    "a = 0"
   ]
  },
  {
   "cell_type": "code",
   "execution_count": 12,
   "id": "65290724",
   "metadata": {},
   "outputs": [
    {
     "name": "stdout",
     "output_type": "stream",
     "text": [
      "1\n",
      "2\n",
      "3\n",
      "4\n",
      "5\n",
      "6\n",
      "7\n"
     ]
    }
   ],
   "source": [
    "liste = [1,2,3,4,5,6,7]\n",
    "\n",
    "for eleman in liste:\n",
    "    print(eleman)"
   ]
  },
  {
   "cell_type": "code",
   "execution_count": 29,
   "id": "bd91e6d3",
   "metadata": {},
   "outputs": [
    {
     "name": "stdout",
     "output_type": "stream",
     "text": [
      "toplam : 1 eleman : 1\n",
      "\n",
      "toplam : 3 eleman : 2\n",
      "\n",
      "toplam : 6 eleman : 3\n",
      "\n",
      "toplam : 10 eleman : 4\n",
      "\n",
      "toplam : 15 eleman : 5\n",
      "\n",
      "toplam : 21 eleman : 6\n",
      "\n",
      "toplam : 28 eleman : 7\n",
      "\n",
      "\n",
      "\n",
      "28\n"
     ]
    }
   ],
   "source": [
    "toplam = 0\n",
    "liste = [1,2,3,4,5,6,7]\n",
    "\n",
    "for eleman in liste:\n",
    "    toplam = toplam + eleman\n",
    "    print(\"toplam : {} eleman : {}\\n\".format(toplam,eleman))\n",
    "print(\"\\n\")\n",
    "print(toplam)"
   ]
  },
  {
   "cell_type": "code",
   "execution_count": 24,
   "id": "39c2af07",
   "metadata": {},
   "outputs": [
    {
     "name": "stdout",
     "output_type": "stream",
     "text": [
      "120\n"
     ]
    }
   ],
   "source": [
    "çarpım = 1\n",
    "liste = [1,2,3,4,5]\n",
    "\n",
    "for i in liste:\n",
    "    çarpım = çarpım * i\n",
    "print(çarpım)"
   ]
  },
  {
   "cell_type": "code",
   "execution_count": 38,
   "id": "980bf139",
   "metadata": {},
   "outputs": [
    {
     "name": "stdout",
     "output_type": "stream",
     "text": [
      "elemanınız tek sayıdır :  1\n",
      "\n",
      "\n",
      "elemanınız çift sayıdır :  2\n",
      "\n",
      "\n",
      "elemanınız tek sayıdır :  3\n",
      "\n",
      "\n",
      "elemanınız çift sayıdır :  54\n",
      "\n",
      "\n",
      "elemanınız tek sayıdır :  63\n",
      "\n",
      "\n",
      "elemanınız tek sayıdır :  67\n",
      "\n",
      "\n",
      "elemanınız çift sayıdır :  78\n",
      "\n",
      "\n",
      "elemanınız tek sayıdır :  91\n",
      "\n",
      "\n"
     ]
    }
   ],
   "source": [
    "liste = [1,2,3,54,63,67,78,91]\n",
    "\n",
    "for i in liste:\n",
    "    if i % 2 == 0:\n",
    "        print(\"elemanınız çift sayıdır : \",i)\n",
    "        print(\"\\n\")\n",
    "    else:\n",
    "        print(\"elemanınız tek sayıdır : \",i)\n",
    "        print(\"\\n\")"
   ]
  },
  {
   "cell_type": "code",
   "execution_count": 39,
   "id": "0e279235",
   "metadata": {},
   "outputs": [
    {
     "name": "stdout",
     "output_type": "stream",
     "text": [
      "P\n",
      "y\n",
      "t\n",
      "h\n",
      "o\n",
      "n\n"
     ]
    }
   ],
   "source": [
    "s = \"Python\"\n",
    "\n",
    "for i in s:\n",
    "    print(i)"
   ]
  },
  {
   "cell_type": "code",
   "execution_count": 40,
   "id": "d7dde434",
   "metadata": {},
   "outputs": [
    {
     "name": "stdout",
     "output_type": "stream",
     "text": [
      "PPP\n",
      "yyy\n",
      "ttt\n",
      "hhh\n",
      "ooo\n",
      "nnn\n"
     ]
    }
   ],
   "source": [
    "s = \"Python\"\n",
    "\n",
    "for i in s:\n",
    "    print(i * 3)"
   ]
  },
  {
   "cell_type": "code",
   "execution_count": 50,
   "id": "0afd6f62",
   "metadata": {},
   "outputs": [
    {
     "name": "stdout",
     "output_type": "stream",
     "text": [
      "1\n",
      "2\n",
      "3\n",
      "4\n"
     ]
    }
   ],
   "source": [
    "# demetler üzerinde gezinmekte tıpkı listeler üzerinde gezinmeye benzer => \n",
    "demet = (1,2,3,4)\n",
    "\n",
    "for i in demet:\n",
    "    print(i)"
   ]
  },
  {
   "cell_type": "code",
   "execution_count": 51,
   "id": "f6c978ca",
   "metadata": {},
   "outputs": [
    {
     "name": "stdout",
     "output_type": "stream",
     "text": [
      "(1, 2)\n",
      "(3, 4)\n",
      "(5, 6)\n",
      "(7, 8)\n"
     ]
    }
   ],
   "source": [
    "liste = [(1,2),(3,4),(5,6),(7,8)]\n",
    "\n",
    "for i in liste:\n",
    "    print(i)"
   ]
  },
  {
   "cell_type": "code",
   "execution_count": 54,
   "id": "97975d27",
   "metadata": {},
   "outputs": [
    {
     "name": "stdout",
     "output_type": "stream",
     "text": [
      "i => 1 \t\t j => 2\n",
      "i => 3 \t\t j => 4\n",
      "i => 5 \t\t j => 6\n",
      "i => 7 \t\t j => 8\n"
     ]
    }
   ],
   "source": [
    "liste = [(1,2),(3,4),(5,6),(7,8)]\n",
    "\n",
    "for i,j in liste:\n",
    "    print(\"i => {} \\t\\t j => {}\".format(i,j))"
   ]
  },
  {
   "cell_type": "code",
   "execution_count": 55,
   "id": "ddb49e67",
   "metadata": {},
   "outputs": [
    {
     "name": "stdout",
     "output_type": "stream",
     "text": [
      "2\n",
      "12\n",
      "30\n",
      "56\n"
     ]
    }
   ],
   "source": [
    "liste = [(1,2),(3,4),(5,6),(7,8)]\n",
    "\n",
    "for i,j in liste:\n",
    "    print(i*j)"
   ]
  },
  {
   "cell_type": "code",
   "execution_count": 56,
   "id": "79c04edb",
   "metadata": {},
   "outputs": [
    {
     "name": "stdout",
     "output_type": "stream",
     "text": [
      "18\n",
      "120\n",
      "330\n",
      "672\n"
     ]
    }
   ],
   "source": [
    "liste = [(1,2,9),(3,4,10),(5,6,11),(7,8,12)]\n",
    "\n",
    "for i,j,k in liste:\n",
    "    print(i*j*k)"
   ]
  },
  {
   "cell_type": "code",
   "execution_count": 5,
   "id": "5c4ba2be",
   "metadata": {},
   "outputs": [
    {
     "data": {
      "text/plain": [
       "dict_keys(['bir', 'iki', 'üç', 'dört'])"
      ]
     },
     "execution_count": 5,
     "metadata": {},
     "output_type": "execute_result"
    }
   ],
   "source": [
    "# sözlükler (dictionary) üzerinde gezinmek => \n",
    "sözlük = {\"bir\":1 , \"iki\":2 , \"üç\" : 3 , \"dört\" : 4 }\n",
    "sözlük.keys() # anahtarlar bunlardır bu yapı direkt bir liste oluşturuyor ... "
   ]
  },
  {
   "cell_type": "code",
   "execution_count": 6,
   "id": "72dc500e",
   "metadata": {},
   "outputs": [
    {
     "data": {
      "text/plain": [
       "dict_values([1, 2, 3, 4])"
      ]
     },
     "execution_count": 6,
     "metadata": {},
     "output_type": "execute_result"
    }
   ],
   "source": [
    "sözlük.values() # değerler de bunlardır... bu öyle liste oluşturuyor bu yapılar"
   ]
  },
  {
   "cell_type": "code",
   "execution_count": 8,
   "id": "483ce2dd",
   "metadata": {},
   "outputs": [
    {
     "data": {
      "text/plain": [
       "dict_items([('bir', 1), ('iki', 2), ('üç', 3), ('dört', 4)])"
      ]
     },
     "execution_count": 8,
     "metadata": {},
     "output_type": "execute_result"
    }
   ],
   "source": [
    "sözlük.items() #görüğldüğü üzere bu yapıda bir liste oluşturmuş... "
   ]
  },
  {
   "cell_type": "code",
   "execution_count": 10,
   "id": "385afc4f",
   "metadata": {},
   "outputs": [
    {
     "name": "stdout",
     "output_type": "stream",
     "text": [
      "bir\n",
      "iki\n",
      "üç\n",
      "dört\n"
     ]
    }
   ],
   "source": [
    "\"\"\"\n",
    "görüldüğü üzere bu parametreler yardımıyla liste oluşturulmuşşş \n",
    "Python'da bu parametreler sayesinde liste üzerinde gezer gibi gezilebilecektir...\n",
    "bunları bir liste olarak düşün ve burada gezinebileceğimizi bilmeliyiz... \n",
    "\"\"\"\n",
    "# sözlük üzerinde for döngüsüyle dolaşmaya çalışırsak => \n",
    "sözlük = {\"bir\":1 , \"iki\":2 , \"üç\" : 3 , \"dört\" : 4 }\n",
    "for eleman in sözlük:\n",
    "    print(eleman)"
   ]
  },
  {
   "cell_type": "code",
   "execution_count": 15,
   "id": "36bf142c",
   "metadata": {},
   "outputs": [
    {
     "name": "stdout",
     "output_type": "stream",
     "text": [
      "1\n",
      "2\n",
      "3\n",
      "4\n"
     ]
    }
   ],
   "source": [
    "# görüldüğü üzere sadecxe values'leri bize çevirdi \n",
    "# listelerinde gezinirken \n",
    "for i in sözlük.values():\n",
    "    print(i)"
   ]
  },
  {
   "cell_type": "code",
   "execution_count": 16,
   "id": "374cc07a",
   "metadata": {},
   "outputs": [
    {
     "name": "stdout",
     "output_type": "stream",
     "text": [
      "bir\n",
      "iki\n",
      "üç\n",
      "dört\n"
     ]
    }
   ],
   "source": [
    "for i in sözlük.keys():\n",
    "    print(i)"
   ]
  },
  {
   "cell_type": "code",
   "execution_count": 19,
   "id": "960516cb",
   "metadata": {},
   "outputs": [
    {
     "name": "stdout",
     "output_type": "stream",
     "text": [
      "bir 1\n",
      "iki 2\n",
      "üç 3\n",
      "dört 4\n"
     ]
    }
   ],
   "source": [
    "# bu yapı sayesinde ikili gezinme işlemini yapabiliyoruz...\n",
    "for i,j in sözlük.items():\n",
    "    print(i,j)"
   ]
  },
  {
   "cell_type": "code",
   "execution_count": 22,
   "id": "ce9ad57e",
   "metadata": {},
   "outputs": [
    {
     "name": "stdout",
     "output_type": "stream",
     "text": [
      "Anahtar : \t bir \tDeğerler :  1\n",
      "Anahtar : \t iki \tDeğerler :  2\n",
      "Anahtar : \t üç \tDeğerler :  3\n",
      "Anahtar : \t dört \tDeğerler :  4\n"
     ]
    }
   ],
   "source": [
    "for i,j in sözlük.items():\n",
    "    print(\"Anahtar : \\t\",i,\"\\tDeğerler : \",j)"
   ]
  },
  {
   "cell_type": "code",
   "execution_count": 23,
   "id": "0e10a890",
   "metadata": {},
   "outputs": [
    {
     "name": "stdout",
     "output_type": "stream",
     "text": [
      "28\n"
     ]
    }
   ],
   "source": [
    "liste = [2,1,10,2,23,1,56,3]\n",
    " \n",
    "total = 0\n",
    "for i in liste:\n",
    "    if (not (i % 2 == 0)):\n",
    "        total += i\n",
    " \n",
    "print(total)"
   ]
  },
  {
   "cell_type": "code",
   "execution_count": null,
   "id": "cf539c10",
   "metadata": {},
   "outputs": [],
   "source": []
  }
 ],
 "metadata": {
  "kernelspec": {
   "display_name": "Python 3",
   "language": "python",
   "name": "python3"
  },
  "language_info": {
   "codemirror_mode": {
    "name": "ipython",
    "version": 3
   },
   "file_extension": ".py",
   "mimetype": "text/x-python",
   "name": "python",
   "nbconvert_exporter": "python",
   "pygments_lexer": "ipython3",
   "version": "3.8.8"
  }
 },
 "nbformat": 4,
 "nbformat_minor": 5
}
