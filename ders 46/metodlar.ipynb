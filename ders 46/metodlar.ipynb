{
 "cells": [
  {
   "cell_type": "code",
   "execution_count": 1,
   "id": "b77b3398",
   "metadata": {},
   "outputs": [],
   "source": [
    "# artık fonksiyonların temel özelliklerini ve fonksiyonların matığını inceleyeceğiz...\n",
    "# en önemli kompsetlerden biri fonksiyonlardır \n",
    "# bundan önce metodları anlamaya çalışcağız.."
   ]
  },
  {
   "cell_type": "code",
   "execution_count": 3,
   "id": "74345445",
   "metadata": {},
   "outputs": [],
   "source": [
    "\"\"\"\n",
    "Şimdiye kadar Pythonda kullanabildiğimiz bir çok veri tipi gördük ve \n",
    "bazı veritipleri üzerinde bu veritiplerinin metodlarını kullandık. \n",
    "Aslında bu veritiplerin oluşturulan her bir değişken Pythonda obje( object) olarak düşünülür ve \n",
    "Python geliştiricileri bu objelere birçok metod tanımlamıştır. Peki nedir bu metodlar ?\n",
    "\n",
    "Metodlar bir obje üzerinde belli işlemleri gerçekleştiren objelere özgü fonksiyonlardır ve objelerin üzerinde metodlar \n",
    "şu şekilde kullanılır => \n",
    "   obje.herhangi_bir_metod(değerler(opsiyonel))\n",
    "\n",
    "\"\"\"\n",
    "g = 0"
   ]
  },
  {
   "cell_type": "code",
   "execution_count": 4,
   "id": "86f1ce5f",
   "metadata": {},
   "outputs": [],
   "source": [
    "# biz burada bir tane obje oluşturduk \n",
    "a = [1,2,3,4]"
   ]
  },
  {
   "cell_type": "code",
   "execution_count": 5,
   "id": "c7428ad3",
   "metadata": {},
   "outputs": [
    {
     "data": {
      "text/plain": [
       "list"
      ]
     },
     "execution_count": 5,
     "metadata": {},
     "output_type": "execute_result"
    }
   ],
   "source": [
    "# bu objenin veri tipi liste veri tipidir...\n",
    "type(a)"
   ]
  },
  {
   "cell_type": "code",
   "execution_count": 6,
   "id": "477a0ff5",
   "metadata": {},
   "outputs": [],
   "source": [
    "a.insert(1,\"Orkun\")"
   ]
  },
  {
   "cell_type": "code",
   "execution_count": 7,
   "id": "a73adfa9",
   "metadata": {},
   "outputs": [
    {
     "data": {
      "text/plain": [
       "[1, 'Orkun', 2, 3, 4]"
      ]
     },
     "execution_count": 7,
     "metadata": {},
     "output_type": "execute_result"
    }
   ],
   "source": [
    "a"
   ]
  },
  {
   "cell_type": "code",
   "execution_count": 8,
   "id": "1a40d4eb",
   "metadata": {},
   "outputs": [],
   "source": [
    "a.append(77)"
   ]
  },
  {
   "cell_type": "code",
   "execution_count": 9,
   "id": "c517bb1c",
   "metadata": {},
   "outputs": [
    {
     "data": {
      "text/plain": [
       "[1, 'Orkun', 2, 3, 4, 77]"
      ]
     },
     "execution_count": 9,
     "metadata": {},
     "output_type": "execute_result"
    }
   ],
   "source": [
    "a"
   ]
  },
  {
   "cell_type": "code",
   "execution_count": 10,
   "id": "f94dee58",
   "metadata": {},
   "outputs": [
    {
     "data": {
      "text/plain": [
       "4"
      ]
     },
     "execution_count": 10,
     "metadata": {},
     "output_type": "execute_result"
    }
   ],
   "source": [
    "a.pop(4)"
   ]
  },
  {
   "cell_type": "code",
   "execution_count": 11,
   "id": "6588a2fe",
   "metadata": {},
   "outputs": [
    {
     "data": {
      "text/plain": [
       "[1, 'Orkun', 2, 3, 77]"
      ]
     },
     "execution_count": 11,
     "metadata": {},
     "output_type": "execute_result"
    }
   ],
   "source": [
    "a"
   ]
  },
  {
   "cell_type": "code",
   "execution_count": 12,
   "id": "ded65a87",
   "metadata": {},
   "outputs": [
    {
     "name": "stdout",
     "output_type": "stream",
     "text": [
      "Help on built-in function append:\n",
      "\n",
      "append(object, /) method of builtins.list instance\n",
      "    Append object to the end of the list.\n",
      "\n"
     ]
    }
   ],
   "source": [
    "# bu metodların ne işe yaradığını öğrenmek için help() fonksiyonunu kullanabiliriz...\n",
    "help(a.append)"
   ]
  },
  {
   "cell_type": "code",
   "execution_count": null,
   "id": "b7186a67",
   "metadata": {},
   "outputs": [],
   "source": []
  }
 ],
 "metadata": {
  "kernelspec": {
   "display_name": "Python 3",
   "language": "python",
   "name": "python3"
  },
  "language_info": {
   "codemirror_mode": {
    "name": "ipython",
    "version": 3
   },
   "file_extension": ".py",
   "mimetype": "text/x-python",
   "name": "python",
   "nbconvert_exporter": "python",
   "pygments_lexer": "ipython3",
   "version": "3.8.8"
  }
 },
 "nbformat": 4,
 "nbformat_minor": 5
}
