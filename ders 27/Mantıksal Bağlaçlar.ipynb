{
 "cells": [
  {
   "cell_type": "code",
   "execution_count": 1,
   "id": "d8377593",
   "metadata": {},
   "outputs": [],
   "source": [
    "# 2 veya daha fazla karşılaştırma işlemini aynı koşulun içerisinde karşılaştırma işlemine mantıksal bağlaçlar adı verilir...\n",
    "# and opratörü : karşılaştırma işleminin true olması için karşılaştırma sürecindeki her bir işlemin true olması gerekir \n",
    "#tek bir işlem dahi false çıkarsa genelş sonuç False çıkmaktadır..."
   ]
  },
  {
   "cell_type": "code",
   "execution_count": 2,
   "id": "a3b0951c",
   "metadata": {},
   "outputs": [
    {
     "data": {
      "text/plain": [
       "True"
      ]
     },
     "execution_count": 2,
     "metadata": {},
     "output_type": "execute_result"
    }
   ],
   "source": [
    "1 < 2 "
   ]
  },
  {
   "cell_type": "code",
   "execution_count": 3,
   "id": "1786fa82",
   "metadata": {},
   "outputs": [
    {
     "data": {
      "text/plain": [
       "True"
      ]
     },
     "execution_count": 3,
     "metadata": {},
     "output_type": "execute_result"
    }
   ],
   "source": [
    "\"Orkun\" == \"Orkun\""
   ]
  },
  {
   "cell_type": "code",
   "execution_count": 4,
   "id": "73e861a0",
   "metadata": {},
   "outputs": [
    {
     "data": {
      "text/plain": [
       "True"
      ]
     },
     "execution_count": 4,
     "metadata": {},
     "output_type": "execute_result"
    }
   ],
   "source": [
    "1 < 2 and \"Orkun\" == \"Orkun\""
   ]
  },
  {
   "cell_type": "code",
   "execution_count": 5,
   "id": "74100ca7",
   "metadata": {},
   "outputs": [
    {
     "data": {
      "text/plain": [
       "False"
      ]
     },
     "execution_count": 5,
     "metadata": {},
     "output_type": "execute_result"
    }
   ],
   "source": [
    "1 > 2 and \"Orkun\" == \"Orkun\""
   ]
  },
  {
   "cell_type": "code",
   "execution_count": 6,
   "id": "a54d3336",
   "metadata": {},
   "outputs": [
    {
     "data": {
      "text/plain": [
       "True"
      ]
     },
     "execution_count": 6,
     "metadata": {},
     "output_type": "execute_result"
    }
   ],
   "source": [
    "1 < 2 and \"Araba\" < \"Zula\" and 4.23 < 7"
   ]
  },
  {
   "cell_type": "code",
   "execution_count": 7,
   "id": "33465f0f",
   "metadata": {},
   "outputs": [],
   "source": [
    "# herhangi bir işlem false olursa and operatöründen dolayı sonuç false çıkacaktır... "
   ]
  },
  {
   "cell_type": "code",
   "execution_count": 8,
   "id": "b7ab5715",
   "metadata": {},
   "outputs": [],
   "source": [
    "# Python and operatörüyle işlem yaparken ilk false çıkan sonucu arar False değerini bulduğu an devamına bakmaz çünkkü sonuça \n",
    "# false çıkacaktır..."
   ]
  },
  {
   "cell_type": "code",
   "execution_count": 9,
   "id": "b432ae50",
   "metadata": {},
   "outputs": [],
   "source": [
    "#or operatörü : Karşılaştırma işleminin yani genel sonucun True çıkması için herhangi bir değerin True çıkması yeterlidir...\n",
    "# or operatörü : veya anlamına gelmektedir ... "
   ]
  },
  {
   "cell_type": "code",
   "execution_count": 12,
   "id": "799c26af",
   "metadata": {},
   "outputs": [
    {
     "data": {
      "text/plain": [
       "False"
      ]
     },
     "execution_count": 12,
     "metadata": {},
     "output_type": "execute_result"
    }
   ],
   "source": [
    "1 > 2 or \"Araba\" > \"Zula\" or 4.23 > 7"
   ]
  },
  {
   "cell_type": "code",
   "execution_count": 13,
   "id": "649ffc58",
   "metadata": {},
   "outputs": [],
   "source": [
    "# göründüğü üzere bütün işlemlerin sonucu False çıkarsa sonucumuz False çıkacaktır... "
   ]
  },
  {
   "cell_type": "code",
   "execution_count": 14,
   "id": "95a82061",
   "metadata": {},
   "outputs": [],
   "source": [
    "# bir tane bile True olsa yeterli \n"
   ]
  },
  {
   "cell_type": "code",
   "execution_count": 15,
   "id": "e4139d09",
   "metadata": {},
   "outputs": [],
   "source": [
    "# parantez kullanarak kafa karışıklığının önüne geçer ve operatörüleri beraber kullanabiliriz... "
   ]
  },
  {
   "cell_type": "code",
   "execution_count": 16,
   "id": "214cea94",
   "metadata": {},
   "outputs": [
    {
     "data": {
      "text/plain": [
       "True"
      ]
     },
     "execution_count": 16,
     "metadata": {},
     "output_type": "execute_result"
    }
   ],
   "source": [
    "not 0"
   ]
  },
  {
   "cell_type": "code",
   "execution_count": null,
   "id": "70bee96c",
   "metadata": {},
   "outputs": [],
   "source": []
  }
 ],
 "metadata": {
  "kernelspec": {
   "display_name": "Python 3",
   "language": "python",
   "name": "python3"
  },
  "language_info": {
   "codemirror_mode": {
    "name": "ipython",
    "version": 3
   },
   "file_extension": ".py",
   "mimetype": "text/x-python",
   "name": "python",
   "nbconvert_exporter": "python",
   "pygments_lexer": "ipython3",
   "version": "3.8.8"
  }
 },
 "nbformat": 4,
 "nbformat_minor": 5
}
