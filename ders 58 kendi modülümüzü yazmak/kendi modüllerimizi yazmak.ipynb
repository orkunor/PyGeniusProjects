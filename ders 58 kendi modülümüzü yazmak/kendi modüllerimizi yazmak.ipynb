{
 "cells": [
  {
   "cell_type": "code",
   "execution_count": null,
   "id": "8f3bb8b2",
   "metadata": {},
   "outputs": [],
   "source": [
    "# kendi modülümüzü yazıyorsak ve eğer programlarımızda kendi yazdığımız modülü kullanacaksak aynı dosya içerisinde olmaları \n",
    "# gerekmektedir\n",
    "#=> Eğer biz bu modüllerin her yerde çalışmasını istiyorsak ana dosyadan yani kurulumdan python35' gidip oradan lib'in içerisi-\n",
    "#ne koyabiliriz bu sayede her yerde çalışan bir fonksiyon yaratırız"
   ]
  }
 ],
 "metadata": {
  "kernelspec": {
   "display_name": "Python 3",
   "language": "python",
   "name": "python3"
  },
  "language_info": {
   "codemirror_mode": {
    "name": "ipython",
    "version": 3
   },
   "file_extension": ".py",
   "mimetype": "text/x-python",
   "name": "python",
   "nbconvert_exporter": "python",
   "pygments_lexer": "ipython3",
   "version": "3.8.8"
  }
 },
 "nbformat": 4,
 "nbformat_minor": 5
}
