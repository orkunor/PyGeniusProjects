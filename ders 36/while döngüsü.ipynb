{
 "cells": [
  {
   "cell_type": "code",
   "execution_count": 1,
   "id": "9b474c43",
   "metadata": {},
   "outputs": [
    {
     "name": "stdout",
     "output_type": "stream",
     "text": [
      "0\n",
      "1\n",
      "2\n",
      "3\n",
      "4\n",
      "5\n",
      "6\n",
      "7\n",
      "8\n",
      "9\n"
     ]
    }
   ],
   "source": [
    "\"\"\"\n",
    "while döngüleri ==> \n",
    "\n",
    "yapısı gereği for döngülerinden biraz daha farklıdır...\n",
    "for döngüleriyle yapılabilen her işlem aslında while döngüleriyle beraberde yapılabilir...\n",
    "while döngüleri bloklardan oluşur \n",
    "while döngüsünün blokları belirli bir koşul sağlandığı süreçte tekrar tekrar çalışmaya devam edecektir...\n",
    "while(koşul):\n",
    "    işlem1\n",
    "    işlem2\n",
    "    işlem3\n",
    "    ''\n",
    "    ''\n",
    "    ''\n",
    "while döngüsü koşul sonladığı zaman sonlanıyor...\n",
    "\n",
    "\n",
    "\"\"\"\n",
    "\n",
    "i = 0 \n",
    "\n",
    "while (i<10):\n",
    "    print(i)\n",
    "    i += 1"
   ]
  },
  {
   "cell_type": "code",
   "execution_count": 3,
   "id": "b39a8b5e",
   "metadata": {},
   "outputs": [
    {
     "name": "stdout",
     "output_type": "stream",
     "text": [
      "0\n",
      "2\n",
      "4\n",
      "6\n",
      "8\n",
      "10\n",
      "12\n",
      "14\n",
      "16\n",
      "18\n"
     ]
    }
   ],
   "source": [
    "i = 0 \n",
    "\n",
    "while (i<20):\n",
    "    print(i)\n",
    "    i += 2"
   ]
  },
  {
   "cell_type": "code",
   "execution_count": 4,
   "id": "c7708f90",
   "metadata": {},
   "outputs": [
    {
     "name": "stdout",
     "output_type": "stream",
     "text": [
      "Python öğreniyorum :) \n",
      "Python öğreniyorum :) \n",
      "Python öğreniyorum :) \n",
      "Python öğreniyorum :) \n",
      "Python öğreniyorum :) \n",
      "Python öğreniyorum :) \n",
      "Python öğreniyorum :) \n",
      "Python öğreniyorum :) \n",
      "Python öğreniyorum :) \n",
      "Python öğreniyorum :) \n",
      "Python öğreniyorum :) \n",
      "Python öğreniyorum :) \n",
      "Python öğreniyorum :) \n",
      "Python öğreniyorum :) \n",
      "Python öğreniyorum :) \n",
      "Python öğreniyorum :) \n",
      "Python öğreniyorum :) \n",
      "Python öğreniyorum :) \n",
      "Python öğreniyorum :) \n",
      "Python öğreniyorum :) \n",
      "Python öğreniyorum :) \n",
      "Python öğreniyorum :) \n",
      "Python öğreniyorum :) \n",
      "Python öğreniyorum :) \n",
      "Python öğreniyorum :) \n",
      "Python öğreniyorum :) \n",
      "Python öğreniyorum :) \n",
      "Python öğreniyorum :) \n",
      "Python öğreniyorum :) \n",
      "Python öğreniyorum :) \n",
      "Python öğreniyorum :) \n",
      "Python öğreniyorum :) \n",
      "Python öğreniyorum :) \n",
      "Python öğreniyorum :) \n",
      "Python öğreniyorum :) \n",
      "Python öğreniyorum :) \n",
      "Python öğreniyorum :) \n",
      "Python öğreniyorum :) \n",
      "Python öğreniyorum :) \n",
      "Python öğreniyorum :) \n"
     ]
    }
   ],
   "source": [
    "a = 0 \n",
    "\n",
    "while a < 40:\n",
    "    print(\"Python öğreniyorum :) \")\n",
    "    a += 1"
   ]
  },
  {
   "cell_type": "code",
   "execution_count": 8,
   "id": "cad1b363",
   "metadata": {},
   "outputs": [
    {
     "name": "stdout",
     "output_type": "stream",
     "text": [
      "1\n",
      "2\n",
      "3\n",
      "4\n",
      "5\n",
      "6\n"
     ]
    }
   ],
   "source": [
    "# for döngüsüyle listeler üzerlerinde gezinebiliyorduk...\n",
    "\n",
    "liste = [1,2,3,4,5,6]\n",
    "\n",
    "for i in liste:\n",
    "    print(i)"
   ]
  },
  {
   "cell_type": "code",
   "execution_count": 12,
   "id": "b8a75cdc",
   "metadata": {},
   "outputs": [
    {
     "name": "stdout",
     "output_type": "stream",
     "text": [
      "İndex :  0 \tListe Elemanı :  1\n",
      "İndex :  1 \tListe Elemanı :  2\n",
      "İndex :  2 \tListe Elemanı :  3\n",
      "İndex :  3 \tListe Elemanı :  4\n",
      "İndex :  4 \tListe Elemanı :  5\n",
      "İndex :  5 \tListe Elemanı :  6\n"
     ]
    }
   ],
   "source": [
    "# while döngüsüyle bunu yaparken her bri index'i alacağız... \n",
    "index = 0\n",
    "while index < len(liste):\n",
    "    print(\"İndex : \",index,\"\\tListe Elemanı : \",liste[index])\n",
    "    \n",
    "    index += 1"
   ]
  },
  {
   "cell_type": "code",
   "execution_count": null,
   "id": "b6837ac1",
   "metadata": {},
   "outputs": [],
   "source": []
  }
 ],
 "metadata": {
  "kernelspec": {
   "display_name": "Python 3",
   "language": "python",
   "name": "python3"
  },
  "language_info": {
   "codemirror_mode": {
    "name": "ipython",
    "version": 3
   },
   "file_extension": ".py",
   "mimetype": "text/x-python",
   "name": "python",
   "nbconvert_exporter": "python",
   "pygments_lexer": "ipython3",
   "version": "3.8.8"
  }
 },
 "nbformat": 4,
 "nbformat_minor": 5
}
