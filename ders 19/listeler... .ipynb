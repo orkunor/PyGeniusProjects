{
 "cells": [
  {
   "cell_type": "code",
   "execution_count": 1,
   "id": "d1f4b8b4",
   "metadata": {},
   "outputs": [],
   "source": [
    "# listeler de tıpkı stringler gibi indeksleniyorlar ve listeleniyoralar... \n",
    "# listelerin stringlerden ilk farkı stringler gibi değiştirilemez değillerdir \n",
    "# listeler değiştirilebilir veri tipleridir ... \n",
    "# doğrudan herhangi bir veriyi herhangi indeksteki veriyi değiştirebiliriz... \n"
   ]
  },
  {
   "cell_type": "code",
   "execution_count": 9,
   "id": "af4a7be7",
   "metadata": {},
   "outputs": [],
   "source": [
    "#listelerde istediğimiz veri tipinden istediğimiz elemanı saklayabiliriz\n",
    "#liste oluşturma işlemi ise =>> \n",
    "liste = [\"Elma\",7,\"Armut\",3.14,\"Orkun\",\"Merhaba\",56]"
   ]
  },
  {
   "cell_type": "code",
   "execution_count": 3,
   "id": "250af1f6",
   "metadata": {},
   "outputs": [
    {
     "data": {
      "text/plain": [
       "3.14"
      ]
     },
     "execution_count": 3,
     "metadata": {},
     "output_type": "execute_result"
    }
   ],
   "source": [
    "liste[3]"
   ]
  },
  {
   "cell_type": "code",
   "execution_count": 4,
   "id": "0fca2a53",
   "metadata": {},
   "outputs": [
    {
     "data": {
      "text/plain": [
       "list"
      ]
     },
     "execution_count": 4,
     "metadata": {},
     "output_type": "execute_result"
    }
   ],
   "source": [
    "type(liste)"
   ]
  },
  {
   "cell_type": "code",
   "execution_count": 5,
   "id": "19f31abe",
   "metadata": {},
   "outputs": [
    {
     "data": {
      "text/plain": [
       "'k'"
      ]
     },
     "execution_count": 5,
     "metadata": {},
     "output_type": "execute_result"
    }
   ],
   "source": [
    "liste[4][2]"
   ]
  },
  {
   "cell_type": "code",
   "execution_count": 6,
   "id": "4649a969",
   "metadata": {},
   "outputs": [
    {
     "data": {
      "text/plain": [
       "[]"
      ]
     },
     "execution_count": 6,
     "metadata": {},
     "output_type": "execute_result"
    }
   ],
   "source": [
    "#boş bi liste de oluşturabiliriz => \n",
    "i = []\n",
    "i"
   ]
  },
  {
   "cell_type": "code",
   "execution_count": 7,
   "id": "9e1284a2",
   "metadata": {},
   "outputs": [],
   "source": [
    "liste = list()"
   ]
  },
  {
   "cell_type": "code",
   "execution_count": 8,
   "id": "5cc96f67",
   "metadata": {},
   "outputs": [
    {
     "data": {
      "text/plain": [
       "[]"
      ]
     },
     "execution_count": 8,
     "metadata": {},
     "output_type": "execute_result"
    }
   ],
   "source": [
    "liste"
   ]
  },
  {
   "cell_type": "code",
   "execution_count": 10,
   "id": "223a3a90",
   "metadata": {},
   "outputs": [
    {
     "data": {
      "text/plain": [
       "7"
      ]
     },
     "execution_count": 10,
     "metadata": {},
     "output_type": "execute_result"
    }
   ],
   "source": [
    "# len() fonksiyonu sayesinde listede kaç tane eleman oludğunu görebiliriz...\n",
    "len(liste)"
   ]
  },
  {
   "cell_type": "code",
   "execution_count": 11,
   "id": "5eddb6b6",
   "metadata": {},
   "outputs": [],
   "source": [
    "t = [1,2,3,4,5,6,7,8]"
   ]
  },
  {
   "cell_type": "code",
   "execution_count": 12,
   "id": "827ef7f6",
   "metadata": {},
   "outputs": [
    {
     "data": {
      "text/plain": [
       "8"
      ]
     },
     "execution_count": 12,
     "metadata": {},
     "output_type": "execute_result"
    }
   ],
   "source": [
    "len(t)"
   ]
  },
  {
   "cell_type": "code",
   "execution_count": 13,
   "id": "c3c12fb3",
   "metadata": {},
   "outputs": [
    {
     "data": {
      "text/plain": [
       "[1, 2, 3, 4, 5, 6, 7, 8]"
      ]
     },
     "execution_count": 13,
     "metadata": {},
     "output_type": "execute_result"
    }
   ],
   "source": [
    "#bir string değeri aynı zamanda listeye dönüştürebiliriz... \n",
    "\n",
    "a = list(t)\n",
    "a"
   ]
  },
  {
   "cell_type": "code",
   "execution_count": 16,
   "id": "1c5d1293",
   "metadata": {},
   "outputs": [],
   "source": [
    "# göründüğü üzere listelenebilir böyle bir şekilde \n",
    "m = \"Orkun\""
   ]
  },
  {
   "cell_type": "code",
   "execution_count": 18,
   "id": "102e3e2a",
   "metadata": {},
   "outputs": [
    {
     "data": {
      "text/plain": [
       "['O', 'r', 'k', 'u', 'n']"
      ]
     },
     "execution_count": 18,
     "metadata": {},
     "output_type": "execute_result"
    }
   ],
   "source": [
    "list(m)"
   ]
  },
  {
   "cell_type": "code",
   "execution_count": 19,
   "id": "049bda7a",
   "metadata": {},
   "outputs": [
    {
     "data": {
      "text/plain": [
       "5"
      ]
     },
     "execution_count": 19,
     "metadata": {},
     "output_type": "execute_result"
    }
   ],
   "source": [
    "len(m)"
   ]
  },
  {
   "cell_type": "code",
   "execution_count": 20,
   "id": "22398ad3",
   "metadata": {},
   "outputs": [],
   "source": [
    "i = [3,4,5,6,7,8,9,10]"
   ]
  },
  {
   "cell_type": "code",
   "execution_count": 21,
   "id": "0d216fad",
   "metadata": {},
   "outputs": [
    {
     "data": {
      "text/plain": [
       "6"
      ]
     },
     "execution_count": 21,
     "metadata": {},
     "output_type": "execute_result"
    }
   ],
   "source": [
    "i[3]"
   ]
  },
  {
   "cell_type": "code",
   "execution_count": 22,
   "id": "d50bfeb0",
   "metadata": {},
   "outputs": [
    {
     "data": {
      "text/plain": [
       "3"
      ]
     },
     "execution_count": 22,
     "metadata": {},
     "output_type": "execute_result"
    }
   ],
   "source": [
    "i[0]"
   ]
  },
  {
   "cell_type": "code",
   "execution_count": 23,
   "id": "fd64686d",
   "metadata": {},
   "outputs": [
    {
     "data": {
      "text/plain": [
       "56"
      ]
     },
     "execution_count": 23,
     "metadata": {},
     "output_type": "execute_result"
    }
   ],
   "source": [
    "liste[-1]"
   ]
  },
  {
   "cell_type": "code",
   "execution_count": 24,
   "id": "0723a61c",
   "metadata": {},
   "outputs": [
    {
     "data": {
      "text/plain": [
       "8"
      ]
     },
     "execution_count": 24,
     "metadata": {},
     "output_type": "execute_result"
    }
   ],
   "source": [
    "#sondaki elemana ulaşmak için şöyle bakabiliriz \n",
    "# len() fonksiyonu ile önce listenin uzunluğunu öğrenip bu uzunluktan 1 çıkartırsak sonraki elemana doğrudan gidebiliriz\n",
    "len(i)"
   ]
  },
  {
   "cell_type": "code",
   "execution_count": 25,
   "id": "f7029c4f",
   "metadata": {},
   "outputs": [
    {
     "data": {
      "text/plain": [
       "10"
      ]
     },
     "execution_count": 25,
     "metadata": {},
     "output_type": "execute_result"
    }
   ],
   "source": [
    "i[7]"
   ]
  },
  {
   "cell_type": "code",
   "execution_count": 26,
   "id": "31c020d9",
   "metadata": {},
   "outputs": [
    {
     "data": {
      "text/plain": [
       "[7, 8, 9, 10]"
      ]
     },
     "execution_count": 26,
     "metadata": {},
     "output_type": "execute_result"
    }
   ],
   "source": [
    "#parçalarken de = \n",
    "i[4:]"
   ]
  },
  {
   "cell_type": "code",
   "execution_count": 27,
   "id": "aec1b16e",
   "metadata": {},
   "outputs": [
    {
     "data": {
      "text/plain": [
       "[3, 4, 5, 6, 7]"
      ]
     },
     "execution_count": 27,
     "metadata": {},
     "output_type": "execute_result"
    }
   ],
   "source": [
    "i[:5]"
   ]
  },
  {
   "cell_type": "code",
   "execution_count": 28,
   "id": "63570b48",
   "metadata": {},
   "outputs": [
    {
     "data": {
      "text/plain": [
       "[3, 5, 7, 9]"
      ]
     },
     "execution_count": 28,
     "metadata": {},
     "output_type": "execute_result"
    }
   ],
   "source": [
    "i[::2]"
   ]
  },
  {
   "cell_type": "code",
   "execution_count": 29,
   "id": "912a9230",
   "metadata": {},
   "outputs": [
    {
     "data": {
      "text/plain": [
       "[10, 9, 8, 7, 6, 5, 4, 3]"
      ]
     },
     "execution_count": 29,
     "metadata": {},
     "output_type": "execute_result"
    }
   ],
   "source": [
    "i[::-1]"
   ]
  },
  {
   "cell_type": "code",
   "execution_count": 30,
   "id": "5b22ee07",
   "metadata": {},
   "outputs": [
    {
     "data": {
      "text/plain": [
       "[1, 2, 3, 7, 8, 9]"
      ]
     },
     "execution_count": 30,
     "metadata": {},
     "output_type": "execute_result"
    }
   ],
   "source": [
    "# listeler de stringler gibi birbirleriyle toplanıp başka bir değişkene atanabilriler..\n",
    "t = [1,2,3]\n",
    "i = [7,8,9]\n",
    "t + i "
   ]
  },
  {
   "cell_type": "code",
   "execution_count": 31,
   "id": "46b424a6",
   "metadata": {},
   "outputs": [],
   "source": [
    "a = t + i"
   ]
  },
  {
   "cell_type": "code",
   "execution_count": 32,
   "id": "00bbefa9",
   "metadata": {},
   "outputs": [
    {
     "data": {
      "text/plain": [
       "[1, 2, 3, 7, 8, 9]"
      ]
     },
     "execution_count": 32,
     "metadata": {},
     "output_type": "execute_result"
    }
   ],
   "source": [
    "a"
   ]
  },
  {
   "cell_type": "code",
   "execution_count": 33,
   "id": "35f611ff",
   "metadata": {},
   "outputs": [
    {
     "data": {
      "text/plain": [
       "6"
      ]
     },
     "execution_count": 33,
     "metadata": {},
     "output_type": "execute_result"
    }
   ],
   "source": [
    "len(a)"
   ]
  },
  {
   "cell_type": "code",
   "execution_count": 34,
   "id": "abc4b5e3",
   "metadata": {},
   "outputs": [
    {
     "data": {
      "text/plain": [
       "list"
      ]
     },
     "execution_count": 34,
     "metadata": {},
     "output_type": "execute_result"
    }
   ],
   "source": [
    "type(a)"
   ]
  },
  {
   "cell_type": "code",
   "execution_count": 35,
   "id": "537e861b",
   "metadata": {},
   "outputs": [
    {
     "data": {
      "text/plain": [
       "[1, 2, 3, 1, 2, 3, 1, 2, 3]"
      ]
     },
     "execution_count": 35,
     "metadata": {},
     "output_type": "execute_result"
    }
   ],
   "source": [
    "t * 3 "
   ]
  },
  {
   "cell_type": "code",
   "execution_count": 36,
   "id": "35a20cc6",
   "metadata": {},
   "outputs": [],
   "source": [
    "# listeler stringlrden farklı olarak doğrudan değiştirilebilirler...\n",
    "tt = [1,2,3,4,5,6,7,8]"
   ]
  },
  {
   "cell_type": "code",
   "execution_count": 37,
   "id": "1ce5becd",
   "metadata": {},
   "outputs": [],
   "source": [
    "tt[0] = \"abc\""
   ]
  },
  {
   "cell_type": "code",
   "execution_count": 38,
   "id": "765e67dc",
   "metadata": {},
   "outputs": [
    {
     "data": {
      "text/plain": [
       "['abc', 2, 3, 4, 5, 6, 7, 8]"
      ]
     },
     "execution_count": 38,
     "metadata": {},
     "output_type": "execute_result"
    }
   ],
   "source": [
    "tt"
   ]
  },
  {
   "cell_type": "code",
   "execution_count": 39,
   "id": "a5f70430",
   "metadata": {},
   "outputs": [
    {
     "data": {
      "text/plain": [
       "['abc', 2]"
      ]
     },
     "execution_count": 39,
     "metadata": {},
     "output_type": "execute_result"
    }
   ],
   "source": [
    "tt[:2]"
   ]
  },
  {
   "cell_type": "code",
   "execution_count": 40,
   "id": "e89b9bbd",
   "metadata": {},
   "outputs": [],
   "source": [
    "tt[3:6] = \"orkun\" "
   ]
  },
  {
   "cell_type": "code",
   "execution_count": 41,
   "id": "b876869d",
   "metadata": {},
   "outputs": [
    {
     "data": {
      "text/plain": [
       "['abc', 2, 3, 'o', 'r', 'k', 'u', 'n', 7, 8]"
      ]
     },
     "execution_count": 41,
     "metadata": {},
     "output_type": "execute_result"
    }
   ],
   "source": [
    "tt"
   ]
  },
  {
   "cell_type": "code",
   "execution_count": 42,
   "id": "8f7965d3",
   "metadata": {},
   "outputs": [],
   "source": [
    "# şimdi ise metodları inceleyelim \n",
    "# metodlar ==>> Python'da birçok veri tipi üzerinde uygulanabilen ve değişik işlemler gerçekleştirebilen fonksiyonlardır...\n",
    "# bir listenin metodlarına erişebilmek için listenin ismini yazıp nokta koyup tablamamız gerekmektedir... "
   ]
  },
  {
   "cell_type": "code",
   "execution_count": 43,
   "id": "e9bcc80f",
   "metadata": {},
   "outputs": [],
   "source": [
    "# append metoduna bakarsak öncelikle => ekleme işlemi yapmaktadır... \n",
    "tt.append(\"Python\")"
   ]
  },
  {
   "cell_type": "code",
   "execution_count": 44,
   "id": "4c729c8c",
   "metadata": {},
   "outputs": [
    {
     "data": {
      "text/plain": [
       "['abc', 2, 3, 'o', 'r', 'k', 'u', 'n', 7, 8, 'Python']"
      ]
     },
     "execution_count": 44,
     "metadata": {},
     "output_type": "execute_result"
    }
   ],
   "source": [
    "tt"
   ]
  },
  {
   "cell_type": "code",
   "execution_count": 45,
   "id": "fbabd20b",
   "metadata": {},
   "outputs": [],
   "source": [
    "#görüldüğü üzere listenin sonuna ekleme yaptı..."
   ]
  },
  {
   "cell_type": "code",
   "execution_count": 46,
   "id": "8a999b5b",
   "metadata": {},
   "outputs": [],
   "source": [
    "tt.append(123)"
   ]
  },
  {
   "cell_type": "code",
   "execution_count": 47,
   "id": "c01d3d4e",
   "metadata": {},
   "outputs": [
    {
     "data": {
      "text/plain": [
       "['abc', 2, 3, 'o', 'r', 'k', 'u', 'n', 7, 8, 'Python', 123]"
      ]
     },
     "execution_count": 47,
     "metadata": {},
     "output_type": "execute_result"
    }
   ],
   "source": [
    "tt"
   ]
  },
  {
   "cell_type": "code",
   "execution_count": 48,
   "id": "f3693e6a",
   "metadata": {},
   "outputs": [],
   "source": [
    "#append metodu sürekli listenin sonuna bir şeyler ekler!!!"
   ]
  },
  {
   "cell_type": "code",
   "execution_count": 49,
   "id": "53cda38e",
   "metadata": {},
   "outputs": [],
   "source": [
    "#pop() metodu ise tam tersi listenin sonundaki elemanı atmak için kullanılır... "
   ]
  },
  {
   "cell_type": "code",
   "execution_count": 50,
   "id": "91f41330",
   "metadata": {},
   "outputs": [
    {
     "data": {
      "text/plain": [
       "123"
      ]
     },
     "execution_count": 50,
     "metadata": {},
     "output_type": "execute_result"
    }
   ],
   "source": [
    "tt.pop()"
   ]
  },
  {
   "cell_type": "code",
   "execution_count": 51,
   "id": "21b88cfb",
   "metadata": {},
   "outputs": [
    {
     "data": {
      "text/plain": [
       "['abc', 2, 3, 'o', 'r', 'k', 'u', 'n', 7, 8, 'Python']"
      ]
     },
     "execution_count": 51,
     "metadata": {},
     "output_type": "execute_result"
    }
   ],
   "source": [
    "tt"
   ]
  },
  {
   "cell_type": "code",
   "execution_count": 52,
   "id": "a0a6d0a5",
   "metadata": {},
   "outputs": [],
   "source": [
    "# hangi indeksi atmak istiyorsak bunu indeks numarası vererek yapabiliriz.."
   ]
  },
  {
   "cell_type": "code",
   "execution_count": 53,
   "id": "0027a3e7",
   "metadata": {},
   "outputs": [
    {
     "data": {
      "text/plain": [
       "'o'"
      ]
     },
     "execution_count": 53,
     "metadata": {},
     "output_type": "execute_result"
    }
   ],
   "source": [
    "tt.pop(3)"
   ]
  },
  {
   "cell_type": "code",
   "execution_count": 54,
   "id": "df3b3fa2",
   "metadata": {},
   "outputs": [
    {
     "data": {
      "text/plain": [
       "['abc', 2, 3, 'r', 'k', 'u', 'n', 7, 8, 'Python']"
      ]
     },
     "execution_count": 54,
     "metadata": {},
     "output_type": "execute_result"
    }
   ],
   "source": [
    "tt"
   ]
  },
  {
   "cell_type": "code",
   "execution_count": 55,
   "id": "b25a2898",
   "metadata": {},
   "outputs": [],
   "source": [
    "# bir diğer metod ise sort metodu olarak karşımıza çıkmaktadır...\n"
   ]
  },
  {
   "cell_type": "code",
   "execution_count": 56,
   "id": "6bfd0c13",
   "metadata": {},
   "outputs": [],
   "source": [
    "liste = [4,2,5,78,2,3,6,7,34]"
   ]
  },
  {
   "cell_type": "code",
   "execution_count": 57,
   "id": "0e89e915",
   "metadata": {},
   "outputs": [],
   "source": [
    "liste.sort() #sıralama metodudur..."
   ]
  },
  {
   "cell_type": "code",
   "execution_count": 59,
   "id": "0950e068",
   "metadata": {},
   "outputs": [
    {
     "data": {
      "text/plain": [
       "[2, 2, 3, 4, 5, 6, 7, 34, 78]"
      ]
     },
     "execution_count": 59,
     "metadata": {},
     "output_type": "execute_result"
    }
   ],
   "source": [
    "liste"
   ]
  },
  {
   "cell_type": "code",
   "execution_count": 60,
   "id": "2e85e8b8",
   "metadata": {},
   "outputs": [],
   "source": [
    "# tersten sıralarsak ise "
   ]
  },
  {
   "cell_type": "code",
   "execution_count": 62,
   "id": "23ee7502",
   "metadata": {},
   "outputs": [],
   "source": [
    "liste.sort(reverse = True) # ters şekilde doğru olduğunu bildirdik... "
   ]
  },
  {
   "cell_type": "code",
   "execution_count": 63,
   "id": "26617130",
   "metadata": {},
   "outputs": [
    {
     "data": {
      "text/plain": [
       "[78, 34, 7, 6, 5, 4, 3, 2, 2]"
      ]
     },
     "execution_count": 63,
     "metadata": {},
     "output_type": "execute_result"
    }
   ],
   "source": [
    "liste"
   ]
  },
  {
   "cell_type": "code",
   "execution_count": 64,
   "id": "464a1683",
   "metadata": {},
   "outputs": [],
   "source": [
    "# sort ifadesini sıralamak için bir diğer durum ise strin ifadeler içindir\n",
    "# string ifadeler için sıralama yaparken alfabetik bi sıralama mümkün olmaktadır..."
   ]
  },
  {
   "cell_type": "code",
   "execution_count": 65,
   "id": "563de986",
   "metadata": {},
   "outputs": [],
   "source": [
    "h = [\"Php\",\"Java.script\",\"Python\",\"C\",\"C#\"]"
   ]
  },
  {
   "cell_type": "code",
   "execution_count": 66,
   "id": "5a206569",
   "metadata": {},
   "outputs": [],
   "source": [
    "h.sort()"
   ]
  },
  {
   "cell_type": "code",
   "execution_count": 67,
   "id": "d0e3901e",
   "metadata": {},
   "outputs": [
    {
     "data": {
      "text/plain": [
       "['C', 'C#', 'Java.script', 'Php', 'Python']"
      ]
     },
     "execution_count": 67,
     "metadata": {},
     "output_type": "execute_result"
    }
   ],
   "source": [
    "h"
   ]
  },
  {
   "cell_type": "code",
   "execution_count": 68,
   "id": "665a3d9a",
   "metadata": {},
   "outputs": [],
   "source": [
    "h.sort(reverse=True)"
   ]
  },
  {
   "cell_type": "code",
   "execution_count": 69,
   "id": "9a0e1e2f",
   "metadata": {},
   "outputs": [
    {
     "data": {
      "text/plain": [
       "['Python', 'Php', 'Java.script', 'C#', 'C']"
      ]
     },
     "execution_count": 69,
     "metadata": {},
     "output_type": "execute_result"
    }
   ],
   "source": [
    "h"
   ]
  },
  {
   "cell_type": "code",
   "execution_count": 70,
   "id": "121c4e46",
   "metadata": {},
   "outputs": [],
   "source": [
    "# bir diğer konu ise içiçe listelerdir=>>> "
   ]
  },
  {
   "cell_type": "code",
   "execution_count": 71,
   "id": "cddce878",
   "metadata": {},
   "outputs": [],
   "source": [
    "liste = [[1,2],[\"orkun\",12,354,\"behlül\"],[2,5]]"
   ]
  },
  {
   "cell_type": "code",
   "execution_count": 72,
   "id": "fc735d86",
   "metadata": {},
   "outputs": [
    {
     "data": {
      "text/plain": [
       "[[1, 2], ['orkun', 12, 354, 'behlül'], [2, 5]]"
      ]
     },
     "execution_count": 72,
     "metadata": {},
     "output_type": "execute_result"
    }
   ],
   "source": [
    "liste"
   ]
  },
  {
   "cell_type": "code",
   "execution_count": 73,
   "id": "7cf5d46c",
   "metadata": {},
   "outputs": [
    {
     "data": {
      "text/plain": [
       "354"
      ]
     },
     "execution_count": 73,
     "metadata": {},
     "output_type": "execute_result"
    }
   ],
   "source": [
    "liste[1][2]"
   ]
  },
  {
   "cell_type": "code",
   "execution_count": null,
   "id": "49e70d4c",
   "metadata": {},
   "outputs": [],
   "source": []
  }
 ],
 "metadata": {
  "kernelspec": {
   "display_name": "Python 3",
   "language": "python",
   "name": "python3"
  },
  "language_info": {
   "codemirror_mode": {
    "name": "ipython",
    "version": 3
   },
   "file_extension": ".py",
   "mimetype": "text/x-python",
   "name": "python",
   "nbconvert_exporter": "python",
   "pygments_lexer": "ipython3",
   "version": "3.8.8"
  }
 },
 "nbformat": 4,
 "nbformat_minor": 5
}
