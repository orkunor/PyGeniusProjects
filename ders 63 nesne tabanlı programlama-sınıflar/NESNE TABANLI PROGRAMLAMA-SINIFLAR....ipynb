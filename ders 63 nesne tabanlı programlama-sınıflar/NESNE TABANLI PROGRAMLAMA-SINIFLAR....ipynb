{
 "cells": [
  {
   "cell_type": "code",
   "execution_count": 1,
   "id": "045c6a58",
   "metadata": {},
   "outputs": [],
   "source": [
    "#şimdi ise kendi veri tiplerimizi ve objelerimizi nasıl üretiriz bunu göreceğiz...\n",
    "\"\"\"\n",
    "CLASS(SINIF) yapıları ; class anahtar kelimesi bizim python'da sınıflarmızı oluşturmak için kullandığımız bir kelimedir.\n",
    "bu class'lar bizim objelerimizi oluştururken objelerin özelliklerini ve metotlarını tanımladığımız aslında bir yapı gibi düşü-\n",
    "nebiliriz...\n",
    "yani biz bu yapıyı python'a tanıtıyoruz ben böyle bir obje oluşturacağım diyoruz ve daha sonra bu yapıya göre objelerimizi\n",
    "üretiyoruz...\n",
    "\"\"\"\n",
    "g=0\n"
   ]
  },
  {
   "cell_type": "code",
   "execution_count": 2,
   "id": "e07f8a05",
   "metadata": {},
   "outputs": [],
   "source": [
    "class Araba(): #daha sonra bu parantez içlerini doldurararak ne işe yaradığını göreceğiz...\n",
    "    model = \"Renault Megane\"\n",
    "    renk = \"Gümüş\"\n",
    "    beygir_gücü = 110\n",
    "    silindir = 4"
   ]
  },
  {
   "cell_type": "code",
   "execution_count": 3,
   "id": "5380fcd0",
   "metadata": {},
   "outputs": [],
   "source": [
    "araba1 = Araba() #böylelikle objemizi oluşturmuş olduk dikkat et..."
   ]
  },
  {
   "cell_type": "code",
   "execution_count": 4,
   "id": "4a59aa2f",
   "metadata": {},
   "outputs": [
    {
     "data": {
      "text/plain": [
       "<__main__.Araba at 0x1fe3fe2ddc0>"
      ]
     },
     "execution_count": 4,
     "metadata": {},
     "output_type": "execute_result"
    }
   ],
   "source": [
    "araba1"
   ]
  },
  {
   "cell_type": "code",
   "execution_count": 5,
   "id": "37310bf2",
   "metadata": {},
   "outputs": [
    {
     "data": {
      "text/plain": [
       "__main__.Araba"
      ]
     },
     "execution_count": 5,
     "metadata": {},
     "output_type": "execute_result"
    }
   ],
   "source": [
    "type(araba1)"
   ]
  },
  {
   "cell_type": "code",
   "execution_count": 6,
   "id": "29f9ac4d",
   "metadata": {},
   "outputs": [],
   "source": [
    "araba2 = Araba()"
   ]
  },
  {
   "cell_type": "code",
   "execution_count": 7,
   "id": "01d235c6",
   "metadata": {},
   "outputs": [
    {
     "data": {
      "text/plain": [
       "<__main__.Araba at 0x1fe400d19a0>"
      ]
     },
     "execution_count": 7,
     "metadata": {},
     "output_type": "execute_result"
    }
   ],
   "source": [
    "araba2"
   ]
  },
  {
   "cell_type": "code",
   "execution_count": 8,
   "id": "4616b220",
   "metadata": {},
   "outputs": [
    {
     "data": {
      "text/plain": [
       "110"
      ]
     },
     "execution_count": 8,
     "metadata": {},
     "output_type": "execute_result"
    }
   ],
   "source": [
    "# şimdi ise class içerisindeki özelliklere nasıl ulaşabileceğimize bakalım...\n",
    "araba1.beygir_gücü #class'ların içerisine girebilmek için \".\" kullanıyoruz..."
   ]
  },
  {
   "cell_type": "code",
   "execution_count": 9,
   "id": "211e8a1b",
   "metadata": {},
   "outputs": [
    {
     "data": {
      "text/plain": [
       "'Gümüş'"
      ]
     },
     "execution_count": 9,
     "metadata": {},
     "output_type": "execute_result"
    }
   ],
   "source": [
    "araba1.renk"
   ]
  },
  {
   "cell_type": "code",
   "execution_count": 10,
   "id": "c6d4c195",
   "metadata": {},
   "outputs": [
    {
     "data": {
      "text/plain": [
       "'Renault Megane'"
      ]
     },
     "execution_count": 10,
     "metadata": {},
     "output_type": "execute_result"
    }
   ],
   "source": [
    "araba1.model"
   ]
  },
  {
   "cell_type": "code",
   "execution_count": 11,
   "id": "bca884e5",
   "metadata": {},
   "outputs": [
    {
     "data": {
      "text/plain": [
       "110"
      ]
     },
     "execution_count": 11,
     "metadata": {},
     "output_type": "execute_result"
    }
   ],
   "source": [
    "araba2.beygir_gücü"
   ]
  },
  {
   "cell_type": "code",
   "execution_count": 12,
   "id": "ec09d364",
   "metadata": {},
   "outputs": [],
   "source": [
    "# class'ın içerisindeki özellikler objeye özgü yani oluşturduğumuz araba1 ve araba2'ye özgü değil de class'a özgü özelliklerdir"
   ]
  },
  {
   "cell_type": "code",
   "execution_count": 13,
   "id": "d624c778",
   "metadata": {},
   "outputs": [],
   "source": [
    "# yani herhangi bir obje oluşturmasaydık bile biz bu özelliklere erişebilirdik ..."
   ]
  },
  {
   "cell_type": "code",
   "execution_count": 14,
   "id": "41bc154b",
   "metadata": {},
   "outputs": [
    {
     "data": {
      "text/plain": [
       "'Renault Megane'"
      ]
     },
     "execution_count": 14,
     "metadata": {},
     "output_type": "execute_result"
    }
   ],
   "source": [
    "Araba.model #NTP özelliğinden dolayı buraya ulaşabildik... "
   ]
  },
  {
   "cell_type": "code",
   "execution_count": 15,
   "id": "72a115a2",
   "metadata": {},
   "outputs": [
    {
     "data": {
      "text/plain": [
       "110"
      ]
     },
     "execution_count": 15,
     "metadata": {},
     "output_type": "execute_result"
    }
   ],
   "source": [
    "# böyle yaparak obje oluşturmadan da doğrudan sınıfın özelliklerine ulaşabilirim...\n",
    "Araba.beygir_gücü"
   ]
  },
  {
   "cell_type": "code",
   "execution_count": 16,
   "id": "720a57c9",
   "metadata": {},
   "outputs": [],
   "source": [
    "# peki biz farklı değerlerle bir objeyi üretmek istersek ne yaparız => \n",
    "# python'daki init fonksiyonunu kullanırız...\n",
    "# init fonkisonu sayesinde farklı objeler üretebiliriz..."
   ]
  },
  {
   "cell_type": "code",
   "execution_count": 17,
   "id": "9d7fc1cf",
   "metadata": {},
   "outputs": [
    {
     "data": {
      "text/plain": [
       "['__class__',\n",
       " '__delattr__',\n",
       " '__dict__',\n",
       " '__dir__',\n",
       " '__doc__',\n",
       " '__eq__',\n",
       " '__format__',\n",
       " '__ge__',\n",
       " '__getattribute__',\n",
       " '__gt__',\n",
       " '__hash__',\n",
       " '__init__',\n",
       " '__init_subclass__',\n",
       " '__le__',\n",
       " '__lt__',\n",
       " '__module__',\n",
       " '__ne__',\n",
       " '__new__',\n",
       " '__reduce__',\n",
       " '__reduce_ex__',\n",
       " '__repr__',\n",
       " '__setattr__',\n",
       " '__sizeof__',\n",
       " '__str__',\n",
       " '__subclasshook__',\n",
       " '__weakref__',\n",
       " 'beygir_gücü',\n",
       " 'model',\n",
       " 'renk',\n",
       " 'silindir']"
      ]
     },
     "execution_count": 17,
     "metadata": {},
     "output_type": "execute_result"
    }
   ],
   "source": [
    "dir(araba1)"
   ]
  },
  {
   "cell_type": "code",
   "execution_count": 18,
   "id": "999a28d5",
   "metadata": {},
   "outputs": [],
   "source": [
    "# görüldüğü üzere class içerisinde verdiğimiz ve python tarafından varsayılan olarak verilen özellikler veya fonksiyonları \n",
    "#gösteriyor"
   ]
  },
  {
   "cell_type": "code",
   "execution_count": 19,
   "id": "c9bc2f87",
   "metadata": {},
   "outputs": [],
   "source": [
    "#init fonksiyonu python'da yapıcı bir fonksiyondur..."
   ]
  },
  {
   "cell_type": "code",
   "execution_count": 20,
   "id": "0e68f37e",
   "metadata": {},
   "outputs": [],
   "source": [
    "# bu fonksiyon objeler oluşturulurken otomatik olarak ilk çağrılan fonksiyondur...\n",
    "# bu fonksiyonu özel olarak tanımlayarak objelerimizi fakrlı değerlerle oluşturabiliriz "
   ]
  },
  {
   "cell_type": "code",
   "execution_count": 22,
   "id": "83739744",
   "metadata": {},
   "outputs": [],
   "source": [
    "class Araba():\n",
    "    model = \"Renault Megane\"\n",
    "    renk = \"Gümüş\"\n",
    "    beygir_gücü = 110\n",
    "    silindir = 4\n",
    "    def __init__(self): # biz burada python'a sen bu fonksiyonu tanımlama ben tanımlayacağım dedim;bir de self referansı verdik\n",
    "        print(\"İnit fonksiyonu çağırıldı...\")\n",
    "        "
   ]
  },
  {
   "cell_type": "code",
   "execution_count": 26,
   "id": "9afe60a0",
   "metadata": {},
   "outputs": [
    {
     "name": "stdout",
     "output_type": "stream",
     "text": [
      "İnit fonksiyonu çağırıldı...\n"
     ]
    }
   ],
   "source": [
    "araba1 = Araba() # fonksiyonu otomatik olarak çağırdı..."
   ]
  },
  {
   "cell_type": "code",
   "execution_count": null,
   "id": "d5493970",
   "metadata": {},
   "outputs": [],
   "source": [
    "# self anahtar kelimesi objeyi oluşturuğumuz zaman o objeyi oluşturan bir referanstır\n",
    "# bu referansı sağlamak için mutlaka self koymamız gerekir\n"
   ]
  },
  {
   "cell_type": "raw",
   "id": "7086d7f0",
   "metadata": {},
   "source": []
  },
  {
   "cell_type": "code",
   "execution_count": null,
   "id": "27e22fb2",
   "metadata": {},
   "outputs": [],
   "source": []
  }
 ],
 "metadata": {
  "kernelspec": {
   "display_name": "Python 3",
   "language": "python",
   "name": "python3"
  },
  "language_info": {
   "codemirror_mode": {
    "name": "ipython",
    "version": 3
   },
   "file_extension": ".py",
   "mimetype": "text/x-python",
   "name": "python",
   "nbconvert_exporter": "python",
   "pygments_lexer": "ipython3",
   "version": "3.8.8"
  }
 },
 "nbformat": 4,
 "nbformat_minor": 5
}
