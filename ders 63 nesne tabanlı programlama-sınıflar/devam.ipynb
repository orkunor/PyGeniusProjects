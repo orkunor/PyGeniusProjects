{
 "cells": [
  {
   "cell_type": "code",
   "execution_count": 1,
   "id": "459c83c9",
   "metadata": {},
   "outputs": [],
   "source": [
    "class Araba():\n",
    "    def __init__(self,model,renk,beygir_gücü,silindir):\n",
    "        print(\"init fonksiyonu çağırıldı...\")\n",
    "        self.model = model\n",
    "        self.renk = renk\n",
    "        self.beygir_gücü = beygir_gücü\n",
    "        self.silindir = silindir"
   ]
  },
  {
   "cell_type": "code",
   "execution_count": 2,
   "id": "3fb54209",
   "metadata": {},
   "outputs": [
    {
     "name": "stdout",
     "output_type": "stream",
     "text": [
      "init fonksiyonu çağırıldı...\n"
     ]
    }
   ],
   "source": [
    "# şimdi biz bunları oluştururken tek tek göndereceğiz dikkat et self parametresini python kendi gönderdiği için \n",
    "#bizim göndermemize gerek yoktur...\n",
    "araba1 = Araba(\"Renault Megane\",\"Siyah\",110,4)#sırasıyla tek tek parametrelere karşı gelenlere göre girdik..."
   ]
  },
  {
   "cell_type": "code",
   "execution_count": 5,
   "id": "2b574293",
   "metadata": {},
   "outputs": [
    {
     "name": "stdout",
     "output_type": "stream",
     "text": [
      "init fonksiyonu çağırıldı...\n"
     ]
    }
   ],
   "source": [
    "araba2 = Araba(\"BMW\",\"Beyaz\",500,8)"
   ]
  },
  {
   "cell_type": "code",
   "execution_count": 6,
   "id": "6c362d31",
   "metadata": {},
   "outputs": [
    {
     "data": {
      "text/plain": [
       "'Renault Megane'"
      ]
     },
     "execution_count": 6,
     "metadata": {},
     "output_type": "execute_result"
    }
   ],
   "source": [
    "araba1.model"
   ]
  },
  {
   "cell_type": "code",
   "execution_count": 7,
   "id": "10a16e54",
   "metadata": {},
   "outputs": [
    {
     "data": {
      "text/plain": [
       "'BMW'"
      ]
     },
     "execution_count": 7,
     "metadata": {},
     "output_type": "execute_result"
    }
   ],
   "source": [
    "araba2.model"
   ]
  },
  {
   "cell_type": "code",
   "execution_count": null,
   "id": "6856dce4",
   "metadata": {},
   "outputs": [],
   "source": [
    "#biz burada varsayılan değer atayarak da kullanabiliriz...\n"
   ]
  },
  {
   "cell_type": "code",
   "execution_count": 8,
   "id": "c575c2e0",
   "metadata": {},
   "outputs": [],
   "source": [
    "class Araba():\n",
    "    def __init__(self,model = \"Bilgi yok\",renk = \"Bilgi Yok\",beygir_gücü = 70 ,silindir = 4):\n",
    "        print(\"init fonksiyonu çağırıldı...\")\n",
    "        self.model = model\n",
    "        self.renk = renk\n",
    "        self.beygir_gücü = beygir_gücü\n",
    "        self.silindir = silindir"
   ]
  },
  {
   "cell_type": "code",
   "execution_count": 9,
   "id": "0cb78dde",
   "metadata": {},
   "outputs": [
    {
     "name": "stdout",
     "output_type": "stream",
     "text": [
      "init fonksiyonu çağırıldı...\n"
     ]
    }
   ],
   "source": [
    "araba = Araba(beygir_gücü = 110)"
   ]
  },
  {
   "cell_type": "code",
   "execution_count": 10,
   "id": "694f7028",
   "metadata": {},
   "outputs": [
    {
     "data": {
      "text/plain": [
       "110"
      ]
     },
     "execution_count": 10,
     "metadata": {},
     "output_type": "execute_result"
    }
   ],
   "source": [
    "araba.beygir_gücü"
   ]
  },
  {
   "cell_type": "code",
   "execution_count": 11,
   "id": "f09e1036",
   "metadata": {},
   "outputs": [
    {
     "data": {
      "text/plain": [
       "4"
      ]
     },
     "execution_count": 11,
     "metadata": {},
     "output_type": "execute_result"
    }
   ],
   "source": [
    "araba.silindir"
   ]
  },
  {
   "cell_type": "code",
   "execution_count": 12,
   "id": "4e258cca",
   "metadata": {},
   "outputs": [
    {
     "data": {
      "text/plain": [
       "'Bilgi yok'"
      ]
     },
     "execution_count": 12,
     "metadata": {},
     "output_type": "execute_result"
    }
   ],
   "source": [
    "araba.model"
   ]
  },
  {
   "cell_type": "code",
   "execution_count": 13,
   "id": "a83c75d2",
   "metadata": {},
   "outputs": [
    {
     "name": "stdout",
     "output_type": "stream",
     "text": [
      "init fonksiyonu çağırıldı...\n"
     ]
    }
   ],
   "source": [
    "araba = Araba(model = \"MERCEDES-BENZ\")"
   ]
  },
  {
   "cell_type": "code",
   "execution_count": 14,
   "id": "36a2570c",
   "metadata": {},
   "outputs": [
    {
     "data": {
      "text/plain": [
       "'MERCEDES-BENZ'"
      ]
     },
     "execution_count": 14,
     "metadata": {},
     "output_type": "execute_result"
    }
   ],
   "source": [
    "araba.model"
   ]
  },
  {
   "cell_type": "code",
   "execution_count": null,
   "id": "447e4d92",
   "metadata": {},
   "outputs": [],
   "source": []
  }
 ],
 "metadata": {
  "kernelspec": {
   "display_name": "Python 3",
   "language": "python",
   "name": "python3"
  },
  "language_info": {
   "codemirror_mode": {
    "name": "ipython",
    "version": 3
   },
   "file_extension": ".py",
   "mimetype": "text/x-python",
   "name": "python",
   "nbconvert_exporter": "python",
   "pygments_lexer": "ipython3",
   "version": "3.8.8"
  }
 },
 "nbformat": 4,
 "nbformat_minor": 5
}
