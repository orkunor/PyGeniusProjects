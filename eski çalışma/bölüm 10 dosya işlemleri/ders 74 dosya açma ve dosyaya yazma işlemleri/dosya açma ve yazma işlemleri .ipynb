{
 "cells": [
  {
   "cell_type": "code",
   "execution_count": 1,
   "id": "2c4a45ec",
   "metadata": {},
   "outputs": [],
   "source": [
    "# dosya açma işlemi open() fonksiyonu ile baraber yapılır unutma !!\n",
    "# open(dosya_adı,dosya_erişim_kipi)\n",
    "# 'w' kipi write anlamına gelen 'yazmak' anlamındaki kiptir \n",
    "# eğer oluşturmak istediğimiz dizinde öyle bir dosya yoksa 'w' kipi ile dosya oluşturulur... \n",
    "# ancak oluşturmak istediğimiz dosya o dizinde var ise dosyayı silip tekrar oluşturur unutma !!! \n",
    "# biraz tehlikeli bu yüzden dikkat et !! \n"
   ]
  },
  {
   "cell_type": "code",
   "execution_count": 2,
   "id": "fd97165f",
   "metadata": {},
   "outputs": [
    {
     "data": {
      "text/plain": [
       "<_io.TextIOWrapper name='bilgiler.txt' mode='w' encoding='cp1254'>"
      ]
     },
     "execution_count": 2,
     "metadata": {},
     "output_type": "execute_result"
    }
   ],
   "source": [
    "open(\"bilgiler.txt\",\"w\")"
   ]
  },
  {
   "cell_type": "code",
   "execution_count": 3,
   "id": "9d730c10",
   "metadata": {},
   "outputs": [],
   "source": [
    "# değişken atayıp bu dosya üzerinde işlemlerimizi gerçekleştirebiliriz !!! \n",
    "file = open(\"bilgiler.txt\",\"w\") # ben artık bütün işlemleri bu file değişkeni üzerinden yapabilirim !!! dikkat et \n",
    "# bu işlem ile beraber aynı klasörün altında ben dosyamı oluşturmuş oldum dikkat et !! "
   ]
  },
  {
   "cell_type": "code",
   "execution_count": 4,
   "id": "78783297",
   "metadata": {},
   "outputs": [],
   "source": [
    "# işlemler bittikten sonra dosyayı özellikle kapatmamız gerekir dikkat et yoksa kapanmayan dosya sorun yaratır !! \n",
    "\n",
    "file.close()"
   ]
  },
  {
   "cell_type": "code",
   "execution_count": 10,
   "id": "ef3dc11e",
   "metadata": {},
   "outputs": [],
   "source": [
    "#dosyayı bulunduğumuz klasöre değil de başka bir klasöre yüklemek istersek özellikle belirtmemiz gerekir !! \n",
    "\n",
    "file = open(\"C:/Users/Orkun/Desktop/bilgiler.txt\",\"w\") #bilgisayarımın ismi 'Orkun' olduğu için orkun dedik !!! "
   ]
  },
  {
   "cell_type": "code",
   "execution_count": 14,
   "id": "611a7cf4",
   "metadata": {},
   "outputs": [],
   "source": [
    "file = open(\"bilgiler.txt\",\"w\",encoding = \"utf-8\") # bu sayede türkçe karakterleri de içine attık"
   ]
  },
  {
   "cell_type": "code",
   "execution_count": 15,
   "id": "1fa11e54",
   "metadata": {},
   "outputs": [
    {
     "data": {
      "text/plain": [
       "23"
      ]
     },
     "execution_count": 15,
     "metadata": {},
     "output_type": "execute_result"
    }
   ],
   "source": [
    "file.write(\"Bayram Orkun Orulluoğlu\")"
   ]
  },
  {
   "cell_type": "code",
   "execution_count": 16,
   "id": "ed6a6bdb",
   "metadata": {},
   "outputs": [],
   "source": [
    "file.close()"
   ]
  },
  {
   "cell_type": "code",
   "execution_count": 17,
   "id": "09760b26",
   "metadata": {},
   "outputs": [],
   "source": [
    "file = open(\"bilgiler.txt\",\"w\",encoding = \"utf-8\")"
   ]
  },
  {
   "cell_type": "code",
   "execution_count": 19,
   "id": "1ab8fe9b",
   "metadata": {},
   "outputs": [],
   "source": [
    "file.close() # dosyadaki her şey silindi !!! "
   ]
  },
  {
   "cell_type": "code",
   "execution_count": 20,
   "id": "51a6f98a",
   "metadata": {},
   "outputs": [],
   "source": [
    "# zaten var olan bulunan bir dosyanın üzerine ekleme yapmak istersek 'a' yani 'append' kipini kullanırız dikkat et !!!\n",
    "# dosya eğer yoksa oluşturuluyor ama mevcut olarak var ise üzerine ekleme yapılıyor !!! "
   ]
  },
  {
   "cell_type": "code",
   "execution_count": 21,
   "id": "ccdbad8e",
   "metadata": {},
   "outputs": [],
   "source": [
    "file = open(\"bilgiler.txt\",\"a\",encoding = \"utf-8\")"
   ]
  },
  {
   "cell_type": "code",
   "execution_count": 22,
   "id": "a8a02cb0",
   "metadata": {},
   "outputs": [
    {
     "data": {
      "text/plain": [
       "23"
      ]
     },
     "execution_count": 22,
     "metadata": {},
     "output_type": "execute_result"
    }
   ],
   "source": [
    "file.write(\"Bayram Orkun Orulluoğlu\")"
   ]
  },
  {
   "cell_type": "code",
   "execution_count": 23,
   "id": "3571e17e",
   "metadata": {},
   "outputs": [],
   "source": [
    "file.close()"
   ]
  },
  {
   "cell_type": "code",
   "execution_count": 24,
   "id": "6d8dfae0",
   "metadata": {},
   "outputs": [],
   "source": [
    "file = open(\"bilgiler.txt\",\"a\",encoding = \"utf-8\")"
   ]
  },
  {
   "cell_type": "code",
   "execution_count": 25,
   "id": "3a18cb4d",
   "metadata": {},
   "outputs": [
    {
     "data": {
      "text/plain": [
       "15"
      ]
     },
     "execution_count": 25,
     "metadata": {},
     "output_type": "execute_result"
    }
   ],
   "source": [
    "file.write(\"\\nBugün Nasılsın\")"
   ]
  },
  {
   "cell_type": "code",
   "execution_count": 26,
   "id": "ef9a023f",
   "metadata": {},
   "outputs": [],
   "source": [
    "file.close()"
   ]
  },
  {
   "cell_type": "code",
   "execution_count": 35,
   "id": "7755ded2",
   "metadata": {},
   "outputs": [],
   "source": [
    "file = open(\"bilgiler.txt\",\"a\",encoding = \"utf-8\")"
   ]
  },
  {
   "cell_type": "code",
   "execution_count": 36,
   "id": "0e303a62",
   "metadata": {},
   "outputs": [
    {
     "data": {
      "text/plain": [
       "20"
      ]
     },
     "execution_count": 36,
     "metadata": {},
     "output_type": "execute_result"
    }
   ],
   "source": [
    "file.write(\"\\n İyi Gidiyor Sağ Ol\")"
   ]
  },
  {
   "cell_type": "code",
   "execution_count": 37,
   "id": "62b244fe",
   "metadata": {},
   "outputs": [],
   "source": [
    "file.close()"
   ]
  },
  {
   "cell_type": "code",
   "execution_count": null,
   "id": "c70eb32c",
   "metadata": {},
   "outputs": [],
   "source": []
  }
 ],
 "metadata": {
  "kernelspec": {
   "display_name": "Python 3",
   "language": "python",
   "name": "python3"
  },
  "language_info": {
   "codemirror_mode": {
    "name": "ipython",
    "version": 3
   },
   "file_extension": ".py",
   "mimetype": "text/x-python",
   "name": "python",
   "nbconvert_exporter": "python",
   "pygments_lexer": "ipython3",
   "version": "3.8.8"
  }
 },
 "nbformat": 4,
 "nbformat_minor": 5
}
