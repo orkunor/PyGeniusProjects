{
 "cells": [
  {
   "cell_type": "code",
   "execution_count": 2,
   "id": "d15d8e1a",
   "metadata": {},
   "outputs": [],
   "source": [
    "# dosya açmak için open() fonksiyonu kullanılır !!! \n",
    "# open fonksiyonun genel yapısı ==> open(dosya adı , dosyaya uyh-gulanacak işlemin kipi)\n",
    "# fakat open fonksiyonu içerisine birden fazla eleman alabilir tabii ki de \n",
    "# okumak veya yazmak istediğimiz dosyanın adı ilk bileşendir !!\n",
    "# dosya erişme kipi ise o dosyaya yapılacak işlemlerdir !!! \n"
   ]
  },
  {
   "cell_type": "code",
   "execution_count": 3,
   "id": "43a7fe98",
   "metadata": {},
   "outputs": [],
   "source": [
    "# ilk dosya kipi 'w' kipidir. biz dosyalarımızı açmak ve yazmak için write anlamına gelen 'w' kipini kullanırız !!!\n",
    "# oluşturmak isteiğimiz dosya eğer yoksa yaratıyor fakat var ise önceden oluşturulmuş ise silip tekrar oluşturuyor !!! \n",
    "# 'w' kipi biraz tehlikeli bu yüzden !! \n"
   ]
  },
  {
   "cell_type": "code",
   "execution_count": 4,
   "id": "6e71baea",
   "metadata": {},
   "outputs": [
    {
     "data": {
      "text/plain": [
       "<_io.TextIOWrapper name='bilgiler.txt' mode='w' encoding='cp1254'>"
      ]
     },
     "execution_count": 4,
     "metadata": {},
     "output_type": "execute_result"
    }
   ],
   "source": [
    "open(\"bilgiler.txt\",\"w\")"
   ]
  },
  {
   "cell_type": "code",
   "execution_count": 5,
   "id": "9997b7ad",
   "metadata": {},
   "outputs": [],
   "source": [
    "# bir dosya objesi oluşturuldu biz buna değişken atayıp işlemlerimi yapabilirim \n",
    "file = open(\"bilgiler.txt\",\"w\") \n",
    "# bütün dosya işlemlerimi bu file değişkeni ile yapacağız !!! \n"
   ]
  },
  {
   "cell_type": "code",
   "execution_count": 6,
   "id": "30bd8111",
   "metadata": {},
   "outputs": [],
   "source": [
    "#işlemler bittikten sonra dosyayı kapatmamız gerekir çünkü python kapansa bile dosya kapanmayabilir bu da sistemsel sorun yaratır\n",
    "# sistem kaynaklarını boşa harcar "
   ]
  },
  {
   "cell_type": "code",
   "execution_count": 7,
   "id": "aa95bed8",
   "metadata": {},
   "outputs": [],
   "source": [
    "file.close()"
   ]
  },
  {
   "cell_type": "code",
   "execution_count": 18,
   "id": "e1fadb35",
   "metadata": {},
   "outputs": [],
   "source": [
    "file = open(\"bilgiler.txt\",\"w\",encoding = \"utf-8\")"
   ]
  },
  {
   "cell_type": "code",
   "execution_count": 19,
   "id": "3e9375e5",
   "metadata": {},
   "outputs": [
    {
     "data": {
      "text/plain": [
       "17"
      ]
     },
     "execution_count": 19,
     "metadata": {},
     "output_type": "execute_result"
    }
   ],
   "source": [
    "file.write(\"Orkun Orulluoğlu \")"
   ]
  },
  {
   "cell_type": "code",
   "execution_count": 20,
   "id": "99b6e024",
   "metadata": {},
   "outputs": [],
   "source": [
    "file.close()"
   ]
  },
  {
   "cell_type": "code",
   "execution_count": 21,
   "id": "6b5aee7e",
   "metadata": {},
   "outputs": [],
   "source": [
    "file = open(\"bilgiler.txt\",\"w\",encoding = \"utf-8\") "
   ]
  },
  {
   "cell_type": "code",
   "execution_count": 22,
   "id": "c001b75d",
   "metadata": {},
   "outputs": [],
   "source": [
    "file.close()"
   ]
  },
  {
   "cell_type": "code",
   "execution_count": 23,
   "id": "ce552947",
   "metadata": {},
   "outputs": [],
   "source": [
    "# bulunan bir dosyay ekleme işlemi yapmak için 'a' kipi kullanılır ve üzerine ekleme işlemi yapar sürekli 'append'\n",
    "# yoksa açar varsa üzerine ekler \n",
    "file = open(\"bilgiler.txt\",\"a\",encoding = \"utf-8\")"
   ]
  },
  {
   "cell_type": "code",
   "execution_count": 24,
   "id": "8b7f9c20",
   "metadata": {},
   "outputs": [
    {
     "data": {
      "text/plain": [
       "24"
      ]
     },
     "execution_count": 24,
     "metadata": {},
     "output_type": "execute_result"
    }
   ],
   "source": [
    "file.write(\"Bayram Orkun Orulluoğlu\\n\")"
   ]
  },
  {
   "cell_type": "code",
   "execution_count": 25,
   "id": "73f4b6f7",
   "metadata": {},
   "outputs": [
    {
     "data": {
      "text/plain": [
       "25"
      ]
     },
     "execution_count": 25,
     "metadata": {},
     "output_type": "execute_result"
    }
   ],
   "source": [
    "file.write(\"Bugün Nasılsın Bakalım...\")"
   ]
  },
  {
   "cell_type": "code",
   "execution_count": 26,
   "id": "9f59b01d",
   "metadata": {},
   "outputs": [],
   "source": [
    "file.close()"
   ]
  },
  {
   "cell_type": "code",
   "execution_count": 27,
   "id": "e66c3bcc",
   "metadata": {},
   "outputs": [],
   "source": [
    "file = open(\"bilgiler.txt\",\"a\",encoding = \"utf-8\") "
   ]
  },
  {
   "cell_type": "code",
   "execution_count": 28,
   "id": "512be99e",
   "metadata": {},
   "outputs": [
    {
     "data": {
      "text/plain": [
       "28"
      ]
     },
     "execution_count": 28,
     "metadata": {},
     "output_type": "execute_result"
    }
   ],
   "source": [
    "file.write(\"\\nSağ ol iyiyim sen nasılsın \")"
   ]
  },
  {
   "cell_type": "code",
   "execution_count": 29,
   "id": "10a77cd8",
   "metadata": {},
   "outputs": [],
   "source": [
    "file.close()"
   ]
  },
  {
   "cell_type": "code",
   "execution_count": null,
   "id": "b9e6a9a7",
   "metadata": {},
   "outputs": [],
   "source": []
  }
 ],
 "metadata": {
  "kernelspec": {
   "display_name": "Python 3",
   "language": "python",
   "name": "python3"
  },
  "language_info": {
   "codemirror_mode": {
    "name": "ipython",
    "version": 3
   },
   "file_extension": ".py",
   "mimetype": "text/x-python",
   "name": "python",
   "nbconvert_exporter": "python",
   "pygments_lexer": "ipython3",
   "version": "3.8.8"
  }
 },
 "nbformat": 4,
 "nbformat_minor": 5
}
