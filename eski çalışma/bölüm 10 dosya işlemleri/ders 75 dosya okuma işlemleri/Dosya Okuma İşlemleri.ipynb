{
 "cells": [
  {
   "cell_type": "code",
   "execution_count": 1,
   "id": "aee8141a",
   "metadata": {},
   "outputs": [],
   "source": [
    "# şimdi ise dosya okuma işlemlerine bakıcaz \n",
    "# dosya okuma işlemi yapabilmek için dosyayı 'r' 'read' kipiyle açmalıyız bu sayede var olan dosyayı okuyabiliriz !!! \n",
    "# dosya eğer bulunmuyorsa dosya açma işlemi gerçekleştirilemez ve 'FileNotFoundError' hatası alırız !!! "
   ]
  },
  {
   "cell_type": "code",
   "execution_count": 4,
   "id": "142eab7f",
   "metadata": {},
   "outputs": [],
   "source": [
    "# file değişkeni aslında dosya üzerinde geziniyor biz de işlemle file'ı gezdiriyoruz !!!\n",
    "file = open(\"bilgiler.txt\",\"r\") #dosya objesi döndü diğerleri gibi ve biz  bunu file değişkenine atadık !! "
   ]
  },
  {
   "cell_type": "code",
   "execution_count": 5,
   "id": "ee232655",
   "metadata": {},
   "outputs": [],
   "source": [
    "file.close()"
   ]
  },
  {
   "cell_type": "code",
   "execution_count": 6,
   "id": "a7c1467f",
   "metadata": {},
   "outputs": [
    {
     "ename": "FileNotFoundError",
     "evalue": "[Errno 2] No such file or directory: 'bilgile2.txt'",
     "output_type": "error",
     "traceback": [
      "\u001b[1;31m---------------------------------------------------------------------------\u001b[0m",
      "\u001b[1;31mFileNotFoundError\u001b[0m                         Traceback (most recent call last)",
      "\u001b[1;32m<ipython-input-6-1c0054398111>\u001b[0m in \u001b[0;36m<module>\u001b[1;34m\u001b[0m\n\u001b[1;32m----> 1\u001b[1;33m \u001b[0mfile\u001b[0m \u001b[1;33m=\u001b[0m \u001b[0mopen\u001b[0m\u001b[1;33m(\u001b[0m\u001b[1;34m\"bilgile2.txt\"\u001b[0m\u001b[1;33m,\u001b[0m\u001b[1;34m\"r\"\u001b[0m\u001b[1;33m)\u001b[0m\u001b[1;33m\u001b[0m\u001b[1;33m\u001b[0m\u001b[0m\n\u001b[0m",
      "\u001b[1;31mFileNotFoundError\u001b[0m: [Errno 2] No such file or directory: 'bilgile2.txt'"
     ]
    }
   ],
   "source": [
    "file = open(\"bilgile2.txt\",\"r\")"
   ]
  },
  {
   "cell_type": "code",
   "execution_count": 7,
   "id": "621b79d8",
   "metadata": {},
   "outputs": [
    {
     "name": "stdout",
     "output_type": "stream",
     "text": [
      "except'e girdik !!\n",
      "exceptteyiz ==> dosya bulunamadı !!! \n"
     ]
    }
   ],
   "source": [
    "try:\n",
    "    file = open(\"bilgile2.txt\",\"r\")\n",
    "except FileNotFoundError:\n",
    "    print(\"except'e girdik !!\")\n",
    "    print(\"exceptteyiz ==> dosya bulunamadı !!! \")\n"
   ]
  },
  {
   "cell_type": "code",
   "execution_count": 9,
   "id": "057e7c71",
   "metadata": {},
   "outputs": [
    {
     "name": "stdout",
     "output_type": "stream",
     "text": [
      "Bayram Orkun Orulluoğlu\n",
      "Bugün Nasılsın Bakalım...\n",
      "Sağ ol iyiyim sen nasılsın "
     ]
    }
   ],
   "source": [
    "# dosya okumak için farklı yöntemler vardır !! \n",
    "# birinci yöntem for döngüsü !!! \n",
    "file = open(\"bilgiler.txt\",\"r\",encoding = \"utf-8\")\n",
    "\n",
    "for i in file:\n",
    "    print(i, end = \"\") # end parametresi ile fazladan \\n'den kurtulduk !!! \n",
    "    \n",
    "file.close()"
   ]
  },
  {
   "cell_type": "code",
   "execution_count": 10,
   "id": "c6a46907",
   "metadata": {},
   "outputs": [
    {
     "name": "stdout",
     "output_type": "stream",
     "text": [
      "Dosyanın içeriği: \n",
      "Bayram Orkun Orulluoğlu\n",
      "Bugün Nasılsın Bakalım...\n",
      "Sağ ol iyiyim sen nasılsın \n"
     ]
    }
   ],
   "source": [
    "# read fonksiyonu ile de okuma işlemi yapabiliriz !!!\n",
    "file = open(\"bilgiler.txt\",\"r\",encoding = \"utf-8\")\n",
    "\n",
    "içerik = file.read()\n",
    "\n",
    "print(\"Dosyanın içeriği: \")\n",
    "print(içerik)"
   ]
  },
  {
   "cell_type": "code",
   "execution_count": 15,
   "id": "233eb804",
   "metadata": {},
   "outputs": [
    {
     "name": "stdout",
     "output_type": "stream",
     "text": [
      "Dosyanın içeriği: \n",
      "Bayram Orkun Orulluoğlu\n",
      "Bugün Nasılsın Bakalım...\n",
      "Sağ ol iyiyim sen nasılsın \n",
      "\n",
      "Dosyanın içeriği 2: \n",
      "\n"
     ]
    }
   ],
   "source": [
    "file = open(\"bilgiler.txt\",\"r\",encoding = \"utf-8\")\n",
    "\n",
    "içerik = file.read()\n",
    "\n",
    "print(\"Dosyanın içeriği: \")\n",
    "print(içerik)\n",
    "\n",
    "içerik2 = file.read()\n",
    "\n",
    "print(\"\\nDosyanın içeriği 2: \")\n",
    "\n",
    "print(içerik2)\n",
    "file.close()"
   ]
  },
  {
   "cell_type": "code",
   "execution_count": 17,
   "id": "9a46d320",
   "metadata": {},
   "outputs": [
    {
     "name": "stdout",
     "output_type": "stream",
     "text": [
      "Bayram Orkun Orulluoğlu\n",
      "\n"
     ]
    }
   ],
   "source": [
    "# bir diğer yöntem ise readlin() fonksiyonudur !!! \n",
    "# her çağırıldığında dosyanın sadece bir satırını okur \n",
    "file = open(\"bilgiler.txt\",\"r\",encoding = \"utf-8\") # böylece file değişkeni en başa geldi \n",
    "\n",
    "print(file.readline())\n",
    "file.close()\n"
   ]
  },
  {
   "cell_type": "code",
   "execution_count": 19,
   "id": "468a56bf",
   "metadata": {},
   "outputs": [
    {
     "name": "stdout",
     "output_type": "stream",
     "text": [
      "Bayram Orkun Orulluoğlu\n",
      "\n",
      "Bugün Nasılsın Bakalım...\n",
      "\n",
      "Sağ ol iyiyim sen nasılsın \n"
     ]
    }
   ],
   "source": [
    "file = open(\"bilgiler.txt\",\"r\",encoding = \"utf-8\") \n",
    "\n",
    "print(file.readline())\n",
    "print(file.readline())\n",
    "print(file.readline())\n",
    "\n",
    "file.close()\n"
   ]
  },
  {
   "cell_type": "code",
   "execution_count": 20,
   "id": "edbd3b4e",
   "metadata": {},
   "outputs": [
    {
     "name": "stdout",
     "output_type": "stream",
     "text": [
      "['Bayram Orkun Orulluoğlu\\n', 'Bugün Nasılsın Bakalım...\\n', 'Sağ ol iyiyim sen nasılsın ']\n"
     ]
    }
   ],
   "source": [
    "# bir diğer yöntem ise readlines() fonksiyonudur !!! \n",
    "# bu fonksiyon ise her bir satırı okur ve bir listeye atar !! dikkat et \n",
    "file = open(\"bilgiler.txt\",\"r\",encoding = \"utf-8\")\n",
    "\n",
    "liste = file.readlines()\n",
    "\n",
    "print(liste)\n",
    "\n",
    "file.close()"
   ]
  },
  {
   "cell_type": "code",
   "execution_count": null,
   "id": "8f1ead24",
   "metadata": {},
   "outputs": [],
   "source": []
  }
 ],
 "metadata": {
  "kernelspec": {
   "display_name": "Python 3",
   "language": "python",
   "name": "python3"
  },
  "language_info": {
   "codemirror_mode": {
    "name": "ipython",
    "version": 3
   },
   "file_extension": ".py",
   "mimetype": "text/x-python",
   "name": "python",
   "nbconvert_exporter": "python",
   "pygments_lexer": "ipython3",
   "version": "3.8.8"
  }
 },
 "nbformat": 4,
 "nbformat_minor": 5
}
