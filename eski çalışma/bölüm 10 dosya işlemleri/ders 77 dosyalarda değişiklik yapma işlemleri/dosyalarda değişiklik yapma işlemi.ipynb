{
 "cells": [
  {
   "cell_type": "code",
   "execution_count": 1,
   "id": "086f8173",
   "metadata": {},
   "outputs": [],
   "source": [
    "# öncelikle yeni bir kip öğrenelim 'r+' dosya kipi sayesinde hem dosyamızı okuyacak hem de dosyamıza yazmayı kolaylaştıracağız!!\n"
   ]
  },
  {
   "cell_type": "code",
   "execution_count": 11,
   "id": "28bceeb6",
   "metadata": {},
   "outputs": [
    {
     "name": "stdout",
     "output_type": "stream",
     "text": [
      "Bayram Orkun Orulluoğlu\n",
      "Bugün Nasılsın Bakalım...\n",
      "Sağ ol iyiyim sen nasılsın \n"
     ]
    }
   ],
   "source": [
    "with open(\"bilgiler.txt\",\"r+\",encoding = \"utf-8\") as file:\n",
    "    print(file.read())"
   ]
  },
  {
   "cell_type": "code",
   "execution_count": 14,
   "id": "0083f211",
   "metadata": {},
   "outputs": [],
   "source": [
    "# şimdi biz bu noktada dosyanın belli noktalarına gidip bir şeyler eklemek istersek seek() ve write() fonksiyonları kullanabilir\n",
    "with open(\"bilgiler.txt\",\"r+\",encoding = \"utf-8\") as file:\n",
    "    file.seek(10)\n",
    "    file.write(\"DENEME-1234\")"
   ]
  },
  {
   "cell_type": "code",
   "execution_count": 16,
   "id": "69991d6a",
   "metadata": {},
   "outputs": [
    {
     "name": "stdout",
     "output_type": "stream",
     "text": [
      "Bayram Orkun Orulluoğlu\n",
      "Bugün Nasılsın Bakalım...\n",
      "Sağ ol iyiyim sen nasılsın \n"
     ]
    }
   ],
   "source": [
    "with open(\"bilgiler.txt\",\"r+\",encoding = \"utf-8\") as file:\n",
    "    print(file.read())"
   ]
  },
  {
   "cell_type": "code",
   "execution_count": 17,
   "id": "558218e2",
   "metadata": {},
   "outputs": [
    {
     "name": "stdout",
     "output_type": "stream",
     "text": [
      "Bayram Orkun Orulluoğlu\n",
      "Bugün Nasılsın Bakalım...\n",
      "Sağ ol iyiyim sen nasılsın \n"
     ]
    }
   ],
   "source": [
    "# Dosyanın sonunda değişiklik yapmak için ise ==> \n",
    "# 'a' kipiyle açıp dosyanın en sonuna ekleyebiliriz !! \n",
    "with open(\"bilgiler.txt\",\"r+\",encoding = \"utf-8\") as file:\n",
    "    print(file.read())"
   ]
  },
  {
   "cell_type": "code",
   "execution_count": 19,
   "id": "8f701d38",
   "metadata": {},
   "outputs": [],
   "source": [
    "with open(\"bilgiler.txt\",\"a\",encoding = \"utf-8\") as file:\n",
    "    file.write(\"\\nKayra Rüzgar Orulluoğlu\")"
   ]
  },
  {
   "cell_type": "code",
   "execution_count": 20,
   "id": "ca8509b0",
   "metadata": {},
   "outputs": [
    {
     "name": "stdout",
     "output_type": "stream",
     "text": [
      "Bayram Orkun Orulluoğlu\n",
      "Bugün Nasılsın Bakalım...\n",
      "Sağ ol iyiyim sen nasılsın \n",
      "Kayra Rüzgar Orulluoğlu\n"
     ]
    }
   ],
   "source": [
    "with open(\"bilgiler.txt\",\"r+\",encoding = \"utf-8\") as file:\n",
    "    print(file.read())"
   ]
  },
  {
   "cell_type": "code",
   "execution_count": 21,
   "id": "dba84264",
   "metadata": {},
   "outputs": [],
   "source": [
    "with open(\"bilgiler.txt\",\"a\",encoding = \"utf-8\") as file:\n",
    "    file.write(\"\\nBABAM:Fehmi Orulluoğlu\")"
   ]
  },
  {
   "cell_type": "code",
   "execution_count": 22,
   "id": "28407e83",
   "metadata": {},
   "outputs": [
    {
     "name": "stdout",
     "output_type": "stream",
     "text": [
      "Bayram Orkun Orulluoğlu\n",
      "Bugün Nasılsın Bakalım...\n",
      "Sağ ol iyiyim sen nasılsın \n",
      "Kayra Rüzgar Orulluoğlu\n",
      "BABAM:Fehmi Orulluoğlu\n"
     ]
    }
   ],
   "source": [
    "with open(\"bilgiler.txt\",\"r+\",encoding = \"utf-8\") as file:\n",
    "    print(file.read())"
   ]
  },
  {
   "cell_type": "code",
   "execution_count": 23,
   "id": "dd9f6b18",
   "metadata": {},
   "outputs": [],
   "source": [
    "with open(\"bilgiler.txt\",\"a\",encoding = \"utf-8\") as file:\n",
    "    file.write(\"\\nANNEM:EBRU Orulluoğlu\")"
   ]
  },
  {
   "cell_type": "code",
   "execution_count": 24,
   "id": "f2fb5c1e",
   "metadata": {},
   "outputs": [
    {
     "name": "stdout",
     "output_type": "stream",
     "text": [
      "Bayram Orkun Orulluoğlu\n",
      "Bugün Nasılsın Bakalım...\n",
      "Sağ ol iyiyim sen nasılsın \n",
      "Kayra Rüzgar Orulluoğlu\n",
      "BABAM:Fehmi Orulluoğlu\n",
      "ANNEM:EBRU Orulluoğlu\n"
     ]
    }
   ],
   "source": [
    "with open(\"bilgiler.txt\",\"r+\",encoding = \"utf-8\") as file:\n",
    "    print(file.read())"
   ]
  },
  {
   "cell_type": "code",
   "execution_count": 25,
   "id": "4882ef90",
   "metadata": {},
   "outputs": [
    {
     "name": "stdout",
     "output_type": "stream",
     "text": [
      "Bayram Orkun Orulluoğlu\n",
      "Bugün Nasılsın Bakalım...\n",
      "Sağ ol iyiyim sen nasılsın \n",
      "Kayra Rüzgar Orulluoğlu\n",
      "BABAM:Fehmi Orulluoğlu\n",
      "ANNEM:EBRU Orulluoğlu\n"
     ]
    }
   ],
   "source": [
    "#dosyanın başında değişiklik nasıl peki ==> \n",
    "with open(\"bilgiler.txt\",\"r+\",encoding = \"utf-8\") as file:\n",
    "    print(file.read())"
   ]
  },
  {
   "cell_type": "code",
   "execution_count": 27,
   "id": "78f1ed95",
   "metadata": {},
   "outputs": [
    {
     "name": "stdout",
     "output_type": "stream",
     "text": [
      "BEN: ORKUN BEY \n",
      "Bayram Orkun Orulluoğlu\n",
      "Bugün Nasılsın Bakalım...\n",
      "Sağ ol iyiyim sen nasılsın \n",
      "Kayra Rüzgar Orulluoğlu\n",
      "BABAM:Fehmi Orulluoğlu\n",
      "ANNEM:EBRU Orulluoğlu\n"
     ]
    }
   ],
   "source": [
    "# ilk satırın üzerine bir tane satır atabilmek için ==> \n",
    "with open(\"bilgiler.txt\",\"r+\",encoding = \"utf-8\") as file:\n",
    "    içerik = file.read()\n",
    "    içerik = \"BEN: ORKUN BEY \\n\" + içerik\n",
    "    file.seek(0) # bu sayede en başa dönebildik!!!\n",
    "    file.write(içerik) # böylece eski bilgilerin üzerine yeni bilgileri ekleyerek tekrardan yazma işlmeini gerçekleştirdik!!"
   ]
  },
  {
   "cell_type": "code",
   "execution_count": 28,
   "id": "ba1ca978",
   "metadata": {},
   "outputs": [
    {
     "name": "stdout",
     "output_type": "stream",
     "text": [
      "BEN: ORKUN BEY \n",
      "Bayram Orkun Orulluoğlu\n",
      "Bugün Nasılsın Bakalım...\n",
      "Sağ ol iyiyim sen nasılsın \n",
      "Kayra Rüzgar Orulluoğlu\n",
      "BABAM:Fehmi Orulluoğlu\n",
      "ANNEM:EBRU Orulluoğlu\n"
     ]
    }
   ],
   "source": [
    "with open(\"bilgiler.txt\",\"r+\",encoding = \"utf-8\") as file:\n",
    "    print(file.read())"
   ]
  },
  {
   "cell_type": "code",
   "execution_count": 29,
   "id": "7e9fa70a",
   "metadata": {},
   "outputs": [
    {
     "name": "stdout",
     "output_type": "stream",
     "text": [
      "['BEN: ORKUN BEY \\n', 'Bayram Orkun Orulluoğlu\\n', 'Bugün Nasılsın Bakalım...\\n', 'Sağ ol iyiyim sen nasılsın \\n', 'Kayra Rüzgar Orulluoğlu\\n', 'BABAM:Fehmi Orulluoğlu\\n', 'ANNEM:EBRU Orulluoğlu']\n"
     ]
    }
   ],
   "source": [
    "# peki dosyanın ortasına herhangi bir satır eklemek için ne yapabiliriz ==> \n",
    "# readlines() ile insert metodunu kullanarak yeni bir satır ekleyebiliriz!!! \n",
    "with open(\"bilgiler.txt\",\"r+\",encoding = \"utf-8\") as file:\n",
    "    liste = file.readlines()\n",
    "    print(liste)"
   ]
  },
  {
   "cell_type": "code",
   "execution_count": 32,
   "id": "e9f5af23",
   "metadata": {},
   "outputs": [],
   "source": [
    "#İNSERT metodunu kullanarak herhangi bir index'e eleman ekleyebiliriz !!! \n",
    "with open(\"bilgiler.txt\",\"r+\",encoding = \"utf-8\") as file:\n",
    "    liste = file.readlines()\n",
    "    liste.insert(3,\"BUNU ORTAYA EKLEDİK BAK GÖR\\n\")\n",
    "    file.seek(0)\n",
    "    for i in liste:\n",
    "        file.write(i)\n",
    "    "
   ]
  },
  {
   "cell_type": "code",
   "execution_count": 33,
   "id": "0b429a37",
   "metadata": {},
   "outputs": [
    {
     "name": "stdout",
     "output_type": "stream",
     "text": [
      "BEN: ORKUN BEY \n",
      "Bayram Orkun Orulluoğlu\n",
      "Bugün Nasılsın Bakalım...\n",
      "BUNU ORTAYA EKLEDİK BAK GÖR\n",
      "BUNU ORTAYA EKLEDİK BAK GÖR\n",
      "Sağ ol iyiyim sen nasılsın \n",
      "Kayra Rüzgar Orulluoğlu\n",
      "BABAM:Fehmi Orulluoğlu\n",
      "ANNEM:EBRU Orulluoğlu\n"
     ]
    }
   ],
   "source": [
    "with open(\"bilgiler.txt\",\"r+\",encoding = \"utf-8\") as file:\n",
    "    print(file.read())"
   ]
  },
  {
   "cell_type": "code",
   "execution_count": 34,
   "id": "45c17268",
   "metadata": {},
   "outputs": [],
   "source": [
    "# for döngüsü yerine writelines() fonksiyonu ile de halledebiliriz dikkat et !! \n",
    "with open(\"bilgiler.txt\",\"r+\",encoding = \"utf-8\") as file:\n",
    "    liste = file.readlines()\n",
    "    liste.insert(3,\"bunu da en son EKLEDİK\\n\")\n",
    "    file.seek(0)\n",
    "    file.writelines(liste)"
   ]
  },
  {
   "cell_type": "code",
   "execution_count": 35,
   "id": "436c12d7",
   "metadata": {},
   "outputs": [
    {
     "name": "stdout",
     "output_type": "stream",
     "text": [
      "BEN: ORKUN BEY \n",
      "Bayram Orkun Orulluoğlu\n",
      "Bugün Nasılsın Bakalım...\n",
      "bunu da en son EKLEDİK\n",
      "BUNU ORTAYA EKLEDİK BAK GÖR\n",
      "BUNU ORTAYA EKLEDİK BAK GÖR\n",
      "Sağ ol iyiyim sen nasılsın \n",
      "Kayra Rüzgar Orulluoğlu\n",
      "BABAM:Fehmi Orulluoğlu\n",
      "ANNEM:EBRU Orulluoğlu\n"
     ]
    }
   ],
   "source": [
    "with open(\"bilgiler.txt\",\"r+\",encoding = \"utf-8\") as file:\n",
    "    print(file.read())"
   ]
  },
  {
   "cell_type": "code",
   "execution_count": null,
   "id": "efe8ebca",
   "metadata": {},
   "outputs": [],
   "source": []
  }
 ],
 "metadata": {
  "kernelspec": {
   "display_name": "Python 3",
   "language": "python",
   "name": "python3"
  },
  "language_info": {
   "codemirror_mode": {
    "name": "ipython",
    "version": 3
   },
   "file_extension": ".py",
   "mimetype": "text/x-python",
   "name": "python",
   "nbconvert_exporter": "python",
   "pygments_lexer": "ipython3",
   "version": "3.8.8"
  }
 },
 "nbformat": 4,
 "nbformat_minor": 5
}
