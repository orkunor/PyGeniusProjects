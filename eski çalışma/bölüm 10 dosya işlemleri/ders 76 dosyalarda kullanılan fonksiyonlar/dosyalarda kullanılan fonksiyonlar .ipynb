{
 "cells": [
  {
   "cell_type": "code",
   "execution_count": 1,
   "id": "eae9b078",
   "metadata": {},
   "outputs": [
    {
     "name": "stdout",
     "output_type": "stream",
     "text": [
      "Bayram Orkun Orulluoğlu\n",
      "Bugün Nasılsın Bakalım...\n",
      "Sağ ol iyiyim sen nasılsın "
     ]
    }
   ],
   "source": [
    "# # dosyalarda otomatik kapatma işlemi \n",
    "# bir blok oluştururuz ve bu blok içerisinde dosya işlemlerini gerçekleştirerek bitmesini sağlarız blok içinde unutma !!! \n",
    "with open(\"bilgiler.txt\",\"r\",encoding = \"utf-8\") as file:\n",
    "    for i in file:\n",
    "        print(i, end = \"\") # bu blok bittiği zaman dosya otomatik olarak bitmiş olacak unutma !!! \n",
    "    "
   ]
  },
  {
   "cell_type": "code",
   "execution_count": 2,
   "id": "747b43c7",
   "metadata": {},
   "outputs": [],
   "source": [
    "# dosyalardaki metodlara gelecek olursak !!! \n",
    "# biz file değişkeni ile dosyanın başından başlar sonra sonuna kadar okuturduk fakat biz bu dosyayı herhangi bir yerinden \n",
    "# okumak isteyebiliriz. bunun için pythondaki seek() fonksiyonunu kullanmaya çalışalım!!! \n",
    "# ve seek() fonksiyonu götürdüğümüz fonksiyon sistemde nerede olduğunu yani hangi byte'da tutulduğunu tell() fonksiyonu ile \n",
    "# öğrenmeye çalışacağız !!! "
   ]
  },
  {
   "cell_type": "code",
   "execution_count": 4,
   "id": "b28cb7fc",
   "metadata": {},
   "outputs": [
    {
     "name": "stdout",
     "output_type": "stream",
     "text": [
      "0\n"
     ]
    }
   ],
   "source": [
    "with open(\"bilgiler.txt\",\"r\",encoding = \"utf-8\") as file:\n",
    "    print(file.tell()) #hiçbir okuma işlemi yapmadığımız için değişken 0. byte'da bulunuyor!!!"
   ]
  },
  {
   "cell_type": "code",
   "execution_count": 5,
   "id": "50f9acf9",
   "metadata": {},
   "outputs": [
    {
     "name": "stdout",
     "output_type": "stream",
     "text": [
      "0\n",
      "20\n"
     ]
    }
   ],
   "source": [
    "with open(\"bilgiler.txt\",\"r\",encoding = \"utf-8\") as file:\n",
    "    print(file.tell())\n",
    "    file.seek(20)\n",
    "    print(file.tell())"
   ]
  },
  {
   "cell_type": "code",
   "execution_count": 6,
   "id": "0c89edd3",
   "metadata": {},
   "outputs": [],
   "source": [
    "file = open(\"bilgiler.txt\",\"w\",encoding = \"utf-8\")\n",
    "\n",
    "file.write(\"Python,Java,C,PhP programlama dilleridir.\")\n",
    "\n",
    "file.close()"
   ]
  },
  {
   "cell_type": "code",
   "execution_count": 7,
   "id": "e8fc8a5a",
   "metadata": {},
   "outputs": [
    {
     "name": "stdout",
     "output_type": "stream",
     "text": [
      "n,Java,C,P\n"
     ]
    }
   ],
   "source": [
    "with open(\"bilgiler.txt\",\"r\",encoding = \"utf-8\") as file:\n",
    "    file.seek(5)\n",
    "    içerik = file.read(10) # 10 karakter oku dedik !!!\n",
    "    print(içerik)"
   ]
  },
  {
   "cell_type": "code",
   "execution_count": 9,
   "id": "10110b0f",
   "metadata": {},
   "outputs": [
    {
     "name": "stdout",
     "output_type": "stream",
     "text": [
      "15\n",
      "n,Java,C,P\n"
     ]
    }
   ],
   "source": [
    "with open(\"bilgiler.txt\",\"r\",encoding = \"utf-8\") as file:\n",
    "    file.seek(5)\n",
    "    içerik = file.read(10)\n",
    "    print(file.tell())\n",
    "    print(içerik)"
   ]
  },
  {
   "cell_type": "code",
   "execution_count": 11,
   "id": "a0c24a89",
   "metadata": {},
   "outputs": [
    {
     "name": "stdout",
     "output_type": "stream",
     "text": [
      "n,Java,C,P\n",
      "Python\n"
     ]
    }
   ],
   "source": [
    "with open(\"bilgiler.txt\",\"r\",encoding = \"utf-8\") as file:\n",
    "    file.seek(5)\n",
    "    içerik = file.read(10)\n",
    "    file.seek(0)\n",
    "    içerik2 = file.read(6)\n",
    "    print(içerik)\n",
    "    print(içerik2)"
   ]
  },
  {
   "cell_type": "code",
   "execution_count": null,
   "id": "68b27d28",
   "metadata": {},
   "outputs": [],
   "source": []
  }
 ],
 "metadata": {
  "kernelspec": {
   "display_name": "Python 3",
   "language": "python",
   "name": "python3"
  },
  "language_info": {
   "codemirror_mode": {
    "name": "ipython",
    "version": 3
   },
   "file_extension": ".py",
   "mimetype": "text/x-python",
   "name": "python",
   "nbconvert_exporter": "python",
   "pygments_lexer": "ipython3",
   "version": "3.8.8"
  }
 },
 "nbformat": 4,
 "nbformat_minor": 5
}
