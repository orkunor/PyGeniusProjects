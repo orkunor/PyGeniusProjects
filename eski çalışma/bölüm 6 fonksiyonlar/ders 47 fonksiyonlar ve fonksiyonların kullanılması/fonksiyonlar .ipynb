{
 "cells": [
  {
   "cell_type": "code",
   "execution_count": 1,
   "id": "dd255aff",
   "metadata": {},
   "outputs": [
    {
     "ename": "NameError",
     "evalue": "name 'selamla' is not defined",
     "output_type": "error",
     "traceback": [
      "\u001b[1;31m---------------------------------------------------------------------------\u001b[0m",
      "\u001b[1;31mNameError\u001b[0m                                 Traceback (most recent call last)",
      "\u001b[1;32m<ipython-input-1-837d7766cd6a>\u001b[0m in \u001b[0;36m<module>\u001b[1;34m\u001b[0m\n\u001b[1;32m----> 1\u001b[1;33m \u001b[0mtype\u001b[0m\u001b[1;33m(\u001b[0m\u001b[0mselamla\u001b[0m\u001b[1;33m)\u001b[0m\u001b[1;33m\u001b[0m\u001b[1;33m\u001b[0m\u001b[0m\n\u001b[0m",
      "\u001b[1;31mNameError\u001b[0m: name 'selamla' is not defined"
     ]
    }
   ],
   "source": [
    "type(selamla)"
   ]
  },
  {
   "cell_type": "code",
   "execution_count": 2,
   "id": "19ba9796",
   "metadata": {},
   "outputs": [],
   "source": [
    "#fonksiyonu böyle tanımlarız sisteme\n",
    "def selamla():\n",
    "    print(\"Merhaba...\")\n",
    "    print(\"Nasılsınız...\")"
   ]
  },
  {
   "cell_type": "code",
   "execution_count": 4,
   "id": "39bc3d9d",
   "metadata": {},
   "outputs": [
    {
     "data": {
      "text/plain": [
       "function"
      ]
     },
     "execution_count": 4,
     "metadata": {},
     "output_type": "execute_result"
    }
   ],
   "source": [
    "type(selamla)"
   ]
  },
  {
   "cell_type": "code",
   "execution_count": 5,
   "id": "1bf88b6f",
   "metadata": {},
   "outputs": [
    {
     "name": "stdout",
     "output_type": "stream",
     "text": [
      "Merhaba...\n",
      "Nasılsınız...\n"
     ]
    }
   ],
   "source": [
    "# fonksiyonu kullanabilmek için önce ismini yazıyoruz... \n",
    "# fonksiyonu bu sayede çağırıyoruz!!!\n",
    "selamla()"
   ]
  },
  {
   "cell_type": "code",
   "execution_count": 6,
   "id": "5c720227",
   "metadata": {},
   "outputs": [
    {
     "ename": "TypeError",
     "evalue": "selamla() takes 0 positional arguments but 1 was given",
     "output_type": "error",
     "traceback": [
      "\u001b[1;31m---------------------------------------------------------------------------\u001b[0m",
      "\u001b[1;31mTypeError\u001b[0m                                 Traceback (most recent call last)",
      "\u001b[1;32m<ipython-input-6-70bfdec522c4>\u001b[0m in \u001b[0;36m<module>\u001b[1;34m\u001b[0m\n\u001b[1;32m----> 1\u001b[1;33m \u001b[0mselamla\u001b[0m\u001b[1;33m(\u001b[0m\u001b[1;34m\"Python\"\u001b[0m\u001b[1;33m)\u001b[0m\u001b[1;33m\u001b[0m\u001b[1;33m\u001b[0m\u001b[0m\n\u001b[0m",
      "\u001b[1;31mTypeError\u001b[0m: selamla() takes 0 positional arguments but 1 was given"
     ]
    }
   ],
   "source": [
    "selamla(\"Python\")"
   ]
  },
  {
   "cell_type": "code",
   "execution_count": 8,
   "id": "5491eb80",
   "metadata": {},
   "outputs": [
    {
     "name": "stdout",
     "output_type": "stream",
     "text": [
      "Merhaba...\n",
      "Nasılsınız...\n",
      "Merhaba...\n",
      "Nasılsınız...\n",
      "Merhaba...\n",
      "Nasılsınız...\n",
      "Merhaba...\n",
      "Nasılsınız...\n"
     ]
    }
   ],
   "source": [
    "selamla()\n",
    "selamla()\n",
    "selamla()\n",
    "selamla()"
   ]
  },
  {
   "cell_type": "code",
   "execution_count": 11,
   "id": "bcca6bcd",
   "metadata": {},
   "outputs": [],
   "source": [
    "# gönderilen argüman parametre tarafından alınır \n",
    "def selamla(isim):\n",
    "    print(\"İSMİNİZ: \",isim) "
   ]
  },
  {
   "cell_type": "code",
   "execution_count": 13,
   "id": "90251be1",
   "metadata": {},
   "outputs": [
    {
     "name": "stdout",
     "output_type": "stream",
     "text": [
      "İSMİNİZ:  orkun\n"
     ]
    }
   ],
   "source": [
    "# argüman gönderilir!!\n",
    "selamla(\"orkun\")"
   ]
  },
  {
   "cell_type": "code",
   "execution_count": 14,
   "id": "fc6626b3",
   "metadata": {},
   "outputs": [
    {
     "name": "stdout",
     "output_type": "stream",
     "text": [
      "İSMİNİZ:  Ayşe\n"
     ]
    }
   ],
   "source": [
    "selamla(\"Ayşe\")"
   ]
  },
  {
   "cell_type": "code",
   "execution_count": 15,
   "id": "a7863fb7",
   "metadata": {},
   "outputs": [
    {
     "name": "stdout",
     "output_type": "stream",
     "text": [
      "Help on function selamla in module __main__:\n",
      "\n",
      "selamla(isim)\n",
      "\n"
     ]
    }
   ],
   "source": [
    "help(selamla)"
   ]
  },
  {
   "cell_type": "code",
   "execution_count": 19,
   "id": "e9293ede",
   "metadata": {},
   "outputs": [
    {
     "name": "stdout",
     "output_type": "stream",
     "text": [
      "TOPLAM :  18\n"
     ]
    }
   ],
   "source": [
    "def toplama(a,b,c):\n",
    "    print(\"TOPLAM : \",a+b+c)\n",
    "toplama(5,6,7)    "
   ]
  },
  {
   "cell_type": "code",
   "execution_count": 35,
   "id": "46e298fc",
   "metadata": {},
   "outputs": [],
   "source": [
    "def faktoriyel(sayı):\n",
    "    faktoriyel = 1\n",
    "    if (sayı == 0 or sayı == 1):\n",
    "        print(\"faktoriyel:\",faktoriyel)\n",
    "    else:\n",
    "        while sayı > 1 :\n",
    "            faktoriyel *= sayı \n",
    "            sayı -= 1\n",
    "        print(\"FAKTORİYEL:\",faktoriyel)         \n",
    "           "
   ]
  },
  {
   "cell_type": "code",
   "execution_count": 25,
   "id": "09a694fa",
   "metadata": {},
   "outputs": [
    {
     "name": "stdout",
     "output_type": "stream",
     "text": [
      "FAKTORİYEL: 120\n"
     ]
    }
   ],
   "source": [
    "faktoriyel(5)"
   ]
  },
  {
   "cell_type": "code",
   "execution_count": 37,
   "id": "48efedee",
   "metadata": {},
   "outputs": [
    {
     "name": "stdout",
     "output_type": "stream",
     "text": [
      "faktoriyel: 1\n"
     ]
    }
   ],
   "source": [
    "faktoriyel(0)"
   ]
  },
  {
   "cell_type": "code",
   "execution_count": 36,
   "id": "e87d51f8",
   "metadata": {},
   "outputs": [
    {
     "name": "stdout",
     "output_type": "stream",
     "text": [
      "faktoriyel: 1\n"
     ]
    }
   ],
   "source": [
    "faktoriyel(1)"
   ]
  },
  {
   "cell_type": "code",
   "execution_count": 34,
   "id": "a3449e76",
   "metadata": {},
   "outputs": [
    {
     "name": "stdout",
     "output_type": "stream",
     "text": [
      "FAKTORİYEL: 2\n"
     ]
    }
   ],
   "source": [
    "faktoriyel(2)"
   ]
  },
  {
   "cell_type": "code",
   "execution_count": null,
   "id": "32ffbc3a",
   "metadata": {},
   "outputs": [],
   "source": []
  }
 ],
 "metadata": {
  "kernelspec": {
   "display_name": "Python 3",
   "language": "python",
   "name": "python3"
  },
  "language_info": {
   "codemirror_mode": {
    "name": "ipython",
    "version": 3
   },
   "file_extension": ".py",
   "mimetype": "text/x-python",
   "name": "python",
   "nbconvert_exporter": "python",
   "pygments_lexer": "ipython3",
   "version": "3.8.8"
  }
 },
 "nbformat": 4,
 "nbformat_minor": 5
}
