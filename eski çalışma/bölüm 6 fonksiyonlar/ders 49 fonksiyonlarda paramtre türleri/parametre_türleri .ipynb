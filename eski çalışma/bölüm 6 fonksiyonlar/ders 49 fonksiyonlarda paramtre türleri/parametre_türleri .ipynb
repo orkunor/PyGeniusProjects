{
 "cells": [
  {
   "cell_type": "code",
   "execution_count": 4,
   "id": "660708db",
   "metadata": {},
   "outputs": [],
   "source": [
    "def selamla(isim):\n",
    "    print(\"Selam\",isim)\n",
    "    "
   ]
  },
  {
   "cell_type": "code",
   "execution_count": 5,
   "id": "bcb9affe",
   "metadata": {},
   "outputs": [
    {
     "name": "stdout",
     "output_type": "stream",
     "text": [
      "Selam Orkun\n"
     ]
    }
   ],
   "source": [
    "selamla(\"Orkun\")"
   ]
  },
  {
   "cell_type": "code",
   "execution_count": 6,
   "id": "39c5d1f0",
   "metadata": {},
   "outputs": [
    {
     "name": "stdout",
     "output_type": "stream",
     "text": [
      "Selam Serhat\n"
     ]
    }
   ],
   "source": [
    "selamla(\"Serhat\")"
   ]
  },
  {
   "cell_type": "code",
   "execution_count": 7,
   "id": "fd75ea77",
   "metadata": {},
   "outputs": [
    {
     "ename": "TypeError",
     "evalue": "selamla() missing 1 required positional argument: 'isim'",
     "output_type": "error",
     "traceback": [
      "\u001b[1;31m---------------------------------------------------------------------------\u001b[0m",
      "\u001b[1;31mTypeError\u001b[0m                                 Traceback (most recent call last)",
      "\u001b[1;32m<ipython-input-7-e0e6de53c95c>\u001b[0m in \u001b[0;36m<module>\u001b[1;34m\u001b[0m\n\u001b[1;32m----> 1\u001b[1;33m \u001b[0mselamla\u001b[0m\u001b[1;33m(\u001b[0m\u001b[1;33m)\u001b[0m\u001b[1;33m\u001b[0m\u001b[1;33m\u001b[0m\u001b[0m\n\u001b[0m",
      "\u001b[1;31mTypeError\u001b[0m: selamla() missing 1 required positional argument: 'isim'"
     ]
    }
   ],
   "source": [
    "selamla()"
   ]
  },
  {
   "cell_type": "code",
   "execution_count": 8,
   "id": "7b8f099a",
   "metadata": {},
   "outputs": [],
   "source": [
    "def selamla( isim = \"İsimsiz\"):\n",
    "    print(\"SELAM\",isim)"
   ]
  },
  {
   "cell_type": "code",
   "execution_count": 9,
   "id": "ba94e29c",
   "metadata": {},
   "outputs": [
    {
     "name": "stdout",
     "output_type": "stream",
     "text": [
      "SELAM İsimsiz\n"
     ]
    }
   ],
   "source": [
    "selamla()"
   ]
  },
  {
   "cell_type": "code",
   "execution_count": 11,
   "id": "67baae4c",
   "metadata": {},
   "outputs": [
    {
     "name": "stdout",
     "output_type": "stream",
     "text": [
      "SELAM Orkun\n"
     ]
    }
   ],
   "source": [
    "selamla(\"Orkun\")"
   ]
  },
  {
   "cell_type": "code",
   "execution_count": 22,
   "id": "733d1638",
   "metadata": {},
   "outputs": [],
   "source": [
    "def bilgilerigöster(ad = \"GİRİŞ BAŞARISIZ\" , soyad = \"GİRİŞ BAŞARISIZ\" , no = \"GİRİŞ BAŞARISIZ\"):\n",
    "    print(\"Ad:\",ad,\"Soyad:\",soyad,\"No:\",no)\n",
    "    "
   ]
  },
  {
   "cell_type": "code",
   "execution_count": 23,
   "id": "6f50f25f",
   "metadata": {},
   "outputs": [
    {
     "name": "stdout",
     "output_type": "stream",
     "text": [
      "Ad: GİRİŞ BAŞARISIZ Soyad: GİRİŞ BAŞARISIZ No: GİRİŞ BAŞARISIZ\n"
     ]
    }
   ],
   "source": [
    "bilgilerigöster()"
   ]
  },
  {
   "cell_type": "code",
   "execution_count": 24,
   "id": "314fc998",
   "metadata": {},
   "outputs": [
    {
     "name": "stdout",
     "output_type": "stream",
     "text": [
      "Ad: orkun Soyad: GİRİŞ BAŞARISIZ No: GİRİŞ BAŞARISIZ\n"
     ]
    }
   ],
   "source": [
    "bilgilerigöster(\"orkun\")"
   ]
  },
  {
   "cell_type": "code",
   "execution_count": 25,
   "id": "77730a03",
   "metadata": {},
   "outputs": [
    {
     "name": "stdout",
     "output_type": "stream",
     "text": [
      "Ad: Bayram Orkun Soyad: Orulluoğlu No: 1234\n"
     ]
    }
   ],
   "source": [
    "bilgilerigöster(\"Bayram Orkun\",\"Orulluoğlu\",\"1234\")"
   ]
  },
  {
   "cell_type": "code",
   "execution_count": 26,
   "id": "cdece5d0",
   "metadata": {},
   "outputs": [
    {
     "name": "stdout",
     "output_type": "stream",
     "text": [
      "Ad: GİRİŞ BAŞARISIZ Soyad: GİRİŞ BAŞARISIZ No: 12345\n"
     ]
    }
   ],
   "source": [
    "bilgilerigöster(no = \"12345\")"
   ]
  },
  {
   "cell_type": "code",
   "execution_count": 27,
   "id": "40906cc1",
   "metadata": {},
   "outputs": [
    {
     "name": "stdout",
     "output_type": "stream",
     "text": [
      "Bayram Orkun Orulluoğlu\n"
     ]
    }
   ],
   "source": [
    "print(\"Bayram\",\"Orkun\",\"Orulluoğlu\")"
   ]
  },
  {
   "cell_type": "code",
   "execution_count": 33,
   "id": "055286b8",
   "metadata": {},
   "outputs": [
    {
     "name": "stdout",
     "output_type": "stream",
     "text": [
      "Bayram==>Orkun==>Orulluoğlu\n"
     ]
    }
   ],
   "source": [
    "print(\"Bayram\",\"Orkun\",\"Orulluoğlu\",sep = \"==>\")"
   ]
  },
  {
   "cell_type": "code",
   "execution_count": 34,
   "id": "662e24f4",
   "metadata": {},
   "outputs": [],
   "source": [
    "# esnek sayıda değerler ==> \n",
    "def toplama(a,b,c):\n",
    "    print(a + b + c)"
   ]
  },
  {
   "cell_type": "code",
   "execution_count": 35,
   "id": "a5d4035b",
   "metadata": {},
   "outputs": [
    {
     "name": "stdout",
     "output_type": "stream",
     "text": [
      "12\n"
     ]
    }
   ],
   "source": [
    "toplama(3,4,5)"
   ]
  },
  {
   "cell_type": "code",
   "execution_count": 36,
   "id": "8edaa5c5",
   "metadata": {},
   "outputs": [
    {
     "ename": "TypeError",
     "evalue": "toplama() takes 3 positional arguments but 4 were given",
     "output_type": "error",
     "traceback": [
      "\u001b[1;31m---------------------------------------------------------------------------\u001b[0m",
      "\u001b[1;31mTypeError\u001b[0m                                 Traceback (most recent call last)",
      "\u001b[1;32m<ipython-input-36-41ca1b762f65>\u001b[0m in \u001b[0;36m<module>\u001b[1;34m\u001b[0m\n\u001b[1;32m----> 1\u001b[1;33m \u001b[0mtoplama\u001b[0m\u001b[1;33m(\u001b[0m\u001b[1;36m3\u001b[0m\u001b[1;33m,\u001b[0m\u001b[1;36m4\u001b[0m\u001b[1;33m,\u001b[0m\u001b[1;36m5\u001b[0m\u001b[1;33m,\u001b[0m\u001b[1;36m6\u001b[0m\u001b[1;33m)\u001b[0m\u001b[1;33m\u001b[0m\u001b[1;33m\u001b[0m\u001b[0m\n\u001b[0m",
      "\u001b[1;31mTypeError\u001b[0m: toplama() takes 3 positional arguments but 4 were given"
     ]
    }
   ],
   "source": [
    "toplama(3,4,5,6)"
   ]
  },
  {
   "cell_type": "code",
   "execution_count": 37,
   "id": "9227d822",
   "metadata": {},
   "outputs": [],
   "source": [
    "def toplama(*a):\n",
    "    print(a)"
   ]
  },
  {
   "cell_type": "code",
   "execution_count": 38,
   "id": "a3cc3cdd",
   "metadata": {},
   "outputs": [
    {
     "name": "stdout",
     "output_type": "stream",
     "text": [
      "(1, 2, 3, 4, 5)\n"
     ]
    }
   ],
   "source": [
    "toplama(1,2,3,4,5)"
   ]
  },
  {
   "cell_type": "code",
   "execution_count": 40,
   "id": "71940848",
   "metadata": {},
   "outputs": [],
   "source": [
    "def toplama(*a):\n",
    "    toplam = 0\n",
    "    for i in a:\n",
    "        toplam += i\n",
    "    print(toplam)    \n",
    "        "
   ]
  },
  {
   "cell_type": "code",
   "execution_count": 41,
   "id": "dac342eb",
   "metadata": {},
   "outputs": [
    {
     "name": "stdout",
     "output_type": "stream",
     "text": [
      "18\n"
     ]
    }
   ],
   "source": [
    "toplama(5,6,7)"
   ]
  },
  {
   "cell_type": "code",
   "execution_count": 42,
   "id": "441747e8",
   "metadata": {},
   "outputs": [
    {
     "name": "stdout",
     "output_type": "stream",
     "text": [
      "91\n"
     ]
    }
   ],
   "source": [
    "toplama(1,2,3,4,5,6,7,8,9,10,11,12,13)"
   ]
  },
  {
   "cell_type": "code",
   "execution_count": null,
   "id": "42075471",
   "metadata": {},
   "outputs": [],
   "source": []
  }
 ],
 "metadata": {
  "kernelspec": {
   "display_name": "Python 3",
   "language": "python",
   "name": "python3"
  },
  "language_info": {
   "codemirror_mode": {
    "name": "ipython",
    "version": 3
   },
   "file_extension": ".py",
   "mimetype": "text/x-python",
   "name": "python",
   "nbconvert_exporter": "python",
   "pygments_lexer": "ipython3",
   "version": "3.8.8"
  }
 },
 "nbformat": 4,
 "nbformat_minor": 5
}
