{
 "cells": [
  {
   "cell_type": "code",
   "execution_count": 2,
   "id": "b3742c21",
   "metadata": {},
   "outputs": [
    {
     "data": {
      "text/plain": [
       "[2, 4, 6, 8, 10]"
      ]
     },
     "execution_count": 2,
     "metadata": {},
     "output_type": "execute_result"
    }
   ],
   "source": [
    "# lambda ifadeleri fonksiyonları oluşturmak için pratik bir yöntemdir...\n",
    "# lambda ifadeleri tıpkı list comphrension'lara benzer... \n",
    "\n",
    "liste1 = [1,2,3,4,5]\n",
    "\n",
    "liste2 = [i * 2 for i in liste1] # bu sayede liste içerisindeki elemanları yeni listeye atıyoruz\n",
    "\n",
    "liste2"
   ]
  },
  {
   "cell_type": "code",
   "execution_count": 5,
   "id": "f1cb300a",
   "metadata": {},
   "outputs": [
    {
     "name": "stdout",
     "output_type": "stream",
     "text": [
      "10\n"
     ]
    }
   ],
   "source": [
    "def ikiyleçarp(x):\n",
    "    return x * 2\n",
    "\n",
    "print(ikiyleçarp(5))\n",
    "    "
   ]
  },
  {
   "cell_type": "code",
   "execution_count": 6,
   "id": "ce230d6b",
   "metadata": {},
   "outputs": [
    {
     "name": "stdout",
     "output_type": "stream",
     "text": [
      "14\n"
     ]
    }
   ],
   "source": [
    "ikiyleçarp = lambda x : x * 2 # bu kadar kolay işte fonksiyon oluşturmak!!!\n",
    "\n",
    "print(ikiyleçarp(7))"
   ]
  },
  {
   "cell_type": "code",
   "execution_count": 7,
   "id": "8ba55b20",
   "metadata": {},
   "outputs": [
    {
     "name": "stdout",
     "output_type": "stream",
     "text": [
      "12\n"
     ]
    }
   ],
   "source": [
    "def toplama(x,y,z):\n",
    "    return x + y + z\n",
    "print(toplama(3,4,5))"
   ]
  },
  {
   "cell_type": "code",
   "execution_count": 10,
   "id": "57d5a656",
   "metadata": {},
   "outputs": [
    {
     "name": "stdout",
     "output_type": "stream",
     "text": [
      "18\n"
     ]
    }
   ],
   "source": [
    "toplama = lambda x , y , z : x + y + z\n",
    "\n",
    "print(toplama(5,6,7))"
   ]
  },
  {
   "cell_type": "code",
   "execution_count": 11,
   "id": "a1e29e10",
   "metadata": {},
   "outputs": [
    {
     "name": "stdout",
     "output_type": "stream",
     "text": [
      "36\n"
     ]
    }
   ],
   "source": [
    "print(toplama(11,12,13))"
   ]
  },
  {
   "cell_type": "code",
   "execution_count": 13,
   "id": "f25bcfff",
   "metadata": {},
   "outputs": [
    {
     "name": "stdout",
     "output_type": "stream",
     "text": [
      "nohtyP\n"
     ]
    }
   ],
   "source": [
    "def tersçevir(a):\n",
    "    return a[::-1]\n",
    "\n",
    "print(tersçevir(\"Python\"))"
   ]
  },
  {
   "cell_type": "code",
   "execution_count": 15,
   "id": "11fc1bbe",
   "metadata": {},
   "outputs": [
    {
     "name": "stdout",
     "output_type": "stream",
     "text": [
      "ulğoulluro nukro\n"
     ]
    }
   ],
   "source": [
    "tersçevir = lambda b : b[::-1]\n",
    "\n",
    "print(tersçevir(\"orkun orulluoğlu\"))"
   ]
  },
  {
   "cell_type": "code",
   "execution_count": 18,
   "id": "6730b64d",
   "metadata": {},
   "outputs": [
    {
     "name": "stdout",
     "output_type": "stream",
     "text": [
      "True\n",
      "False\n"
     ]
    }
   ],
   "source": [
    "def çifttek(sayı):\n",
    "    return sayı % 2 == 0 \n",
    "\n",
    "print(çifttek(6))    \n",
    "\n",
    "print(çifttek(87))"
   ]
  },
  {
   "cell_type": "code",
   "execution_count": 19,
   "id": "5aa5f75f",
   "metadata": {},
   "outputs": [
    {
     "name": "stdout",
     "output_type": "stream",
     "text": [
      "False\n"
     ]
    }
   ],
   "source": [
    "çifttek = lambda sayı : sayı % 2 == 0 \n",
    "\n",
    "print(çifttek(67))"
   ]
  },
  {
   "cell_type": "code",
   "execution_count": null,
   "id": "61040c5d",
   "metadata": {},
   "outputs": [],
   "source": []
  }
 ],
 "metadata": {
  "kernelspec": {
   "display_name": "Python 3",
   "language": "python",
   "name": "python3"
  },
  "language_info": {
   "codemirror_mode": {
    "name": "ipython",
    "version": 3
   },
   "file_extension": ".py",
   "mimetype": "text/x-python",
   "name": "python",
   "nbconvert_exporter": "python",
   "pygments_lexer": "ipython3",
   "version": "3.8.8"
  }
 },
 "nbformat": 4,
 "nbformat_minor": 5
}
