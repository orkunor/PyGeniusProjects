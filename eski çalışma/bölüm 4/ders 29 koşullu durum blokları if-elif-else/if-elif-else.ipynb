{
 "cells": [
  {
   "cell_type": "code",
   "execution_count": 5,
   "id": "e4c0438b",
   "metadata": {},
   "outputs": [
    {
     "name": "stdout",
     "output_type": "stream",
     "text": [
      "Lütfen istediğiniz işlemi giriniz : 7\n",
      "GEÇERSİZ!!\n"
     ]
    }
   ],
   "source": [
    "işlem = input(\"Lütfen istediğiniz işlemi giriniz : \")\n",
    "\n",
    "if işlem == \"+\":\n",
    "    print(\"TOPLAMA İŞLEMİ\")\n",
    "elif işlem == \"-\":\n",
    "    print(\"ÇIKARMA İŞLEMİ\")\n",
    "elif işlem == \"*\":\n",
    "    print(\"ÇARPMA İŞLEMİ\")\n",
    "elif işlem == \"/\":\n",
    "    print(\"BÖLME İŞLEMİ\")\n",
    "else:\n",
    "    print(\"GEÇERSİZ!!\")"
   ]
  },
  {
   "cell_type": "code",
   "execution_count": 6,
   "id": "fbf5f21a",
   "metadata": {},
   "outputs": [
    {
     "ename": "SyntaxError",
     "evalue": "invalid syntax (<ipython-input-6-706bf4c8953d>, line 1)",
     "output_type": "error",
     "traceback": [
      "\u001b[1;36m  File \u001b[1;32m\"<ipython-input-6-706bf4c8953d>\"\u001b[1;36m, line \u001b[1;32m1\u001b[0m\n\u001b[1;33m    else:\u001b[0m\n\u001b[1;37m    ^\u001b[0m\n\u001b[1;31mSyntaxError\u001b[0m\u001b[1;31m:\u001b[0m invalid syntax\n"
     ]
    }
   ],
   "source": [
    "# else bloğu tek başına kullanılmaz !! unutma ilk sorgulanan dışında kalanlar anlamına geliyor çünkü \n",
    "else:\n",
    "    print(\"GEÇERSİZ İŞLEM\")"
   ]
  },
  {
   "cell_type": "code",
   "execution_count": 7,
   "id": "1d683277",
   "metadata": {},
   "outputs": [],
   "source": [
    "# elif bloğu tek başına kullanılamaz önce if bloğu gelmeli \n"
   ]
  },
  {
   "cell_type": "code",
   "execution_count": 10,
   "id": "1b620ca3",
   "metadata": {},
   "outputs": [
    {
     "name": "stdout",
     "output_type": "stream",
     "text": [
      "Lütfen notunuzu giriniz : 56\n",
      "CC\n"
     ]
    }
   ],
   "source": [
    "note = float(input(\"Lütfen notunuzu giriniz : \"))\n",
    "\n",
    "if note >= 80:\n",
    "    print(\"AA\")\n",
    "elif note >= 60 :\n",
    "    print(\"BB\")\n",
    "elif note >= 40 :\n",
    "    print(\"CC\")\n",
    "elif note >= 20:\n",
    "    print(\"DD\")\n",
    "elif note >= 0 :\n",
    "    print(\"FF\")\n",
    "else:\n",
    "    print(\"GİRİLEN NOT GEÇERSİZ\")"
   ]
  },
  {
   "cell_type": "code",
   "execution_count": null,
   "id": "810cd5a3",
   "metadata": {},
   "outputs": [],
   "source": [
    "# BİRBİRİDEN TAMAMEN BAĞIMSIZ İŞLEMLERİMİZ VAR İSE İF KALIPLARINI KULLAN "
   ]
  }
 ],
 "metadata": {
  "kernelspec": {
   "display_name": "Python 3",
   "language": "python",
   "name": "python3"
  },
  "language_info": {
   "codemirror_mode": {
    "name": "ipython",
    "version": 3
   },
   "file_extension": ".py",
   "mimetype": "text/x-python",
   "name": "python",
   "nbconvert_exporter": "python",
   "pygments_lexer": "ipython3",
   "version": "3.8.8"
  }
 },
 "nbformat": 4,
 "nbformat_minor": 5
}
