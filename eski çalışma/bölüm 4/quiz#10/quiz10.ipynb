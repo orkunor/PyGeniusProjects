{
 "cells": [
  {
   "cell_type": "code",
   "execution_count": 1,
   "id": "796f1582",
   "metadata": {},
   "outputs": [
    {
     "name": "stdout",
     "output_type": "stream",
     "text": [
      "Bu bölüme girmeye izniniz bulunmuyor\n"
     ]
    }
   ],
   "source": [
    "getAccess = False\n",
    " \n",
    "if (not getAccess):\n",
    "    print(\"Bu bölüme girmeye izniniz bulunmuyor\")\n",
    "else:\n",
    "    print(\"İzin sağlandı\")"
   ]
  },
  {
   "cell_type": "code",
   "execution_count": null,
   "id": "46388f45",
   "metadata": {},
   "outputs": [],
   "source": []
  }
 ],
 "metadata": {
  "kernelspec": {
   "display_name": "Python 3",
   "language": "python",
   "name": "python3"
  },
  "language_info": {
   "codemirror_mode": {
    "name": "ipython",
    "version": 3
   },
   "file_extension": ".py",
   "mimetype": "text/x-python",
   "name": "python",
   "nbconvert_exporter": "python",
   "pygments_lexer": "ipython3",
   "version": "3.8.8"
  }
 },
 "nbformat": 4,
 "nbformat_minor": 5
}
