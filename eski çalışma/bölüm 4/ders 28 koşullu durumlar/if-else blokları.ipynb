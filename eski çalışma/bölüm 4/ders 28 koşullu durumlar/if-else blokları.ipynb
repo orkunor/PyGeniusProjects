{
 "cells": [
  {
   "cell_type": "code",
   "execution_count": 2,
   "id": "f50b4ed5",
   "metadata": {},
   "outputs": [
    {
     "name": "stdout",
     "output_type": "stream",
     "text": [
      "9\n"
     ]
    }
   ],
   "source": [
    "# Python kodu en üstten başlayarak aşağı doğru tek tek kodları okuyarak gider tâ ki kodlar bitinceye dek \n",
    "a = 2\n",
    "b = 3\n",
    "c = 4\n",
    "print(a+b+c)"
   ]
  },
  {
   "cell_type": "code",
   "execution_count": 3,
   "id": "578747d5",
   "metadata": {},
   "outputs": [
    {
     "name": "stdout",
     "output_type": "stream",
     "text": [
      "2\n",
      "merhaba\n"
     ]
    }
   ],
   "source": [
    "# Python programlarında en soldan başlayan satırlar blok 1'e ait satırlardır !!\n",
    "#programda kodlar satırlara ayrılmıştır \n",
    "a = 2 #blok 1'e ait kod \n",
    "\n",
    "if (a == 2):\n",
    "    print(a) #blok 2'ye ait satır *** \n",
    "print(\"merhaba\")                    "
   ]
  },
  {
   "cell_type": "code",
   "execution_count": 5,
   "id": "c497e646",
   "metadata": {},
   "outputs": [
    {
     "name": "stdout",
     "output_type": "stream",
     "text": [
      "merhaba\n"
     ]
    }
   ],
   "source": [
    "#blok'a girmedi çünkü koşul sağlanmadı dikkat et \n",
    "a = 2 #blok 1'e ait kod \n",
    "\n",
    "if (a == 3):\n",
    "    print(a) #blok 2'ye ait satır *** \n",
    "print(\"merhaba\")  "
   ]
  },
  {
   "cell_type": "code",
   "execution_count": 9,
   "id": "6c66fcbe",
   "metadata": {},
   "outputs": [
    {
     "name": "stdout",
     "output_type": "stream",
     "text": [
      "Yaşınızı giriniz : 15\n",
      "Mekana Giremezsiniz !!\n"
     ]
    }
   ],
   "source": [
    "yaş = int(input(\"Yaşınızı giriniz : \"))\n",
    "if (yaş < 18):\n",
    "    print(\"Mekana Giremezsiniz !!\")\n",
    "    "
   ]
  },
  {
   "cell_type": "code",
   "execution_count": 11,
   "id": "42267afa",
   "metadata": {},
   "outputs": [
    {
     "name": "stdout",
     "output_type": "stream",
     "text": [
      "Yaşınızı giriniz : 43\n",
      "Mekana Girebilirsiniz !! :))\n"
     ]
    }
   ],
   "source": [
    "yaş = int(input(\"Yaşınızı giriniz : \"))\n",
    "if (yaş < 18):\n",
    "    print(\"Mekana Giremezsiniz !!\")\n",
    "else:\n",
    "    print(\"Mekana Girebilirsiniz !! :))\")\n",
    "    "
   ]
  },
  {
   "cell_type": "code",
   "execution_count": 12,
   "id": "1cf57889",
   "metadata": {},
   "outputs": [
    {
     "name": "stdout",
     "output_type": "stream",
     "text": [
      "Yaşınızı giriniz : 17\n",
      "Mekana Giremezsiniz !!\n"
     ]
    }
   ],
   "source": [
    "yaş = int(input(\"Yaşınızı giriniz : \"))\n",
    "if (yaş < 18):\n",
    "    print(\"Mekana Giremezsiniz !!\")\n",
    "else:\n",
    "    print(\"Mekana Girebilirsiniz !! :))\")"
   ]
  },
  {
   "cell_type": "code",
   "execution_count": 16,
   "id": "d1e5e3b7",
   "metadata": {},
   "outputs": [
    {
     "name": "stdout",
     "output_type": "stream",
     "text": [
      "SAYI:7\n",
      "POZİTİF\n"
     ]
    }
   ],
   "source": [
    "sayı = int(input(\"SAYI:\"))\n",
    "\n",
    "if sayı < 0 :\n",
    "    print(\"NEGATİF\") \n",
    "elif sayı == 0:\n",
    "    print(\"SIFIR\")\n",
    "else:\n",
    "    print(\"POZİTİF\")"
   ]
  },
  {
   "cell_type": "code",
   "execution_count": null,
   "id": "e0d14f51",
   "metadata": {},
   "outputs": [],
   "source": []
  }
 ],
 "metadata": {
  "kernelspec": {
   "display_name": "Python 3",
   "language": "python",
   "name": "python3"
  },
  "language_info": {
   "codemirror_mode": {
    "name": "ipython",
    "version": 3
   },
   "file_extension": ".py",
   "mimetype": "text/x-python",
   "name": "python",
   "nbconvert_exporter": "python",
   "pygments_lexer": "ipython3",
   "version": "3.8.8"
  }
 },
 "nbformat": 4,
 "nbformat_minor": 5
}
