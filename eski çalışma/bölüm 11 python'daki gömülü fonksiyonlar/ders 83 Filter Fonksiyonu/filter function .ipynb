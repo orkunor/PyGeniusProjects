{
 "cells": [
  {
   "cell_type": "code",
   "execution_count": 1,
   "id": "1a1c4e4a",
   "metadata": {},
   "outputs": [],
   "source": [
    "#bir diğer gömülü fonksiyon olan 'filter' fonksiyonu \n",
    "#filter(fonksiyon,iterasyon yapılabilen bir veritipi(liste vb.))\n",
    "# filter fonksiyonuna verilen içindeki fonksiyon mutlaka mantıksal değer dönen bir fonksiyon objesi verilmelidir \n",
    "# bu sayede filter fonksiyonu aldığı değerlerden sadece True olanları dönderir!!! \n"
   ]
  },
  {
   "cell_type": "code",
   "execution_count": 2,
   "id": "28091bea",
   "metadata": {},
   "outputs": [
    {
     "data": {
      "text/plain": [
       "<filter at 0x1ce31ca7fd0>"
      ]
     },
     "execution_count": 2,
     "metadata": {},
     "output_type": "execute_result"
    }
   ],
   "source": [
    "filter(lambda x: x % 2 == 0,[1,2,3,4,5,6,7,8,9])"
   ]
  },
  {
   "cell_type": "code",
   "execution_count": 4,
   "id": "9bdc59b1",
   "metadata": {},
   "outputs": [
    {
     "data": {
      "text/plain": [
       "[2, 4, 6, 8]"
      ]
     },
     "execution_count": 4,
     "metadata": {},
     "output_type": "execute_result"
    }
   ],
   "source": [
    "list(filter(lambda x: x % 2 == 0,[1,2,3,4,5,6,7,8,9]))"
   ]
  },
  {
   "cell_type": "code",
   "execution_count": 21,
   "id": "d84bc6a9",
   "metadata": {},
   "outputs": [],
   "source": [
    "\n",
    "def asal_mı(x):\n",
    "    i = 2\n",
    "    if x == 0:\n",
    "        return False\n",
    "    elif x == 1:\n",
    "        return False\n",
    "    elif x == 2:\n",
    "        return True\n",
    "    else:\n",
    "        while x > i:\n",
    "            if x % i == 0:\n",
    "                return False\n",
    "            i += 1      \n",
    "    return True\n",
    "            "
   ]
  },
  {
   "cell_type": "code",
   "execution_count": 28,
   "id": "3928a3cc",
   "metadata": {},
   "outputs": [
    {
     "data": {
      "text/plain": [
       "False"
      ]
     },
     "execution_count": 28,
     "metadata": {},
     "output_type": "execute_result"
    }
   ],
   "source": [
    "asal_mı(111)"
   ]
  },
  {
   "cell_type": "code",
   "execution_count": 29,
   "id": "d98656a2",
   "metadata": {},
   "outputs": [
    {
     "data": {
      "text/plain": [
       "[2,\n",
       " 3,\n",
       " 5,\n",
       " 7,\n",
       " 11,\n",
       " 13,\n",
       " 17,\n",
       " 19,\n",
       " 23,\n",
       " 29,\n",
       " 31,\n",
       " 37,\n",
       " 41,\n",
       " 43,\n",
       " 47,\n",
       " 53,\n",
       " 59,\n",
       " 61,\n",
       " 67,\n",
       " 71,\n",
       " 73,\n",
       " 79,\n",
       " 83,\n",
       " 89,\n",
       " 97]"
      ]
     },
     "execution_count": 29,
     "metadata": {},
     "output_type": "execute_result"
    }
   ],
   "source": [
    "list(filter(asal_mı,range(1,101)))"
   ]
  },
  {
   "cell_type": "code",
   "execution_count": null,
   "id": "01e822dc",
   "metadata": {},
   "outputs": [],
   "source": []
  }
 ],
 "metadata": {
  "kernelspec": {
   "display_name": "Python 3",
   "language": "python",
   "name": "python3"
  },
  "language_info": {
   "codemirror_mode": {
    "name": "ipython",
    "version": 3
   },
   "file_extension": ".py",
   "mimetype": "text/x-python",
   "name": "python",
   "nbconvert_exporter": "python",
   "pygments_lexer": "ipython3",
   "version": "3.8.8"
  }
 },
 "nbformat": 4,
 "nbformat_minor": 5
}
