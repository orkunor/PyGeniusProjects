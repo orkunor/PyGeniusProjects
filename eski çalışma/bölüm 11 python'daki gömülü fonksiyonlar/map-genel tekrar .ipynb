{
 "cells": [
  {
   "cell_type": "code",
   "execution_count": 1,
   "id": "78f5d49b",
   "metadata": {},
   "outputs": [],
   "source": [
    "# map fonksiyonu iki tane parametre alır bunlardan birincisi fonksiyondur ikincisi ise üzerinde iterasyon yapılabilecek yapıdır.\n",
    "# map fonksiyonu sayesinde iterasyon yapılabilecek yapının her bir elemanı map fonksiyonuna gönderilir ve map fonksiyonunun\n",
    "# içerisindeki fonksiyona her bir eleman sokulur!! dikkat et !! \n"
   ]
  },
  {
   "cell_type": "code",
   "execution_count": 2,
   "id": "ca804bfc",
   "metadata": {},
   "outputs": [],
   "source": [
    "def double(x):\n",
    "    return x ** 2 "
   ]
  },
  {
   "cell_type": "code",
   "execution_count": 3,
   "id": "c22972fd",
   "metadata": {},
   "outputs": [
    {
     "data": {
      "text/plain": [
       "<map at 0x299a6b497f0>"
      ]
     },
     "execution_count": 3,
     "metadata": {},
     "output_type": "execute_result"
    }
   ],
   "source": [
    "map(double,[1,2,3,4,5,6,7])"
   ]
  },
  {
   "cell_type": "code",
   "execution_count": 4,
   "id": "d1e888ea",
   "metadata": {},
   "outputs": [
    {
     "data": {
      "text/plain": [
       "[1, 4, 9, 16, 25, 36, 49]"
      ]
     },
     "execution_count": 4,
     "metadata": {},
     "output_type": "execute_result"
    }
   ],
   "source": [
    "list(map(double,[1,2,3,4,5,6,7]))"
   ]
  },
  {
   "cell_type": "code",
   "execution_count": 5,
   "id": "2eef1ed0",
   "metadata": {},
   "outputs": [
    {
     "data": {
      "text/plain": [
       "[1, 8, 27, 64, 125]"
      ]
     },
     "execution_count": 5,
     "metadata": {},
     "output_type": "execute_result"
    }
   ],
   "source": [
    "list(map(lambda x : x **3,[1,2,3,4,5]))"
   ]
  },
  {
   "cell_type": "code",
   "execution_count": 6,
   "id": "10e783d3",
   "metadata": {},
   "outputs": [],
   "source": [
    "liste1 = [1,2,3,4,5,6]\n",
    "liste2 = [7,8,9,10,11]\n",
    "liste3 = [12,13,14,15,16,17,18,19]"
   ]
  },
  {
   "cell_type": "code",
   "execution_count": 7,
   "id": "4e0301bb",
   "metadata": {},
   "outputs": [
    {
     "data": {
      "text/plain": [
       "<map at 0x299a6b49610>"
      ]
     },
     "execution_count": 7,
     "metadata": {},
     "output_type": "execute_result"
    }
   ],
   "source": [
    "map(lambda x,y : x * y,liste1,liste2)"
   ]
  },
  {
   "cell_type": "code",
   "execution_count": 8,
   "id": "a3511dd3",
   "metadata": {},
   "outputs": [
    {
     "data": {
      "text/plain": [
       "[7, 16, 27, 40, 55]"
      ]
     },
     "execution_count": 8,
     "metadata": {},
     "output_type": "execute_result"
    }
   ],
   "source": [
    "list(map(lambda x,y : x * y,liste1,liste2))"
   ]
  },
  {
   "cell_type": "code",
   "execution_count": 9,
   "id": "9132b3ce",
   "metadata": {},
   "outputs": [
    {
     "data": {
      "text/plain": [
       "[84, 208, 378, 600, 880]"
      ]
     },
     "execution_count": 9,
     "metadata": {},
     "output_type": "execute_result"
    }
   ],
   "source": [
    "list(map(lambda x,y,z : x * y * z ,liste1,liste2,liste3))"
   ]
  },
  {
   "cell_type": "code",
   "execution_count": null,
   "id": "f3ddaa7c",
   "metadata": {},
   "outputs": [],
   "source": []
  }
 ],
 "metadata": {
  "kernelspec": {
   "display_name": "Python 3",
   "language": "python",
   "name": "python3"
  },
  "language_info": {
   "codemirror_mode": {
    "name": "ipython",
    "version": 3
   },
   "file_extension": ".py",
   "mimetype": "text/x-python",
   "name": "python",
   "nbconvert_exporter": "python",
   "pygments_lexer": "ipython3",
   "version": "3.8.8"
  }
 },
 "nbformat": 4,
 "nbformat_minor": 5
}
