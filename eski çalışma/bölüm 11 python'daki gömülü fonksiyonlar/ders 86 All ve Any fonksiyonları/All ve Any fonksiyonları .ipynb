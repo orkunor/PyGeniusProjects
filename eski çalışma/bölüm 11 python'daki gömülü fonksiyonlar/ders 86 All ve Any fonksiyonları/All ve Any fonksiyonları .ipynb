{
 "cells": [
  {
   "cell_type": "code",
   "execution_count": 1,
   "id": "88c6eded",
   "metadata": {},
   "outputs": [],
   "source": [
    "# ilk olarak bu all ve any fonksiyonları nedir olayı ne buna bakalım !!! \n",
    "def hepsi(liste):\n",
    "    for i in liste:\n",
    "        if not i:\n",
    "            return False\n",
    "    return True\n"
   ]
  },
  {
   "cell_type": "code",
   "execution_count": 2,
   "id": "b441f5e6",
   "metadata": {},
   "outputs": [],
   "source": [
    "liste = [True,False,True,False,True]"
   ]
  },
  {
   "cell_type": "code",
   "execution_count": 3,
   "id": "7b48f17d",
   "metadata": {},
   "outputs": [
    {
     "data": {
      "text/plain": [
       "False"
      ]
     },
     "execution_count": 3,
     "metadata": {},
     "output_type": "execute_result"
    }
   ],
   "source": [
    "hepsi(liste)"
   ]
  },
  {
   "cell_type": "code",
   "execution_count": 4,
   "id": "740579c7",
   "metadata": {},
   "outputs": [],
   "source": [
    "liste = [1,2,3,4,5]"
   ]
  },
  {
   "cell_type": "code",
   "execution_count": 5,
   "id": "1f67ed99",
   "metadata": {},
   "outputs": [
    {
     "data": {
      "text/plain": [
       "True"
      ]
     },
     "execution_count": 5,
     "metadata": {},
     "output_type": "execute_result"
    }
   ],
   "source": [
    "hepsi(liste)"
   ]
  },
  {
   "cell_type": "code",
   "execution_count": 6,
   "id": "25ea4829",
   "metadata": {},
   "outputs": [],
   "source": [
    "# şimdi ise 'any' fonksiyonunu anlamaya çalışalım !!! \n",
    "# bu fonksiyon ise herhangi anlamına geliyor ve bir tane dahi True olsa yeterli fonksiyon True dönderecek!!!\n",
    "def herhangi(liste):\n",
    "    for i in liste:\n",
    "        if i:\n",
    "            return True \n",
    "    return False"
   ]
  },
  {
   "cell_type": "code",
   "execution_count": 7,
   "id": "5abcf051",
   "metadata": {},
   "outputs": [
    {
     "data": {
      "text/plain": [
       "True"
      ]
     },
     "execution_count": 7,
     "metadata": {},
     "output_type": "execute_result"
    }
   ],
   "source": [
    "herhangi([True,False,True,False,True])"
   ]
  },
  {
   "cell_type": "code",
   "execution_count": 8,
   "id": "1194089d",
   "metadata": {},
   "outputs": [
    {
     "data": {
      "text/plain": [
       "True"
      ]
     },
     "execution_count": 8,
     "metadata": {},
     "output_type": "execute_result"
    }
   ],
   "source": [
    "herhangi([1,2,3,4,5])"
   ]
  },
  {
   "cell_type": "code",
   "execution_count": 9,
   "id": "f30a5aff",
   "metadata": {},
   "outputs": [
    {
     "data": {
      "text/plain": [
       "False"
      ]
     },
     "execution_count": 9,
     "metadata": {},
     "output_type": "execute_result"
    }
   ],
   "source": [
    "herhangi([0,0,0,0,0])"
   ]
  },
  {
   "cell_type": "code",
   "execution_count": 10,
   "id": "21139a6d",
   "metadata": {},
   "outputs": [],
   "source": [
    "#biz kısaca bu işlemleri all ve any fonksiyonları ile yapacağız!!! \n"
   ]
  },
  {
   "cell_type": "code",
   "execution_count": 11,
   "id": "5b624c00",
   "metadata": {},
   "outputs": [],
   "source": [
    "# all() fonksiyonu bütün değerler True ise True, en az bir değer False ise False sonuç döndürür\n",
    "liste = [1,2,3,4,5,6,7]"
   ]
  },
  {
   "cell_type": "code",
   "execution_count": 12,
   "id": "e9f580f2",
   "metadata": {},
   "outputs": [
    {
     "data": {
      "text/plain": [
       "True"
      ]
     },
     "execution_count": 12,
     "metadata": {},
     "output_type": "execute_result"
    }
   ],
   "source": [
    "all(liste)"
   ]
  },
  {
   "cell_type": "code",
   "execution_count": 13,
   "id": "f007434e",
   "metadata": {},
   "outputs": [
    {
     "data": {
      "text/plain": [
       "False"
      ]
     },
     "execution_count": 13,
     "metadata": {},
     "output_type": "execute_result"
    }
   ],
   "source": [
    "liste = [0,1,2,3,4,5,6,7]\n",
    "all(liste)"
   ]
  },
  {
   "cell_type": "code",
   "execution_count": 14,
   "id": "456ad958",
   "metadata": {},
   "outputs": [
    {
     "data": {
      "text/plain": [
       "True"
      ]
     },
     "execution_count": 14,
     "metadata": {},
     "output_type": "execute_result"
    }
   ],
   "source": [
    "any(liste)"
   ]
  },
  {
   "cell_type": "code",
   "execution_count": 15,
   "id": "fcc0ec76",
   "metadata": {},
   "outputs": [],
   "source": [
    "liste = [0,0,0,0,0]"
   ]
  },
  {
   "cell_type": "code",
   "execution_count": 16,
   "id": "e4ea1bea",
   "metadata": {},
   "outputs": [
    {
     "data": {
      "text/plain": [
       "False"
      ]
     },
     "execution_count": 16,
     "metadata": {},
     "output_type": "execute_result"
    }
   ],
   "source": [
    "any(liste)"
   ]
  },
  {
   "cell_type": "code",
   "execution_count": null,
   "id": "e93a42d0",
   "metadata": {},
   "outputs": [],
   "source": []
  }
 ],
 "metadata": {
  "kernelspec": {
   "display_name": "Python 3",
   "language": "python",
   "name": "python3"
  },
  "language_info": {
   "codemirror_mode": {
    "name": "ipython",
    "version": 3
   },
   "file_extension": ".py",
   "mimetype": "text/x-python",
   "name": "python",
   "nbconvert_exporter": "python",
   "pygments_lexer": "ipython3",
   "version": "3.8.8"
  }
 },
 "nbformat": 4,
 "nbformat_minor": 5
}
