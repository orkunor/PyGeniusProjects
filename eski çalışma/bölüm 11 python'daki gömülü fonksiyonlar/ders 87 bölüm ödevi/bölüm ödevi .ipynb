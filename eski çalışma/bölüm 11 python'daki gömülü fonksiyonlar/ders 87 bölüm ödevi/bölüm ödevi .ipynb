{
 "cells": [
  {
   "cell_type": "code",
   "execution_count": 5,
   "id": "654dfc16",
   "metadata": {},
   "outputs": [
    {
     "data": {
      "text/plain": [
       "<map at 0x24b32aad310>"
      ]
     },
     "execution_count": 5,
     "metadata": {},
     "output_type": "execute_result"
    }
   ],
   "source": [
    "liste =  [(3,4),(10,3),(5,6),(1,9)]\n",
    "\n",
    "map(lambda x : x[0] * y[1] ,liste)"
   ]
  },
  {
   "cell_type": "code",
   "execution_count": 6,
   "id": "31ca3367",
   "metadata": {},
   "outputs": [
    {
     "data": {
      "text/plain": [
       "[12, 30, 30, 9]"
      ]
     },
     "execution_count": 6,
     "metadata": {},
     "output_type": "execute_result"
    }
   ],
   "source": [
    "list(map(lambda x : x[0] * x[1],liste))"
   ]
  },
  {
   "cell_type": "code",
   "execution_count": null,
   "id": "567ff46a",
   "metadata": {},
   "outputs": [],
   "source": []
  },
  {
   "cell_type": "code",
   "execution_count": 7,
   "id": "603f8986",
   "metadata": {},
   "outputs": [],
   "source": [
    "from functools import reduce"
   ]
  },
  {
   "cell_type": "code",
   "execution_count": 9,
   "id": "f23fa46f",
   "metadata": {},
   "outputs": [
    {
     "data": {
      "text/plain": [
       "<filter at 0x24b32aadf70>"
      ]
     },
     "execution_count": 9,
     "metadata": {},
     "output_type": "execute_result"
    }
   ],
   "source": [
    "def üçgen_mi(x):\n",
    "    if abs(x[0]+x[1]) > x[2] and abs(x[0]+x[2]) > x[1] and abs(x[2]+x[1]) > x[0]:\n",
    "        return True\n",
    "    else:\n",
    "        return False\n",
    "filter(üçgen_mi,[(3,4,5),(6,8,10),(3,10,7)])\n",
    "        "
   ]
  },
  {
   "cell_type": "code",
   "execution_count": 10,
   "id": "1ab409f7",
   "metadata": {},
   "outputs": [
    {
     "name": "stdout",
     "output_type": "stream",
     "text": [
      "<filter object at 0x0000024B32AAD6D0>\n"
     ]
    }
   ],
   "source": [
    "print(filter(üçgen_mi,[(3,4,5),(6,8,10),(3,10,7)]))"
   ]
  },
  {
   "cell_type": "code",
   "execution_count": 11,
   "id": "553e9031",
   "metadata": {},
   "outputs": [
    {
     "name": "stdout",
     "output_type": "stream",
     "text": [
      "[(3, 4, 5), (6, 8, 10)]\n"
     ]
    }
   ],
   "source": [
    "print(list(filter(üçgen_mi,[(3,4,5),(6,8,10),(3,10,7)])))"
   ]
  },
  {
   "cell_type": "code",
   "execution_count": null,
   "id": "c09b4853",
   "metadata": {},
   "outputs": [],
   "source": []
  },
  {
   "cell_type": "code",
   "execution_count": 12,
   "id": "605b24f7",
   "metadata": {},
   "outputs": [
    {
     "data": {
      "text/plain": [
       "[2, 4, 6, 8, 10]"
      ]
     },
     "execution_count": 12,
     "metadata": {},
     "output_type": "execute_result"
    }
   ],
   "source": [
    "liste = [1,2,3,4,5,6,7,8,9,10] \n",
    "list(filter(lambda x : x % 2 == 0 , liste))"
   ]
  },
  {
   "cell_type": "code",
   "execution_count": 13,
   "id": "1b7f6a49",
   "metadata": {},
   "outputs": [],
   "source": [
    "a = list(filter(lambda x : x % 2 == 0 , liste))"
   ]
  },
  {
   "cell_type": "code",
   "execution_count": 14,
   "id": "b515a193",
   "metadata": {},
   "outputs": [
    {
     "data": {
      "text/plain": [
       "30"
      ]
     },
     "execution_count": 14,
     "metadata": {},
     "output_type": "execute_result"
    }
   ],
   "source": [
    "reduce(lambda x,y : x + y ,a)"
   ]
  },
  {
   "cell_type": "code",
   "execution_count": 15,
   "id": "4b57f46d",
   "metadata": {},
   "outputs": [],
   "source": [
    "isimler = [\"Kerim\",\"Tarık\",\"Ezgi\",\"Kemal\",\"İlkay\",\"Şükran\",\"Merve\"]\n",
    "soyisimler = [\"Yılmaz\",\"Öztürk\",\"Dağdeviren\",\"Atatürk\",\"Dikmen\",\"Kaya\",\"Polat\"]"
   ]
  },
  {
   "cell_type": "code",
   "execution_count": 17,
   "id": "c188ff28",
   "metadata": {},
   "outputs": [],
   "source": [
    "a = list(zip(isimler,soyisimler))"
   ]
  },
  {
   "cell_type": "code",
   "execution_count": 21,
   "id": "428a7af3",
   "metadata": {},
   "outputs": [
    {
     "name": "stdout",
     "output_type": "stream",
     "text": [
      "Kerim Yılmaz\n",
      "Tarık Öztürk\n",
      "Ezgi Dağdeviren\n",
      "Kemal Atatürk\n",
      "İlkay Dikmen\n",
      "Şükran Kaya\n",
      "Merve Polat\n"
     ]
    }
   ],
   "source": [
    "for i,j in a:\n",
    "    print(i,j)"
   ]
  },
  {
   "cell_type": "code",
   "execution_count": null,
   "id": "ccee484c",
   "metadata": {},
   "outputs": [],
   "source": []
  }
 ],
 "metadata": {
  "kernelspec": {
   "display_name": "Python 3",
   "language": "python",
   "name": "python3"
  },
  "language_info": {
   "codemirror_mode": {
    "name": "ipython",
    "version": 3
   },
   "file_extension": ".py",
   "mimetype": "text/x-python",
   "name": "python",
   "nbconvert_exporter": "python",
   "pygments_lexer": "ipython3",
   "version": "3.8.8"
  }
 },
 "nbformat": 4,
 "nbformat_minor": 5
}
