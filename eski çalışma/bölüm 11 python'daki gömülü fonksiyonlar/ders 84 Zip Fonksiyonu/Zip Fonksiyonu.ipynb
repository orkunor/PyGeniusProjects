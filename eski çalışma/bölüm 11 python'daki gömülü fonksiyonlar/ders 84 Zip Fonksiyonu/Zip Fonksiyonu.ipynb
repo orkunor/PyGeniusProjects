{
 "cells": [
  {
   "cell_type": "code",
   "execution_count": 3,
   "id": "2d5ede79",
   "metadata": {},
   "outputs": [
    {
     "name": "stdout",
     "output_type": "stream",
     "text": [
      "[(1, 6), (2, 7), (3, 8), (4, 9), (5, 10)]\n"
     ]
    }
   ],
   "source": [
    "# zip fonksiyonundan önce kendimiz bir while döngüsünü gruplamaya çalışalım daha sonra zip foknsiyonunun mantığını anlayalım!!!\n",
    "liste1 = [1,2,3,4,5]\n",
    "liste2 = [6,7,8,9,10,11]\n",
    "\n",
    "i = 0 \n",
    "sonuç = list()\n",
    "\n",
    "while i < len(liste1) and i < len(liste2):\n",
    "    sonuç.append((liste1[i],liste2[i]))\n",
    "    i += 1\n",
    "print(sonuç)"
   ]
  },
  {
   "cell_type": "code",
   "execution_count": 11,
   "id": "c66600f8",
   "metadata": {},
   "outputs": [
    {
     "data": {
      "text/plain": [
       "<zip at 0x1d02da56ac0>"
      ]
     },
     "execution_count": 11,
     "metadata": {},
     "output_type": "execute_result"
    }
   ],
   "source": [
    "# işte zip fonksiyonu iki listeyi gruplamaya yarar tıpkı yukarıdaki gibi \n",
    "zip(liste1,liste2)"
   ]
  },
  {
   "cell_type": "code",
   "execution_count": 12,
   "id": "2081c15a",
   "metadata": {},
   "outputs": [
    {
     "data": {
      "text/plain": [
       "[(1, 6), (2, 7), (3, 8), (4, 9), (5, 10)]"
      ]
     },
     "execution_count": 12,
     "metadata": {},
     "output_type": "execute_result"
    }
   ],
   "source": [
    "list(zip(liste1,liste2))"
   ]
  },
  {
   "cell_type": "code",
   "execution_count": 13,
   "id": "a14c8924",
   "metadata": {},
   "outputs": [
    {
     "data": {
      "text/plain": [
       "[(1, 6, 'Python'), (2, 7, 'PhP'), (3, 8, 'Java'), (4, 9, 'Javascript')]"
      ]
     },
     "execution_count": 13,
     "metadata": {},
     "output_type": "execute_result"
    }
   ],
   "source": [
    "liste1 = [1,2,3,4,5]\n",
    "liste2 = [6,7,8,9,10,11]\n",
    "liste3 = [\"Python\",\"PhP\",\"Java\",\"Javascript\"]\n",
    "list(zip(liste1,liste2,liste3))"
   ]
  },
  {
   "cell_type": "code",
   "execution_count": 21,
   "id": "61142ec2",
   "metadata": {},
   "outputs": [
    {
     "name": "stdout",
     "output_type": "stream",
     "text": [
      "1 Python\n",
      "2 PhP\n",
      "3 Java\n",
      "4 Javascript\n"
     ]
    }
   ],
   "source": [
    "liste1 = [1,2,3,4]\n",
    "liste2 = [\"Python\",\"PhP\",\"Java\",\"Javascript\"]\n",
    "\n",
    "for i,j in zip(liste1,liste2):\n",
    "    print(i,j)\n",
    "    "
   ]
  },
  {
   "cell_type": "code",
   "execution_count": 22,
   "id": "aa69fcb7",
   "metadata": {},
   "outputs": [],
   "source": [
    "sözlük1 = {\"Elma\":1,\"Armut\":2,\"Kiraz\":3}\n",
    "sözlük2 = {\"Sıfır\":0,\"Bir\":1,\"İki\":2}\n"
   ]
  },
  {
   "cell_type": "code",
   "execution_count": 23,
   "id": "27ccc749",
   "metadata": {},
   "outputs": [
    {
     "data": {
      "text/plain": [
       "[('Elma', 'Sıfır'), ('Armut', 'Bir'), ('Kiraz', 'İki')]"
      ]
     },
     "execution_count": 23,
     "metadata": {},
     "output_type": "execute_result"
    }
   ],
   "source": [
    "list(zip(sözlük1,sözlük2))"
   ]
  },
  {
   "cell_type": "code",
   "execution_count": 25,
   "id": "2404a76c",
   "metadata": {},
   "outputs": [
    {
     "data": {
      "text/plain": [
       "[(1, 0), (2, 1), (3, 2)]"
      ]
     },
     "execution_count": 25,
     "metadata": {},
     "output_type": "execute_result"
    }
   ],
   "source": [
    "list(zip(sözlük1.values(),sözlük2.values()))"
   ]
  },
  {
   "cell_type": "code",
   "execution_count": null,
   "id": "0cdd6ecb",
   "metadata": {},
   "outputs": [],
   "source": []
  }
 ],
 "metadata": {
  "kernelspec": {
   "display_name": "Python 3",
   "language": "python",
   "name": "python3"
  },
  "language_info": {
   "codemirror_mode": {
    "name": "ipython",
    "version": 3
   },
   "file_extension": ".py",
   "mimetype": "text/x-python",
   "name": "python",
   "nbconvert_exporter": "python",
   "pygments_lexer": "ipython3",
   "version": "3.8.8"
  }
 },
 "nbformat": 4,
 "nbformat_minor": 5
}
