{
 "cells": [
  {
   "cell_type": "code",
   "execution_count": 1,
   "id": "39748269",
   "metadata": {},
   "outputs": [],
   "source": [
    "#python'da print gibi input gibi gömülü olan fonksiyonların kalanlarını işleyeceğiz !!! \n",
    "# map() fonksiyonu python'da gömülü bir fonksiyondur \n",
    "# ilk parametre olarak bir tane fonksiyon objesi alır \n",
    "# biliyoruz ki fonksiyonlar python'da birer objedir \n",
    "# map(fonksiyon,iterasyon yapılabilecek veritipi(liste,demet vb),....)\n",
    "#ikinci parametre ise iterasyon yani for döngüsüyle beraber üzerinde gezinebilecek \n",
    "# mantığı ise verilen fonksiyonun listenin içerisindeki her bir elemana tek tek uygulanarak etkilemesi şeklinde yapılır ve \n",
    "# map objesi olarak döner!! \n"
   ]
  },
  {
   "cell_type": "code",
   "execution_count": 2,
   "id": "8c49f2d6",
   "metadata": {},
   "outputs": [],
   "source": [
    "def double(x):\n",
    "    return x * 2\n"
   ]
  },
  {
   "cell_type": "code",
   "execution_count": 3,
   "id": "f548294f",
   "metadata": {},
   "outputs": [
    {
     "data": {
      "text/plain": [
       "<map at 0x255e4db7490>"
      ]
     },
     "execution_count": 3,
     "metadata": {},
     "output_type": "execute_result"
    }
   ],
   "source": [
    "map(double,[1,2,3,4,5,6,7])"
   ]
  },
  {
   "cell_type": "code",
   "execution_count": 4,
   "id": "210481b9",
   "metadata": {},
   "outputs": [
    {
     "data": {
      "text/plain": [
       "[2, 4, 6, 8, 10, 12, 14]"
      ]
     },
     "execution_count": 4,
     "metadata": {},
     "output_type": "execute_result"
    }
   ],
   "source": [
    "list(map(double,[1,2,3,4,5,6,7]))"
   ]
  },
  {
   "cell_type": "code",
   "execution_count": 6,
   "id": "17e4817f",
   "metadata": {},
   "outputs": [
    {
     "data": {
      "text/plain": [
       "[1, 4, 9, 16, 25, 36, 49, 64, 81, 100]"
      ]
     },
     "execution_count": 6,
     "metadata": {},
     "output_type": "execute_result"
    }
   ],
   "source": [
    "list(map(lambda x: x **2,(1,2,3,4,5,6,7,8,9,10)))"
   ]
  },
  {
   "cell_type": "code",
   "execution_count": 7,
   "id": "aa1a5dac",
   "metadata": {},
   "outputs": [],
   "source": [
    "liste1 = [1,2,3,4]\n",
    "liste2 = [5,6,7,8]\n",
    "liste3 = [9,10,11,12,13]"
   ]
  },
  {
   "cell_type": "code",
   "execution_count": 8,
   "id": "c3465388",
   "metadata": {},
   "outputs": [
    {
     "data": {
      "text/plain": [
       "[5, 12, 21, 32]"
      ]
     },
     "execution_count": 8,
     "metadata": {},
     "output_type": "execute_result"
    }
   ],
   "source": [
    "list(map(lambda x,y : x * y, liste1,liste2))"
   ]
  },
  {
   "cell_type": "code",
   "execution_count": 10,
   "id": "a4957ba5",
   "metadata": {},
   "outputs": [
    {
     "data": {
      "text/plain": [
       "[45, 120, 231, 384]"
      ]
     },
     "execution_count": 10,
     "metadata": {},
     "output_type": "execute_result"
    }
   ],
   "source": [
    "list(map(lambda x,y,z : x * y * z, liste1,liste2,liste3))"
   ]
  },
  {
   "cell_type": "code",
   "execution_count": null,
   "id": "f7c366e6",
   "metadata": {},
   "outputs": [],
   "source": []
  }
 ],
 "metadata": {
  "kernelspec": {
   "display_name": "Python 3",
   "language": "python",
   "name": "python3"
  },
  "language_info": {
   "codemirror_mode": {
    "name": "ipython",
    "version": 3
   },
   "file_extension": ".py",
   "mimetype": "text/x-python",
   "name": "python",
   "nbconvert_exporter": "python",
   "pygments_lexer": "ipython3",
   "version": "3.8.8"
  }
 },
 "nbformat": 4,
 "nbformat_minor": 5
}
