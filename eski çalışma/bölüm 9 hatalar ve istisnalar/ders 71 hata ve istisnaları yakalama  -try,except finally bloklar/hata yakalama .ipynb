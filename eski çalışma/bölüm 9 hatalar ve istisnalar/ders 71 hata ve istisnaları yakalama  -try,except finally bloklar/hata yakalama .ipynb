{
 "cells": [
  {
   "cell_type": "code",
   "execution_count": 1,
   "id": "c18974fe",
   "metadata": {},
   "outputs": [],
   "source": [
    "# hata yakalamak için try,except,finally bloklarını göreceğiz !!! \n"
   ]
  },
  {
   "cell_type": "code",
   "execution_count": 2,
   "id": "fcc5215c",
   "metadata": {},
   "outputs": [
    {
     "ename": "ValueError",
     "evalue": "invalid literal for int() with base 10: 'asdasafssaf43543645435235'",
     "output_type": "error",
     "traceback": [
      "\u001b[1;31m---------------------------------------------------------------------------\u001b[0m",
      "\u001b[1;31mValueError\u001b[0m                                Traceback (most recent call last)",
      "\u001b[1;32m<ipython-input-2-d9cf06e7fe20>\u001b[0m in \u001b[0;36m<module>\u001b[1;34m\u001b[0m\n\u001b[1;32m----> 1\u001b[1;33m \u001b[0ma\u001b[0m \u001b[1;33m=\u001b[0m \u001b[0mint\u001b[0m\u001b[1;33m(\u001b[0m\u001b[1;34m\"asdasafssaf43543645435235\"\u001b[0m\u001b[1;33m)\u001b[0m\u001b[1;33m\u001b[0m\u001b[1;33m\u001b[0m\u001b[0m\n\u001b[0m",
      "\u001b[1;31mValueError\u001b[0m: invalid literal for int() with base 10: 'asdasafssaf43543645435235'"
     ]
    }
   ],
   "source": [
    "a = int(\"asdasafssaf43543645435235\")"
   ]
  },
  {
   "cell_type": "code",
   "execution_count": 3,
   "id": "bbc05b24",
   "metadata": {},
   "outputs": [
    {
     "name": "stdout",
     "output_type": "stream",
     "text": [
      "Bir Hata Oluştu\n",
      "Bloklar sona erdi!\n"
     ]
    }
   ],
   "source": [
    "try:\n",
    "    a = int(\"asdasafssaf43543645435235\")\n",
    "    print(\"Program Burada\")\n",
    "except: # hata oluşursa eğer bu bloğa giriş yapacak !!! \n",
    "    print(\"Bir Hata Oluştu\")\n",
    "print(\"Bloklar sona erdi!\") "
   ]
  },
  {
   "cell_type": "code",
   "execution_count": 4,
   "id": "740b241c",
   "metadata": {},
   "outputs": [
    {
     "name": "stdout",
     "output_type": "stream",
     "text": [
      "Program Burada\n",
      "Bloklar sona erdi!\n"
     ]
    }
   ],
   "source": [
    "try: # hata oluşmazsa try bloğundan çıkış yapmaz !!! \n",
    "    a = int(\"235\")\n",
    "    print(\"Program Burada\")\n",
    "except: # hata oluşursa eğer bu bloğa giriş yapacak !!! \n",
    "    print(\"Bir Hata Oluştu\")\n",
    "print(\"Bloklar sona erdi!\")"
   ]
  },
  {
   "cell_type": "code",
   "execution_count": 5,
   "id": "d0945ee7",
   "metadata": {},
   "outputs": [
    {
     "name": "stdout",
     "output_type": "stream",
     "text": [
      "Bir Hata Oluştu\n",
      "Bloklar sona erdi!\n"
     ]
    }
   ],
   "source": [
    "try:\n",
    "    a = int(\"asdasafssaf43543645435235\")\n",
    "    print(\"Program Burada\")\n",
    "except ValueError: #sadece tanımlı hata oluşursa program buraya girecek !!! \n",
    "    print(\"Bir Hata Oluştu\")\n",
    "print(\"Bloklar sona erdi!\")"
   ]
  },
  {
   "cell_type": "code",
   "execution_count": 6,
   "id": "abb507dc",
   "metadata": {},
   "outputs": [
    {
     "ename": "ValueError",
     "evalue": "invalid literal for int() with base 10: 'asdasfasf232532525'",
     "output_type": "error",
     "traceback": [
      "\u001b[1;31m---------------------------------------------------------------------------\u001b[0m",
      "\u001b[1;31mValueError\u001b[0m                                Traceback (most recent call last)",
      "\u001b[1;32m<ipython-input-6-056b011a70ef>\u001b[0m in \u001b[0;36m<module>\u001b[1;34m\u001b[0m\n\u001b[1;32m----> 1\u001b[1;33m \u001b[0ma\u001b[0m \u001b[1;33m=\u001b[0m \u001b[0mint\u001b[0m\u001b[1;33m(\u001b[0m\u001b[1;34m\"asdasfasf232532525\"\u001b[0m\u001b[1;33m)\u001b[0m\u001b[1;33m\u001b[0m\u001b[1;33m\u001b[0m\u001b[0m\n\u001b[0m",
      "\u001b[1;31mValueError\u001b[0m: invalid literal for int() with base 10: 'asdasfasf232532525'"
     ]
    }
   ],
   "source": [
    "a = int(\"asdasfasf232532525\")"
   ]
  },
  {
   "cell_type": "code",
   "execution_count": 7,
   "id": "ac574d5c",
   "metadata": {},
   "outputs": [
    {
     "ename": "ZeroDivisionError",
     "evalue": "division by zero",
     "output_type": "error",
     "traceback": [
      "\u001b[1;31m---------------------------------------------------------------------------\u001b[0m",
      "\u001b[1;31mZeroDivisionError\u001b[0m                         Traceback (most recent call last)",
      "\u001b[1;32m<ipython-input-7-22134b536cbe>\u001b[0m in \u001b[0;36m<module>\u001b[1;34m\u001b[0m\n\u001b[1;32m----> 1\u001b[1;33m \u001b[0mprint\u001b[0m\u001b[1;33m(\u001b[0m\u001b[1;36m2\u001b[0m \u001b[1;33m/\u001b[0m \u001b[1;36m0\u001b[0m\u001b[1;33m)\u001b[0m\u001b[1;33m\u001b[0m\u001b[1;33m\u001b[0m\u001b[0m\n\u001b[0m",
      "\u001b[1;31mZeroDivisionError\u001b[0m: division by zero"
     ]
    }
   ],
   "source": [
    "print(2 / 0)"
   ]
  },
  {
   "cell_type": "code",
   "execution_count": 8,
   "id": "2d66080c",
   "metadata": {},
   "outputs": [
    {
     "name": "stdout",
     "output_type": "stream",
     "text": [
      "Sayı1:asdasd\n",
      "Lütfen İnput'u Doğru Giriniz...\n",
      "Bloklar Sona Erdi\n"
     ]
    }
   ],
   "source": [
    "try:\n",
    "    a = int(input(\"Sayı1:\"))\n",
    "    b = int(input(\"Sayı2:\"))\n",
    "    print(a / b)\n",
    "except ValueError:\n",
    "    print(\"Lütfen İnput'u Doğru Giriniz...\")\n",
    "except ZeroDivisionError:\n",
    "    print(\"b ==> Sayı2'yi lütfen '0' girmeyiniz...\")\n",
    "print(\"Bloklar Sona Erdi\")"
   ]
  },
  {
   "cell_type": "code",
   "execution_count": 9,
   "id": "96624ba4",
   "metadata": {},
   "outputs": [
    {
     "name": "stdout",
     "output_type": "stream",
     "text": [
      "Sayı1:23\n",
      "Sayı2:0\n",
      "b ==> Sayı2'yi lütfen '0' girmeyiniz...\n",
      "Bloklar Sona Erdi\n"
     ]
    }
   ],
   "source": [
    "try:\n",
    "    a = int(input(\"Sayı1:\"))\n",
    "    b = int(input(\"Sayı2:\"))\n",
    "    print(a / b)\n",
    "except ValueError:\n",
    "    print(\"Lütfen İnput'u Doğru Giriniz...\")\n",
    "except ZeroDivisionError:\n",
    "    print(\"b ==> Sayı2'yi lütfen '0' girmeyiniz...\")\n",
    "print(\"Bloklar Sona Erdi\")"
   ]
  },
  {
   "cell_type": "code",
   "execution_count": 10,
   "id": "181964e4",
   "metadata": {},
   "outputs": [
    {
     "name": "stdout",
     "output_type": "stream",
     "text": [
      "Sayı1:7\n",
      "Sayı2:2\n",
      "3.5\n",
      "Bloklar Sona Erdi\n"
     ]
    }
   ],
   "source": [
    "try:\n",
    "    a = int(input(\"Sayı1:\"))\n",
    "    b = int(input(\"Sayı2:\"))\n",
    "    print(a / b)\n",
    "except ValueError:\n",
    "    print(\"Lütfen İnput'u Doğru Giriniz...\")\n",
    "except ZeroDivisionError:\n",
    "    print(\"b ==> Sayı2'yi lütfen '0' girmeyiniz...\")\n",
    "print(\"Bloklar Sona Erdi\")"
   ]
  },
  {
   "cell_type": "code",
   "execution_count": 11,
   "id": "6e1aa48d",
   "metadata": {},
   "outputs": [
    {
     "name": "stdout",
     "output_type": "stream",
     "text": [
      "Sayı1:7\n",
      "Sayı2:adas1233\n",
      "Lütfen İnput'u Doğru Giriniz...\n",
      "Bloklar Sona Erdi\n"
     ]
    }
   ],
   "source": [
    "try:\n",
    "    a = int(input(\"Sayı1:\"))\n",
    "    b = int(input(\"Sayı2:\"))\n",
    "    print(a / b)\n",
    "except ValueError:\n",
    "    print(\"Lütfen İnput'u Doğru Giriniz...\")\n",
    "except ZeroDivisionError:\n",
    "    print(\"b ==> Sayı2'yi lütfen '0' girmeyiniz...\")\n",
    "print(\"Bloklar Sona Erdi\")"
   ]
  },
  {
   "cell_type": "code",
   "execution_count": 13,
   "id": "4382935e",
   "metadata": {},
   "outputs": [
    {
     "name": "stdout",
     "output_type": "stream",
     "text": [
      "Sayı1:7\n",
      "Sayı2:2\n",
      "3.5\n",
      "Bloklar Sona Erdi\n"
     ]
    }
   ],
   "source": [
    "# hataları tek bir except bloğu ile de halledebilirim!!! \n",
    "try:\n",
    "    a = int(input(\"Sayı1:\"))\n",
    "    b = int(input(\"Sayı2:\"))\n",
    "    print(a / b)\n",
    "except (ValueError,ZeroDivisionError):\n",
    "    print(\"ZeroDivisionError veya Value Error hatası...\")\n",
    "    \n",
    "print(\"Bloklar Sona Erdi\")"
   ]
  },
  {
   "cell_type": "code",
   "execution_count": 14,
   "id": "74cbc982",
   "metadata": {},
   "outputs": [
    {
     "name": "stdout",
     "output_type": "stream",
     "text": [
      "Sayı1:7\n",
      "Sayı2:0\n",
      "ZeroDivisionError veya Value Error hatası...\n",
      "Bloklar Sona Erdi\n"
     ]
    }
   ],
   "source": [
    "try:\n",
    "    a = int(input(\"Sayı1:\"))\n",
    "    b = int(input(\"Sayı2:\"))\n",
    "    print(a / b)\n",
    "except (ValueError,ZeroDivisionError):\n",
    "    print(\"ZeroDivisionError veya Value Error hatası...\")\n",
    "    \n",
    "print(\"Bloklar Sona Erdi\")"
   ]
  },
  {
   "cell_type": "code",
   "execution_count": 15,
   "id": "85dc5653",
   "metadata": {},
   "outputs": [
    {
     "name": "stdout",
     "output_type": "stream",
     "text": [
      "Sayı1:asdsad123132\n",
      "ZeroDivisionError veya Value Error hatası...\n",
      "Bloklar Sona Erdi\n"
     ]
    }
   ],
   "source": [
    "try:\n",
    "    a = int(input(\"Sayı1:\"))\n",
    "    b = int(input(\"Sayı2:\"))\n",
    "    print(a / b)\n",
    "except (ValueError,ZeroDivisionError):\n",
    "    print(\"ZeroDivisionError veya Value Error hatası...\")\n",
    "    \n",
    "print(\"Bloklar Sona Erdi\")"
   ]
  },
  {
   "cell_type": "code",
   "execution_count": 16,
   "id": "6ceef092",
   "metadata": {},
   "outputs": [
    {
     "name": "stdout",
     "output_type": "stream",
     "text": [
      "Sayı1:34\n",
      "Sayı2:sda123\n",
      "ZeroDivisionError veya Value Error hatası...\n",
      "Bloklar Sona Erdi\n"
     ]
    }
   ],
   "source": [
    "try:\n",
    "    a = int(input(\"Sayı1:\"))\n",
    "    b = int(input(\"Sayı2:\"))\n",
    "    print(a / b)\n",
    "except (ValueError,ZeroDivisionError): # hata ayıklarken biraz daha genelleştiriyoruz böyle!!!\n",
    "    print(\"ZeroDivisionError veya Value Error hatası...\")\n",
    "    \n",
    "print(\"Bloklar Sona Erdi\")"
   ]
  },
  {
   "cell_type": "code",
   "execution_count": 17,
   "id": "97cdca6c",
   "metadata": {},
   "outputs": [],
   "source": [
    "# try except bloklarındaki kodları mutlaka çalıştırmak istiyorsak finally bloklarına sokarız !!! \n",
    "# bu bloklar hata oluşsa da oluşmasa da mutlaka çalışan bloklardır unutma !!! \n"
   ]
  },
  {
   "cell_type": "code",
   "execution_count": 1,
   "id": "b24f19ca",
   "metadata": {},
   "outputs": [
    {
     "name": "stdout",
     "output_type": "stream",
     "text": [
      "Sayı1:asfdsaf\n",
      "Lütfen İnput'u Doğru Giriniz...\n",
      "Burası(Finally) Çalıştırıldı... \n",
      "Bloklar Sona Erdi\n"
     ]
    }
   ],
   "source": [
    "try:\n",
    "    a = int(input(\"Sayı1:\"))\n",
    "    b = int(input(\"Sayı2:\"))\n",
    "    print(a / b)\n",
    "except ValueError:\n",
    "    print(\"Lütfen İnput'u Doğru Giriniz...\")\n",
    "except ZeroDivisionError:\n",
    "    print(\"b ==> Sayı2'yi lütfen '0' girmeyiniz...\")\n",
    "finally: # keisnlikle çalıştırılması gereken kodlardır \n",
    "    print(\"Burası(Finally) Çalıştırıldı... \")\n",
    "print(\"Bloklar Sona Erdi\")"
   ]
  },
  {
   "cell_type": "code",
   "execution_count": 8,
   "id": "5a5599da",
   "metadata": {},
   "outputs": [
    {
     "name": "stdout",
     "output_type": "stream",
     "text": [
      "nukro\n"
     ]
    },
    {
     "ename": "ValueError",
     "evalue": "Girilen bilgiler string ifade değil !!",
     "output_type": "error",
     "traceback": [
      "\u001b[1;31m---------------------------------------------------------------------------\u001b[0m",
      "\u001b[1;31mValueError\u001b[0m                                Traceback (most recent call last)",
      "\u001b[1;32m<ipython-input-8-dee93db9e02f>\u001b[0m in \u001b[0;36m<module>\u001b[1;34m\u001b[0m\n\u001b[0;32m      6\u001b[0m         \u001b[1;32mreturn\u001b[0m \u001b[0ms\u001b[0m\u001b[1;33m[\u001b[0m\u001b[1;33m:\u001b[0m\u001b[1;33m:\u001b[0m\u001b[1;33m-\u001b[0m\u001b[1;36m1\u001b[0m\u001b[1;33m]\u001b[0m\u001b[1;33m\u001b[0m\u001b[1;33m\u001b[0m\u001b[0m\n\u001b[0;32m      7\u001b[0m \u001b[0mprint\u001b[0m\u001b[1;33m(\u001b[0m\u001b[0mtersçevir\u001b[0m\u001b[1;33m(\u001b[0m\u001b[1;34m\"orkun\"\u001b[0m\u001b[1;33m)\u001b[0m\u001b[1;33m)\u001b[0m\u001b[1;33m\u001b[0m\u001b[1;33m\u001b[0m\u001b[0m\n\u001b[1;32m----> 8\u001b[1;33m \u001b[0mprint\u001b[0m\u001b[1;33m(\u001b[0m\u001b[0mtersçevir\u001b[0m\u001b[1;33m(\u001b[0m\u001b[1;36m45\u001b[0m\u001b[1;33m)\u001b[0m\u001b[1;33m)\u001b[0m\u001b[1;33m\u001b[0m\u001b[1;33m\u001b[0m\u001b[0m\n\u001b[0m",
      "\u001b[1;32m<ipython-input-8-dee93db9e02f>\u001b[0m in \u001b[0;36mtersçevir\u001b[1;34m(s)\u001b[0m\n\u001b[0;32m      2\u001b[0m \u001b[1;32mdef\u001b[0m \u001b[0mtersçevir\u001b[0m\u001b[1;33m(\u001b[0m\u001b[0ms\u001b[0m\u001b[1;33m)\u001b[0m\u001b[1;33m:\u001b[0m\u001b[1;33m\u001b[0m\u001b[1;33m\u001b[0m\u001b[0m\n\u001b[0;32m      3\u001b[0m     \u001b[1;32mif\u001b[0m \u001b[0mtype\u001b[0m\u001b[1;33m(\u001b[0m\u001b[0ms\u001b[0m\u001b[1;33m)\u001b[0m \u001b[1;33m!=\u001b[0m \u001b[0mstr\u001b[0m\u001b[1;33m:\u001b[0m\u001b[1;33m\u001b[0m\u001b[1;33m\u001b[0m\u001b[0m\n\u001b[1;32m----> 4\u001b[1;33m         \u001b[1;32mraise\u001b[0m \u001b[0mValueError\u001b[0m\u001b[1;33m(\u001b[0m\u001b[1;34m\"Girilen bilgiler string ifade değil !!\"\u001b[0m\u001b[1;33m)\u001b[0m\u001b[1;33m\u001b[0m\u001b[1;33m\u001b[0m\u001b[0m\n\u001b[0m\u001b[0;32m      5\u001b[0m     \u001b[1;32melse\u001b[0m\u001b[1;33m:\u001b[0m\u001b[1;33m\u001b[0m\u001b[1;33m\u001b[0m\u001b[0m\n\u001b[0;32m      6\u001b[0m         \u001b[1;32mreturn\u001b[0m \u001b[0ms\u001b[0m\u001b[1;33m[\u001b[0m\u001b[1;33m:\u001b[0m\u001b[1;33m:\u001b[0m\u001b[1;33m-\u001b[0m\u001b[1;36m1\u001b[0m\u001b[1;33m]\u001b[0m\u001b[1;33m\u001b[0m\u001b[1;33m\u001b[0m\u001b[0m\n",
      "\u001b[1;31mValueError\u001b[0m: Girilen bilgiler string ifade değil !!"
     ]
    }
   ],
   "source": [
    "# hata fırlatmak nasıl yapılır peki ?? \n",
    "def tersçevir(s):\n",
    "    if type(s) != str:\n",
    "        raise ValueError(\"Girilen bilgiler string ifade değil !!\")\n",
    "    else:\n",
    "        return s[::-1]\n",
    "print(tersçevir(\"orkun\"))\n",
    "print(tersçevir(45))\n"
   ]
  },
  {
   "cell_type": "code",
   "execution_count": 10,
   "id": "cd912fb6",
   "metadata": {},
   "outputs": [
    {
     "name": "stdout",
     "output_type": "stream",
     "text": [
      "Fonksiyon hata verdi\n"
     ]
    }
   ],
   "source": [
    "try:\n",
    "    print(tersçevir(56))\n",
    "except ValueError:\n",
    "    print(\"Fonksiyon hata verdi\")"
   ]
  },
  {
   "cell_type": "code",
   "execution_count": null,
   "id": "bc7ccdc9",
   "metadata": {},
   "outputs": [],
   "source": []
  }
 ],
 "metadata": {
  "kernelspec": {
   "display_name": "Python 3",
   "language": "python",
   "name": "python3"
  },
  "language_info": {
   "codemirror_mode": {
    "name": "ipython",
    "version": 3
   },
   "file_extension": ".py",
   "mimetype": "text/x-python",
   "name": "python",
   "nbconvert_exporter": "python",
   "pygments_lexer": "ipython3",
   "version": "3.8.8"
  }
 },
 "nbformat": 4,
 "nbformat_minor": 5
}
