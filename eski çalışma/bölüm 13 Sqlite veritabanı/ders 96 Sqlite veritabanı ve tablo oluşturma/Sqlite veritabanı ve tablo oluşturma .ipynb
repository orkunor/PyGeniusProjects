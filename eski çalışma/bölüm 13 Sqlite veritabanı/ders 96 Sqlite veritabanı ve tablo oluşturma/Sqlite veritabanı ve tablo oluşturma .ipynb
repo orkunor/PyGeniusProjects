{
 "cells": [
  {
   "cell_type": "code",
   "execution_count": null,
   "id": "c76e46a4",
   "metadata": {},
   "outputs": [],
   "source": [
    "# veritabanı progralarımızda gerekli olan depolamayı yaptığımız yerlerdir !!! \n",
    "# Sqlite veritabanı ilişkisel bir veritabanıdır ve tablolardan oluşmaktadır !!!\n",
    "# sqlite veritabanı sunucusuz bir veritabanıdır yani sunucu kurmanı gerektirmiyor illa  !!! "
   ]
  }
 ],
 "metadata": {
  "kernelspec": {
   "display_name": "Python 3",
   "language": "python",
   "name": "python3"
  },
  "language_info": {
   "codemirror_mode": {
    "name": "ipython",
    "version": 3
   },
   "file_extension": ".py",
   "mimetype": "text/x-python",
   "name": "python",
   "nbconvert_exporter": "python",
   "pygments_lexer": "ipython3",
   "version": "3.8.8"
  }
 },
 "nbformat": 4,
 "nbformat_minor": 5
}
