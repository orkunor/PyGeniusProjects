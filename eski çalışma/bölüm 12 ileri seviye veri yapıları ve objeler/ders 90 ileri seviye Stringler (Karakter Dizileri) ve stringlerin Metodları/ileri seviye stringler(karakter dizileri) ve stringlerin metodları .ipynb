{
 "cells": [
  {
   "cell_type": "code",
   "execution_count": 6,
   "id": "f9a826f1",
   "metadata": {},
   "outputs": [],
   "source": [
    "# ilk fonksiyonlar upper() ve lower() fonksiyonlarıdır !!! \n",
    "# upper() metodları stringlerin tüm karakterlerini büyük harfe çevirir"
   ]
  },
  {
   "cell_type": "code",
   "execution_count": 7,
   "id": "e77f8fb6",
   "metadata": {},
   "outputs": [
    {
     "data": {
      "text/plain": [
       "'PYTHON'"
      ]
     },
     "execution_count": 7,
     "metadata": {},
     "output_type": "execute_result"
    }
   ],
   "source": [
    "\"python\".upper()"
   ]
  },
  {
   "cell_type": "code",
   "execution_count": 8,
   "id": "ab20986b",
   "metadata": {},
   "outputs": [
    {
     "data": {
      "text/plain": [
       "'python'"
      ]
     },
     "execution_count": 8,
     "metadata": {},
     "output_type": "execute_result"
    }
   ],
   "source": [
    "# lower() metodları stringlerin tüm karakterlerini küçük harfe çevirir!!!\n",
    "\"PYThon\".lower()"
   ]
  },
  {
   "cell_type": "code",
   "execution_count": 9,
   "id": "88a55c4e",
   "metadata": {},
   "outputs": [
    {
     "data": {
      "text/plain": [
       "'PYTHON'"
      ]
     },
     "execution_count": 9,
     "metadata": {},
     "output_type": "execute_result"
    }
   ],
   "source": [
    "a = \"python\"\n",
    "a.upper()"
   ]
  },
  {
   "cell_type": "code",
   "execution_count": 10,
   "id": "ed2e5c8b",
   "metadata": {},
   "outputs": [
    {
     "data": {
      "text/plain": [
       "'python'"
      ]
     },
     "execution_count": 10,
     "metadata": {},
     "output_type": "execute_result"
    }
   ],
   "source": [
    "a "
   ]
  },
  {
   "cell_type": "code",
   "execution_count": 14,
   "id": "f6ebc622",
   "metadata": {},
   "outputs": [
    {
     "data": {
      "text/plain": [
       "'bugün güle güle gi̇tti̇k gezmeye'"
      ]
     },
     "execution_count": 14,
     "metadata": {},
     "output_type": "execute_result"
    }
   ],
   "source": [
    "# replace(x,y) metodu ise stringdeki x değerlerini y ile değiştirir!!!\n",
    "\"BUGÜN GÜLE GÜLE GİTTİK GEZMEYE\".lower()"
   ]
  },
  {
   "cell_type": "code",
   "execution_count": 16,
   "id": "51ef4ce6",
   "metadata": {},
   "outputs": [
    {
     "data": {
      "text/plain": [
       "'bugün güle güle gẋttẋk gezmeye'"
      ]
     },
     "execution_count": 16,
     "metadata": {},
     "output_type": "execute_result"
    }
   ],
   "source": [
    "\"bugün güle güle gi̇tti̇k gezmeye\".replace(\"i\",\"x\")"
   ]
  },
  {
   "cell_type": "code",
   "execution_count": 18,
   "id": "94257fad",
   "metadata": {},
   "outputs": [
    {
     "data": {
      "text/plain": [
       "'ÖşÖğı ÖtlÖyÖrÖk ÖtlÖyÖ ÖtlÖyÖ ÖnlÖdık'"
      ]
     },
     "execution_count": 18,
     "metadata": {},
     "output_type": "execute_result"
    }
   ],
   "source": [
    "\"aşağı atlayarak atlaya atlaya anladık\".replace(\"a\",\"Ö\")"
   ]
  },
  {
   "cell_type": "code",
   "execution_count": 19,
   "id": "4e54abaa",
   "metadata": {},
   "outputs": [
    {
     "data": {
      "text/plain": [
       "'Gython Grogramlama Dili'"
      ]
     },
     "execution_count": 19,
     "metadata": {},
     "output_type": "execute_result"
    }
   ],
   "source": [
    "\"Python Programlama Dili\".replace(\"P\",\"G\")"
   ]
  },
  {
   "cell_type": "code",
   "execution_count": 23,
   "id": "33eed7a2",
   "metadata": {},
   "outputs": [
    {
     "data": {
      "text/plain": [
       "'Python-Programlama-Dili'"
      ]
     },
     "execution_count": 23,
     "metadata": {},
     "output_type": "execute_result"
    }
   ],
   "source": [
    "\"Python Programlama Dili\".replace(\" \",\"-\")"
   ]
  },
  {
   "cell_type": "code",
   "execution_count": 24,
   "id": "5ee07210",
   "metadata": {},
   "outputs": [
    {
     "data": {
      "text/plain": [
       "'Python.Programlama.Dili'"
      ]
     },
     "execution_count": 24,
     "metadata": {},
     "output_type": "execute_result"
    }
   ],
   "source": [
    "\"Python Programlama Dili\".replace(\" \",\".\")"
   ]
  },
  {
   "cell_type": "code",
   "execution_count": 25,
   "id": "c5b0a81d",
   "metadata": {},
   "outputs": [
    {
     "data": {
      "text/plain": [
       "'OrBAŞ'"
      ]
     },
     "execution_count": 25,
     "metadata": {},
     "output_type": "execute_result"
    }
   ],
   "source": [
    "\"Orkun\".replace(\"kun\",\"BAŞ\")"
   ]
  },
  {
   "cell_type": "code",
   "execution_count": 27,
   "id": "08d0ef75",
   "metadata": {},
   "outputs": [],
   "source": [
    "# startswith(x) : String x ile başlıyorsa True, başlamıyorsa False değeri döndürür.\n",
    "\n",
    "# endswith(x) : String x ile bitiyorsa True, bitmiyorsa False değeri döndürür."
   ]
  },
  {
   "cell_type": "code",
   "execution_count": 28,
   "id": "c82632a9",
   "metadata": {},
   "outputs": [
    {
     "data": {
      "text/plain": [
       "True"
      ]
     },
     "execution_count": 28,
     "metadata": {},
     "output_type": "execute_result"
    }
   ],
   "source": [
    "\"python\".startswith(\"py\")"
   ]
  },
  {
   "cell_type": "code",
   "execution_count": 29,
   "id": "95cdd221",
   "metadata": {},
   "outputs": [
    {
     "data": {
      "text/plain": [
       "False"
      ]
     },
     "execution_count": 29,
     "metadata": {},
     "output_type": "execute_result"
    }
   ],
   "source": [
    "\"Python\".startswith(\"py\")"
   ]
  },
  {
   "cell_type": "code",
   "execution_count": 30,
   "id": "18d2f132",
   "metadata": {},
   "outputs": [
    {
     "data": {
      "text/plain": [
       "True"
      ]
     },
     "execution_count": 30,
     "metadata": {},
     "output_type": "execute_result"
    }
   ],
   "source": [
    "\"Python\".endswith(\"hon\")"
   ]
  },
  {
   "cell_type": "code",
   "execution_count": 31,
   "id": "18ef05a4",
   "metadata": {},
   "outputs": [
    {
     "data": {
      "text/plain": [
       "False"
      ]
     },
     "execution_count": 31,
     "metadata": {},
     "output_type": "execute_result"
    }
   ],
   "source": [
    "\"Python\".endswith(\"hn\")"
   ]
  },
  {
   "cell_type": "code",
   "execution_count": 32,
   "id": "d15ad488",
   "metadata": {},
   "outputs": [],
   "source": [
    "# split(a) fonksiyonu ise verilen \"a\" değerine göre string parçalara ayrılarak her bir parça listeye atılır\n",
    "liste = \"Orkun Bugün Zıplaya Zıplaya Gitti\".split(\" \")"
   ]
  },
  {
   "cell_type": "code",
   "execution_count": 33,
   "id": "3e19e01f",
   "metadata": {},
   "outputs": [
    {
     "data": {
      "text/plain": [
       "['Orkun', 'Bugün', 'Zıplaya', 'Zıplaya', 'Gitti']"
      ]
     },
     "execution_count": 33,
     "metadata": {},
     "output_type": "execute_result"
    }
   ],
   "source": [
    "list(liste)"
   ]
  },
  {
   "cell_type": "code",
   "execution_count": 34,
   "id": "314b0fbf",
   "metadata": {},
   "outputs": [],
   "source": [
    "liste = \"Orkun Bugün Zıplaya Zıplaya Gitti\".split(\"a\")"
   ]
  },
  {
   "cell_type": "code",
   "execution_count": 35,
   "id": "efeaa6a5",
   "metadata": {},
   "outputs": [
    {
     "data": {
      "text/plain": [
       "['Orkun Bugün Zıpl', 'y', ' Zıpl', 'y', ' Gitti']"
      ]
     },
     "execution_count": 35,
     "metadata": {},
     "output_type": "execute_result"
    }
   ],
   "source": [
    "list(liste)"
   ]
  },
  {
   "cell_type": "code",
   "execution_count": 40,
   "id": "913bec35",
   "metadata": {},
   "outputs": [
    {
     "name": "stdout",
     "output_type": "stream",
     "text": [
      "orkun orulluoğlu bugün gitti\n"
     ]
    }
   ],
   "source": [
    "print(\"orkun orulluoğlu bugün gitti\",sep = \"/\")"
   ]
  },
  {
   "cell_type": "code",
   "execution_count": 41,
   "id": "66ccdd8a",
   "metadata": {},
   "outputs": [],
   "source": [
    "liste2 = \"Python-PhP-Java-C-Javascripts\".split(\"-\")"
   ]
  },
  {
   "cell_type": "code",
   "execution_count": 42,
   "id": "ba6cca4e",
   "metadata": {},
   "outputs": [
    {
     "data": {
      "text/plain": [
       "['Python', 'PhP', 'Java', 'C', 'Javascripts']"
      ]
     },
     "execution_count": 42,
     "metadata": {},
     "output_type": "execute_result"
    }
   ],
   "source": [
    "list(liste2)"
   ]
  },
  {
   "cell_type": "code",
   "execution_count": 43,
   "id": "ce98b665",
   "metadata": {},
   "outputs": [
    {
     "data": {
      "text/plain": [
       "'Python'"
      ]
     },
     "execution_count": 43,
     "metadata": {},
     "output_type": "execute_result"
    }
   ],
   "source": [
    "# strip(x) : Stringin başında ve sonunda bulunan x değerlerini siler.\n",
    "\n",
    "# lstrip(x) : Stringin sadece başında bulunan x değerlerini siler.\n",
    "\n",
    "# rstrip(x) : Stringin sadece sonunda bulunan x değerlerini siler.\n",
    "\"                 Python             \".strip()"
   ]
  },
  {
   "cell_type": "code",
   "execution_count": 44,
   "id": "5cbc4c12",
   "metadata": {},
   "outputs": [
    {
     "data": {
      "text/plain": [
       "'Python             '"
      ]
     },
     "execution_count": 44,
     "metadata": {},
     "output_type": "execute_result"
    }
   ],
   "source": [
    "\"                     Python             \".lstrip()"
   ]
  },
  {
   "cell_type": "code",
   "execution_count": 45,
   "id": "a5a19a74",
   "metadata": {},
   "outputs": [
    {
     "data": {
      "text/plain": [
       "'                             Python'"
      ]
     },
     "execution_count": 45,
     "metadata": {},
     "output_type": "execute_result"
    }
   ],
   "source": [
    "\"                             Python            \".rstrip()"
   ]
  },
  {
   "cell_type": "code",
   "execution_count": 46,
   "id": "1c8b9fe1",
   "metadata": {},
   "outputs": [],
   "source": [
    "# join() ise Listenin elemanlarını bir string değeriyle birleştirmemizi sağlar.\n",
    "liste = [\"Orkun\",\"Orulluoğlu\",\"Merhaba\"]"
   ]
  },
  {
   "cell_type": "code",
   "execution_count": 47,
   "id": "09bc69d9",
   "metadata": {},
   "outputs": [
    {
     "data": {
      "text/plain": [
       "'Orkun-Orulluoğlu-Merhaba'"
      ]
     },
     "execution_count": 47,
     "metadata": {},
     "output_type": "execute_result"
    }
   ],
   "source": [
    "\"-\".join(liste)"
   ]
  },
  {
   "cell_type": "code",
   "execution_count": 48,
   "id": "7e6581d9",
   "metadata": {},
   "outputs": [
    {
     "data": {
      "text/plain": [
       "'08.01.2000'"
      ]
     },
     "execution_count": 48,
     "metadata": {},
     "output_type": "execute_result"
    }
   ],
   "source": [
    "liste1 = [\"08\",\"01\",\"2000\"]\n",
    "\".\".join(liste1)"
   ]
  },
  {
   "cell_type": "code",
   "execution_count": 49,
   "id": "03e31bbe",
   "metadata": {},
   "outputs": [
    {
     "data": {
      "text/plain": [
       "'T.B.M.M'"
      ]
     },
     "execution_count": 49,
     "metadata": {},
     "output_type": "execute_result"
    }
   ],
   "source": [
    "liste2 = [\"T\",\"B\",\"M\",\"M\"]\n",
    "\".\".join(liste2)"
   ]
  },
  {
   "cell_type": "code",
   "execution_count": 50,
   "id": "c865c477",
   "metadata": {},
   "outputs": [],
   "source": [
    "# count() fonksiyonu ise \n",
    "\n",
    "# count(x): Stringin içindeki x değerlerini sayar.\n",
    "# count(x,index): Stringin içindeki x değerlerini verilen index değerinden başlayarak saymaya başlar."
   ]
  },
  {
   "cell_type": "code",
   "execution_count": 51,
   "id": "97bb4355",
   "metadata": {},
   "outputs": [
    {
     "data": {
      "text/plain": [
       "6"
      ]
     },
     "execution_count": 51,
     "metadata": {},
     "output_type": "execute_result"
    }
   ],
   "source": [
    "\"ada kapısı yandan çarklı\".count(\"a\")"
   ]
  },
  {
   "cell_type": "code",
   "execution_count": 52,
   "id": "ebc805c9",
   "metadata": {},
   "outputs": [
    {
     "data": {
      "text/plain": [
       "3"
      ]
     },
     "execution_count": 52,
     "metadata": {},
     "output_type": "execute_result"
    }
   ],
   "source": [
    "\"ada kapısı yandan çarklı\".count(\" \")"
   ]
  },
  {
   "cell_type": "code",
   "execution_count": 53,
   "id": "5ea43e61",
   "metadata": {},
   "outputs": [
    {
     "data": {
      "text/plain": [
       "5"
      ]
     },
     "execution_count": 53,
     "metadata": {},
     "output_type": "execute_result"
    }
   ],
   "source": [
    "\"ada kapısı yandan çarklı\".count(\"a\",2)"
   ]
  },
  {
   "cell_type": "code",
   "execution_count": 54,
   "id": "bb771fa3",
   "metadata": {},
   "outputs": [
    {
     "data": {
      "text/plain": [
       "0"
      ]
     },
     "execution_count": 54,
     "metadata": {},
     "output_type": "execute_result"
    }
   ],
   "source": [
    "# find() ve rfind() metodlarına bakacak olursak ==> \n",
    "\"araba\".find(\"a\")"
   ]
  },
  {
   "cell_type": "code",
   "execution_count": 55,
   "id": "ace1d27c",
   "metadata": {},
   "outputs": [],
   "source": [
    "#find(x): x değerini baştan itibaren string içinde arar ve bulursa ilk bulduğu indeksi döndürür. Bulamazsa \"-1\" değerini verir.\n",
    "\n",
    "#rfind(x): x değerini sondan itibaren string içinde arar ve bulursa ilk bulduğu indeksi döndürür. Bulamazsa \"-1\" değerini verir."
   ]
  },
  {
   "cell_type": "code",
   "execution_count": 56,
   "id": "89207898",
   "metadata": {},
   "outputs": [
    {
     "data": {
      "text/plain": [
       "-1"
      ]
     },
     "execution_count": 56,
     "metadata": {},
     "output_type": "execute_result"
    }
   ],
   "source": [
    "\"araba\".find(\"s\")"
   ]
  },
  {
   "cell_type": "code",
   "execution_count": 57,
   "id": "09afff19",
   "metadata": {},
   "outputs": [
    {
     "data": {
      "text/plain": [
       "4"
      ]
     },
     "execution_count": 57,
     "metadata": {},
     "output_type": "execute_result"
    }
   ],
   "source": [
    "\"araba\".rfind(\"a\")"
   ]
  },
  {
   "cell_type": "code",
   "execution_count": 58,
   "id": "9b2f14c1",
   "metadata": {},
   "outputs": [
    {
     "data": {
      "text/plain": [
       "-1"
      ]
     },
     "execution_count": 58,
     "metadata": {},
     "output_type": "execute_result"
    }
   ],
   "source": [
    "\"araba\".rfind(\"s\")"
   ]
  },
  {
   "cell_type": "code",
   "execution_count": null,
   "id": "3fad6fb6",
   "metadata": {},
   "outputs": [],
   "source": [
    "https://www.tutorialspoint.com/python3/python_strings.htm geri kalanını buradan bakarbilrsin \n",
    "    "
   ]
  }
 ],
 "metadata": {
  "kernelspec": {
   "display_name": "Python 3",
   "language": "python",
   "name": "python3"
  },
  "language_info": {
   "codemirror_mode": {
    "name": "ipython",
    "version": 3
   },
   "file_extension": ".py",
   "mimetype": "text/x-python",
   "name": "python",
   "nbconvert_exporter": "python",
   "pygments_lexer": "ipython3",
   "version": "3.8.8"
  }
 },
 "nbformat": 4,
 "nbformat_minor": 5
}
