{
 "cells": [
  {
   "cell_type": "code",
   "execution_count": 1,
   "id": "e6b4cd57",
   "metadata": {},
   "outputs": [],
   "source": [
    "# append() metodu\n",
    "# append() metodu listenin en sonuna eleman eklememizi sağlar.\n",
    "liste = [1,2,3,4,5,6,7]\n"
   ]
  },
  {
   "cell_type": "code",
   "execution_count": 2,
   "id": "3fb7b1f8",
   "metadata": {},
   "outputs": [],
   "source": [
    "liste.append(47)"
   ]
  },
  {
   "cell_type": "code",
   "execution_count": 3,
   "id": "ad0713f2",
   "metadata": {},
   "outputs": [
    {
     "data": {
      "text/plain": [
       "[1, 2, 3, 4, 5, 6, 7, 47]"
      ]
     },
     "execution_count": 3,
     "metadata": {},
     "output_type": "execute_result"
    }
   ],
   "source": [
    "liste"
   ]
  },
  {
   "cell_type": "code",
   "execution_count": 4,
   "id": "6738f8ac",
   "metadata": {},
   "outputs": [],
   "source": [
    "liste.append(\"Python\")"
   ]
  },
  {
   "cell_type": "code",
   "execution_count": 5,
   "id": "e382638b",
   "metadata": {},
   "outputs": [
    {
     "data": {
      "text/plain": [
       "[1, 2, 3, 4, 5, 6, 7, 47, 'Python']"
      ]
     },
     "execution_count": 5,
     "metadata": {},
     "output_type": "execute_result"
    }
   ],
   "source": [
    "liste"
   ]
  },
  {
   "cell_type": "code",
   "execution_count": 9,
   "id": "7ecf271a",
   "metadata": {},
   "outputs": [],
   "source": [
    "# extend() metodu\n",
    "# extend() metodu bir listeye başka bir listenin elemanları eklememizi sağlar.\n",
    "# listenin üzerine liste ekler!! \n",
    "liste = [1,2,3,4,5,6,7]"
   ]
  },
  {
   "cell_type": "code",
   "execution_count": 10,
   "id": "0e547433",
   "metadata": {},
   "outputs": [],
   "source": [
    "liste.extend([8,9,10,\"Orkun\"])"
   ]
  },
  {
   "cell_type": "code",
   "execution_count": 11,
   "id": "64118668",
   "metadata": {},
   "outputs": [
    {
     "data": {
      "text/plain": [
       "[1, 2, 3, 4, 5, 6, 7, 8, 9, 10, 'Orkun']"
      ]
     },
     "execution_count": 11,
     "metadata": {},
     "output_type": "execute_result"
    }
   ],
   "source": [
    "liste"
   ]
  },
  {
   "cell_type": "code",
   "execution_count": 12,
   "id": "2200b212",
   "metadata": {},
   "outputs": [],
   "source": [
    "liste1 = [10,20,30,40]\n",
    "liste2 = [7,8,9,17,77,\"Orkun\",\"Python\",\"Java\"]"
   ]
  },
  {
   "cell_type": "code",
   "execution_count": 13,
   "id": "7fb5dd81",
   "metadata": {},
   "outputs": [],
   "source": [
    "liste1.extend(liste2)"
   ]
  },
  {
   "cell_type": "code",
   "execution_count": 14,
   "id": "643c27ea",
   "metadata": {},
   "outputs": [
    {
     "data": {
      "text/plain": [
       "[10, 20, 30, 40, 7, 8, 9, 17, 77, 'Orkun', 'Python', 'Java']"
      ]
     },
     "execution_count": 14,
     "metadata": {},
     "output_type": "execute_result"
    }
   ],
   "source": [
    "liste1"
   ]
  },
  {
   "cell_type": "code",
   "execution_count": 15,
   "id": "a85f6d2c",
   "metadata": {},
   "outputs": [],
   "source": [
    "# insert() metodu\n",
    "# insert() metodu listenin belli bir indeksine bir eleman eklememizi sağlar.\n",
    "liste = [1,2,3,4,5,6,7,8,9]"
   ]
  },
  {
   "cell_type": "code",
   "execution_count": 16,
   "id": "4497741d",
   "metadata": {},
   "outputs": [
    {
     "data": {
      "text/plain": [
       "[1, 2, 3, 4, 5, 6, 7, 8, 9]"
      ]
     },
     "execution_count": 16,
     "metadata": {},
     "output_type": "execute_result"
    }
   ],
   "source": [
    "liste"
   ]
  },
  {
   "cell_type": "code",
   "execution_count": 17,
   "id": "5e8960d0",
   "metadata": {},
   "outputs": [],
   "source": [
    "liste.insert(2,\"Orkun\")"
   ]
  },
  {
   "cell_type": "code",
   "execution_count": 18,
   "id": "ff632752",
   "metadata": {},
   "outputs": [
    {
     "data": {
      "text/plain": [
       "[1, 2, 'Orkun', 3, 4, 5, 6, 7, 8, 9]"
      ]
     },
     "execution_count": 18,
     "metadata": {},
     "output_type": "execute_result"
    }
   ],
   "source": [
    "liste"
   ]
  },
  {
   "cell_type": "code",
   "execution_count": 19,
   "id": "e360bd6b",
   "metadata": {},
   "outputs": [],
   "source": [
    "liste.insert(4,\"Merhaba Dünya\")"
   ]
  },
  {
   "cell_type": "code",
   "execution_count": 20,
   "id": "bf3abcd5",
   "metadata": {},
   "outputs": [
    {
     "data": {
      "text/plain": [
       "[1, 2, 'Orkun', 3, 'Merhaba Dünya', 4, 5, 6, 7, 8, 9]"
      ]
     },
     "execution_count": 20,
     "metadata": {},
     "output_type": "execute_result"
    }
   ],
   "source": [
    "liste\n"
   ]
  },
  {
   "cell_type": "code",
   "execution_count": 21,
   "id": "e5534783",
   "metadata": {},
   "outputs": [
    {
     "data": {
      "text/plain": [
       "9"
      ]
     },
     "execution_count": 21,
     "metadata": {},
     "output_type": "execute_result"
    }
   ],
   "source": [
    "# pop() metodu\n",
    "# pop() metodu içine hiçbir değer vermezsek listenin son elemanını silerek ekrana basar. \n",
    "# İçine belli bir indeks değeri verirsek o indeksi siler ve ekrana basar.\n",
    "liste.pop()"
   ]
  },
  {
   "cell_type": "code",
   "execution_count": 22,
   "id": "b19f8774",
   "metadata": {},
   "outputs": [
    {
     "data": {
      "text/plain": [
       "'Orkun'"
      ]
     },
     "execution_count": 22,
     "metadata": {},
     "output_type": "execute_result"
    }
   ],
   "source": [
    "liste.pop(2)"
   ]
  },
  {
   "cell_type": "code",
   "execution_count": 23,
   "id": "48e40fef",
   "metadata": {},
   "outputs": [
    {
     "data": {
      "text/plain": [
       "[1, 2, 3, 'Merhaba Dünya', 4, 5, 6, 7, 8]"
      ]
     },
     "execution_count": 23,
     "metadata": {},
     "output_type": "execute_result"
    }
   ],
   "source": [
    "liste"
   ]
  },
  {
   "cell_type": "code",
   "execution_count": 24,
   "id": "0567f4c8",
   "metadata": {},
   "outputs": [],
   "source": [
    "# remove() metodu\n",
    "# remove() metodu verdiğimiz değeri listeden çıkarmamızı sağlar.\n",
    "liste.remove(\"Merhaba Dünya\")"
   ]
  },
  {
   "cell_type": "code",
   "execution_count": 25,
   "id": "f559675f",
   "metadata": {},
   "outputs": [
    {
     "data": {
      "text/plain": [
       "[1, 2, 3, 4, 5, 6, 7, 8]"
      ]
     },
     "execution_count": 25,
     "metadata": {},
     "output_type": "execute_result"
    }
   ],
   "source": [
    "liste"
   ]
  },
  {
   "cell_type": "code",
   "execution_count": 1,
   "id": "2f1d6687",
   "metadata": {},
   "outputs": [],
   "source": [
    "# index() metodu ==> \n",
    "# index() metodu verilen bir değerin baştan başlayarak hangi indekste olduğunu söyler.\n",
    "# Değer listede yoksa hata döner. Eğer ekstra index değeri belirtilirse, \n",
    "# index metodu() değeri bu indeksten itibaren aramaya çalışır.\n",
    "liste = [1,2,3,4,3,3,5,6,7,8,9]"
   ]
  },
  {
   "cell_type": "code",
   "execution_count": 2,
   "id": "39afbe96",
   "metadata": {},
   "outputs": [
    {
     "data": {
      "text/plain": [
       "2"
      ]
     },
     "execution_count": 2,
     "metadata": {},
     "output_type": "execute_result"
    }
   ],
   "source": [
    "liste.index(3)"
   ]
  },
  {
   "cell_type": "code",
   "execution_count": 3,
   "id": "5aadfe7f",
   "metadata": {},
   "outputs": [
    {
     "data": {
      "text/plain": [
       "4"
      ]
     },
     "execution_count": 3,
     "metadata": {},
     "output_type": "execute_result"
    }
   ],
   "source": [
    "liste.index(3,3)"
   ]
  },
  {
   "cell_type": "code",
   "execution_count": 4,
   "id": "9d289e20",
   "metadata": {},
   "outputs": [
    {
     "ename": "ValueError",
     "evalue": "10 is not in list",
     "output_type": "error",
     "traceback": [
      "\u001b[1;31m---------------------------------------------------------------------------\u001b[0m",
      "\u001b[1;31mValueError\u001b[0m                                Traceback (most recent call last)",
      "\u001b[1;32m<ipython-input-4-aee4efc7fde2>\u001b[0m in \u001b[0;36m<module>\u001b[1;34m\u001b[0m\n\u001b[0;32m      1\u001b[0m \u001b[1;31m# listede olmayan bir şeyi aramaya çalışırsak hata dönderir\u001b[0m\u001b[1;33m\u001b[0m\u001b[1;33m\u001b[0m\u001b[1;33m\u001b[0m\u001b[0m\n\u001b[1;32m----> 2\u001b[1;33m \u001b[0mliste\u001b[0m\u001b[1;33m.\u001b[0m\u001b[0mindex\u001b[0m\u001b[1;33m(\u001b[0m\u001b[1;36m10\u001b[0m\u001b[1;33m)\u001b[0m\u001b[1;33m\u001b[0m\u001b[1;33m\u001b[0m\u001b[0m\n\u001b[0m",
      "\u001b[1;31mValueError\u001b[0m: 10 is not in list"
     ]
    }
   ],
   "source": [
    "# listede olmayan bir şeyi aramaya çalışırsak hata dönderir \n",
    "liste.index(10)"
   ]
  },
  {
   "cell_type": "code",
   "execution_count": 5,
   "id": "c2ae59a8",
   "metadata": {},
   "outputs": [],
   "source": [
    "# count() metodu ==> \n",
    "# count() metodu verilen bir değerin listede kaç defa geçtiğini sayar. \n",
    "liste = [1,2,3,4,5,6,1,1,1,1,1,1,1,1,8]"
   ]
  },
  {
   "cell_type": "code",
   "execution_count": 6,
   "id": "2da8ce5b",
   "metadata": {},
   "outputs": [
    {
     "data": {
      "text/plain": [
       "9"
      ]
     },
     "execution_count": 6,
     "metadata": {},
     "output_type": "execute_result"
    }
   ],
   "source": [
    "liste.count(1)"
   ]
  },
  {
   "cell_type": "code",
   "execution_count": 7,
   "id": "c196b8dc",
   "metadata": {},
   "outputs": [
    {
     "data": {
      "text/plain": [
       "0"
      ]
     },
     "execution_count": 7,
     "metadata": {},
     "output_type": "execute_result"
    }
   ],
   "source": [
    "liste.count(10)"
   ]
  },
  {
   "cell_type": "code",
   "execution_count": 8,
   "id": "ee5d94aa",
   "metadata": {},
   "outputs": [
    {
     "data": {
      "text/plain": [
       "1"
      ]
     },
     "execution_count": 8,
     "metadata": {},
     "output_type": "execute_result"
    }
   ],
   "source": [
    "liste.count(5)"
   ]
  },
  {
   "cell_type": "code",
   "execution_count": 9,
   "id": "3754a36a",
   "metadata": {},
   "outputs": [],
   "source": [
    "# sort() metodu ==> \n",
    "# sort() metodu bir listenin elemanlarını sayıysa küçükten büyüğe , string ise alfabetik olarak sıralar.\n",
    "# Eğer özellikle içine reverse = True değeri verilirse elemanları büyükten küçüğe sıralar.\n",
    "liste = [12,-2,3,1,34,100]"
   ]
  },
  {
   "cell_type": "code",
   "execution_count": 10,
   "id": "b156aeea",
   "metadata": {},
   "outputs": [],
   "source": [
    "liste.sort()"
   ]
  },
  {
   "cell_type": "code",
   "execution_count": 11,
   "id": "f297d145",
   "metadata": {},
   "outputs": [
    {
     "data": {
      "text/plain": [
       "[-2, 1, 3, 12, 34, 100]"
      ]
     },
     "execution_count": 11,
     "metadata": {},
     "output_type": "execute_result"
    }
   ],
   "source": [
    "liste"
   ]
  },
  {
   "cell_type": "code",
   "execution_count": 12,
   "id": "de9b4459",
   "metadata": {},
   "outputs": [],
   "source": [
    "liste2 = [\"Python\",\"Php\",\"C\",\"Java\"]"
   ]
  },
  {
   "cell_type": "code",
   "execution_count": 13,
   "id": "0802b461",
   "metadata": {},
   "outputs": [],
   "source": [
    "liste2.sort()"
   ]
  },
  {
   "cell_type": "code",
   "execution_count": 14,
   "id": "0d6167d8",
   "metadata": {},
   "outputs": [
    {
     "data": {
      "text/plain": [
       "['C', 'Java', 'Php', 'Python']"
      ]
     },
     "execution_count": 14,
     "metadata": {},
     "output_type": "execute_result"
    }
   ],
   "source": [
    "liste2"
   ]
  },
  {
   "cell_type": "code",
   "execution_count": 18,
   "id": "0ead5606",
   "metadata": {},
   "outputs": [],
   "source": [
    "# reverse = True özelliği vardır bir de dikkat et ==> \n",
    "# bu özellik sayesinde büyükten küçüğe doğru bir sıralama görülecek !!! \n",
    "liste = [12,-2,3,1,34,100]"
   ]
  },
  {
   "cell_type": "code",
   "execution_count": 19,
   "id": "6a376cd1",
   "metadata": {},
   "outputs": [],
   "source": [
    "liste.sort(reverse = True)"
   ]
  },
  {
   "cell_type": "code",
   "execution_count": 20,
   "id": "b2e929d0",
   "metadata": {},
   "outputs": [
    {
     "data": {
      "text/plain": [
       "[100, 34, 12, 3, 1, -2]"
      ]
     },
     "execution_count": 20,
     "metadata": {},
     "output_type": "execute_result"
    }
   ],
   "source": [
    "liste"
   ]
  },
  {
   "cell_type": "code",
   "execution_count": null,
   "id": "9d7a6968",
   "metadata": {},
   "outputs": [],
   "source": []
  }
 ],
 "metadata": {
  "kernelspec": {
   "display_name": "Python 3",
   "language": "python",
   "name": "python3"
  },
  "language_info": {
   "codemirror_mode": {
    "name": "ipython",
    "version": 3
   },
   "file_extension": ".py",
   "mimetype": "text/x-python",
   "name": "python",
   "nbconvert_exporter": "python",
   "pygments_lexer": "ipython3",
   "version": "3.8.8"
  }
 },
 "nbformat": 4,
 "nbformat_minor": 5
}
