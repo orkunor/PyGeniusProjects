{
 "cells": [
  {
   "cell_type": "code",
   "execution_count": 5,
   "id": "8e77aa51",
   "metadata": {},
   "outputs": [
    {
     "data": {
      "text/plain": [
       "'0b100'"
      ]
     },
     "execution_count": 5,
     "metadata": {},
     "output_type": "execute_result"
    }
   ],
   "source": [
    "#Şimdi isterseniz 10'luk tabandaki bir sayıyı ikilik tabana çevirmek için kullanılan bin() fonksiyonuna bakalım\n",
    "# bin() fonksiyonu 10'luk tabandaki bir sayıyı 2'lik tabana çevirmek için kullanılır !!! \n",
    "bin(4) # 0 0 1 sayısıymış "
   ]
  },
  {
   "cell_type": "code",
   "execution_count": 6,
   "id": "a0f2ef36",
   "metadata": {},
   "outputs": [
    {
     "data": {
      "text/plain": [
       "'0b10011'"
      ]
     },
     "execution_count": 6,
     "metadata": {},
     "output_type": "execute_result"
    }
   ],
   "source": [
    "bin(19) # 1 1 0 0 1 sayısıymış ==> sondan b'ye kadar ==> 2^0 * 1 + 2^1 * 1 + 2^2 * 0 + 2^3 * 0 + 2^4 * 1 = 19"
   ]
  },
  {
   "cell_type": "code",
   "execution_count": 7,
   "id": "3003420d",
   "metadata": {},
   "outputs": [
    {
     "data": {
      "text/plain": [
       "'0b110111101'"
      ]
     },
     "execution_count": 7,
     "metadata": {},
     "output_type": "execute_result"
    }
   ],
   "source": [
    "bin(445) # 1 0 1 1 1 1 0 1 1 sayısıymış ==> 445"
   ]
  },
  {
   "cell_type": "code",
   "execution_count": 8,
   "id": "efcad7fa",
   "metadata": {},
   "outputs": [],
   "source": [
    "# Şimdi de 10'luk tabandaki bir sayıyı 16'lık tabana çevirmek için kullanılan hex() fonksiyonuna bakalım. \n",
    "# 10'luk tabandaki bir sayıyı 16'lık tabana çevirirken hex() fonksiyonu kullanırız !!! \n"
   ]
  },
  {
   "cell_type": "code",
   "execution_count": 10,
   "id": "178b1ca5",
   "metadata": {},
   "outputs": [
    {
     "data": {
      "text/plain": [
       "'0x14'"
      ]
     },
     "execution_count": 10,
     "metadata": {},
     "output_type": "execute_result"
    }
   ],
   "source": [
    "hex(20) # 4 1 sayısıymış 16'lık tabanda ==> sondan x'e kadar 16^0 * 4 + 16^1 * 1 = 20"
   ]
  },
  {
   "cell_type": "code",
   "execution_count": 11,
   "id": "55d544f8",
   "metadata": {},
   "outputs": [
    {
     "data": {
      "text/plain": [
       "'0x4'"
      ]
     },
     "execution_count": 11,
     "metadata": {},
     "output_type": "execute_result"
    }
   ],
   "source": [
    "hex(4)"
   ]
  },
  {
   "cell_type": "code",
   "execution_count": 12,
   "id": "a34838b6",
   "metadata": {},
   "outputs": [
    {
     "data": {
      "text/plain": [
       "'0xea'"
      ]
     },
     "execution_count": 12,
     "metadata": {},
     "output_type": "execute_result"
    }
   ],
   "source": [
    "hex(234)"
   ]
  },
  {
   "cell_type": "code",
   "execution_count": 13,
   "id": "64b889a4",
   "metadata": {},
   "outputs": [
    {
     "data": {
      "text/plain": [
       "'0x200'"
      ]
     },
     "execution_count": 13,
     "metadata": {},
     "output_type": "execute_result"
    }
   ],
   "source": [
    "hex(512)"
   ]
  },
  {
   "cell_type": "code",
   "execution_count": 14,
   "id": "9ff2e50f",
   "metadata": {},
   "outputs": [],
   "source": [
    "#  0,1,2,3,4,5,6,7,8,9, A, B, C, D, E, F, 10,11 ==>  10 yerine A\n",
    "                                                   # 11 yerine B\n",
    "                                                   # 12 yerine C\n",
    "                                                   # 13 yerine D\n",
    "                                                   # 14 yerine E\n",
    "                                                   # 15 yerine F"
   ]
  },
  {
   "cell_type": "code",
   "execution_count": 15,
   "id": "6f20ebb2",
   "metadata": {},
   "outputs": [
    {
     "data": {
      "text/plain": [
       "21"
      ]
     },
     "execution_count": 15,
     "metadata": {},
     "output_type": "execute_result"
    }
   ],
   "source": [
    "# abs() fonksiyonu ==> herhangi bir sayının mutlak değerini almamızı sağlıyor !! \n",
    "abs(-21)"
   ]
  },
  {
   "cell_type": "code",
   "execution_count": 16,
   "id": "920c8d77",
   "metadata": {},
   "outputs": [
    {
     "data": {
      "text/plain": [
       "4"
      ]
     },
     "execution_count": 16,
     "metadata": {},
     "output_type": "execute_result"
    }
   ],
   "source": [
    "abs(-4)"
   ]
  },
  {
   "cell_type": "code",
   "execution_count": 17,
   "id": "c571cb64",
   "metadata": {},
   "outputs": [
    {
     "data": {
      "text/plain": [
       "5"
      ]
     },
     "execution_count": 17,
     "metadata": {},
     "output_type": "execute_result"
    }
   ],
   "source": [
    "abs(-5)"
   ]
  },
  {
   "cell_type": "code",
   "execution_count": 18,
   "id": "98e50725",
   "metadata": {},
   "outputs": [
    {
     "data": {
      "text/plain": [
       "1.4"
      ]
     },
     "execution_count": 18,
     "metadata": {},
     "output_type": "execute_result"
    }
   ],
   "source": [
    "abs(-1.4)"
   ]
  },
  {
   "cell_type": "code",
   "execution_count": 19,
   "id": "7913648c",
   "metadata": {},
   "outputs": [
    {
     "data": {
      "text/plain": [
       "5"
      ]
     },
     "execution_count": 19,
     "metadata": {},
     "output_type": "execute_result"
    }
   ],
   "source": [
    "abs(5) "
   ]
  },
  {
   "cell_type": "code",
   "execution_count": 20,
   "id": "972fde8e",
   "metadata": {},
   "outputs": [
    {
     "data": {
      "text/plain": [
       "5"
      ]
     },
     "execution_count": 20,
     "metadata": {},
     "output_type": "execute_result"
    }
   ],
   "source": [
    "# round()  fonksiyonu ise sayıları yuvarlamak için kullanırız !! \n",
    "round(4.7)"
   ]
  },
  {
   "cell_type": "code",
   "execution_count": 21,
   "id": "a8699eab",
   "metadata": {},
   "outputs": [
    {
     "data": {
      "text/plain": [
       "7"
      ]
     },
     "execution_count": 21,
     "metadata": {},
     "output_type": "execute_result"
    }
   ],
   "source": [
    "round(6.76)"
   ]
  },
  {
   "cell_type": "code",
   "execution_count": 22,
   "id": "c2938706",
   "metadata": {},
   "outputs": [
    {
     "data": {
      "text/plain": [
       "5"
      ]
     },
     "execution_count": 22,
     "metadata": {},
     "output_type": "execute_result"
    }
   ],
   "source": [
    "round(4.6)"
   ]
  },
  {
   "cell_type": "code",
   "execution_count": 23,
   "id": "b0cb9453",
   "metadata": {},
   "outputs": [
    {
     "data": {
      "text/plain": [
       "4"
      ]
     },
     "execution_count": 23,
     "metadata": {},
     "output_type": "execute_result"
    }
   ],
   "source": [
    "round(4.5)"
   ]
  },
  {
   "cell_type": "code",
   "execution_count": 24,
   "id": "99416e58",
   "metadata": {},
   "outputs": [
    {
     "data": {
      "text/plain": [
       "8"
      ]
     },
     "execution_count": 24,
     "metadata": {},
     "output_type": "execute_result"
    }
   ],
   "source": [
    "round(8.5)"
   ]
  },
  {
   "cell_type": "code",
   "execution_count": 25,
   "id": "a87cfb3b",
   "metadata": {},
   "outputs": [
    {
     "data": {
      "text/plain": [
       "10"
      ]
     },
     "execution_count": 25,
     "metadata": {},
     "output_type": "execute_result"
    }
   ],
   "source": [
    "round(9.5)"
   ]
  },
  {
   "cell_type": "code",
   "execution_count": 26,
   "id": "a4e1adb4",
   "metadata": {},
   "outputs": [
    {
     "data": {
      "text/plain": [
       "3.223"
      ]
     },
     "execution_count": 26,
     "metadata": {},
     "output_type": "execute_result"
    }
   ],
   "source": [
    "round(3.2229,3)"
   ]
  },
  {
   "cell_type": "code",
   "execution_count": 27,
   "id": "7f663722",
   "metadata": {},
   "outputs": [
    {
     "data": {
      "text/plain": [
       "7.457"
      ]
     },
     "execution_count": 27,
     "metadata": {},
     "output_type": "execute_result"
    }
   ],
   "source": [
    "round(7.456754,3)"
   ]
  },
  {
   "cell_type": "code",
   "execution_count": 28,
   "id": "692682db",
   "metadata": {},
   "outputs": [],
   "source": [
    "# bir diğer fonksiyonlar max() ve min() fonksiyonlarıdır !!! \n",
    "# max fonksiyonu verdiğimiz değerlerin en büyüğünü dönderir \n",
    "# min() fonksiyonu ise verdiğimiz değerlerin en küçüğünü dönderir"
   ]
  },
  {
   "cell_type": "code",
   "execution_count": 30,
   "id": "b40c3980",
   "metadata": {},
   "outputs": [
    {
     "data": {
      "text/plain": [
       "576"
      ]
     },
     "execution_count": 30,
     "metadata": {},
     "output_type": "execute_result"
    }
   ],
   "source": [
    "max([23,34,54,38,98,345,45,576])  "
   ]
  },
  {
   "cell_type": "code",
   "execution_count": 31,
   "id": "680d51eb",
   "metadata": {},
   "outputs": [
    {
     "data": {
      "text/plain": [
       "34"
      ]
     },
     "execution_count": 31,
     "metadata": {},
     "output_type": "execute_result"
    }
   ],
   "source": [
    "max(3,4,5,6,7,10,19,34,-56)"
   ]
  },
  {
   "cell_type": "code",
   "execution_count": 32,
   "id": "ecc3f36c",
   "metadata": {},
   "outputs": [
    {
     "data": {
      "text/plain": [
       "-56"
      ]
     },
     "execution_count": 32,
     "metadata": {},
     "output_type": "execute_result"
    }
   ],
   "source": [
    "min(3,4,5,6,7,10,19,34,-56)"
   ]
  },
  {
   "cell_type": "code",
   "execution_count": 1,
   "id": "8b7b4bbc",
   "metadata": {},
   "outputs": [
    {
     "data": {
      "text/plain": [
       "-56"
      ]
     },
     "execution_count": 1,
     "metadata": {},
     "output_type": "execute_result"
    }
   ],
   "source": [
    "min((3,4,5,6,7,10,19,34,-56))"
   ]
  },
  {
   "cell_type": "code",
   "execution_count": 2,
   "id": "a589fed3",
   "metadata": {},
   "outputs": [
    {
     "data": {
      "text/plain": [
       "12"
      ]
     },
     "execution_count": 2,
     "metadata": {},
     "output_type": "execute_result"
    }
   ],
   "source": [
    "# bir diğer fonksiyon ise sum() fonksiyonudur bu fonksiyona mutlaka demet veya liste göndermemiz gerekmektedir!!! \n",
    "sum([3,4,5])"
   ]
  },
  {
   "cell_type": "code",
   "execution_count": 5,
   "id": "172b29d0",
   "metadata": {},
   "outputs": [
    {
     "ename": "TypeError",
     "evalue": "unsupported operand type(s) for +: 'int' and 'str'",
     "output_type": "error",
     "traceback": [
      "\u001b[1;31m---------------------------------------------------------------------------\u001b[0m",
      "\u001b[1;31mTypeError\u001b[0m                                 Traceback (most recent call last)",
      "\u001b[1;32m<ipython-input-5-6b68dc283fcb>\u001b[0m in \u001b[0;36m<module>\u001b[1;34m\u001b[0m\n\u001b[0;32m      1\u001b[0m \u001b[1;31m# toplamlarını döner !!!\u001b[0m\u001b[1;33m\u001b[0m\u001b[1;33m\u001b[0m\u001b[1;33m\u001b[0m\u001b[0m\n\u001b[1;32m----> 2\u001b[1;33m \u001b[0msum\u001b[0m\u001b[1;33m(\u001b[0m\u001b[1;33m(\u001b[0m\u001b[1;36m1\u001b[0m\u001b[1;33m,\u001b[0m\u001b[1;36m2\u001b[0m\u001b[1;33m,\u001b[0m\u001b[1;34m\"Python\"\u001b[0m\u001b[1;33m,\u001b[0m\u001b[1;36m4\u001b[0m\u001b[1;33m,\u001b[0m\u001b[1;36m5\u001b[0m\u001b[1;33m,\u001b[0m\u001b[1;36m6\u001b[0m\u001b[1;33m)\u001b[0m\u001b[1;33m)\u001b[0m\u001b[1;33m\u001b[0m\u001b[1;33m\u001b[0m\u001b[0m\n\u001b[0m",
      "\u001b[1;31mTypeError\u001b[0m: unsupported operand type(s) for +: 'int' and 'str'"
     ]
    }
   ],
   "source": [
    "# toplamlarını döner !!! \n",
    "sum((1,2,\"Python\",4,5,6))"
   ]
  },
  {
   "cell_type": "code",
   "execution_count": 6,
   "id": "9ecd155b",
   "metadata": {},
   "outputs": [],
   "source": [
    "# stringler sayılarla toplanamaz bu yüzden hata aldık "
   ]
  },
  {
   "cell_type": "code",
   "execution_count": 7,
   "id": "01012b5d",
   "metadata": {},
   "outputs": [
    {
     "data": {
      "text/plain": [
       "21.4"
      ]
     },
     "execution_count": 7,
     "metadata": {},
     "output_type": "execute_result"
    }
   ],
   "source": [
    "sum((1,2,3.4,4,5,6))"
   ]
  },
  {
   "cell_type": "code",
   "execution_count": 8,
   "id": "7a22053c",
   "metadata": {},
   "outputs": [
    {
     "data": {
      "text/plain": [
       "16"
      ]
     },
     "execution_count": 8,
     "metadata": {},
     "output_type": "execute_result"
    }
   ],
   "source": [
    "# bir diğer fonksiyon ise pow() fonksiyonudur !! \n",
    "# pow() fonksiyonu kuvvetlerini alırken pow() kullanılır !! \n",
    "pow(2,4)"
   ]
  },
  {
   "cell_type": "code",
   "execution_count": 9,
   "id": "464ff23e",
   "metadata": {},
   "outputs": [
    {
     "data": {
      "text/plain": [
       "225"
      ]
     },
     "execution_count": 9,
     "metadata": {},
     "output_type": "execute_result"
    }
   ],
   "source": [
    "pow(15,2)"
   ]
  },
  {
   "cell_type": "code",
   "execution_count": 10,
   "id": "52ad7e5b",
   "metadata": {},
   "outputs": [
    {
     "data": {
      "text/plain": [
       "16807"
      ]
     },
     "execution_count": 10,
     "metadata": {},
     "output_type": "execute_result"
    }
   ],
   "source": [
    "pow(7,5)"
   ]
  },
  {
   "cell_type": "code",
   "execution_count": 11,
   "id": "568a4c4e",
   "metadata": {},
   "outputs": [
    {
     "data": {
      "text/plain": [
       "64"
      ]
     },
     "execution_count": 11,
     "metadata": {},
     "output_type": "execute_result"
    }
   ],
   "source": [
    "pow(2,6)"
   ]
  },
  {
   "cell_type": "code",
   "execution_count": 12,
   "id": "e66d6a71",
   "metadata": {},
   "outputs": [
    {
     "data": {
      "text/plain": [
       "64"
      ]
     },
     "execution_count": 12,
     "metadata": {},
     "output_type": "execute_result"
    }
   ],
   "source": [
    "2 ** 6"
   ]
  },
  {
   "cell_type": "code",
   "execution_count": 13,
   "id": "f58223cb",
   "metadata": {},
   "outputs": [
    {
     "data": {
      "text/plain": [
       "16807"
      ]
     },
     "execution_count": 13,
     "metadata": {},
     "output_type": "execute_result"
    }
   ],
   "source": [
    "7 ** 5"
   ]
  },
  {
   "cell_type": "code",
   "execution_count": 14,
   "id": "5d6d6d8a",
   "metadata": {},
   "outputs": [
    {
     "data": {
      "text/plain": [
       "289"
      ]
     },
     "execution_count": 14,
     "metadata": {},
     "output_type": "execute_result"
    }
   ],
   "source": [
    "pow(17,2)"
   ]
  },
  {
   "cell_type": "code",
   "execution_count": 15,
   "id": "cef58c6a",
   "metadata": {},
   "outputs": [
    {
     "data": {
      "text/plain": [
       "3.9999999999999996"
      ]
     },
     "execution_count": 15,
     "metadata": {},
     "output_type": "execute_result"
    }
   ],
   "source": [
    "pow(64,1/3)"
   ]
  },
  {
   "cell_type": "code",
   "execution_count": null,
   "id": "7db68804",
   "metadata": {},
   "outputs": [],
   "source": []
  }
 ],
 "metadata": {
  "kernelspec": {
   "display_name": "Python 3",
   "language": "python",
   "name": "python3"
  },
  "language_info": {
   "codemirror_mode": {
    "name": "ipython",
    "version": 3
   },
   "file_extension": ".py",
   "mimetype": "text/x-python",
   "name": "python",
   "nbconvert_exporter": "python",
   "pygments_lexer": "ipython3",
   "version": "3.8.8"
  }
 },
 "nbformat": 4,
 "nbformat_minor": 5
}
