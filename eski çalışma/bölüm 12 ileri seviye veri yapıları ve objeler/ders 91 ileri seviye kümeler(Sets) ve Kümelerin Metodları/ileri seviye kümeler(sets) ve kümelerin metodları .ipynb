{
 "cells": [
  {
   "cell_type": "code",
   "execution_count": 1,
   "id": "d8b599a5",
   "metadata": {},
   "outputs": [],
   "source": [
    "# kümeler matematikte olduğu gibi bir elemandan sadece bir tane tutan veri tipidir !! \n",
    "# bu açıdan kullanıldıkları yerlerde çok önemli veri tipleridir !! \n",
    "# küme oluşturmak için süslü parantez kullanırız !!!"
   ]
  },
  {
   "cell_type": "code",
   "execution_count": 2,
   "id": "dd055203",
   "metadata": {},
   "outputs": [],
   "source": [
    "x = {1,2,3}"
   ]
  },
  {
   "cell_type": "code",
   "execution_count": 3,
   "id": "593c8c7c",
   "metadata": {},
   "outputs": [
    {
     "data": {
      "text/plain": [
       "set"
      ]
     },
     "execution_count": 3,
     "metadata": {},
     "output_type": "execute_result"
    }
   ],
   "source": [
    "type(x)"
   ]
  },
  {
   "cell_type": "code",
   "execution_count": 4,
   "id": "14a314a2",
   "metadata": {},
   "outputs": [],
   "source": [
    "# boş küme tanımlarken ==> \n",
    "a = set()"
   ]
  },
  {
   "cell_type": "code",
   "execution_count": 6,
   "id": "d3b5cf68",
   "metadata": {},
   "outputs": [
    {
     "data": {
      "text/plain": [
       "set"
      ]
     },
     "execution_count": 6,
     "metadata": {},
     "output_type": "execute_result"
    }
   ],
   "source": [
    "type(a)"
   ]
  },
  {
   "cell_type": "code",
   "execution_count": 7,
   "id": "6313b669",
   "metadata": {},
   "outputs": [],
   "source": [
    "liste = [1,2,3,3,1,1,2,2,2]"
   ]
  },
  {
   "cell_type": "code",
   "execution_count": 8,
   "id": "f28c0599",
   "metadata": {},
   "outputs": [],
   "source": [
    "x = set(liste)"
   ]
  },
  {
   "cell_type": "code",
   "execution_count": 9,
   "id": "acdc6f24",
   "metadata": {},
   "outputs": [
    {
     "data": {
      "text/plain": [
       "{1, 2, 3}"
      ]
     },
     "execution_count": 9,
     "metadata": {},
     "output_type": "execute_result"
    }
   ],
   "source": [
    "x"
   ]
  },
  {
   "cell_type": "code",
   "execution_count": 12,
   "id": "2d8cf1f1",
   "metadata": {},
   "outputs": [],
   "source": [
    "# kümeler tekrarlanan karakterleri tek'e düşürür !!! \n",
    "x = set(\"Python Programlama Dili\")"
   ]
  },
  {
   "cell_type": "code",
   "execution_count": 13,
   "id": "812981ce",
   "metadata": {},
   "outputs": [
    {
     "data": {
      "text/plain": [
       "{' ', 'D', 'P', 'a', 'g', 'h', 'i', 'l', 'm', 'n', 'o', 'r', 't', 'y'}"
      ]
     },
     "execution_count": 13,
     "metadata": {},
     "output_type": "execute_result"
    }
   ],
   "source": [
    "x"
   ]
  },
  {
   "cell_type": "code",
   "execution_count": 14,
   "id": "54af925a",
   "metadata": {},
   "outputs": [],
   "source": [
    "x = {\"Python\",\"PhP\",\"Python\"}"
   ]
  },
  {
   "cell_type": "code",
   "execution_count": 15,
   "id": "cfd3d0cf",
   "metadata": {},
   "outputs": [
    {
     "data": {
      "text/plain": [
       "{'PhP', 'Python'}"
      ]
     },
     "execution_count": 15,
     "metadata": {},
     "output_type": "execute_result"
    }
   ],
   "source": [
    "x"
   ]
  },
  {
   "cell_type": "code",
   "execution_count": 16,
   "id": "a6a2ce84",
   "metadata": {},
   "outputs": [],
   "source": [
    "x = {\"Elma\",\"Armut\",\"Kiraz\",\"Muz\"}"
   ]
  },
  {
   "cell_type": "code",
   "execution_count": 17,
   "id": "d4636920",
   "metadata": {},
   "outputs": [
    {
     "name": "stdout",
     "output_type": "stream",
     "text": [
      "Muz\n",
      "Armut\n",
      "Kiraz\n",
      "Elma\n"
     ]
    }
   ],
   "source": [
    "for i in x:\n",
    "    print(i)"
   ]
  },
  {
   "cell_type": "code",
   "execution_count": 18,
   "id": "4940f9ef",
   "metadata": {},
   "outputs": [],
   "source": [
    "# peki bir kümenin elemanlarına direkt ulaşabilir miyiz ? \n",
    "x = {\"Python\",\"PhP\",\"Java\",\"Javascript\"}"
   ]
  },
  {
   "cell_type": "code",
   "execution_count": 19,
   "id": "438b8ac3",
   "metadata": {},
   "outputs": [
    {
     "ename": "TypeError",
     "evalue": "'set' object is not subscriptable",
     "output_type": "error",
     "traceback": [
      "\u001b[1;31m---------------------------------------------------------------------------\u001b[0m",
      "\u001b[1;31mTypeError\u001b[0m                                 Traceback (most recent call last)",
      "\u001b[1;32m<ipython-input-19-2f755f117ac9>\u001b[0m in \u001b[0;36m<module>\u001b[1;34m\u001b[0m\n\u001b[1;32m----> 1\u001b[1;33m \u001b[0mx\u001b[0m\u001b[1;33m[\u001b[0m\u001b[1;36m0\u001b[0m\u001b[1;33m]\u001b[0m\u001b[1;33m\u001b[0m\u001b[1;33m\u001b[0m\u001b[0m\n\u001b[0m",
      "\u001b[1;31mTypeError\u001b[0m: 'set' object is not subscriptable"
     ]
    }
   ],
   "source": [
    "x[0]"
   ]
  },
  {
   "cell_type": "code",
   "execution_count": 22,
   "id": "b5eb73ec",
   "metadata": {},
   "outputs": [],
   "source": [
    "#göründüğü üzere olmadı bunu yapabilmek için bir tane listeye çeviririz !! \n",
    "liste = list(x)"
   ]
  },
  {
   "cell_type": "code",
   "execution_count": 24,
   "id": "60e5a7ca",
   "metadata": {},
   "outputs": [
    {
     "data": {
      "text/plain": [
       "['PhP', 'Javascript', 'Java', 'Python']"
      ]
     },
     "execution_count": 24,
     "metadata": {},
     "output_type": "execute_result"
    }
   ],
   "source": [
    "liste"
   ]
  },
  {
   "cell_type": "code",
   "execution_count": 25,
   "id": "b64c946c",
   "metadata": {},
   "outputs": [
    {
     "data": {
      "text/plain": [
       "'Javascript'"
      ]
     },
     "execution_count": 25,
     "metadata": {},
     "output_type": "execute_result"
    }
   ],
   "source": [
    "liste[1]"
   ]
  },
  {
   "cell_type": "code",
   "execution_count": 26,
   "id": "4a683930",
   "metadata": {},
   "outputs": [
    {
     "data": {
      "text/plain": [
       "'PhP'"
      ]
     },
     "execution_count": 26,
     "metadata": {},
     "output_type": "execute_result"
    }
   ],
   "source": [
    "liste[0]"
   ]
  },
  {
   "cell_type": "code",
   "execution_count": 27,
   "id": "bbe12e1d",
   "metadata": {},
   "outputs": [
    {
     "name": "stdout",
     "output_type": "stream",
     "text": [
      "PhP\n",
      "Javascript\n",
      "Java\n",
      "Python\n"
     ]
    }
   ],
   "source": [
    "for i in liste:\n",
    "    print(i)"
   ]
  },
  {
   "cell_type": "code",
   "execution_count": 28,
   "id": "6c02ab6d",
   "metadata": {},
   "outputs": [],
   "source": [
    "# kümelerin metodaları ==> \n",
    "# add() metodu kümeye eleman ekleme işlemi yapar aynı elemanı eklemez çünkü kümede tekrar yoktur !! \n",
    "x = {1,2,3}"
   ]
  },
  {
   "cell_type": "code",
   "execution_count": 29,
   "id": "316ea634",
   "metadata": {},
   "outputs": [],
   "source": [
    "x.add(4)"
   ]
  },
  {
   "cell_type": "code",
   "execution_count": 30,
   "id": "7b237a70",
   "metadata": {},
   "outputs": [
    {
     "data": {
      "text/plain": [
       "{1, 2, 3, 4}"
      ]
     },
     "execution_count": 30,
     "metadata": {},
     "output_type": "execute_result"
    }
   ],
   "source": [
    "x"
   ]
  },
  {
   "cell_type": "code",
   "execution_count": 31,
   "id": "64cf9554",
   "metadata": {},
   "outputs": [],
   "source": [
    "x.add(5)"
   ]
  },
  {
   "cell_type": "code",
   "execution_count": 32,
   "id": "b5038eb3",
   "metadata": {},
   "outputs": [
    {
     "data": {
      "text/plain": [
       "{1, 2, 3, 4, 5}"
      ]
     },
     "execution_count": 32,
     "metadata": {},
     "output_type": "execute_result"
    }
   ],
   "source": [
    "x"
   ]
  },
  {
   "cell_type": "code",
   "execution_count": 35,
   "id": "67002585",
   "metadata": {},
   "outputs": [],
   "source": [
    "# difference() metodu ==> \n",
    "# Bu metod birinci kümenin ikinci kümeden farkını döner.\n",
    "# küme1.difference(küme2) # Küme1'in Küme2'den farkı\n",
    "# farklılığı arıyoruz çıkartma işlemi değil!!! \n",
    "küme1 = {1,2,3,10,34,100,-2}\n",
    "küme2 = {1,2,23,34,-1}"
   ]
  },
  {
   "cell_type": "code",
   "execution_count": 36,
   "id": "f4a57110",
   "metadata": {},
   "outputs": [
    {
     "data": {
      "text/plain": [
       "{-2, 3, 10, 100}"
      ]
     },
     "execution_count": 36,
     "metadata": {},
     "output_type": "execute_result"
    }
   ],
   "source": [
    "küme1.difference(küme2)"
   ]
  },
  {
   "cell_type": "code",
   "execution_count": 37,
   "id": "6421d2d5",
   "metadata": {},
   "outputs": [
    {
     "data": {
      "text/plain": [
       "{-1, 23}"
      ]
     },
     "execution_count": 37,
     "metadata": {},
     "output_type": "execute_result"
    }
   ],
   "source": [
    "küme2.difference(küme1)"
   ]
  },
  {
   "cell_type": "code",
   "execution_count": 38,
   "id": "04b28f32",
   "metadata": {},
   "outputs": [
    {
     "data": {
      "text/plain": [
       "{-2, 1, 2, 3, 10, 34, 100}"
      ]
     },
     "execution_count": 38,
     "metadata": {},
     "output_type": "execute_result"
    }
   ],
   "source": [
    "küme1"
   ]
  },
  {
   "cell_type": "code",
   "execution_count": 39,
   "id": "6d972041",
   "metadata": {},
   "outputs": [
    {
     "data": {
      "text/plain": [
       "{-1, 1, 2, 23, 34}"
      ]
     },
     "execution_count": 39,
     "metadata": {},
     "output_type": "execute_result"
    }
   ],
   "source": [
    "küme2"
   ]
  },
  {
   "cell_type": "code",
   "execution_count": 40,
   "id": "6c3675ca",
   "metadata": {},
   "outputs": [],
   "source": [
    "# İki kümenin farkı ve güncelleme : difference_update() metodu\n",
    "# Bu metod birinci kümenin ikinci kümeden farkını dönerek birinci kümeyi bu farka göre günceller.\n",
    "# küme1.difference_update(küme2) # Küme1'in Küme2'den farkı\n",
    "küme1.difference_update(küme2)"
   ]
  },
  {
   "cell_type": "code",
   "execution_count": 41,
   "id": "e9d7cb98",
   "metadata": {},
   "outputs": [
    {
     "data": {
      "text/plain": [
       "{-2, 3, 10, 100}"
      ]
     },
     "execution_count": 41,
     "metadata": {},
     "output_type": "execute_result"
    }
   ],
   "source": [
    "küme1"
   ]
  },
  {
   "cell_type": "code",
   "execution_count": 42,
   "id": "66095952",
   "metadata": {},
   "outputs": [],
   "source": [
    "# Kümeden Eleman Çıkartmak : discard() metodu\n",
    "# İçine verilen değeri kümeden çıkartır. Eğer kümede öyle bir değer yoksa, bu metod hiçbir şey yapmaz(Hata vermez)\n",
    "küme1.discard(-2)"
   ]
  },
  {
   "cell_type": "code",
   "execution_count": 43,
   "id": "bd3518a0",
   "metadata": {},
   "outputs": [
    {
     "data": {
      "text/plain": [
       "{3, 10, 100}"
      ]
     },
     "execution_count": 43,
     "metadata": {},
     "output_type": "execute_result"
    }
   ],
   "source": [
    "küme1"
   ]
  },
  {
   "cell_type": "code",
   "execution_count": 44,
   "id": "d7874ed8",
   "metadata": {},
   "outputs": [],
   "source": [
    "küme1.discard(4)"
   ]
  },
  {
   "cell_type": "code",
   "execution_count": 45,
   "id": "51d52d3f",
   "metadata": {},
   "outputs": [
    {
     "data": {
      "text/plain": [
       "{3, 10, 100}"
      ]
     },
     "execution_count": 45,
     "metadata": {},
     "output_type": "execute_result"
    }
   ],
   "source": [
    "küme1"
   ]
  },
  {
   "cell_type": "code",
   "execution_count": 46,
   "id": "198ba34c",
   "metadata": {},
   "outputs": [],
   "source": [
    "# Küme kesişimleri : intersection() metodu\n",
    "# Bu metod iki kümenin kesişimleri bulmamızı sağlar.\n",
    "küme1 = {1,2,3,10,34,100,-2}\n",
    "küme2 = {1,2,23,34,-1}"
   ]
  },
  {
   "cell_type": "code",
   "execution_count": 47,
   "id": "bf72f8d8",
   "metadata": {},
   "outputs": [
    {
     "data": {
      "text/plain": [
       "{1, 2, 34}"
      ]
     },
     "execution_count": 47,
     "metadata": {},
     "output_type": "execute_result"
    }
   ],
   "source": [
    "küme1.intersection(küme2)"
   ]
  },
  {
   "cell_type": "code",
   "execution_count": 48,
   "id": "21c70b94",
   "metadata": {},
   "outputs": [],
   "source": [
    "# Küme kesişimleri ve güncelleme : intersection_update() metodu \n",
    "# Bu metod birinci kümeyle ikinci kümenin kesişimlerini bulur ve birinci kümeyi bu kesişime göre günceller."
   ]
  },
  {
   "cell_type": "code",
   "execution_count": 49,
   "id": "be1ac0e6",
   "metadata": {},
   "outputs": [],
   "source": [
    "küme1 = {1,2,3,10,34,100,-2}\n",
    "küme2 = {1,2,23,34,-1}"
   ]
  },
  {
   "cell_type": "code",
   "execution_count": 50,
   "id": "b9a42c05",
   "metadata": {},
   "outputs": [],
   "source": [
    "küme1.intersection_update(küme2)"
   ]
  },
  {
   "cell_type": "code",
   "execution_count": 51,
   "id": "5d421288",
   "metadata": {},
   "outputs": [
    {
     "data": {
      "text/plain": [
       "{1, 2, 34}"
      ]
     },
     "execution_count": 51,
     "metadata": {},
     "output_type": "execute_result"
    }
   ],
   "source": [
    "küme1"
   ]
  },
  {
   "cell_type": "code",
   "execution_count": 52,
   "id": "a7562ca6",
   "metadata": {},
   "outputs": [],
   "source": [
    "# Kümeler ayrık küme mi ? : isdisjoint() metodu\n",
    "# Bu metod, eğer iki kümenin kesişim kümesi boş ise True, değilse False döner."
   ]
  },
  {
   "cell_type": "code",
   "execution_count": 53,
   "id": "5578075b",
   "metadata": {},
   "outputs": [],
   "source": [
    "küme1 = {1,2,3,10,34,100,-2}\n",
    "küme2 = {1,2,23,34,-1}\n",
    "küme3 = {30,40,50}"
   ]
  },
  {
   "cell_type": "code",
   "execution_count": 54,
   "id": "49a8cbc8",
   "metadata": {},
   "outputs": [
    {
     "data": {
      "text/plain": [
       "False"
      ]
     },
     "execution_count": 54,
     "metadata": {},
     "output_type": "execute_result"
    }
   ],
   "source": [
    "küme1.isdisjoint(küme2)"
   ]
  },
  {
   "cell_type": "code",
   "execution_count": 56,
   "id": "d44a0fa6",
   "metadata": {},
   "outputs": [
    {
     "data": {
      "text/plain": [
       "True"
      ]
     },
     "execution_count": 56,
     "metadata": {},
     "output_type": "execute_result"
    }
   ],
   "source": [
    "küme1.isdisjoint(küme3)"
   ]
  },
  {
   "cell_type": "code",
   "execution_count": 57,
   "id": "39d34475",
   "metadata": {},
   "outputs": [],
   "source": [
    "# Alt kümesi mi ? : issubset() metodu\n",
    "# Bu metod , birinci küme ikinci kümenin alt kümesiyse True, değilse False döner.\n",
    "küme1 = {1,2,3}\n",
    "küme2 = {1,2,3,4}\n",
    "küme3 = {5,6,7}"
   ]
  },
  {
   "cell_type": "code",
   "execution_count": 58,
   "id": "ec6bdc9f",
   "metadata": {},
   "outputs": [
    {
     "data": {
      "text/plain": [
       "True"
      ]
     },
     "execution_count": 58,
     "metadata": {},
     "output_type": "execute_result"
    }
   ],
   "source": [
    "küme1.issubset(küme2)"
   ]
  },
  {
   "cell_type": "code",
   "execution_count": 59,
   "id": "44c84714",
   "metadata": {},
   "outputs": [
    {
     "data": {
      "text/plain": [
       "False"
      ]
     },
     "execution_count": 59,
     "metadata": {},
     "output_type": "execute_result"
    }
   ],
   "source": [
    "küme2.issubset(küme1)"
   ]
  },
  {
   "cell_type": "code",
   "execution_count": 60,
   "id": "ca3046db",
   "metadata": {},
   "outputs": [],
   "source": [
    "# Birleşim Kümesi : union() metodu\n",
    "# Bu metod, iki kümenin birleşim kümesini döner. \n",
    "küme1 = {1,2,3,10,34,100,-2}\n",
    "küme2 = {1,2,23,34,-1}"
   ]
  },
  {
   "cell_type": "code",
   "execution_count": 61,
   "id": "2b0965da",
   "metadata": {},
   "outputs": [
    {
     "data": {
      "text/plain": [
       "{-2, -1, 1, 2, 3, 10, 23, 34, 100}"
      ]
     },
     "execution_count": 61,
     "metadata": {},
     "output_type": "execute_result"
    }
   ],
   "source": [
    "küme1.union(küme2)"
   ]
  },
  {
   "cell_type": "code",
   "execution_count": 62,
   "id": "50bd5790",
   "metadata": {},
   "outputs": [],
   "source": [
    "# Birleşim Kümesi ve update : update() metodu\n",
    "# Bu birinci kümeyle ikinci kümenin birleşim kümesini döner ve birinci kümeyi buna göre günceller.\n",
    "küme1 = {1,2,3,10,34,100,-2}\n",
    "küme2 = {1,2,23,34,-1}"
   ]
  },
  {
   "cell_type": "code",
   "execution_count": 63,
   "id": "31e3d090",
   "metadata": {},
   "outputs": [],
   "source": [
    "küme1.update(küme2)"
   ]
  },
  {
   "cell_type": "code",
   "execution_count": 64,
   "id": "5df041a5",
   "metadata": {},
   "outputs": [
    {
     "data": {
      "text/plain": [
       "{-2, -1, 1, 2, 3, 10, 23, 34, 100}"
      ]
     },
     "execution_count": 64,
     "metadata": {},
     "output_type": "execute_result"
    }
   ],
   "source": [
    "küme1"
   ]
  },
  {
   "cell_type": "code",
   "execution_count": null,
   "id": "f81b8a7b",
   "metadata": {},
   "outputs": [],
   "source": []
  }
 ],
 "metadata": {
  "kernelspec": {
   "display_name": "Python 3",
   "language": "python",
   "name": "python3"
  },
  "language_info": {
   "codemirror_mode": {
    "name": "ipython",
    "version": 3
   },
   "file_extension": ".py",
   "mimetype": "text/x-python",
   "name": "python",
   "nbconvert_exporter": "python",
   "pygments_lexer": "ipython3",
   "version": "3.8.8"
  }
 },
 "nbformat": 4,
 "nbformat_minor": 5
}
