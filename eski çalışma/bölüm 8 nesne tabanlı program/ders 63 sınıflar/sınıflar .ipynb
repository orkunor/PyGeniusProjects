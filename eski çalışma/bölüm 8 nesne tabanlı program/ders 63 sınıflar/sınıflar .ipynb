{
 "cells": [
  {
   "cell_type": "code",
   "execution_count": 1,
   "id": "18576822",
   "metadata": {},
   "outputs": [],
   "source": [
    "# class anahtar kelimesiyle python'da sınıfları oluştururuz !! \n",
    "# sınıflarda özellik gibi bilgileri ekleyebiliriz...\n",
    "class Araba():\n",
    "    model = \"Renault Megane\"\n",
    "    renk = \"Gümüş\"\n",
    "    beygir_gücü = 110 \n",
    "    silindir = 4\n",
    "    \n",
    "araba1 = Araba()    "
   ]
  },
  {
   "cell_type": "code",
   "execution_count": 2,
   "id": "4adc3f4e",
   "metadata": {},
   "outputs": [
    {
     "data": {
      "text/plain": [
       "<__main__.Araba at 0x2beffee9d00>"
      ]
     },
     "execution_count": 2,
     "metadata": {},
     "output_type": "execute_result"
    }
   ],
   "source": [
    "araba1"
   ]
  },
  {
   "cell_type": "code",
   "execution_count": 3,
   "id": "af6ceff3",
   "metadata": {},
   "outputs": [],
   "source": [
    "araba2 = Araba()"
   ]
  },
  {
   "cell_type": "code",
   "execution_count": 4,
   "id": "7592d210",
   "metadata": {},
   "outputs": [
    {
     "data": {
      "text/plain": [
       "<__main__.Araba at 0x2beffee9df0>"
      ]
     },
     "execution_count": 4,
     "metadata": {},
     "output_type": "execute_result"
    }
   ],
   "source": [
    "araba2"
   ]
  },
  {
   "cell_type": "code",
   "execution_count": 5,
   "id": "79ebbc88",
   "metadata": {},
   "outputs": [
    {
     "data": {
      "text/plain": [
       "'Renault Megane'"
      ]
     },
     "execution_count": 5,
     "metadata": {},
     "output_type": "execute_result"
    }
   ],
   "source": [
    "araba1.model"
   ]
  },
  {
   "cell_type": "code",
   "execution_count": 6,
   "id": "2f53a0d1",
   "metadata": {},
   "outputs": [
    {
     "data": {
      "text/plain": [
       "110"
      ]
     },
     "execution_count": 6,
     "metadata": {},
     "output_type": "execute_result"
    }
   ],
   "source": [
    "araba2.beygir_gücü"
   ]
  },
  {
   "cell_type": "code",
   "execution_count": 7,
   "id": "5e373b6b",
   "metadata": {},
   "outputs": [
    {
     "data": {
      "text/plain": [
       "'Renault Megane'"
      ]
     },
     "execution_count": 7,
     "metadata": {},
     "output_type": "execute_result"
    }
   ],
   "source": [
    "Araba.model"
   ]
  },
  {
   "cell_type": "code",
   "execution_count": 8,
   "id": "f4a87ca2",
   "metadata": {},
   "outputs": [
    {
     "data": {
      "text/plain": [
       "'Gümüş'"
      ]
     },
     "execution_count": 8,
     "metadata": {},
     "output_type": "execute_result"
    }
   ],
   "source": [
    "Araba.renk"
   ]
  },
  {
   "cell_type": "code",
   "execution_count": 9,
   "id": "835f3f75",
   "metadata": {},
   "outputs": [
    {
     "data": {
      "text/plain": [
       "110"
      ]
     },
     "execution_count": 9,
     "metadata": {},
     "output_type": "execute_result"
    }
   ],
   "source": [
    "Araba.beygir_gücü"
   ]
  },
  {
   "cell_type": "code",
   "execution_count": 10,
   "id": "b8acb304",
   "metadata": {},
   "outputs": [
    {
     "data": {
      "text/plain": [
       "4"
      ]
     },
     "execution_count": 10,
     "metadata": {},
     "output_type": "execute_result"
    }
   ],
   "source": [
    "Araba.silindir"
   ]
  },
  {
   "cell_type": "code",
   "execution_count": 11,
   "id": "05550f68",
   "metadata": {},
   "outputs": [
    {
     "data": {
      "text/plain": [
       "['__class__',\n",
       " '__delattr__',\n",
       " '__dict__',\n",
       " '__dir__',\n",
       " '__doc__',\n",
       " '__eq__',\n",
       " '__format__',\n",
       " '__ge__',\n",
       " '__getattribute__',\n",
       " '__gt__',\n",
       " '__hash__',\n",
       " '__init__',\n",
       " '__init_subclass__',\n",
       " '__le__',\n",
       " '__lt__',\n",
       " '__module__',\n",
       " '__ne__',\n",
       " '__new__',\n",
       " '__reduce__',\n",
       " '__reduce_ex__',\n",
       " '__repr__',\n",
       " '__setattr__',\n",
       " '__sizeof__',\n",
       " '__str__',\n",
       " '__subclasshook__',\n",
       " '__weakref__',\n",
       " 'beygir_gücü',\n",
       " 'model',\n",
       " 'renk',\n",
       " 'silindir']"
      ]
     },
     "execution_count": 11,
     "metadata": {},
     "output_type": "execute_result"
    }
   ],
   "source": [
    "# init fonksiyonunun kullanımını öğrenelim o halde \n",
    "dir(Araba)"
   ]
  },
  {
   "cell_type": "code",
   "execution_count": 12,
   "id": "ae7fdeac",
   "metadata": {},
   "outputs": [],
   "source": [
    "class Araba():\n",
    "    model = \"Renault Megane\"\n",
    "    renk = \"Gümüş\"\n",
    "    beygir_gücü = 110 \n",
    "    silindir = 4\n",
    "    def __init__(self):\n",
    "        print(\"init fonksiyonu çağırıldı...\")"
   ]
  },
  {
   "cell_type": "code",
   "execution_count": 13,
   "id": "33af8a6b",
   "metadata": {},
   "outputs": [
    {
     "name": "stdout",
     "output_type": "stream",
     "text": [
      "init fonksiyonu çağırıldı...\n"
     ]
    }
   ],
   "source": [
    "araba1 = Araba() #self'i buraya python zaten kendisi gönderdi gerek kalmadı bize "
   ]
  },
  {
   "cell_type": "code",
   "execution_count": 14,
   "id": "558171d8",
   "metadata": {},
   "outputs": [],
   "source": [
    "# self anahtar kelimesi objeyi oluşturduğumuz zaman o objeyi gösteren bir referanstır...\n",
    "# bu referans mutlaka her bir metodun en başında bulunması gereken bir parametredir...\n",
    "class Araba():\n",
    "    \n",
    "    def __init__(self,model,renk,beygir_gücü,silindir):\n",
    "        print(\"init fonksiyonu çağırıldı...\")\n",
    "        self.model = model #kullanıcı birazdan girecek biz de yükleyeceğiz anlamına geliyor bu !!! \n",
    "        self.renk = renk\n",
    "        self.beygir_gücü = beygir_gücü \n",
    "        self.silindir = silindir\n",
    "        "
   ]
  },
  {
   "cell_type": "code",
   "execution_count": 15,
   "id": "e24721ad",
   "metadata": {},
   "outputs": [
    {
     "name": "stdout",
     "output_type": "stream",
     "text": [
      "init fonksiyonu çağırıldı...\n"
     ]
    }
   ],
   "source": [
    "# değerlerimizi göndeririz artık sırayla olması çok önemli self'i python kendi doldurdu sen diğerlerini doldur!\n",
    "araba1 = Araba(\"Renault Megane\",\"Gümüş\",110,4) "
   ]
  },
  {
   "cell_type": "code",
   "execution_count": 16,
   "id": "09b937bc",
   "metadata": {},
   "outputs": [
    {
     "name": "stdout",
     "output_type": "stream",
     "text": [
      "init fonksiyonu çağırıldı...\n"
     ]
    }
   ],
   "source": [
    "araba2 = Araba(\"BMW\",\"Beyaz\",210,8) "
   ]
  },
  {
   "cell_type": "code",
   "execution_count": 17,
   "id": "338129c3",
   "metadata": {},
   "outputs": [
    {
     "data": {
      "text/plain": [
       "'BMW'"
      ]
     },
     "execution_count": 17,
     "metadata": {},
     "output_type": "execute_result"
    }
   ],
   "source": [
    "araba2.model"
   ]
  },
  {
   "cell_type": "code",
   "execution_count": 18,
   "id": "1829d89a",
   "metadata": {},
   "outputs": [
    {
     "data": {
      "text/plain": [
       "'Renault Megane'"
      ]
     },
     "execution_count": 18,
     "metadata": {},
     "output_type": "execute_result"
    }
   ],
   "source": [
    "araba1.model"
   ]
  },
  {
   "cell_type": "code",
   "execution_count": 19,
   "id": "14138621",
   "metadata": {},
   "outputs": [
    {
     "data": {
      "text/plain": [
       "'Gümüş'"
      ]
     },
     "execution_count": 19,
     "metadata": {},
     "output_type": "execute_result"
    }
   ],
   "source": [
    "araba1.renk"
   ]
  },
  {
   "cell_type": "code",
   "execution_count": 20,
   "id": "c8d934a6",
   "metadata": {},
   "outputs": [
    {
     "data": {
      "text/plain": [
       "'Beyaz'"
      ]
     },
     "execution_count": 20,
     "metadata": {},
     "output_type": "execute_result"
    }
   ],
   "source": [
    "araba2.renk"
   ]
  },
  {
   "cell_type": "code",
   "execution_count": 21,
   "id": "f9d58290",
   "metadata": {},
   "outputs": [],
   "source": [
    "class Araba():\n",
    "    \n",
    "    def __init__(self,model = \"Bilgi Yok\",renk = \"Bilgi Yok\",beygir_gücü = 70,silindir = 6):\n",
    "        print(\"init fonksiyonu çağırıldı...\")\n",
    "        self.model = model \n",
    "        self.renk = renk\n",
    "        self.beygir_gücü = beygir_gücü \n",
    "        self.silindir = silindir"
   ]
  },
  {
   "cell_type": "code",
   "execution_count": 27,
   "id": "7f98d185",
   "metadata": {},
   "outputs": [
    {
     "name": "stdout",
     "output_type": "stream",
     "text": [
      "init fonksiyonu çağırıldı...\n"
     ]
    }
   ],
   "source": [
    "araba = Araba(model = \"BMW\",beygir_gücü = 110)"
   ]
  },
  {
   "cell_type": "code",
   "execution_count": 25,
   "id": "128a811c",
   "metadata": {},
   "outputs": [
    {
     "data": {
      "text/plain": [
       "110"
      ]
     },
     "execution_count": 25,
     "metadata": {},
     "output_type": "execute_result"
    }
   ],
   "source": [
    "araba.beygir_gücü"
   ]
  },
  {
   "cell_type": "code",
   "execution_count": 28,
   "id": "fe2e33c3",
   "metadata": {},
   "outputs": [
    {
     "data": {
      "text/plain": [
       "'BMW'"
      ]
     },
     "execution_count": 28,
     "metadata": {},
     "output_type": "execute_result"
    }
   ],
   "source": [
    "araba.model"
   ]
  },
  {
   "cell_type": "code",
   "execution_count": null,
   "id": "e0f50c93",
   "metadata": {},
   "outputs": [],
   "source": []
  }
 ],
 "metadata": {
  "kernelspec": {
   "display_name": "Python 3",
   "language": "python",
   "name": "python3"
  },
  "language_info": {
   "codemirror_mode": {
    "name": "ipython",
    "version": 3
   },
   "file_extension": ".py",
   "mimetype": "text/x-python",
   "name": "python",
   "nbconvert_exporter": "python",
   "pygments_lexer": "ipython3",
   "version": "3.8.8"
  }
 },
 "nbformat": 4,
 "nbformat_minor": 5
}
