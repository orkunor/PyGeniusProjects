{
 "cells": [
  {
   "cell_type": "code",
   "execution_count": 2,
   "id": "d1d4343f",
   "metadata": {},
   "outputs": [],
   "source": [
    "#burada yapmaya çalıştığımız bir tane ana sınıf oluşturucaz daha sonra üstüne tekrar class ve fonksiyonlar kurucaz \n",
    "# bu sayede ana class'ın özellikletini ve motdlarını miras alabilecek \n",
    "class çalışan():\n",
    "    \n",
    "    def __init__(self,isim,maaş,departman):\n",
    "        print(\"Çalışan sınıfının init fonksiyonu...\")\n",
    "        self.isim = isim \n",
    "        self.maaş = maaş\n",
    "        self.departman = departman\n",
    "    def bilgilerigöster(self):\n",
    "        print(\"Çalışan sınıfının bilgileri...\")\n",
    "        print(\"İsim: {}\\nMaaş: {}\\nDepartman: {}\".format(self.isim,self.maaş,self.departman))\n",
    "    def departman_değiştir(self,yeni_departman):\n",
    "        self.departman = yeni_departman\n",
    "        \n",
    "# şu anda çalışan sınıfı oluşturduk bu ana sınıf bir tane de yönetici sınıfı oluşturup bu bilgileri miras alalım...        \n",
    "        "
   ]
  },
  {
   "cell_type": "code",
   "execution_count": 3,
   "id": "017b8cb4",
   "metadata": {},
   "outputs": [],
   "source": [
    "# miras alarak ilerleyelim...\n",
    "class yönetici(çalışan): # parantez içini boş bırakmadık bu sayede diğerinden miras aldık !!! \n",
    "    pass # bu sayede şu an değil sonradan tanımlıycam dedim python'a yani çalışmasını sağladım \n",
    "\n",
    "    "
   ]
  },
  {
   "cell_type": "code",
   "execution_count": 4,
   "id": "0037bfe3",
   "metadata": {},
   "outputs": [
    {
     "name": "stdout",
     "output_type": "stream",
     "text": [
      "Çalışan sınıfının init fonksiyonu...\n"
     ]
    }
   ],
   "source": [
    "yyönetici = yönetici(\"Bayram Orkun Orulluoğlu\",7500,\"Mühendislik\")"
   ]
  },
  {
   "cell_type": "code",
   "execution_count": 5,
   "id": "13a0826b",
   "metadata": {},
   "outputs": [
    {
     "name": "stdout",
     "output_type": "stream",
     "text": [
      "Çalışan sınıfının bilgileri...\n",
      "İsim: Bayram Orkun Orulluoğlu\n",
      "Maaş: 7500\n",
      "Departman: Mühendislik\n"
     ]
    }
   ],
   "source": [
    "yyönetici.bilgilerigöster()"
   ]
  },
  {
   "cell_type": "code",
   "execution_count": 6,
   "id": "bd117be9",
   "metadata": {},
   "outputs": [],
   "source": [
    "yyönetici.departman_değiştir(\"İnsan Kaynakları\")"
   ]
  },
  {
   "cell_type": "code",
   "execution_count": 7,
   "id": "94ca05e7",
   "metadata": {},
   "outputs": [
    {
     "name": "stdout",
     "output_type": "stream",
     "text": [
      "Çalışan sınıfının bilgileri...\n",
      "İsim: Bayram Orkun Orulluoğlu\n",
      "Maaş: 7500\n",
      "Departman: İnsan Kaynakları\n"
     ]
    }
   ],
   "source": [
    "yyönetici.bilgilerigöster()"
   ]
  },
  {
   "cell_type": "code",
   "execution_count": 9,
   "id": "6cc76138",
   "metadata": {},
   "outputs": [
    {
     "data": {
      "text/plain": [
       "['__class__',\n",
       " '__delattr__',\n",
       " '__dict__',\n",
       " '__dir__',\n",
       " '__doc__',\n",
       " '__eq__',\n",
       " '__format__',\n",
       " '__ge__',\n",
       " '__getattribute__',\n",
       " '__gt__',\n",
       " '__hash__',\n",
       " '__init__',\n",
       " '__init_subclass__',\n",
       " '__le__',\n",
       " '__lt__',\n",
       " '__module__',\n",
       " '__ne__',\n",
       " '__new__',\n",
       " '__reduce__',\n",
       " '__reduce_ex__',\n",
       " '__repr__',\n",
       " '__setattr__',\n",
       " '__sizeof__',\n",
       " '__str__',\n",
       " '__subclasshook__',\n",
       " '__weakref__',\n",
       " 'bilgilerigöster',\n",
       " 'departman',\n",
       " 'departman_değiştir',\n",
       " 'isim',\n",
       " 'maaş']"
      ]
     },
     "execution_count": 9,
     "metadata": {},
     "output_type": "execute_result"
    }
   ],
   "source": [
    "# miras alarakta fonksiyonları içine atabildik !!!\n",
    "dir(yyönetici)"
   ]
  },
  {
   "cell_type": "code",
   "execution_count": 15,
   "id": "230e59a3",
   "metadata": {},
   "outputs": [],
   "source": [
    "#şimdi ise birrkaç tane metod eklemeye çalışalım mirasın üzerine\n",
    "class yönetici(çalışan):\n",
    "    def zam_yap(self,yeni_zam):\n",
    "        self.maaş += yeni_zam\n",
    "        "
   ]
  },
  {
   "cell_type": "code",
   "execution_count": 16,
   "id": "77d2108b",
   "metadata": {},
   "outputs": [
    {
     "name": "stdout",
     "output_type": "stream",
     "text": [
      "Çalışan sınıfının init fonksiyonu...\n"
     ]
    }
   ],
   "source": [
    "#yeniden yönetici objesi oluşturucaz !!\n",
    "yyönetici = yönetici(\"Serhat Say\",3500,\"Pazarlama\")\n"
   ]
  },
  {
   "cell_type": "code",
   "execution_count": 18,
   "id": "b178f66b",
   "metadata": {},
   "outputs": [],
   "source": [
    "yyönetici.zam_yap(367)"
   ]
  },
  {
   "cell_type": "code",
   "execution_count": 19,
   "id": "c943b8bb",
   "metadata": {},
   "outputs": [
    {
     "name": "stdout",
     "output_type": "stream",
     "text": [
      "Çalışan sınıfının bilgileri...\n",
      "İsim: Serhat Say\n",
      "Maaş: 4234\n",
      "Departman: Pazarlama\n"
     ]
    }
   ],
   "source": [
    "yyönetici.bilgilerigöster()"
   ]
  },
  {
   "cell_type": "code",
   "execution_count": 20,
   "id": "fb9ff193",
   "metadata": {},
   "outputs": [],
   "source": [
    "# şimdi ise overriding yani iptal etme konusuna bakalım !! \n",
    "#Eğer biz miras aldığımız metodları aynı isimle kendi sınıfımızda tekrar tanımlarsak ,\n",
    "#artık metodu çağırdığımız zaman miras aldığımız değil kendi metodumuz çalışacaktır.\n",
    "#Buna Nesne Tabanlı Programlamada bir metodu override etmek denmektedir."
   ]
  },
  {
   "cell_type": "code",
   "execution_count": 21,
   "id": "aa906d1e",
   "metadata": {},
   "outputs": [],
   "source": [
    "class çalışan():\n",
    "    \n",
    "    def __init__(self,isim,maaş,departman):\n",
    "        print(\"Çalışan sınıfının init fonksiyonu...\")\n",
    "        self.isim = isim \n",
    "        self.maaş = maaş\n",
    "        self.departman = departman\n",
    "    def bilgilerigöster(self):\n",
    "        print(\"Çalışan sınıfının bilgileri...\")\n",
    "        print(\"İsim: {}\\nMaaş: {}\\nDepartman: {}\".format(self.isim,self.maaş,self.departman))\n",
    "    def departman_değiştir(self,yeni_departman):\n",
    "        self.departman = yeni_departman"
   ]
  },
  {
   "cell_type": "code",
   "execution_count": 27,
   "id": "c41f52b6",
   "metadata": {},
   "outputs": [],
   "source": [
    "#burada ekstra özellik ekleyebilmek için miras aldığımız init fonksiyonuna ekstra özellik ekleyebilmek için\n",
    "#yeniden yaratmamız gerekir!!! \n",
    "class yönetici(çalışan):\n",
    "    def __init__(self,isim,maaş,departman,kişi_sayısı):\n",
    "        print(\"Artık burası yönetici sınıfının init fonksiyonu sınıfının init fonksiyonu...\")\n",
    "        self.isim = isim \n",
    "        self.maaş = maaş\n",
    "        self.departman = departman\n",
    "        self.kişi_sayısı = kişi_sayısı\n",
    "        \n",
    "    def bilgilerigöster(self):\n",
    "        print(\"Yönetici sınıfının bilgileri...\")\n",
    "        print(\"İsim: {}\\nMaaş: {}\\nDepartman: {}\\nSorumlu Olduğu Kişi Sayısı: {}\".format(self.isim,self.maaş,self.departman,self.kişi_sayısı))\n",
    "        \n",
    "    def zam_yap(self,yeni_zam):\n",
    "        self.maaş += yeni_zam"
   ]
  },
  {
   "cell_type": "code",
   "execution_count": 28,
   "id": "6bbe5f45",
   "metadata": {},
   "outputs": [
    {
     "name": "stdout",
     "output_type": "stream",
     "text": [
      "Artık burası yönetici sınıfının init fonksiyonu sınıfının init fonksiyonu...\n"
     ]
    }
   ],
   "source": [
    "yyönetici = yönetici(\"Bayram Orkun Orulluoğlu\",7500,\"Bilişim\",7)"
   ]
  },
  {
   "cell_type": "code",
   "execution_count": 29,
   "id": "5380b19f",
   "metadata": {},
   "outputs": [
    {
     "name": "stdout",
     "output_type": "stream",
     "text": [
      "Yönetici sınıfının bilgileri...\n",
      "İsim: Bayram Orkun Orulluoğlu\n",
      "Maaş: 7500\n",
      "Departman: Bilişim\n",
      "Sorumlu Olduğu Kişi Sayısı: 7\n"
     ]
    }
   ],
   "source": [
    "yyönetici.bilgilerigöster()"
   ]
  },
  {
   "cell_type": "code",
   "execution_count": 30,
   "id": "fa6cdba2",
   "metadata": {},
   "outputs": [
    {
     "name": "stdout",
     "output_type": "stream",
     "text": [
      "Yönetici sınıfının bilgileri...\n",
      "İsim: Bayram Orkun Orulluoğlu\n",
      "Maaş: 7500\n",
      "Departman: Bilişim\n",
      "Sorumlu Olduğu Kişi Sayısı: 7\n"
     ]
    }
   ],
   "source": [
    "yyönetici.bilgilerigöster()"
   ]
  },
  {
   "cell_type": "code",
   "execution_count": 31,
   "id": "19e792e7",
   "metadata": {},
   "outputs": [],
   "source": [
    "# !! SUPER anahtar kelimesinin kullanımına bakalım şimdide !!\n",
    "# super anahtar kelimesi özellikle override ettiğimiz bir metodun içinde aynı zamanda \n",
    "# miras aldığımız bir metodu kullanmak istersek kullanılabilir.\n",
    "# Yani super en genel anlamıyla miras aldığımız sınıfın metodlarını alt sınıflardan kullanmamızı sağlar.\n",
    "class çalışan():\n",
    "    \n",
    "    def __init__(self,isim,maaş,departman):\n",
    "        print(\"Çalışan sınıfının init fonksiyonu...\")\n",
    "        self.isim = isim \n",
    "        self.maaş = maaş\n",
    "        self.departman = departman\n",
    "    def bilgilerigöster(self):\n",
    "        print(\"Çalışan sınıfının bilgileri...\")\n",
    "        print(\"İsim: {}\\nMaaş: {}\\nDepartman: {}\".format(self.isim,self.maaş,self.departman))\n",
    "    def departman_değiştir(self,yeni_departman):\n",
    "        self.departman = yeni_departman"
   ]
  },
  {
   "cell_type": "code",
   "execution_count": 33,
   "id": "54e9dc57",
   "metadata": {},
   "outputs": [],
   "source": [
    "class yönetici(çalışan):\n",
    "    def __init__(self,isim,maaş,departman,kişi_sayısı):\n",
    "        \n",
    "        super().__init__(isim,maaş,departman)\n",
    "        \n",
    "        print(\"Artık burası yönetici sınıfının init fonksiyonu sınıfının init fonksiyonu...\")\n",
    "        \n",
    "        self.kişi_sayısı = kişi_sayısı\n",
    "        \n",
    "    def bilgilerigöster(self):\n",
    "        print(\"Yönetici sınıfının bilgileri...\")\n",
    "        print(\"İsim: {}\\nMaaş: {}\\nDepartman: {}\\nSorumlu Olduğu Kişi Sayısı: {}\".format(self.isim,self.maaş,self.departman,self.kişi_sayısı))\n",
    "        \n",
    "    def zam_yap(self,yeni_zam):\n",
    "        self.maaş += yeni_zam"
   ]
  },
  {
   "cell_type": "code",
   "execution_count": 34,
   "id": "f38b7f9f",
   "metadata": {},
   "outputs": [
    {
     "name": "stdout",
     "output_type": "stream",
     "text": [
      "Çalışan sınıfının init fonksiyonu...\n",
      "Artık burası yönetici sınıfının init fonksiyonu sınıfının init fonksiyonu...\n"
     ]
    }
   ],
   "source": [
    "yyönetici = yönetici(\"Bayram Orkun Orulluoğlu\",6500,\"Bilişim\",7)"
   ]
  },
  {
   "cell_type": "code",
   "execution_count": 35,
   "id": "1e3a76f9",
   "metadata": {},
   "outputs": [
    {
     "name": "stdout",
     "output_type": "stream",
     "text": [
      "Yönetici sınıfının bilgileri...\n",
      "İsim: Bayram Orkun Orulluoğlu\n",
      "Maaş: 6500\n",
      "Departman: Bilişim\n",
      "Sorumlu Olduğu Kişi Sayısı: 7\n"
     ]
    }
   ],
   "source": [
    "yyönetici.bilgilerigöster()"
   ]
  },
  {
   "cell_type": "code",
   "execution_count": null,
   "id": "dadc4984",
   "metadata": {},
   "outputs": [],
   "source": []
  }
 ],
 "metadata": {
  "kernelspec": {
   "display_name": "Python 3",
   "language": "python",
   "name": "python3"
  },
  "language_info": {
   "codemirror_mode": {
    "name": "ipython",
    "version": 3
   },
   "file_extension": ".py",
   "mimetype": "text/x-python",
   "name": "python",
   "nbconvert_exporter": "python",
   "pygments_lexer": "ipython3",
   "version": "3.8.8"
  }
 },
 "nbformat": 4,
 "nbformat_minor": 5
}
