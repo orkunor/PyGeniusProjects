{
 "cells": [
  {
   "cell_type": "code",
   "execution_count": 23,
   "id": "7c768ae5",
   "metadata": {},
   "outputs": [],
   "source": [
    "class Yazılımcı():\n",
    "    def __init__(self,isim,soyisim,numara,maaş,diller):\n",
    "        self.isim = isim \n",
    "        self.soyisim = soyisim\n",
    "        self.numara = numara\n",
    "        self.maaş = maaş\n",
    "        self.diller = diller\n",
    "    def bilgilerigöster(self): #objeye metod eklemiş oluyoruz dikkat et !!! \n",
    "        print(\"\"\"\n",
    "        Yazılımcı objesinin özellikleri ==> \n",
    "        \n",
    "        İsim = {}\n",
    "        \n",
    "        Soyisim = {} \n",
    "        \n",
    "        Numara = {} \n",
    "        \n",
    "        Maaş = {} \n",
    "        \n",
    "        Bildiği Diller = {} \n",
    "        \n",
    "        \"\"\".format(self.isim,self.soyisim,self.numara,self.maaş,self.diller))\n",
    "    def zam_yap(self,zam_miktarı):\n",
    "        print(\"Zam yapılıyor...\")\n",
    "        \n",
    "        self.maaş += zam_miktarı\n",
    "        \n",
    "    def dil_ekle(self,yeni_dil): # bunlar metod olduğu için self referansını mutlaka göndermemiz gerek objenin içinde metod bunlar\n",
    "        print(\"Dil ekleniyor...\")\n",
    "        self.diller.append(yeni_dil)\n",
    "        \n",
    "        \n",
    "        "
   ]
  },
  {
   "cell_type": "code",
   "execution_count": 15,
   "id": "df5ff59a",
   "metadata": {},
   "outputs": [],
   "source": [
    "yazılımcı = Yazılımcı(\"Bayram Orkun\",\"Orulluoğlu\",123456,10000,[\"Python\",\"Java\",\"C\",\"Java Script\"])"
   ]
  },
  {
   "cell_type": "code",
   "execution_count": 16,
   "id": "f3a317d8",
   "metadata": {},
   "outputs": [
    {
     "name": "stdout",
     "output_type": "stream",
     "text": [
      "<__main__.Yazılımcı object at 0x000001D2DD2E92E0>\n"
     ]
    }
   ],
   "source": [
    "print(yazılımcı)"
   ]
  },
  {
   "cell_type": "code",
   "execution_count": 17,
   "id": "ad31762b",
   "metadata": {},
   "outputs": [
    {
     "data": {
      "text/plain": [
       "<__main__.Yazılımcı at 0x1d2dd2e92e0>"
      ]
     },
     "execution_count": 17,
     "metadata": {},
     "output_type": "execute_result"
    }
   ],
   "source": [
    "yazılımcı"
   ]
  },
  {
   "cell_type": "code",
   "execution_count": 18,
   "id": "5885f08f",
   "metadata": {},
   "outputs": [
    {
     "name": "stdout",
     "output_type": "stream",
     "text": [
      "\n",
      "        Yazılımcı objesinin özellikleri ==> \n",
      "        \n",
      "        İsim = Bayram Orkun\n",
      "        \n",
      "        Soyisim = Orulluoğlu \n",
      "        \n",
      "        Numara = 123456 \n",
      "        \n",
      "        Maaş = 10000 \n",
      "        \n",
      "        Bildiği Diller = ['Python', 'Java', 'C', 'Java Script'] \n",
      "        \n",
      "        \n"
     ]
    }
   ],
   "source": [
    "yazılımcı.bilgilerigöster()"
   ]
  },
  {
   "cell_type": "code",
   "execution_count": 19,
   "id": "e19517e6",
   "metadata": {},
   "outputs": [
    {
     "name": "stdout",
     "output_type": "stream",
     "text": [
      "Dil ekleniyor...\n"
     ]
    }
   ],
   "source": [
    "yazılımcı.dil_ekle(\"GoLang\")"
   ]
  },
  {
   "cell_type": "code",
   "execution_count": 20,
   "id": "04080f85",
   "metadata": {},
   "outputs": [
    {
     "name": "stdout",
     "output_type": "stream",
     "text": [
      "\n",
      "        Yazılımcı objesinin özellikleri ==> \n",
      "        \n",
      "        İsim = Bayram Orkun\n",
      "        \n",
      "        Soyisim = Orulluoğlu \n",
      "        \n",
      "        Numara = 123456 \n",
      "        \n",
      "        Maaş = 10000 \n",
      "        \n",
      "        Bildiği Diller = ['Python', 'Java', 'C', 'Java Script', 'GoLang'] \n",
      "        \n",
      "        \n"
     ]
    }
   ],
   "source": [
    "yazılımcı.bilgilerigöster()"
   ]
  },
  {
   "cell_type": "code",
   "execution_count": 21,
   "id": "a1cdbe90",
   "metadata": {},
   "outputs": [
    {
     "name": "stdout",
     "output_type": "stream",
     "text": [
      "Zam yapılıyor...\n"
     ]
    }
   ],
   "source": [
    "yazılımcı.zam_yap(750)"
   ]
  },
  {
   "cell_type": "code",
   "execution_count": 22,
   "id": "4ab2d728",
   "metadata": {},
   "outputs": [
    {
     "name": "stdout",
     "output_type": "stream",
     "text": [
      "\n",
      "        Yazılımcı objesinin özellikleri ==> \n",
      "        \n",
      "        İsim = Bayram Orkun\n",
      "        \n",
      "        Soyisim = Orulluoğlu \n",
      "        \n",
      "        Numara = 123456 \n",
      "        \n",
      "        Maaş = 10750 \n",
      "        \n",
      "        Bildiği Diller = ['Python', 'Java', 'C', 'Java Script', 'GoLang'] \n",
      "        \n",
      "        \n"
     ]
    }
   ],
   "source": [
    "yazılımcı.bilgilerigöster()"
   ]
  },
  {
   "cell_type": "code",
   "execution_count": null,
   "id": "133f2fa3",
   "metadata": {},
   "outputs": [],
   "source": []
  }
 ],
 "metadata": {
  "kernelspec": {
   "display_name": "Python 3",
   "language": "python",
   "name": "python3"
  },
  "language_info": {
   "codemirror_mode": {
    "name": "ipython",
    "version": 3
   },
   "file_extension": ".py",
   "mimetype": "text/x-python",
   "name": "python",
   "nbconvert_exporter": "python",
   "pygments_lexer": "ipython3",
   "version": "3.8.8"
  }
 },
 "nbformat": 4,
 "nbformat_minor": 5
}
