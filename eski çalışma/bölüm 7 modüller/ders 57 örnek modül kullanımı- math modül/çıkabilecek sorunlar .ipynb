{
 "cells": [
  {
   "cell_type": "code",
   "execution_count": 3,
   "id": "76ef7691",
   "metadata": {},
   "outputs": [],
   "source": [
    "faktoriyel = 1\n",
    "def factorial(sayı):\n",
    "    print(\"BENİM FONKSİYONUM\")\n",
    "    \n",
    "    if(sayı == 0 or sayı == 1):\n",
    "        return 1\n",
    "    else:\n",
    "        while sayı >= 1:\n",
    "            faktoriyel *= sayı\n",
    "            sayı -= 1\n",
    "        return faktoriyel"
   ]
  },
  {
   "cell_type": "code",
   "execution_count": 4,
   "id": "fc5bace8",
   "metadata": {},
   "outputs": [],
   "source": [
    "from math import * "
   ]
  },
  {
   "cell_type": "code",
   "execution_count": 6,
   "id": "cebf72db",
   "metadata": {},
   "outputs": [
    {
     "data": {
      "text/plain": [
       "120"
      ]
     },
     "execution_count": 6,
     "metadata": {},
     "output_type": "execute_result"
    }
   ],
   "source": [
    "factorial(5)"
   ]
  },
  {
   "cell_type": "code",
   "execution_count": null,
   "id": "feba7cd9",
   "metadata": {},
   "outputs": [],
   "source": []
  }
 ],
 "metadata": {
  "kernelspec": {
   "display_name": "Python 3",
   "language": "python",
   "name": "python3"
  },
  "language_info": {
   "codemirror_mode": {
    "name": "ipython",
    "version": 3
   },
   "file_extension": ".py",
   "mimetype": "text/x-python",
   "name": "python",
   "nbconvert_exporter": "python",
   "pygments_lexer": "ipython3",
   "version": "3.8.8"
  }
 },
 "nbformat": 4,
 "nbformat_minor": 5
}
