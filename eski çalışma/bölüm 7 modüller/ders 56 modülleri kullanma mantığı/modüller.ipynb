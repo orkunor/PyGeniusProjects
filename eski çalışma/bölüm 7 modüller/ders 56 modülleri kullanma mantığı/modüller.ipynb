{
 "cells": [
  {
   "cell_type": "code",
   "execution_count": null,
   "id": "e8f33efe",
   "metadata": {},
   "outputs": [],
   "source": [
    "#Python'da aslında her bir dosya bir modül olarak kabul edilmektedir\n",
    "# her bir modül de kendi içinde fonksiyonlar sınıflar ve objeler barındırıyor !!\n"
   ]
  }
 ],
 "metadata": {
  "kernelspec": {
   "display_name": "Python 3",
   "language": "python",
   "name": "python3"
  },
  "language_info": {
   "codemirror_mode": {
    "name": "ipython",
    "version": 3
   },
   "file_extension": ".py",
   "mimetype": "text/x-python",
   "name": "python",
   "nbconvert_exporter": "python",
   "pygments_lexer": "ipython3",
   "version": "3.8.8"
  }
 },
 "nbformat": 4,
 "nbformat_minor": 5
}
