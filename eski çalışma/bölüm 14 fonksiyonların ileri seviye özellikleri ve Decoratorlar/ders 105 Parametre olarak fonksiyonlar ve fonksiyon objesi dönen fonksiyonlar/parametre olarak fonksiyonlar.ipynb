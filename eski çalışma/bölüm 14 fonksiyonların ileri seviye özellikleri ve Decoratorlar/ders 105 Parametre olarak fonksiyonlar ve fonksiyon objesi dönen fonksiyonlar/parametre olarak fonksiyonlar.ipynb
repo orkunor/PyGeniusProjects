{
 "cells": [
  {
   "cell_type": "code",
   "execution_count": 1,
   "id": "68d3b6f3",
   "metadata": {},
   "outputs": [],
   "source": [
    "# fonksiyonları return ile dönmek nedir önce bunu öğrenelim !! ==> \n",
    "def anafonksiyon(işlem_adı):\n",
    "    def toplama(*args):\n",
    "        toplam = 0 \n",
    "        for i in args:\n",
    "            toplam += i\n",
    "        return toplam \n",
    "    def çarpım(*args):\n",
    "        çarpım = 1\n",
    "        for i in args:\n",
    "            çarpım *= i\n",
    "        return çarpım\n",
    "    if işlem_adı == \"toplama\":\n",
    "        return toplama\n",
    "    elif işlem_adı == \"çarpım\":\n",
    "        return çarpım\n",
    "    else:\n",
    "        return \"hatalı giriş\"\n",
    "        \n",
    "    "
   ]
  },
  {
   "cell_type": "code",
   "execution_count": 2,
   "id": "279f7515",
   "metadata": {},
   "outputs": [],
   "source": [
    "fonk = anafonksiyon(\"toplama\")"
   ]
  },
  {
   "cell_type": "code",
   "execution_count": 3,
   "id": "ceb7a3c5",
   "metadata": {},
   "outputs": [
    {
     "data": {
      "text/plain": [
       "<function __main__.anafonksiyon.<locals>.toplama(*args)>"
      ]
     },
     "execution_count": 3,
     "metadata": {},
     "output_type": "execute_result"
    }
   ],
   "source": [
    "fonk"
   ]
  },
  {
   "cell_type": "code",
   "execution_count": 4,
   "id": "9445fa4e",
   "metadata": {},
   "outputs": [
    {
     "data": {
      "text/plain": [
       "15"
      ]
     },
     "execution_count": 4,
     "metadata": {},
     "output_type": "execute_result"
    }
   ],
   "source": [
    "fonk(1,2,3,4,5)"
   ]
  },
  {
   "cell_type": "code",
   "execution_count": 7,
   "id": "19890777",
   "metadata": {},
   "outputs": [],
   "source": [
    "fonk2 = anafonksiyon(\"çarpım\")"
   ]
  },
  {
   "cell_type": "code",
   "execution_count": 8,
   "id": "0785fc83",
   "metadata": {},
   "outputs": [
    {
     "data": {
      "text/plain": [
       "<function __main__.anafonksiyon.<locals>.çarpım(*args)>"
      ]
     },
     "execution_count": 8,
     "metadata": {},
     "output_type": "execute_result"
    }
   ],
   "source": [
    "fonk2"
   ]
  },
  {
   "cell_type": "code",
   "execution_count": 9,
   "id": "2da5d19b",
   "metadata": {},
   "outputs": [
    {
     "data": {
      "text/plain": [
       "120"
      ]
     },
     "execution_count": 9,
     "metadata": {},
     "output_type": "execute_result"
    }
   ],
   "source": [
    "fonk2(1,2,3,4,5)"
   ]
  },
  {
   "cell_type": "code",
   "execution_count": 10,
   "id": "316a81bb",
   "metadata": {},
   "outputs": [],
   "source": [
    "# peki fonksiyonlar argüman olarak başka fonksiyonlara nasıl gönderilir ==> \n",
    "def toplama(a,b):\n",
    "    return a+b\n",
    "def çıkarma(a,b):\n",
    "    return a-b\n",
    "def çarpma(a,b):\n",
    "    return a*b\n",
    "def bölme(a,b):\n",
    "    return a/b\n"
   ]
  },
  {
   "cell_type": "code",
   "execution_count": 12,
   "id": "31005656",
   "metadata": {},
   "outputs": [],
   "source": [
    "def anafonksiyon(func1,func2,func3,func4,işlem_adı):\n",
    "    if işlem_adı == \"toplama\":\n",
    "        print(func1(3,4))\n",
    "    elif işlem_adı == \"çıkarma\":\n",
    "        print(func2(10,3))\n",
    "    elif işlem_adı == \"çarpma\":\n",
    "        print(func3(3,5))\n",
    "    elif işlem_adı == \"bölme\":\n",
    "        print(func4(10,4))\n",
    "    else:\n",
    "        print(\"Geçersiz İşlem....\")\n",
    "    \n",
    "    "
   ]
  },
  {
   "cell_type": "code",
   "execution_count": 13,
   "id": "b18225d0",
   "metadata": {},
   "outputs": [
    {
     "name": "stdout",
     "output_type": "stream",
     "text": [
      "7\n"
     ]
    }
   ],
   "source": [
    "anafonksiyon(toplama,çıkarma,çarpma,bölme,\"toplama\")"
   ]
  },
  {
   "cell_type": "code",
   "execution_count": 14,
   "id": "f72daa09",
   "metadata": {},
   "outputs": [
    {
     "name": "stdout",
     "output_type": "stream",
     "text": [
      "2.5\n"
     ]
    }
   ],
   "source": [
    "anafonksiyon(toplama,çıkarma,çarpma,bölme,\"bölme\")"
   ]
  },
  {
   "cell_type": "code",
   "execution_count": 15,
   "id": "939b22bf",
   "metadata": {},
   "outputs": [
    {
     "name": "stdout",
     "output_type": "stream",
     "text": [
      "15\n"
     ]
    }
   ],
   "source": [
    "anafonksiyon(toplama,çıkarma,çarpma,bölme,\"çarpma\")"
   ]
  },
  {
   "cell_type": "code",
   "execution_count": null,
   "id": "37f3ffdb",
   "metadata": {},
   "outputs": [],
   "source": []
  }
 ],
 "metadata": {
  "kernelspec": {
   "display_name": "Python 3",
   "language": "python",
   "name": "python3"
  },
  "language_info": {
   "codemirror_mode": {
    "name": "ipython",
    "version": 3
   },
   "file_extension": ".py",
   "mimetype": "text/x-python",
   "name": "python",
   "nbconvert_exporter": "python",
   "pygments_lexer": "ipython3",
   "version": "3.8.8"
  }
 },
 "nbformat": 4,
 "nbformat_minor": 5
}
