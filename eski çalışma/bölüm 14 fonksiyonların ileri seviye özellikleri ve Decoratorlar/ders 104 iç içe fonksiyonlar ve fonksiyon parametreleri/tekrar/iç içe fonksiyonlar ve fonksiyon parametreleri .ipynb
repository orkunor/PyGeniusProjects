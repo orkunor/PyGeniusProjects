{
 "cells": [
  {
   "cell_type": "code",
   "execution_count": 1,
   "id": "2817f904",
   "metadata": {},
   "outputs": [],
   "source": [
    "# decoratorlara bakcağız bu bölümde lakin bundan önce decoratorları daha iyi anlamak için args ve kwargs'ları daha iyi \n",
    "# anlamamız gerekmektedir ==> \n"
   ]
  },
  {
   "cell_type": "code",
   "execution_count": 2,
   "id": "8e83fb02",
   "metadata": {},
   "outputs": [],
   "source": [
    "# args ==> ben bu fonksiyona istediğim kadar argüman gönderebilirim demek bu !!! \n",
    "def fonksiyon(*args):\n",
    "    for i in args:\n",
    "        print(i)\n",
    "    "
   ]
  },
  {
   "cell_type": "code",
   "execution_count": 3,
   "id": "c3330f37",
   "metadata": {},
   "outputs": [
    {
     "name": "stdout",
     "output_type": "stream",
     "text": [
      "1\n",
      "2\n",
      "3\n",
      "4\n",
      "5\n",
      "6\n"
     ]
    }
   ],
   "source": [
    "fonksiyon(1,2,3,4,5,6)"
   ]
  },
  {
   "cell_type": "code",
   "execution_count": 4,
   "id": "13548ed9",
   "metadata": {},
   "outputs": [
    {
     "name": "stdout",
     "output_type": "stream",
     "text": [
      "1\n",
      "2\n",
      "3\n"
     ]
    }
   ],
   "source": [
    "fonksiyon(1,2,3)"
   ]
  },
  {
   "cell_type": "code",
   "execution_count": 5,
   "id": "8360b126",
   "metadata": {},
   "outputs": [
    {
     "name": "stdout",
     "output_type": "stream",
     "text": [
      "1\n",
      "2\n",
      "3\n",
      "4\n",
      "5\n",
      "6\n",
      "7\n",
      "897\n"
     ]
    }
   ],
   "source": [
    "fonksiyon(1,2,3,4,5,6,7,897)"
   ]
  },
  {
   "cell_type": "code",
   "execution_count": 6,
   "id": "e9051e87",
   "metadata": {},
   "outputs": [],
   "source": [
    "def fonksiyon(isim,*args):\n",
    "    print(\"İsim: \",isim)\n",
    "    print(\"<<<===========>>>\")\n",
    "    for i in args:\n",
    "        print(i)"
   ]
  },
  {
   "cell_type": "code",
   "execution_count": 7,
   "id": "463578fa",
   "metadata": {},
   "outputs": [
    {
     "name": "stdout",
     "output_type": "stream",
     "text": [
      "İsim:  Orkun\n",
      "<<<===========>>>\n",
      "1\n",
      "2\n",
      "3\n",
      "4\n",
      "5\n"
     ]
    }
   ],
   "source": [
    "fonksiyon(\"Orkun\",1,2,3,4,5)"
   ]
  },
  {
   "cell_type": "code",
   "execution_count": 8,
   "id": "06d99107",
   "metadata": {},
   "outputs": [
    {
     "name": "stdout",
     "output_type": "stream",
     "text": [
      "İsim:  1\n",
      "<<<===========>>>\n",
      "2\n",
      "3\n",
      "4\n",
      "5\n"
     ]
    }
   ],
   "source": [
    "fonksiyon(1,2,3,4,5)"
   ]
  },
  {
   "cell_type": "code",
   "execution_count": 9,
   "id": "e60112e4",
   "metadata": {},
   "outputs": [],
   "source": [
    "# kwargs ise argümanlara isim vererek göndermemiz anlamına gelmektedir dikkat et her bir argümana isim vermektir kwargs !!! \n",
    "def fonksiyon(**kwargs):\n",
    "    print(kwargs)"
   ]
  },
  {
   "cell_type": "code",
   "execution_count": 10,
   "id": "52122ce4",
   "metadata": {},
   "outputs": [
    {
     "name": "stdout",
     "output_type": "stream",
     "text": [
      "{'isim': 'Orkun', 'Soyisim': 'Orulluoğlu ', 'Bölüm': 'Teknoloji departmanı ', 'Numara': 12345678}\n"
     ]
    }
   ],
   "source": [
    "fonksiyon(isim = \"Orkun\",Soyisim = \"Orulluoğlu \",Bölüm = \"Teknoloji departmanı \",Numara = 12345678)"
   ]
  },
  {
   "cell_type": "code",
   "execution_count": 25,
   "id": "cee74cc0",
   "metadata": {},
   "outputs": [],
   "source": [
    "def fonksiyon(**kwargs):\n",
    "    for i,j in kwargs.items():\n",
    "        print(\"Argüman İsmi: \",i,\"\\t\\tArgüman Değeri:\",j)"
   ]
  },
  {
   "cell_type": "code",
   "execution_count": 26,
   "id": "025c8aff",
   "metadata": {},
   "outputs": [
    {
     "name": "stdout",
     "output_type": "stream",
     "text": [
      "Argüman İsmi:  isim \t\tArgüman Değeri: Orkun\n",
      "Argüman İsmi:  Soyisim \t\tArgüman Değeri: Orulluoğlu \n",
      "Argüman İsmi:  Bölüm \t\tArgüman Değeri: Teknoloji departmanı \n",
      "Argüman İsmi:  Numara \t\tArgüman Değeri: 12345678\n"
     ]
    }
   ],
   "source": [
    "fonksiyon(isim = \"Orkun\",Soyisim = \"Orulluoğlu \",Bölüm = \"Teknoloji departmanı \",Numara = 12345678)"
   ]
  },
  {
   "cell_type": "code",
   "execution_count": 27,
   "id": "6f94fbb0",
   "metadata": {},
   "outputs": [],
   "source": [
    "# şimdi ise args ve kwargs'ı beraber kullanalım ==> \n",
    "def fonksiyon(*args,**kwargs):\n",
    "    for i in args:\n",
    "        print(i)\n",
    "    print(\"<<<===========>>>\")\n",
    "    \n",
    "    for i,j in kwargs.items():\n",
    "        print(i,j)"
   ]
  },
  {
   "cell_type": "code",
   "execution_count": 30,
   "id": "54b87efe",
   "metadata": {},
   "outputs": [
    {
     "name": "stdout",
     "output_type": "stream",
     "text": [
      "1\n",
      "2\n",
      "3\n",
      "4\n",
      "5\n",
      "6\n",
      "77\n",
      "78\n",
      "79\n",
      "<<<===========>>>\n",
      "isim Orkun\n",
      "Soyisim Orulluoğlu \n",
      "Bölüm Teknoloji departmanı \n",
      "Numara 12345678\n"
     ]
    }
   ],
   "source": [
    "fonksiyon(1,2,3,4,5,6,77,78,79,isim = \"Orkun\",Soyisim = \"Orulluoğlu \",Bölüm = \"Teknoloji departmanı \",Numara = 12345678)"
   ]
  },
  {
   "cell_type": "code",
   "execution_count": 33,
   "id": "2ccc3dcd",
   "metadata": {},
   "outputs": [],
   "source": [
    "# iç içe fonksiyonlar ise  ==> python'da fonksiyonlar da birer obje oldukları için hem bir tane değişkene atanabilirler\n",
    "#hem de başka bir fonksiyonun içerisinde tanımlanabilirler . şimdi bunlara bakmaya başlayalım ==> \n",
    "def selamla(isim):\n",
    "    print(\"Selam\",isim)"
   ]
  },
  {
   "cell_type": "code",
   "execution_count": 34,
   "id": "7c65841a",
   "metadata": {},
   "outputs": [
    {
     "name": "stdout",
     "output_type": "stream",
     "text": [
      "Selam Orkun\n"
     ]
    }
   ],
   "source": [
    "selamla(\"Orkun\")"
   ]
  },
  {
   "cell_type": "markdown",
   "id": "e4ace449",
   "metadata": {},
   "source": [
    "selamla\n"
   ]
  },
  {
   "cell_type": "code",
   "execution_count": 36,
   "id": "e47b3c8a",
   "metadata": {},
   "outputs": [
    {
     "data": {
      "text/plain": [
       "<function __main__.selamla(isim)>"
      ]
     },
     "execution_count": 36,
     "metadata": {},
     "output_type": "execute_result"
    }
   ],
   "source": [
    "selamla"
   ]
  },
  {
   "cell_type": "code",
   "execution_count": 37,
   "id": "ecc7d3f6",
   "metadata": {},
   "outputs": [],
   "source": [
    "merhaba = selamla"
   ]
  },
  {
   "cell_type": "code",
   "execution_count": 38,
   "id": "d4f0ce04",
   "metadata": {},
   "outputs": [
    {
     "data": {
      "text/plain": [
       "<function __main__.selamla(isim)>"
      ]
     },
     "execution_count": 38,
     "metadata": {},
     "output_type": "execute_result"
    }
   ],
   "source": [
    "merhaba"
   ]
  },
  {
   "cell_type": "code",
   "execution_count": 39,
   "id": "ee4e0866",
   "metadata": {},
   "outputs": [
    {
     "name": "stdout",
     "output_type": "stream",
     "text": [
      "Selam Kemalettin\n"
     ]
    }
   ],
   "source": [
    "merhaba(\"Kemalettin\")"
   ]
  },
  {
   "cell_type": "code",
   "execution_count": 40,
   "id": "8e9b0c91",
   "metadata": {},
   "outputs": [],
   "source": [
    "# peki fonksiyonu silersek ne olur ?? \n",
    "del selamla"
   ]
  },
  {
   "cell_type": "code",
   "execution_count": 41,
   "id": "c75900a1",
   "metadata": {},
   "outputs": [
    {
     "name": "stdout",
     "output_type": "stream",
     "text": [
      "Selam Orkun\n"
     ]
    }
   ],
   "source": [
    "merhaba(\"Orkun\")"
   ]
  },
  {
   "cell_type": "code",
   "execution_count": 42,
   "id": "3e91e40f",
   "metadata": {},
   "outputs": [
    {
     "ename": "NameError",
     "evalue": "name 'selamla' is not defined",
     "output_type": "error",
     "traceback": [
      "\u001b[1;31m---------------------------------------------------------------------------\u001b[0m",
      "\u001b[1;31mNameError\u001b[0m                                 Traceback (most recent call last)",
      "\u001b[1;32m<ipython-input-42-fa74f1342839>\u001b[0m in \u001b[0;36m<module>\u001b[1;34m\u001b[0m\n\u001b[1;32m----> 1\u001b[1;33m \u001b[0mselamla\u001b[0m\u001b[1;33m\u001b[0m\u001b[1;33m\u001b[0m\u001b[0m\n\u001b[0m",
      "\u001b[1;31mNameError\u001b[0m: name 'selamla' is not defined"
     ]
    }
   ],
   "source": [
    "selamla"
   ]
  },
  {
   "cell_type": "code",
   "execution_count": 43,
   "id": "082f92d7",
   "metadata": {},
   "outputs": [
    {
     "data": {
      "text/plain": [
       "<function __main__.selamla(isim)>"
      ]
     },
     "execution_count": 43,
     "metadata": {},
     "output_type": "execute_result"
    }
   ],
   "source": [
    "merhaba"
   ]
  },
  {
   "cell_type": "code",
   "execution_count": 45,
   "id": "24a60802",
   "metadata": {},
   "outputs": [],
   "source": [
    "# iç içe fonksiyonlara bakarsak ==> \n",
    "def fonksiyon():\n",
    "    def fonksiyon2():\n",
    "        print(\"Küçük Fonksiyondan Herkese Merhaba :))\")\n",
    "    fonksiyon2()\n",
    "    print(\"Büyük Fonksiyondan Herkese Merhaba :))\")"
   ]
  },
  {
   "cell_type": "code",
   "execution_count": 47,
   "id": "27077a2d",
   "metadata": {},
   "outputs": [
    {
     "name": "stdout",
     "output_type": "stream",
     "text": [
      "Küçük Fonksiyondan Herkese Merhaba :))\n",
      "Büyük Fonksiyondan Herkese Merhaba :))\n"
     ]
    }
   ],
   "source": [
    "fonksiyon() # önce fonksiyon2'yi tanımlıyor daha sonra fonksyion2'yi çağırıp fonksiyon1'i normal gösteriyor !!! "
   ]
  },
  {
   "cell_type": "code",
   "execution_count": 48,
   "id": "3eacea69",
   "metadata": {},
   "outputs": [
    {
     "ename": "NameError",
     "evalue": "name 'fonksiyon2' is not defined",
     "output_type": "error",
     "traceback": [
      "\u001b[1;31m---------------------------------------------------------------------------\u001b[0m",
      "\u001b[1;31mNameError\u001b[0m                                 Traceback (most recent call last)",
      "\u001b[1;32m<ipython-input-48-ca032212b444>\u001b[0m in \u001b[0;36m<module>\u001b[1;34m\u001b[0m\n\u001b[0;32m      1\u001b[0m \u001b[1;31m# fonksiyon2 local olduğu için her yerden ulaşamayız !! dikkat et !!\u001b[0m\u001b[1;33m\u001b[0m\u001b[1;33m\u001b[0m\u001b[1;33m\u001b[0m\u001b[0m\n\u001b[1;32m----> 2\u001b[1;33m \u001b[0mfonksiyon2\u001b[0m\u001b[1;33m(\u001b[0m\u001b[1;33m)\u001b[0m\u001b[1;33m\u001b[0m\u001b[1;33m\u001b[0m\u001b[0m\n\u001b[0m",
      "\u001b[1;31mNameError\u001b[0m: name 'fonksiyon2' is not defined"
     ]
    }
   ],
   "source": [
    "# fonksiyon2 local olduğu için her yerden ulaşamayız !! dikkat et !!\n",
    "fonksiyon2()"
   ]
  },
  {
   "cell_type": "code",
   "execution_count": 51,
   "id": "5f505ee2",
   "metadata": {},
   "outputs": [],
   "source": [
    "def fonksiyon(*args):\n",
    "    \n",
    "    def toplama(args):\n",
    "        toplam = 0 \n",
    "        for i in args:\n",
    "            toplam += i\n",
    "        return toplam \n",
    "    print(toplama(args))"
   ]
  },
  {
   "cell_type": "code",
   "execution_count": 52,
   "id": "ab94250b",
   "metadata": {},
   "outputs": [
    {
     "name": "stdout",
     "output_type": "stream",
     "text": [
      "21\n"
     ]
    }
   ],
   "source": [
    "fonksiyon(1,2,3,4,5,6)"
   ]
  },
  {
   "cell_type": "code",
   "execution_count": null,
   "id": "5f84dafe",
   "metadata": {},
   "outputs": [],
   "source": []
  }
 ],
 "metadata": {
  "kernelspec": {
   "display_name": "Python 3",
   "language": "python",
   "name": "python3"
  },
  "language_info": {
   "codemirror_mode": {
    "name": "ipython",
    "version": 3
   },
   "file_extension": ".py",
   "mimetype": "text/x-python",
   "name": "python",
   "nbconvert_exporter": "python",
   "pygments_lexer": "ipython3",
   "version": "3.8.8"
  }
 },
 "nbformat": 4,
 "nbformat_minor": 5
}
