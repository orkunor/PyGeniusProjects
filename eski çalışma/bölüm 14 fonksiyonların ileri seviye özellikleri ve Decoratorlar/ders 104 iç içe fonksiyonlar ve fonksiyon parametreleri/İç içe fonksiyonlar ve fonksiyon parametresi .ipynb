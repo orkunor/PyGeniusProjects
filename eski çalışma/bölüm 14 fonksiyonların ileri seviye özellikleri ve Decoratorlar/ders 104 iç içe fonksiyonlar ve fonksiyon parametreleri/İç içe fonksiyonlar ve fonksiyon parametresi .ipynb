{
 "cells": [
  {
   "cell_type": "code",
   "execution_count": 1,
   "id": "361a1dbe",
   "metadata": {},
   "outputs": [],
   "source": [
    "# bu bölümle beraber decoratorlara daha derin bakacağız \n",
    "# decoratorları daha iyi anlayabilmek için args ve kwargs'ı daha iyi anlamamız gerekmektedir !!! \n",
    "# yani önce fonksiyonları daha derin bir şekilde anlayalım \n",
    "\n"
   ]
  },
  {
   "cell_type": "code",
   "execution_count": 2,
   "id": "668354c2",
   "metadata": {},
   "outputs": [],
   "source": [
    "#args ile fonksiyona istediğimiz kadar argüman gönderebileceğiz !! \n",
    "def fonksiyon(*args):\n",
    "    for i in args:\n",
    "        print(i)\n",
    "        "
   ]
  },
  {
   "cell_type": "code",
   "execution_count": 3,
   "id": "fcd50192",
   "metadata": {},
   "outputs": [
    {
     "name": "stdout",
     "output_type": "stream",
     "text": [
      "1\n",
      "2\n",
      "3\n",
      "4\n",
      "5\n",
      "6\n"
     ]
    }
   ],
   "source": [
    "fonksiyon(1,2,3,4,5,6)"
   ]
  },
  {
   "cell_type": "code",
   "execution_count": 4,
   "id": "cc76cd7f",
   "metadata": {},
   "outputs": [
    {
     "name": "stdout",
     "output_type": "stream",
     "text": [
      "1\n",
      "2\n",
      "3\n",
      "4\n",
      "5\n",
      "6\n",
      "Python\n",
      "Orkun\n"
     ]
    }
   ],
   "source": [
    "fonksiyon(1,2,3,4,5,6,\"Python\",\"Orkun\")"
   ]
  },
  {
   "cell_type": "code",
   "execution_count": 5,
   "id": "b1418f84",
   "metadata": {},
   "outputs": [],
   "source": [
    "def fonksiyon(isim,*args):\n",
    "    print(\"İsim:\",isim)\n",
    "    print(\"----------\")\n",
    "    \n",
    "    for i in args:\n",
    "        print(i)"
   ]
  },
  {
   "cell_type": "code",
   "execution_count": 6,
   "id": "68b60c3d",
   "metadata": {},
   "outputs": [
    {
     "name": "stdout",
     "output_type": "stream",
     "text": [
      "İsim: Orkun\n",
      "----------\n",
      "1\n",
      "2\n",
      "3\n",
      "4\n",
      "5\n",
      "6\n"
     ]
    }
   ],
   "source": [
    "fonksiyon(\"Orkun\",1,2,3,4,5,6)"
   ]
  },
  {
   "cell_type": "code",
   "execution_count": 7,
   "id": "c830b4ac",
   "metadata": {},
   "outputs": [
    {
     "name": "stdout",
     "output_type": "stream",
     "text": [
      "İsim: 1\n",
      "----------\n",
      "2\n",
      "3\n",
      "4\n",
      "5\n",
      "6\n"
     ]
    }
   ],
   "source": [
    "fonksiyon(1,2,3,4,5,6)"
   ]
  },
  {
   "cell_type": "code",
   "execution_count": 8,
   "id": "50aa8391",
   "metadata": {},
   "outputs": [],
   "source": [
    "# kwargs ise argümanlarımıza isim vererek göndermemizi sağlamaktadır !!! \n",
    "# kwargs = keywords argümants \n",
    "def fonksiyon(**kwargs):\n",
    "    print(kwargs)\n",
    "    "
   ]
  },
  {
   "cell_type": "code",
   "execution_count": 9,
   "id": "6a45cc80",
   "metadata": {},
   "outputs": [
    {
     "name": "stdout",
     "output_type": "stream",
     "text": [
      "{'isim': 'Orkun', 'soyisim': 'Orulluoğlu', 'numara': 12345}\n"
     ]
    }
   ],
   "source": [
    "fonksiyon(isim = \"Orkun\",soyisim = \"Orulluoğlu\",numara = 12345)"
   ]
  },
  {
   "cell_type": "code",
   "execution_count": 16,
   "id": "7c6b207d",
   "metadata": {},
   "outputs": [],
   "source": [
    "def fonksiyon(**kwargs):\n",
    "    for i,j in kwargs.items():\n",
    "        print(\"Argüman İsmi: \\t\",i,\"\\t\\tArgüman Değeri: \",j)"
   ]
  },
  {
   "cell_type": "code",
   "execution_count": 17,
   "id": "39fc8631",
   "metadata": {},
   "outputs": [
    {
     "name": "stdout",
     "output_type": "stream",
     "text": [
      "Argüman İsmi: \t isim \t\tArgüman Değeri:  Orkun\n",
      "Argüman İsmi: \t soyisim \t\tArgüman Değeri:  Orulluoğlu\n",
      "Argüman İsmi: \t numara \t\tArgüman Değeri:  12345\n"
     ]
    }
   ],
   "source": [
    "fonksiyon(isim = \"Orkun\",soyisim = \"Orulluoğlu\",numara = 12345)"
   ]
  },
  {
   "cell_type": "code",
   "execution_count": 18,
   "id": "d5b4b692",
   "metadata": {},
   "outputs": [],
   "source": [
    "def fonksiyon(*args,**kwargs):\n",
    "    for i in args:\n",
    "        print(i)\n",
    "    print(\"----------\")\n",
    "    \n",
    "    for i,j in kwargs.items():\n",
    "        print(i,j)"
   ]
  },
  {
   "cell_type": "code",
   "execution_count": 21,
   "id": "821a4fd8",
   "metadata": {},
   "outputs": [
    {
     "name": "stdout",
     "output_type": "stream",
     "text": [
      "1\n",
      "2\n",
      "3\n",
      "4\n",
      "5\n",
      "6\n",
      "7\n",
      "----------\n",
      "isim Orkun\n",
      "soyisim Orulluoğlu\n",
      "numara 12345\n"
     ]
    }
   ],
   "source": [
    "fonksiyon(1,2,3,4,5,6,7,isim = \"Orkun\",soyisim = \"Orulluoğlu\",numara = 12345)"
   ]
  },
  {
   "cell_type": "code",
   "execution_count": null,
   "id": "c1e87cfd",
   "metadata": {},
   "outputs": [],
   "source": [
    "# bir diğer öenmli konu ise iç içe fonksiyonlardır !! \n",
    "# Pythonda fonksiyonlar da birer obje oldukları için hem bir tane değişkene atanabilirler,\n",
    "# hem de başka bir fonksiyonun içinde tanımlanabilirler. Şimdi bunlara bakmaya başlayalım.\n"
   ]
  }
 ],
 "metadata": {
  "kernelspec": {
   "display_name": "Python 3",
   "language": "python",
   "name": "python3"
  },
  "language_info": {
   "codemirror_mode": {
    "name": "ipython",
    "version": 3
   },
   "file_extension": ".py",
   "mimetype": "text/x-python",
   "name": "python",
   "nbconvert_exporter": "python",
   "pygments_lexer": "ipython3",
   "version": "3.8.8"
  }
 },
 "nbformat": 4,
 "nbformat_minor": 5
}
