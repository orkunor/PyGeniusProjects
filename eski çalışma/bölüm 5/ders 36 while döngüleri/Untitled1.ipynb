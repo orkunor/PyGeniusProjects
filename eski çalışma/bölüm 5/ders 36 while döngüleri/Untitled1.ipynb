{
 "cells": [
  {
   "cell_type": "code",
   "execution_count": 2,
   "id": "b889ef13",
   "metadata": {},
   "outputs": [
    {
     "name": "stdout",
     "output_type": "stream",
     "text": [
      "0\n",
      "1\n",
      "2\n",
      "3\n",
      "4\n",
      "5\n",
      "6\n"
     ]
    }
   ],
   "source": [
    "index = 0 \n",
    "\n",
    "liste = [1,2,3,4,5,6,7]\n",
    "\n",
    "while (index < len(liste)):\n",
    "    print(index)\n",
    "    index += 1\n",
    "    "
   ]
  },
  {
   "cell_type": "code",
   "execution_count": 7,
   "id": "3df233f7",
   "metadata": {},
   "outputs": [
    {
     "name": "stdout",
     "output_type": "stream",
     "text": [
      "index :  0 \t==>\tliste eleman :  1\n",
      "index :  1 \t==>\tliste eleman :  2\n",
      "index :  2 \t==>\tliste eleman :  3\n",
      "index :  3 \t==>\tliste eleman :  4\n",
      "index :  4 \t==>\tliste eleman :  5\n",
      "index :  5 \t==>\tliste eleman :  6\n",
      "index :  6 \t==>\tliste eleman :  7\n"
     ]
    }
   ],
   "source": [
    "index = 0 \n",
    "\n",
    "liste = [1,2,3,4,5,6,7]\n",
    "\n",
    "while (index < len(liste)):\n",
    "    print(\"index : \",index,\"\\t==>\\tliste eleman : \",liste[index])\n",
    "    index += 1"
   ]
  },
  {
   "cell_type": "code",
   "execution_count": null,
   "id": "1d3c6162",
   "metadata": {},
   "outputs": [],
   "source": []
  }
 ],
 "metadata": {
  "kernelspec": {
   "display_name": "Python 3",
   "language": "python",
   "name": "python3"
  },
  "language_info": {
   "codemirror_mode": {
    "name": "ipython",
    "version": 3
   },
   "file_extension": ".py",
   "mimetype": "text/x-python",
   "name": "python",
   "nbconvert_exporter": "python",
   "pygments_lexer": "ipython3",
   "version": "3.8.8"
  }
 },
 "nbformat": 4,
 "nbformat_minor": 5
}
