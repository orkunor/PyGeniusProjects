{
 "cells": [
  {
   "cell_type": "code",
   "execution_count": 3,
   "id": "5771379b",
   "metadata": {},
   "outputs": [
    {
     "name": "stdout",
     "output_type": "stream",
     "text": [
      "şu anki değerim :  0\n",
      "şu anki değerim :  1\n",
      "şu anki değerim :  2\n",
      "şu anki değerim :  3\n",
      "şu anki değerim :  4\n",
      "şu anki değerim :  5\n",
      "şu anki değerim :  6\n",
      "şu anki değerim :  7\n",
      "şu anki değerim :  8\n",
      "şu anki değerim :  9\n",
      "\n",
      "\n",
      "10\n"
     ]
    }
   ],
   "source": [
    "# while döngüsü de for döngüsü gibi bloklardan oluşur while döngüsü bir koşula bağlı olarak devam eder ve \n",
    "# koşul sağlandığı sürece işlemnleri terkar blokları çalıştırır\n",
    "\n",
    "i = 0\n",
    "\n",
    "while (i < 10):\n",
    "    print(\"şu anki değerim : \",i)\n",
    "    i += 1 #ilk başta sıfırdı sonra yavaş yavaş artıyor \n",
    "print(\"\\n\")    \n",
    "\n",
    "print(i)    "
   ]
  },
  {
   "cell_type": "code",
   "execution_count": 4,
   "id": "6e4717b8",
   "metadata": {},
   "outputs": [
    {
     "name": "stdout",
     "output_type": "stream",
     "text": [
      "şu anki değerim :  0\n",
      "şu anki değerim :  2\n",
      "şu anki değerim :  4\n",
      "şu anki değerim :  6\n",
      "şu anki değerim :  8\n",
      "şu anki değerim :  10\n",
      "şu anki değerim :  12\n",
      "şu anki değerim :  14\n",
      "şu anki değerim :  16\n",
      "şu anki değerim :  18\n",
      "\n",
      "\n",
      "20\n"
     ]
    }
   ],
   "source": [
    "i = 0\n",
    "\n",
    "while (i < 20):\n",
    "    print(\"şu anki değerim : \",i)\n",
    "    i += 2 \n",
    "print(\"\\n\")    \n",
    "\n",
    "print(i)  "
   ]
  },
  {
   "cell_type": "code",
   "execution_count": null,
   "id": "2603ae76",
   "metadata": {},
   "outputs": [],
   "source": [
    "i = 0 \n",
    "\n",
    "while(1<40):\n",
    "    print(\"Python öğreniyorum \",i)\n",
    "    i += 1\n",
    "    "
   ]
  },
  {
   "cell_type": "code",
   "execution_count": null,
   "id": "7ab5051f",
   "metadata": {},
   "outputs": [],
   "source": [
    "i = 0 \n",
    "\n",
    "while(1<40):\n",
    "    print(\"Python öğreniyorum \",i)\n",
    "    i += 1"
   ]
  },
  {
   "cell_type": "code",
   "execution_count": null,
   "id": "2c3c8302",
   "metadata": {},
   "outputs": [],
   "source": []
  }
 ],
 "metadata": {
  "kernelspec": {
   "display_name": "Python 3",
   "language": "python",
   "name": "python3"
  },
  "language_info": {
   "codemirror_mode": {
    "name": "ipython",
    "version": 3
   },
   "file_extension": ".py",
   "mimetype": "text/x-python",
   "name": "python",
   "nbconvert_exporter": "python",
   "pygments_lexer": "ipython3",
   "version": "3.8.8"
  }
 },
 "nbformat": 4,
 "nbformat_minor": 5
}
