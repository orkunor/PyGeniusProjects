{
 "cells": [
  {
   "cell_type": "code",
   "execution_count": 3,
   "id": "41fbdb23",
   "metadata": {},
   "outputs": [
    {
     "name": "stdout",
     "output_type": "stream",
     "text": [
      "Python öğreniyorum... ==>  1\n",
      "Python öğreniyorum... ==>  2\n",
      "Python öğreniyorum... ==>  3\n",
      "Python öğreniyorum... ==>  4\n",
      "Python öğreniyorum... ==>  5\n",
      "Python öğreniyorum... ==>  6\n",
      "Python öğreniyorum... ==>  7\n",
      "Python öğreniyorum... ==>  8\n",
      "Python öğreniyorum... ==>  9\n",
      "Python öğreniyorum... ==>  10\n",
      "Python öğreniyorum... ==>  11\n",
      "Python öğreniyorum... ==>  12\n",
      "Python öğreniyorum... ==>  13\n",
      "Python öğreniyorum... ==>  14\n",
      "Python öğreniyorum... ==>  15\n",
      "Python öğreniyorum... ==>  16\n",
      "Python öğreniyorum... ==>  17\n",
      "Python öğreniyorum... ==>  18\n",
      "Python öğreniyorum... ==>  19\n",
      "Python öğreniyorum... ==>  20\n",
      "Python öğreniyorum... ==>  21\n",
      "Python öğreniyorum... ==>  22\n",
      "Python öğreniyorum... ==>  23\n",
      "Python öğreniyorum... ==>  24\n",
      "Python öğreniyorum... ==>  25\n",
      "Python öğreniyorum... ==>  26\n",
      "Python öğreniyorum... ==>  27\n",
      "Python öğreniyorum... ==>  28\n",
      "Python öğreniyorum... ==>  29\n",
      "Python öğreniyorum... ==>  30\n",
      "Python öğreniyorum... ==>  31\n",
      "Python öğreniyorum... ==>  32\n",
      "Python öğreniyorum... ==>  33\n",
      "Python öğreniyorum... ==>  34\n",
      "Python öğreniyorum... ==>  35\n",
      "Python öğreniyorum... ==>  36\n",
      "Python öğreniyorum... ==>  37\n",
      "Python öğreniyorum... ==>  38\n",
      "Python öğreniyorum... ==>  39\n",
      "Python öğreniyorum... ==>  40\n"
     ]
    }
   ],
   "source": [
    "a = 0 \n",
    "\n",
    "while(a < 40):\n",
    "    print(\"Python öğreniyorum... ==> \",a+1)\n",
    "    a += 1\n",
    "\n"
   ]
  },
  {
   "cell_type": "code",
   "execution_count": null,
   "id": "387bf166",
   "metadata": {},
   "outputs": [],
   "source": [
    "index = 0 \n",
    "\n",
    "liste = [1,2,3,4,5,6,7]\n",
    "\n",
    "while (index < len(liste)):\n",
    "    print(liste)\n",
    "    index += 1"
   ]
  },
  {
   "cell_type": "code",
   "execution_count": null,
   "id": "339bfe98",
   "metadata": {},
   "outputs": [],
   "source": []
  }
 ],
 "metadata": {
  "kernelspec": {
   "display_name": "Python 3",
   "language": "python",
   "name": "python3"
  },
  "language_info": {
   "codemirror_mode": {
    "name": "ipython",
    "version": 3
   },
   "file_extension": ".py",
   "mimetype": "text/x-python",
   "name": "python",
   "nbconvert_exporter": "python",
   "pygments_lexer": "ipython3",
   "version": "3.8.8"
  }
 },
 "nbformat": 4,
 "nbformat_minor": 5
}
