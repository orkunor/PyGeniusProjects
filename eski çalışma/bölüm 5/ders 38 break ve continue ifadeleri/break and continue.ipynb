{
 "cells": [
  {
   "cell_type": "code",
   "execution_count": 4,
   "id": "65580f4f",
   "metadata": {},
   "outputs": [
    {
     "name": "stdout",
     "output_type": "stream",
     "text": [
      "İ ==> 0\n",
      "İ ==> 1\n",
      "İ ==> 2\n",
      "İ ==> 3\n",
      "İ ==> 4\n"
     ]
    }
   ],
   "source": [
    "i = 0\n",
    "\n",
    "while (i < 10):\n",
    "    \n",
    "    if i == 5:\n",
    "        break\n",
    "    \n",
    "    print(\"İ ==>\",i)\n",
    "    \n",
    "    i += 1"
   ]
  },
  {
   "cell_type": "code",
   "execution_count": 5,
   "id": "8f513eb0",
   "metadata": {},
   "outputs": [
    {
     "name": "stdout",
     "output_type": "stream",
     "text": [
      "1\n",
      "2\n",
      "3\n",
      "4\n",
      "5\n"
     ]
    }
   ],
   "source": [
    "liste = [1,2,3,4,5]\n",
    "\n",
    "for i in liste:\n",
    "    print(i)"
   ]
  },
  {
   "cell_type": "code",
   "execution_count": 6,
   "id": "7ffd9bc4",
   "metadata": {},
   "outputs": [
    {
     "name": "stdout",
     "output_type": "stream",
     "text": [
      "1\n",
      "2\n",
      "3\n"
     ]
    }
   ],
   "source": [
    "liste = [1,2,3,4,5]\n",
    "\n",
    "for i in liste:\n",
    "    if (i == 4):\n",
    "        break\n",
    "    print(i)"
   ]
  },
  {
   "cell_type": "code",
   "execution_count": 10,
   "id": "77c376f4",
   "metadata": {},
   "outputs": [
    {
     "name": "stdout",
     "output_type": "stream",
     "text": [
      "İsminizi giriniz (Çıkmak için 'q' harfine basınız...)orkun\n",
      "İSMİNİZ :  orkun\n",
      "İsminizi giriniz (Çıkmak için 'q' harfine basınız...)bayram \n",
      "İSMİNİZ :  bayram \n",
      "İsminizi giriniz (Çıkmak için 'q' harfine basınız...)q\n",
      "Program sonlandırılıyor...\n"
     ]
    }
   ],
   "source": [
    "while True:\n",
    "    isim = input(\"İsminizi giriniz (Çıkmak için 'q' harfine basınız...)\")\n",
    "    if isim == \"q\":\n",
    "        print(\"Program sonlandırılıyor...\")\n",
    "        break\n",
    "    print(\"İSMİNİZ : \",isim)    \n",
    "        "
   ]
  },
  {
   "cell_type": "code",
   "execution_count": 11,
   "id": "3cc300f6",
   "metadata": {},
   "outputs": [
    {
     "name": "stdout",
     "output_type": "stream",
     "text": [
      "[0, 1, 2, 3, 4, 5, 6, 7, 8, 9, 10]\n"
     ]
    }
   ],
   "source": [
    "liste = list(range(11))\n",
    "print(liste)"
   ]
  },
  {
   "cell_type": "code",
   "execution_count": 13,
   "id": "f25b3312",
   "metadata": {},
   "outputs": [
    {
     "name": "stdout",
     "output_type": "stream",
     "text": [
      "i ==>  0\n",
      "i ==>  1\n",
      "i ==>  2\n",
      "i ==>  3\n",
      "i ==>  4\n",
      "i ==>  5\n",
      "i ==>  6\n",
      "i ==>  7\n",
      "i ==>  8\n",
      "i ==>  9\n",
      "i ==>  10\n"
     ]
    }
   ],
   "source": [
    "for i in liste:\n",
    "    print(\"i ==> \",i)"
   ]
  },
  {
   "cell_type": "code",
   "execution_count": 15,
   "id": "5257b563",
   "metadata": {},
   "outputs": [
    {
     "name": "stdout",
     "output_type": "stream",
     "text": [
      "i ==>  0\n",
      "i ==>  1\n",
      "i ==>  2\n",
      "i ==>  3\n",
      "i ==>  4\n",
      "i ==>  6\n",
      "i ==>  8\n",
      "i ==>  9\n",
      "i ==>  10\n"
     ]
    }
   ],
   "source": [
    "for i in liste:\n",
    "    if i == 5 or i == 7:\n",
    "        continue\n",
    "    print(\"i ==> \",i)"
   ]
  },
  {
   "cell_type": "code",
   "execution_count": null,
   "id": "97826e27",
   "metadata": {},
   "outputs": [],
   "source": []
  }
 ],
 "metadata": {
  "kernelspec": {
   "display_name": "Python 3",
   "language": "python",
   "name": "python3"
  },
  "language_info": {
   "codemirror_mode": {
    "name": "ipython",
    "version": 3
   },
   "file_extension": ".py",
   "mimetype": "text/x-python",
   "name": "python",
   "nbconvert_exporter": "python",
   "pygments_lexer": "ipython3",
   "version": "3.8.8"
  }
 },
 "nbformat": 4,
 "nbformat_minor": 5
}
