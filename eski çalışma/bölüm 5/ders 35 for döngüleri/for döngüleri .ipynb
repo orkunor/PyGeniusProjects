{
 "cells": [
  {
   "cell_type": "code",
   "execution_count": 2,
   "id": "b432fee7",
   "metadata": {},
   "outputs": [
    {
     "data": {
      "text/plain": [
       "False"
      ]
     },
     "execution_count": 2,
     "metadata": {},
     "output_type": "execute_result"
    }
   ],
   "source": [
    "# in operatörü python'da bir elemanın başka bir listede , demette veya stringde olup olmadığını kontrol etmemizi sağlıyor \n",
    "5 in [1,2,3,4]"
   ]
  },
  {
   "cell_type": "code",
   "execution_count": 3,
   "id": "dcd0672a",
   "metadata": {},
   "outputs": [
    {
     "data": {
      "text/plain": [
       "True"
      ]
     },
     "execution_count": 3,
     "metadata": {},
     "output_type": "execute_result"
    }
   ],
   "source": [
    "4 in [1,2,3,4]"
   ]
  },
  {
   "cell_type": "code",
   "execution_count": 4,
   "id": "6cdd2f2b",
   "metadata": {},
   "outputs": [
    {
     "data": {
      "text/plain": [
       "True"
      ]
     },
     "execution_count": 4,
     "metadata": {},
     "output_type": "execute_result"
    }
   ],
   "source": [
    "\"or\" in \"orkun\""
   ]
  },
  {
   "cell_type": "code",
   "execution_count": 5,
   "id": "15ffe886",
   "metadata": {},
   "outputs": [
    {
     "data": {
      "text/plain": [
       "False"
      ]
     },
     "execution_count": 5,
     "metadata": {},
     "output_type": "execute_result"
    }
   ],
   "source": [
    "\"o r\" in \"orkun\""
   ]
  },
  {
   "cell_type": "code",
   "execution_count": 6,
   "id": "b16bd3c3",
   "metadata": {},
   "outputs": [
    {
     "data": {
      "text/plain": [
       "True"
      ]
     },
     "execution_count": 6,
     "metadata": {},
     "output_type": "execute_result"
    }
   ],
   "source": [
    "\"p\" in \"python\""
   ]
  },
  {
   "cell_type": "code",
   "execution_count": 7,
   "id": "33f6b616",
   "metadata": {},
   "outputs": [
    {
     "data": {
      "text/plain": [
       "True"
      ]
     },
     "execution_count": 7,
     "metadata": {},
     "output_type": "execute_result"
    }
   ],
   "source": [
    "\"o\" in \"python\""
   ]
  },
  {
   "cell_type": "code",
   "execution_count": 8,
   "id": "f6bfc13e",
   "metadata": {},
   "outputs": [
    {
     "data": {
      "text/plain": [
       "False"
      ]
     },
     "execution_count": 8,
     "metadata": {},
     "output_type": "execute_result"
    }
   ],
   "source": [
    "\"s\" in \"python\""
   ]
  },
  {
   "cell_type": "code",
   "execution_count": 9,
   "id": "8964df8d",
   "metadata": {},
   "outputs": [
    {
     "data": {
      "text/plain": [
       "False"
      ]
     },
     "execution_count": 9,
     "metadata": {},
     "output_type": "execute_result"
    }
   ],
   "source": [
    "4 in {1,2,3}"
   ]
  },
  {
   "cell_type": "code",
   "execution_count": 10,
   "id": "bd1bcc77",
   "metadata": {},
   "outputs": [
    {
     "data": {
      "text/plain": [
       "True"
      ]
     },
     "execution_count": 10,
     "metadata": {},
     "output_type": "execute_result"
    }
   ],
   "source": [
    "4 in {1,2,3,4}"
   ]
  },
  {
   "cell_type": "code",
   "execution_count": 11,
   "id": "57e2068d",
   "metadata": {},
   "outputs": [
    {
     "data": {
      "text/plain": [
       "True"
      ]
     },
     "execution_count": 11,
     "metadata": {},
     "output_type": "execute_result"
    }
   ],
   "source": [
    "not 4 in {1,2,3}"
   ]
  },
  {
   "cell_type": "code",
   "execution_count": 12,
   "id": "3a5909eb",
   "metadata": {},
   "outputs": [
    {
     "name": "stdout",
     "output_type": "stream",
     "text": [
      "1\n",
      "2\n",
      "3\n",
      "4\n",
      "5\n",
      "6\n",
      "7\n"
     ]
    }
   ],
   "source": [
    "# for döngüleri = \n",
    "liste = [1,2,3,4,5,6,7]\n",
    "\n",
    "for eleman in liste:\n",
    "    print(eleman)\n",
    "    "
   ]
  },
  {
   "cell_type": "code",
   "execution_count": 20,
   "id": "5e2b51c5",
   "metadata": {},
   "outputs": [
    {
     "name": "stdout",
     "output_type": "stream",
     "text": [
      "TOPLAM : 1  ELEMAN : 1\n",
      "TOPLAM : 3  ELEMAN : 2\n",
      "TOPLAM : 6  ELEMAN : 3\n",
      "TOPLAM : 10  ELEMAN : 4\n",
      "TOPLAM : 15  ELEMAN : 5\n",
      "TOPLAM : 21  ELEMAN : 6\n",
      "TOPLAM : 28  ELEMAN : 7\n",
      "7\n",
      "28\n"
     ]
    }
   ],
   "source": [
    "# peki bu elemanları toplamak istersek = \n",
    "\n",
    "toplam = 0\n",
    "\n",
    "liste = [1,2,3,4,5,6,7]\n",
    "\n",
    "for eleman in liste:\n",
    "    toplam = toplam + eleman\n",
    "    print(\"TOPLAM : {}  ELEMAN : {}\".format(toplam,eleman))    \n",
    "print(eleman) # döngüden çıktığında eleman değişkeni listenin sonuncu elemanına eşit oldu    \n",
    "print(toplam) # toplam sürekli kendi üzerine toplaıd ve sonuca ulaştı \n"
   ]
  },
  {
   "cell_type": "code",
   "execution_count": 21,
   "id": "69589c73",
   "metadata": {},
   "outputs": [
    {
     "data": {
      "text/plain": [
       "0"
      ]
     },
     "execution_count": 21,
     "metadata": {},
     "output_type": "execute_result"
    }
   ],
   "source": [
    "# çift sayıları da for döngüsü ile bulabiliriz = \n",
    "# önce kalanı bulma operatörünü hatırlayalım \"%\"\n",
    "\n",
    "54%2"
   ]
  },
  {
   "cell_type": "code",
   "execution_count": 22,
   "id": "ce8a97be",
   "metadata": {},
   "outputs": [
    {
     "data": {
      "text/plain": [
       "1"
      ]
     },
     "execution_count": 22,
     "metadata": {},
     "output_type": "execute_result"
    }
   ],
   "source": [
    "77%2"
   ]
  },
  {
   "cell_type": "code",
   "execution_count": 23,
   "id": "3069aee9",
   "metadata": {},
   "outputs": [
    {
     "data": {
      "text/plain": [
       "1"
      ]
     },
     "execution_count": 23,
     "metadata": {},
     "output_type": "execute_result"
    }
   ],
   "source": [
    "7%2"
   ]
  },
  {
   "cell_type": "code",
   "execution_count": 32,
   "id": "8c3acd42",
   "metadata": {},
   "outputs": [
    {
     "name": "stdout",
     "output_type": "stream",
     "text": [
      "sayı çift değil : 1\n",
      "ÇİFT SAYILAR ==>: 2\n",
      "sayı çift değil : 3\n",
      "ÇİFT SAYILAR ==>: 4\n",
      "ÇİFT SAYILAR ==>: 34\n",
      "ÇİFT SAYILAR ==>: 54\n",
      "sayı çift değil : 73\n",
      "ÇİFT SAYILAR ==>: 78\n"
     ]
    }
   ],
   "source": [
    "liste = [1,2,3,4,34,54,73,78]\n",
    "\n",
    "for eleman in liste:\n",
    "    if (eleman % 2) == 0:\n",
    "        print(\"ÇİFT SAYILAR ==>: {}\".format(eleman))\n",
    "    else:\n",
    "        print(\"sayı çift değil : {}\".format(eleman))\n",
    "        \n",
    "    "
   ]
  },
  {
   "cell_type": "code",
   "execution_count": 33,
   "id": "00366abe",
   "metadata": {},
   "outputs": [
    {
     "name": "stdout",
     "output_type": "stream",
     "text": [
      "P\n",
      "y\n",
      "t\n",
      "h\n",
      "o\n",
      "n\n"
     ]
    }
   ],
   "source": [
    "s = \"Python\"\n",
    "\n",
    "for i in s:\n",
    "    print(i)"
   ]
  },
  {
   "cell_type": "code",
   "execution_count": 35,
   "id": "83f4ac01",
   "metadata": {},
   "outputs": [
    {
     "name": "stdout",
     "output_type": "stream",
     "text": [
      "PPPPP\n",
      "yyyyy\n",
      "ttttt\n",
      "hhhhh\n",
      "ooooo\n",
      "nnnnn\n"
     ]
    }
   ],
   "source": [
    "s = \"Python\"\n",
    "\n",
    "for i in s:\n",
    "    print(i * 5)"
   ]
  },
  {
   "cell_type": "code",
   "execution_count": 37,
   "id": "5f8b31fb",
   "metadata": {},
   "outputs": [
    {
     "name": "stdout",
     "output_type": "stream",
     "text": [
      "1\n",
      "2\n",
      "3\n",
      "4\n",
      "5\n",
      "6\n",
      "7\n"
     ]
    }
   ],
   "source": [
    "demet = (1,2,3,4,5,6,7)\n",
    "\n",
    "for i in demet:\n",
    "    print(i)"
   ]
  },
  {
   "cell_type": "code",
   "execution_count": 40,
   "id": "0308a83e",
   "metadata": {},
   "outputs": [
    {
     "name": "stdout",
     "output_type": "stream",
     "text": [
      "(1, 2)\n",
      "(3, 4)\n",
      "(5, 6)\n",
      "(7, 8)\n"
     ]
    }
   ],
   "source": [
    "liste = [(1,2),(3,4),(5,6),(7,8)]\n",
    "\n",
    "for i in liste:\n",
    "    print(i)"
   ]
  },
  {
   "cell_type": "code",
   "execution_count": 42,
   "id": "77f08813",
   "metadata": {},
   "outputs": [
    {
     "name": "stdout",
     "output_type": "stream",
     "text": [
      "i : 1 \t j : 2\n",
      "i : 3 \t j : 4\n",
      "i : 5 \t j : 6\n",
      "i : 7 \t j : 8\n"
     ]
    }
   ],
   "source": [
    "for (i,j) in liste:\n",
    "    print(\"i : {} \\t j : {}\".format(i,j))"
   ]
  },
  {
   "cell_type": "code",
   "execution_count": 43,
   "id": "d2a563e2",
   "metadata": {},
   "outputs": [
    {
     "name": "stdout",
     "output_type": "stream",
     "text": [
      "6\n",
      "120\n",
      "504\n",
      "1320\n"
     ]
    }
   ],
   "source": [
    "liste = [(1,2,3),(4,5,6),(7,8,9),(10,11,12)]\n",
    "\n",
    "for (i,j,k) in liste:\n",
    "    print(i * j * k)"
   ]
  },
  {
   "cell_type": "code",
   "execution_count": 45,
   "id": "aaa2e516",
   "metadata": {},
   "outputs": [
    {
     "name": "stdout",
     "output_type": "stream",
     "text": [
      "1 2 3\n",
      "4 5 6\n",
      "7 8 9\n",
      "10 11 12\n"
     ]
    }
   ],
   "source": [
    "liste = [(1,2,3),(4,5,6),(7,8,9),(10,11,12)]\n",
    "\n",
    "for (i,j,k) in liste:\n",
    "    print(i , j , k)"
   ]
  },
  {
   "cell_type": "code",
   "execution_count": 46,
   "id": "66dee7b6",
   "metadata": {},
   "outputs": [],
   "source": [
    "sözlük = {\"bir\":1,\"iki\":2,\"üç\":3,\"dört\":4} "
   ]
  },
  {
   "cell_type": "code",
   "execution_count": 47,
   "id": "3d6005fa",
   "metadata": {},
   "outputs": [
    {
     "name": "stdout",
     "output_type": "stream",
     "text": [
      "bir\n",
      "iki\n",
      "üç\n",
      "dört\n"
     ]
    }
   ],
   "source": [
    "for eleman in sözlük:\n",
    "    print(eleman)"
   ]
  },
  {
   "cell_type": "code",
   "execution_count": 49,
   "id": "a2783990",
   "metadata": {},
   "outputs": [
    {
     "name": "stdout",
     "output_type": "stream",
     "text": [
      "1\n",
      "2\n",
      "3\n",
      "4\n"
     ]
    }
   ],
   "source": [
    "for eleman in sözlük.values():\n",
    "    print(eleman)"
   ]
  },
  {
   "cell_type": "code",
   "execution_count": 62,
   "id": "20e778f8",
   "metadata": {},
   "outputs": [
    {
     "name": "stdout",
     "output_type": "stream",
     "text": [
      "ANAHTAR : bir \t==>\tDEĞER : 1\n",
      "ANAHTAR : iki \t==>\tDEĞER : 2\n",
      "ANAHTAR : üç \t==>\tDEĞER : 3\n",
      "ANAHTAR : dört \t==>\tDEĞER : 4\n"
     ]
    }
   ],
   "source": [
    "for (i,j) in sözlük.items():\n",
    "    print(\"ANAHTAR :\",i,\"\\t==>\\tDEĞER :\",j)"
   ]
  },
  {
   "cell_type": "code",
   "execution_count": null,
   "id": "db885540",
   "metadata": {},
   "outputs": [],
   "source": []
  }
 ],
 "metadata": {
  "kernelspec": {
   "display_name": "Python 3",
   "language": "python",
   "name": "python3"
  },
  "language_info": {
   "codemirror_mode": {
    "name": "ipython",
    "version": 3
   },
   "file_extension": ".py",
   "mimetype": "text/x-python",
   "name": "python",
   "nbconvert_exporter": "python",
   "pygments_lexer": "ipython3",
   "version": "3.8.8"
  }
 },
 "nbformat": 4,
 "nbformat_minor": 5
}
