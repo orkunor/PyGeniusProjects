{
 "cells": [
  {
   "cell_type": "code",
   "execution_count": 1,
   "id": "f4baba87",
   "metadata": {},
   "outputs": [
    {
     "data": {
      "text/plain": [
       "True"
      ]
     },
     "execution_count": 1,
     "metadata": {},
     "output_type": "execute_result"
    }
   ],
   "source": [
    "\"yt\" in \"Python\""
   ]
  },
  {
   "cell_type": "code",
   "execution_count": 2,
   "id": "992e5b9e",
   "metadata": {},
   "outputs": [
    {
     "name": "stdout",
     "output_type": "stream",
     "text": [
      "28\n"
     ]
    }
   ],
   "source": [
    "liste = [2,1,10,2,23,1,56,3]\n",
    " \n",
    "total = 0\n",
    "\n",
    "for i in liste:\n",
    "    if (not (i % 2 == 0)): #tek sayıları topla diyor !!\n",
    "        total += i\n",
    " \n",
    "print(total)"
   ]
  },
  {
   "cell_type": "code",
   "execution_count": null,
   "id": "af317239",
   "metadata": {},
   "outputs": [],
   "source": []
  }
 ],
 "metadata": {
  "kernelspec": {
   "display_name": "Python 3",
   "language": "python",
   "name": "python3"
  },
  "language_info": {
   "codemirror_mode": {
    "name": "ipython",
    "version": 3
   },
   "file_extension": ".py",
   "mimetype": "text/x-python",
   "name": "python",
   "nbconvert_exporter": "python",
   "pygments_lexer": "ipython3",
   "version": "3.8.8"
  }
 },
 "nbformat": 4,
 "nbformat_minor": 5
}
