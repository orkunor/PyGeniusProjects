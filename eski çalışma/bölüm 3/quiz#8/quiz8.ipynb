{
 "cells": [
  {
   "cell_type": "code",
   "execution_count": 2,
   "id": "056d8540",
   "metadata": {},
   "outputs": [
    {
     "name": "stdout",
     "output_type": "stream",
     "text": [
      "Birinci Sayıyı Giriniz : 4\n",
      "İkinci Sayıyı Giriniz : 3\n",
      "Üçücü Sayıyı Giriniz : 2\n",
      "Sayıların Toplamı :  432\n"
     ]
    }
   ],
   "source": [
    "a = (input(\"Birinci Sayıyı Giriniz : \"))\n",
    "b = (input(\"İkinci Sayıyı Giriniz : \"))\n",
    "c = (input(\"Üçücü Sayıyı Giriniz : \"))\n",
    "print(\"Sayıların Toplamı : \",a+b+c)"
   ]
  },
  {
   "cell_type": "code",
   "execution_count": null,
   "id": "97717592",
   "metadata": {},
   "outputs": [],
   "source": []
  }
 ],
 "metadata": {
  "kernelspec": {
   "display_name": "Python 3",
   "language": "python",
   "name": "python3"
  },
  "language_info": {
   "codemirror_mode": {
    "name": "ipython",
    "version": 3
   },
   "file_extension": ".py",
   "mimetype": "text/x-python",
   "name": "python",
   "nbconvert_exporter": "python",
   "pygments_lexer": "ipython3",
   "version": "3.8.8"
  }
 },
 "nbformat": 4,
 "nbformat_minor": 5
}
