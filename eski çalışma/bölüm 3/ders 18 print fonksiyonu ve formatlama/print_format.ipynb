{
 "cells": [
  {
   "cell_type": "code",
   "execution_count": 1,
   "id": "2e4fdd02",
   "metadata": {},
   "outputs": [
    {
     "name": "stdout",
     "output_type": "stream",
     "text": [
      "35\n"
     ]
    }
   ],
   "source": [
    "print(35)"
   ]
  },
  {
   "cell_type": "code",
   "execution_count": 2,
   "id": "10bccc7c",
   "metadata": {},
   "outputs": [
    {
     "name": "stdout",
     "output_type": "stream",
     "text": [
      "87\n"
     ]
    }
   ],
   "source": [
    "print(87)"
   ]
  },
  {
   "cell_type": "code",
   "execution_count": 3,
   "id": "004d9e9a",
   "metadata": {},
   "outputs": [
    {
     "name": "stdout",
     "output_type": "stream",
     "text": [
      "7\n"
     ]
    }
   ],
   "source": [
    "print(7)"
   ]
  },
  {
   "cell_type": "code",
   "execution_count": 4,
   "id": "4b9bfda7",
   "metadata": {},
   "outputs": [
    {
     "name": "stdout",
     "output_type": "stream",
     "text": [
      "3.14\n"
     ]
    }
   ],
   "source": [
    "print(3.14)"
   ]
  },
  {
   "cell_type": "code",
   "execution_count": 5,
   "id": "f83567f3",
   "metadata": {},
   "outputs": [
    {
     "name": "stdout",
     "output_type": "stream",
     "text": [
      "Bayram Orkun Orulluoğlu\n"
     ]
    }
   ],
   "source": [
    "print(\"Bayram Orkun Orulluoğlu\")"
   ]
  },
  {
   "cell_type": "code",
   "execution_count": 6,
   "id": "0ae14a56",
   "metadata": {},
   "outputs": [
    {
     "data": {
      "text/plain": [
       "'Bayram Orkun Orulluoğlu'"
      ]
     },
     "execution_count": 6,
     "metadata": {},
     "output_type": "execute_result"
    }
   ],
   "source": [
    "\"Bayram Orkun Orulluoğlu\""
   ]
  },
  {
   "cell_type": "code",
   "execution_count": 8,
   "id": "f90d3c21",
   "metadata": {},
   "outputs": [
    {
     "name": "stdout",
     "output_type": "stream",
     "text": [
      "19\n"
     ]
    }
   ],
   "source": [
    "a = 5\n",
    "b = 14\n",
    "print(a+b)"
   ]
  },
  {
   "cell_type": "code",
   "execution_count": 9,
   "id": "9382cc32",
   "metadata": {},
   "outputs": [
    {
     "name": "stdout",
     "output_type": "stream",
     "text": [
      "35 4.14 Merhaba Python\n"
     ]
    }
   ],
   "source": [
    "print(35,4.14,\"Merhaba\",\"Python\")"
   ]
  },
  {
   "cell_type": "code",
   "execution_count": 10,
   "id": "b64e5f77",
   "metadata": {},
   "outputs": [
    {
     "name": "stdout",
     "output_type": "stream",
     "text": [
      "Bayram Orkun Orulluoğlu\n"
     ]
    }
   ],
   "source": [
    "print(\"Bayram\",\"Orkun\",\"Orulluoğlu\")"
   ]
  },
  {
   "cell_type": "code",
   "execution_count": 11,
   "id": "ac656f8b",
   "metadata": {},
   "outputs": [
    {
     "name": "stdout",
     "output_type": "stream",
     "text": [
      "Merhaba\n",
      "Nasılsın\n",
      "İyi misin\n"
     ]
    }
   ],
   "source": [
    "print(\"Merhaba\\nNasılsın\\nİyi misin\")"
   ]
  },
  {
   "cell_type": "code",
   "execution_count": 12,
   "id": "01c8324c",
   "metadata": {},
   "outputs": [
    {
     "name": "stdout",
     "output_type": "stream",
     "text": [
      "Ocak\tŞubat\tMart\n"
     ]
    }
   ],
   "source": [
    "print(\"Ocak\\tŞubat\\tMart\")"
   ]
  },
  {
   "cell_type": "code",
   "execution_count": 13,
   "id": "b26500c5",
   "metadata": {},
   "outputs": [
    {
     "name": "stdout",
     "output_type": "stream",
     "text": [
      "a\t\t\t\tb\n"
     ]
    }
   ],
   "source": [
    "print(\"a\\t\\t\\t\\tb\")"
   ]
  },
  {
   "cell_type": "code",
   "execution_count": 14,
   "id": "a695e503",
   "metadata": {},
   "outputs": [
    {
     "data": {
      "text/plain": [
       "int"
      ]
     },
     "execution_count": 14,
     "metadata": {},
     "output_type": "execute_result"
    }
   ],
   "source": [
    "# type fonksiyonu ise içerisine gönderdiğimiz değerin hangi tip'te olduğunu sorgularken türünü bulurken kullanrız \n",
    "a = 45\n",
    "type(a)"
   ]
  },
  {
   "cell_type": "code",
   "execution_count": 15,
   "id": "78903475",
   "metadata": {},
   "outputs": [
    {
     "name": "stdout",
     "output_type": "stream",
     "text": [
      "<class 'int'>\n"
     ]
    }
   ],
   "source": [
    "print(type(a))"
   ]
  },
  {
   "cell_type": "code",
   "execution_count": 16,
   "id": "facd4930",
   "metadata": {},
   "outputs": [
    {
     "data": {
      "text/plain": [
       "float"
      ]
     },
     "execution_count": 16,
     "metadata": {},
     "output_type": "execute_result"
    }
   ],
   "source": [
    "type(7.34)"
   ]
  },
  {
   "cell_type": "code",
   "execution_count": 17,
   "id": "0495ea99",
   "metadata": {},
   "outputs": [
    {
     "name": "stdout",
     "output_type": "stream",
     "text": [
      "<class 'float'>\n"
     ]
    }
   ],
   "source": [
    "print(type(7.34))"
   ]
  },
  {
   "cell_type": "code",
   "execution_count": 18,
   "id": "57258b05",
   "metadata": {},
   "outputs": [
    {
     "data": {
      "text/plain": [
       "str"
      ]
     },
     "execution_count": 18,
     "metadata": {},
     "output_type": "execute_result"
    }
   ],
   "source": [
    "type(\"Orkun\")"
   ]
  },
  {
   "cell_type": "code",
   "execution_count": 19,
   "id": "2f75ad56",
   "metadata": {},
   "outputs": [
    {
     "name": "stdout",
     "output_type": "stream",
     "text": [
      "35 43 54 65\n"
     ]
    }
   ],
   "source": [
    "#print fonksiyonu bazı parametre kullanmamıza olanak sağlar bunlardan biri de sep parametresidir !!\n",
    "print(35,43,54,65)"
   ]
  },
  {
   "cell_type": "code",
   "execution_count": 20,
   "id": "e7056ce2",
   "metadata": {},
   "outputs": [
    {
     "name": "stdout",
     "output_type": "stream",
     "text": [
      "35/43/54/65\n"
     ]
    }
   ],
   "source": [
    "print(35,43,54,65,sep = \"/\")"
   ]
  },
  {
   "cell_type": "code",
   "execution_count": 21,
   "id": "cf119b9e",
   "metadata": {},
   "outputs": [
    {
     "name": "stdout",
     "output_type": "stream",
     "text": [
      "Bayram\tOrkun\tOrulluoğlu\n"
     ]
    }
   ],
   "source": [
    "print(\"Bayram\",\"Orkun\",\"Orulluoğlu\", sep = \"\\t\")"
   ]
  },
  {
   "cell_type": "code",
   "execution_count": 24,
   "id": "77e29a05",
   "metadata": {},
   "outputs": [
    {
     "name": "stdout",
     "output_type": "stream",
     "text": [
      "08.01.2000\n"
     ]
    }
   ],
   "source": [
    "#başta 'sıfır' kullanılmaz dikkat et \n",
    "print(\"08\",\"01\",\"2000\",sep = \".\")"
   ]
  },
  {
   "cell_type": "code",
   "execution_count": 25,
   "id": "f0f9aeb4",
   "metadata": {},
   "outputs": [
    {
     "name": "stdout",
     "output_type": "stream",
     "text": [
      "python\n"
     ]
    }
   ],
   "source": [
    "#Yıldızlı parametreler var!!\n",
    "print(\"python\")"
   ]
  },
  {
   "cell_type": "code",
   "execution_count": 26,
   "id": "d9dd0ace",
   "metadata": {},
   "outputs": [
    {
     "name": "stdout",
     "output_type": "stream",
     "text": [
      "P y t h o n\n"
     ]
    }
   ],
   "source": [
    "print(*\"Python\")"
   ]
  },
  {
   "cell_type": "code",
   "execution_count": 28,
   "id": "6f03be8b",
   "metadata": {},
   "outputs": [
    {
     "name": "stdout",
     "output_type": "stream",
     "text": [
      "P/y/t/h/o/n\n"
     ]
    }
   ],
   "source": [
    "print(*\"Python\",sep = \"/\")"
   ]
  },
  {
   "cell_type": "code",
   "execution_count": 29,
   "id": "4b238db2",
   "metadata": {},
   "outputs": [
    {
     "name": "stdout",
     "output_type": "stream",
     "text": [
      "T.B.M.M\n"
     ]
    }
   ],
   "source": [
    "print(*\"TBMM\",sep = \".\")"
   ]
  },
  {
   "cell_type": "code",
   "execution_count": 30,
   "id": "299070dd",
   "metadata": {},
   "outputs": [
    {
     "data": {
      "text/plain": [
       "'3.154 7.55 6.78'"
      ]
     },
     "execution_count": 30,
     "metadata": {},
     "output_type": "execute_result"
    }
   ],
   "source": [
    "#stringlerde formatlama işlemimiz vardır !! \n",
    "\"{} {} {}\".format(3.154,7.55,6.78)"
   ]
  },
  {
   "cell_type": "code",
   "execution_count": 31,
   "id": "999533d2",
   "metadata": {},
   "outputs": [
    {
     "data": {
      "text/plain": [
       "\"3 + 4 'in toplamı 7'dir.\""
      ]
     },
     "execution_count": 31,
     "metadata": {},
     "output_type": "execute_result"
    }
   ],
   "source": [
    "a = 3\n",
    "b = 4\n",
    "\"{} + {} 'in toplamı {}'dir.\".format(a,b,a+b)"
   ]
  },
  {
   "cell_type": "code",
   "execution_count": 32,
   "id": "70068c2a",
   "metadata": {},
   "outputs": [
    {
     "data": {
      "text/plain": [
       "'8 doğum ocak'"
      ]
     },
     "execution_count": 32,
     "metadata": {},
     "output_type": "execute_result"
    }
   ],
   "source": [
    "#süslü parantezleri indeks ile de alabiliriz. \n",
    "\"{1} {0} {2}\".format(\"doğum\",8,\"ocak\")"
   ]
  },
  {
   "cell_type": "code",
   "execution_count": 33,
   "id": "e5f28a3e",
   "metadata": {},
   "outputs": [
    {
     "data": {
      "text/plain": [
       "'3.14,7.87,9.35'"
      ]
     },
     "execution_count": 33,
     "metadata": {},
     "output_type": "execute_result"
    }
   ],
   "source": [
    "#ondalıklı sayıların kullanımı için de görülür kaç tane ondalık seçeceğimizi görürüz \n",
    "\"{:.2f},{:.2f},{:.2f}\".format(3.14456734,7.87493456,9.34567)"
   ]
  },
  {
   "cell_type": "code",
   "execution_count": null,
   "id": "ab71f49b",
   "metadata": {},
   "outputs": [],
   "source": []
  }
 ],
 "metadata": {
  "kernelspec": {
   "display_name": "Python 3",
   "language": "python",
   "name": "python3"
  },
  "language_info": {
   "codemirror_mode": {
    "name": "ipython",
    "version": 3
   },
   "file_extension": ".py",
   "mimetype": "text/x-python",
   "name": "python",
   "nbconvert_exporter": "python",
   "pygments_lexer": "ipython3",
   "version": "3.8.8"
  }
 },
 "nbformat": 4,
 "nbformat_minor": 5
}
