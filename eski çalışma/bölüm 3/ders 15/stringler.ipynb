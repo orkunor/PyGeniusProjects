{
 "cells": [
  {
   "cell_type": "code",
   "execution_count": 1,
   "id": "8889d9a1",
   "metadata": {},
   "outputs": [
    {
     "data": {
      "text/plain": [
       "'Merhaba Orkun Bugün Nasılsın'"
      ]
     },
     "execution_count": 1,
     "metadata": {},
     "output_type": "execute_result"
    }
   ],
   "source": [
    "# tek tırnak ile string oluşturulabilir \n",
    "'Merhaba Orkun Bugün Nasılsın'"
   ]
  },
  {
   "cell_type": "code",
   "execution_count": 3,
   "id": "295134f3",
   "metadata": {},
   "outputs": [
    {
     "data": {
      "text/plain": [
       "'Hey !! Naber '"
      ]
     },
     "execution_count": 3,
     "metadata": {},
     "output_type": "execute_result"
    }
   ],
   "source": [
    "# çift tırnak ile de oluşturabiliriz \n",
    "\"Hey !! Naber \""
   ]
  },
  {
   "cell_type": "code",
   "execution_count": 4,
   "id": "f7af1bc9",
   "metadata": {},
   "outputs": [
    {
     "data": {
      "text/plain": [
       "'Bugün iyiyim sağ ol '"
      ]
     },
     "execution_count": 4,
     "metadata": {},
     "output_type": "execute_result"
    }
   ],
   "source": [
    "# 3 tırnak ile de oluşturabiliriz \n",
    "\"\"\"Bugün iyiyim sağ ol \"\"\""
   ]
  },
  {
   "cell_type": "code",
   "execution_count": 5,
   "id": "c2ee4bde",
   "metadata": {},
   "outputs": [
    {
     "ename": "SyntaxError",
     "evalue": "EOL while scanning string literal (<ipython-input-5-c87f85fe9dca>, line 2)",
     "output_type": "error",
     "traceback": [
      "\u001b[1;36m  File \u001b[1;32m\"<ipython-input-5-c87f85fe9dca>\"\u001b[1;36m, line \u001b[1;32m2\u001b[0m\n\u001b[1;33m    \"Orkun yanlış bu '\u001b[0m\n\u001b[1;37m                      ^\u001b[0m\n\u001b[1;31mSyntaxError\u001b[0m\u001b[1;31m:\u001b[0m EOL while scanning string literal\n"
     ]
    }
   ],
   "source": [
    "# tırnağı ne ile açtıysan mutlaka onunla bitir ki hata alma \n",
    "\"Orkun yanlış bu '"
   ]
  },
  {
   "cell_type": "code",
   "execution_count": 6,
   "id": "71c52300",
   "metadata": {},
   "outputs": [
    {
     "ename": "SyntaxError",
     "evalue": "invalid syntax (<ipython-input-6-2610cbf0440b>, line 2)",
     "output_type": "error",
     "traceback": [
      "\u001b[1;36m  File \u001b[1;32m\"<ipython-input-6-2610cbf0440b>\"\u001b[1;36m, line \u001b[1;32m2\u001b[0m\n\u001b[1;33m    'orkun'un adı güzeldir '\u001b[0m\n\u001b[1;37m           ^\u001b[0m\n\u001b[1;31mSyntaxError\u001b[0m\u001b[1;31m:\u001b[0m invalid syntax\n"
     ]
    }
   ],
   "source": [
    "# kesme işareti kullanacaksak bu gibi durumlarda yanlış algılar ve istediğimizi vermez \n",
    "'orkun'un adı güzeldir '"
   ]
  },
  {
   "cell_type": "code",
   "execution_count": 8,
   "id": "3fd985cd",
   "metadata": {},
   "outputs": [
    {
     "data": {
      "text/plain": [
       "\"Orkun'un adı güzeldir.\""
      ]
     },
     "execution_count": 8,
     "metadata": {},
     "output_type": "execute_result"
    }
   ],
   "source": [
    "\"Orkun'un adı güzeldir.\""
   ]
  },
  {
   "cell_type": "code",
   "execution_count": 10,
   "id": "917d28b6",
   "metadata": {},
   "outputs": [
    {
     "data": {
      "text/plain": [
       "\"orkun'un adı güzeldir \""
      ]
     },
     "execution_count": 10,
     "metadata": {},
     "output_type": "execute_result"
    }
   ],
   "source": [
    "#diğer türlü kaçış dizisi kullanırız unutma !! \n",
    "'orkun\\'un adı güzeldir '"
   ]
  },
  {
   "cell_type": "code",
   "execution_count": 11,
   "id": "4de3ce43",
   "metadata": {},
   "outputs": [
    {
     "data": {
      "text/plain": [
       "'Merhaba!'"
      ]
     },
     "execution_count": 11,
     "metadata": {},
     "output_type": "execute_result"
    }
   ],
   "source": [
    "a = \"Merhaba!\"\n",
    "a"
   ]
  },
  {
   "cell_type": "code",
   "execution_count": 12,
   "id": "4fcb7d6a",
   "metadata": {},
   "outputs": [
    {
     "data": {
      "text/plain": [
       "'M'"
      ]
     },
     "execution_count": 12,
     "metadata": {},
     "output_type": "execute_result"
    }
   ],
   "source": [
    "a[0]"
   ]
  },
  {
   "cell_type": "code",
   "execution_count": 13,
   "id": "7a2a125e",
   "metadata": {},
   "outputs": [
    {
     "data": {
      "text/plain": [
       "'h'"
      ]
     },
     "execution_count": 13,
     "metadata": {},
     "output_type": "execute_result"
    }
   ],
   "source": [
    "a[3]"
   ]
  },
  {
   "cell_type": "code",
   "execution_count": 14,
   "id": "1612d057",
   "metadata": {},
   "outputs": [
    {
     "data": {
      "text/plain": [
       "'b'"
      ]
     },
     "execution_count": 14,
     "metadata": {},
     "output_type": "execute_result"
    }
   ],
   "source": [
    "a[5]"
   ]
  },
  {
   "cell_type": "code",
   "execution_count": 15,
   "id": "45a5d9c7",
   "metadata": {},
   "outputs": [],
   "source": [
    "b = \"Orkun\""
   ]
  },
  {
   "cell_type": "code",
   "execution_count": 16,
   "id": "5701da1f",
   "metadata": {},
   "outputs": [
    {
     "data": {
      "text/plain": [
       "'n'"
      ]
     },
     "execution_count": 16,
     "metadata": {},
     "output_type": "execute_result"
    }
   ],
   "source": [
    "b[-1]"
   ]
  },
  {
   "cell_type": "code",
   "execution_count": 17,
   "id": "45eacb74",
   "metadata": {},
   "outputs": [
    {
     "data": {
      "text/plain": [
       "'k'"
      ]
     },
     "execution_count": 17,
     "metadata": {},
     "output_type": "execute_result"
    }
   ],
   "source": [
    "b[-3]"
   ]
  },
  {
   "cell_type": "code",
   "execution_count": 18,
   "id": "735995c3",
   "metadata": {},
   "outputs": [
    {
     "data": {
      "text/plain": [
       "'k'"
      ]
     },
     "execution_count": 18,
     "metadata": {},
     "output_type": "execute_result"
    }
   ],
   "source": [
    "b[-3]"
   ]
  },
  {
   "cell_type": "code",
   "execution_count": 19,
   "id": "23ddd44a",
   "metadata": {},
   "outputs": [
    {
     "data": {
      "text/plain": [
       "'r'"
      ]
     },
     "execution_count": 19,
     "metadata": {},
     "output_type": "execute_result"
    }
   ],
   "source": [
    "b[-4]"
   ]
  },
  {
   "cell_type": "code",
   "execution_count": 20,
   "id": "86591a53",
   "metadata": {},
   "outputs": [],
   "source": [
    "a = \"Python programlama DİLİ\""
   ]
  },
  {
   "cell_type": "code",
   "execution_count": 23,
   "id": "2356544d",
   "metadata": {},
   "outputs": [
    {
     "data": {
      "text/plain": [
       "'on pro'"
      ]
     },
     "execution_count": 23,
     "metadata": {},
     "output_type": "execute_result"
    }
   ],
   "source": [
    "a[4:10]"
   ]
  },
  {
   "cell_type": "code",
   "execution_count": 24,
   "id": "44015145",
   "metadata": {},
   "outputs": [
    {
     "data": {
      "text/plain": [
       "'Python pro'"
      ]
     },
     "execution_count": 24,
     "metadata": {},
     "output_type": "execute_result"
    }
   ],
   "source": [
    "a[:10]"
   ]
  },
  {
   "cell_type": "code",
   "execution_count": 25,
   "id": "52a4e88f",
   "metadata": {},
   "outputs": [
    {
     "data": {
      "text/plain": [
       "'on programlama DİLİ'"
      ]
     },
     "execution_count": 25,
     "metadata": {},
     "output_type": "execute_result"
    }
   ],
   "source": [
    "a[4:]"
   ]
  },
  {
   "cell_type": "code",
   "execution_count": 26,
   "id": "8e5138f9",
   "metadata": {},
   "outputs": [
    {
     "data": {
      "text/plain": [
       "'Python programlama DİLİ'"
      ]
     },
     "execution_count": 26,
     "metadata": {},
     "output_type": "execute_result"
    }
   ],
   "source": [
    "a[:]"
   ]
  },
  {
   "cell_type": "code",
   "execution_count": 27,
   "id": "80787c7b",
   "metadata": {},
   "outputs": [
    {
     "data": {
      "text/plain": [
       "'Python programlama DİLİ'"
      ]
     },
     "execution_count": 27,
     "metadata": {},
     "output_type": "execute_result"
    }
   ],
   "source": [
    "a"
   ]
  },
  {
   "cell_type": "code",
   "execution_count": 28,
   "id": "8e6fc5a7",
   "metadata": {},
   "outputs": [
    {
     "data": {
      "text/plain": [
       "'Pto rgalm İİ'"
      ]
     },
     "execution_count": 28,
     "metadata": {},
     "output_type": "execute_result"
    }
   ],
   "source": [
    "a[::2]"
   ]
  },
  {
   "cell_type": "code",
   "execution_count": 29,
   "id": "476bd71a",
   "metadata": {},
   "outputs": [
    {
     "data": {
      "text/plain": [
       "'o rg'"
      ]
     },
     "execution_count": 29,
     "metadata": {},
     "output_type": "execute_result"
    }
   ],
   "source": [
    "a[4:12:2]"
   ]
  },
  {
   "cell_type": "code",
   "execution_count": 30,
   "id": "97ad8327",
   "metadata": {},
   "outputs": [
    {
     "data": {
      "text/plain": [
       "'İLİD amalmargorp nohtyP'"
      ]
     },
     "execution_count": 30,
     "metadata": {},
     "output_type": "execute_result"
    }
   ],
   "source": [
    "a[::-1]"
   ]
  },
  {
   "cell_type": "code",
   "execution_count": 31,
   "id": "e3da771b",
   "metadata": {},
   "outputs": [],
   "source": [
    "b = \"orkun\""
   ]
  },
  {
   "cell_type": "code",
   "execution_count": 32,
   "id": "a637278f",
   "metadata": {},
   "outputs": [
    {
     "data": {
      "text/plain": [
       "'nukro'"
      ]
     },
     "execution_count": 32,
     "metadata": {},
     "output_type": "execute_result"
    }
   ],
   "source": [
    "b[::-1]"
   ]
  },
  {
   "cell_type": "code",
   "execution_count": 33,
   "id": "b8f90034",
   "metadata": {},
   "outputs": [],
   "source": [
    "string = \"Merhaba\""
   ]
  },
  {
   "cell_type": "code",
   "execution_count": 34,
   "id": "b1ad02ea",
   "metadata": {},
   "outputs": [
    {
     "data": {
      "text/plain": [
       "7"
      ]
     },
     "execution_count": 34,
     "metadata": {},
     "output_type": "execute_result"
    }
   ],
   "source": [
    "len(string)"
   ]
  },
  {
   "cell_type": "code",
   "execution_count": 39,
   "id": "f0bd4da5",
   "metadata": {},
   "outputs": [
    {
     "data": {
      "text/plain": [
       "'python  programlama dili'"
      ]
     },
     "execution_count": 39,
     "metadata": {},
     "output_type": "execute_result"
    }
   ],
   "source": [
    "# stringleri toplayabiliriz yani birbirlerine ekleyebilriz \n",
    "a = \"python \"\n",
    "b = \" programlama\"\n",
    "c = \" dili\"\n",
    "a + b + c"
   ]
  },
  {
   "cell_type": "code",
   "execution_count": 37,
   "id": "57e3e72c",
   "metadata": {},
   "outputs": [
    {
     "ename": "TypeError",
     "evalue": "can't multiply sequence by non-int of type 'str'",
     "output_type": "error",
     "traceback": [
      "\u001b[1;31m---------------------------------------------------------------------------\u001b[0m",
      "\u001b[1;31mTypeError\u001b[0m                                 Traceback (most recent call last)",
      "\u001b[1;32m<ipython-input-37-6ca55548e5a8>\u001b[0m in \u001b[0;36m<module>\u001b[1;34m\u001b[0m\n\u001b[1;32m----> 1\u001b[1;33m \u001b[0ma\u001b[0m \u001b[1;33m*\u001b[0m \u001b[0mb\u001b[0m\u001b[1;33m\u001b[0m\u001b[1;33m\u001b[0m\u001b[0m\n\u001b[0m",
      "\u001b[1;31mTypeError\u001b[0m: can't multiply sequence by non-int of type 'str'"
     ]
    }
   ],
   "source": [
    "a * b "
   ]
  },
  {
   "cell_type": "code",
   "execution_count": 40,
   "id": "3ba368c4",
   "metadata": {},
   "outputs": [
    {
     "data": {
      "text/plain": [
       "'python python python '"
      ]
     },
     "execution_count": 40,
     "metadata": {},
     "output_type": "execute_result"
    }
   ],
   "source": [
    "a * 3"
   ]
  },
  {
   "cell_type": "code",
   "execution_count": 41,
   "id": "2a2b44b1",
   "metadata": {},
   "outputs": [
    {
     "data": {
      "text/plain": [
       "'Bayram Orkun Orulluoğlu'"
      ]
     },
     "execution_count": 41,
     "metadata": {},
     "output_type": "execute_result"
    }
   ],
   "source": [
    "a = \"Bayram \"\n",
    "a = a + \"Orkun Orulluoğlu\"\n",
    "a"
   ]
  },
  {
   "cell_type": "code",
   "execution_count": null,
   "id": "82ba6104",
   "metadata": {},
   "outputs": [],
   "source": []
  }
 ],
 "metadata": {
  "kernelspec": {
   "display_name": "Python 3",
   "language": "python",
   "name": "python3"
  },
  "language_info": {
   "codemirror_mode": {
    "name": "ipython",
    "version": 3
   },
   "file_extension": ".py",
   "mimetype": "text/x-python",
   "name": "python",
   "nbconvert_exporter": "python",
   "pygments_lexer": "ipython3",
   "version": "3.8.8"
  }
 },
 "nbformat": 4,
 "nbformat_minor": 5
}
