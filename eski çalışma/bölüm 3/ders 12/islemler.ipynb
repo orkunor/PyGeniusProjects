{
 "cells": [
  {
   "cell_type": "code",
   "execution_count": 1,
   "id": "276437ca",
   "metadata": {},
   "outputs": [
    {
     "data": {
      "text/plain": [
       "7"
      ]
     },
     "execution_count": 1,
     "metadata": {},
     "output_type": "execute_result"
    }
   ],
   "source": [
    "3+4"
   ]
  },
  {
   "cell_type": "code",
   "execution_count": 2,
   "id": "610b31de",
   "metadata": {},
   "outputs": [
    {
     "data": {
      "text/plain": [
       "-1"
      ]
     },
     "execution_count": 2,
     "metadata": {},
     "output_type": "execute_result"
    }
   ],
   "source": [
    "3 - 4"
   ]
  },
  {
   "cell_type": "code",
   "execution_count": 3,
   "id": "2fda22f3",
   "metadata": {},
   "outputs": [
    {
     "data": {
      "text/plain": [
       "12"
      ]
     },
     "execution_count": 3,
     "metadata": {},
     "output_type": "execute_result"
    }
   ],
   "source": [
    "3 * 4"
   ]
  },
  {
   "cell_type": "code",
   "execution_count": 4,
   "id": "438fd5ab",
   "metadata": {},
   "outputs": [
    {
     "data": {
      "text/plain": [
       "64"
      ]
     },
     "execution_count": 4,
     "metadata": {},
     "output_type": "execute_result"
    }
   ],
   "source": [
    "4 * 4 * 4 "
   ]
  },
  {
   "cell_type": "code",
   "execution_count": 5,
   "id": "16141154",
   "metadata": {},
   "outputs": [
    {
     "data": {
      "text/plain": [
       "8.0"
      ]
     },
     "execution_count": 5,
     "metadata": {},
     "output_type": "execute_result"
    }
   ],
   "source": [
    "56 / 7 "
   ]
  },
  {
   "cell_type": "code",
   "execution_count": 6,
   "id": "1e064383",
   "metadata": {},
   "outputs": [
    {
     "data": {
      "text/plain": [
       "6.800000000000001"
      ]
     },
     "execution_count": 6,
     "metadata": {},
     "output_type": "execute_result"
    }
   ],
   "source": [
    "2.1 + 4.7"
   ]
  },
  {
   "cell_type": "code",
   "execution_count": 7,
   "id": "b0e93008",
   "metadata": {},
   "outputs": [
    {
     "data": {
      "text/plain": [
       "-1.7000000000000002"
      ]
     },
     "execution_count": 7,
     "metadata": {},
     "output_type": "execute_result"
    }
   ],
   "source": [
    "2.5 - 4.2"
   ]
  },
  {
   "cell_type": "code",
   "execution_count": 8,
   "id": "6ca3f710",
   "metadata": {},
   "outputs": [
    {
     "data": {
      "text/plain": [
       "10.08"
      ]
     },
     "execution_count": 8,
     "metadata": {},
     "output_type": "execute_result"
    }
   ],
   "source": [
    "2.4 * 4.2 "
   ]
  },
  {
   "cell_type": "code",
   "execution_count": 9,
   "id": "47fd9731",
   "metadata": {},
   "outputs": [
    {
     "data": {
      "text/plain": [
       "7.640845070422536"
      ]
     },
     "execution_count": 9,
     "metadata": {},
     "output_type": "execute_result"
    }
   ],
   "source": [
    "54.25 / 7.1"
   ]
  },
  {
   "cell_type": "code",
   "execution_count": 10,
   "id": "e89b150a",
   "metadata": {},
   "outputs": [
    {
     "data": {
      "text/plain": [
       "5"
      ]
     },
     "execution_count": 10,
     "metadata": {},
     "output_type": "execute_result"
    }
   ],
   "source": [
    "2 + 4 + 4 - 5 "
   ]
  },
  {
   "cell_type": "code",
   "execution_count": 11,
   "id": "c28357f5",
   "metadata": {},
   "outputs": [],
   "source": [
    "#değişken tanımlayalım :\n",
    "orkun = 7 "
   ]
  },
  {
   "cell_type": "code",
   "execution_count": 12,
   "id": "8fe447ed",
   "metadata": {},
   "outputs": [
    {
     "data": {
      "text/plain": [
       "7"
      ]
     },
     "execution_count": 12,
     "metadata": {},
     "output_type": "execute_result"
    }
   ],
   "source": [
    "orkun"
   ]
  },
  {
   "cell_type": "code",
   "execution_count": 13,
   "id": "bac0e1c3",
   "metadata": {},
   "outputs": [
    {
     "data": {
      "text/plain": [
       "12"
      ]
     },
     "execution_count": 13,
     "metadata": {},
     "output_type": "execute_result"
    }
   ],
   "source": [
    "orkun = 7+5\n",
    "orkun"
   ]
  },
  {
   "cell_type": "code",
   "execution_count": 15,
   "id": "c23f8fee",
   "metadata": {},
   "outputs": [
    {
     "data": {
      "text/plain": [
       "7.7"
      ]
     },
     "execution_count": 15,
     "metadata": {},
     "output_type": "execute_result"
    }
   ],
   "source": [
    "#değişke durumu dinamik olarak değişiyor C ve Java'dan farklı bu özelliği ile \n",
    "orkun = 7.7\n",
    "orkun "
   ]
  },
  {
   "cell_type": "code",
   "execution_count": 16,
   "id": "81bcb52c",
   "metadata": {},
   "outputs": [
    {
     "data": {
      "text/plain": [
       "7.700000000000001"
      ]
     },
     "execution_count": 16,
     "metadata": {},
     "output_type": "execute_result"
    }
   ],
   "source": [
    "orkun * orkun / orkun "
   ]
  },
  {
   "cell_type": "code",
   "execution_count": 17,
   "id": "50a542cb",
   "metadata": {},
   "outputs": [
    {
     "data": {
      "text/plain": [
       "39.303999999999995"
      ]
     },
     "execution_count": 17,
     "metadata": {},
     "output_type": "execute_result"
    }
   ],
   "source": [
    "orkun = 3.4 \n",
    "orkun * orkun * orkun "
   ]
  },
  {
   "cell_type": "code",
   "execution_count": 18,
   "id": "95b5d300",
   "metadata": {},
   "outputs": [
    {
     "data": {
      "text/plain": [
       "10"
      ]
     },
     "execution_count": 18,
     "metadata": {},
     "output_type": "execute_result"
    }
   ],
   "source": [
    "a = 4\n",
    "b = 3 \n",
    "c = a + 2 * b\n",
    "c "
   ]
  },
  {
   "cell_type": "code",
   "execution_count": 19,
   "id": "3e974f07",
   "metadata": {},
   "outputs": [
    {
     "ename": "SyntaxError",
     "evalue": "invalid syntax (<ipython-input-19-d467c4089a70>, line 1)",
     "output_type": "error",
     "traceback": [
      "\u001b[1;36m  File \u001b[1;32m\"<ipython-input-19-d467c4089a70>\"\u001b[1;36m, line \u001b[1;32m1\u001b[0m\n\u001b[1;33m    7orkun = 10\u001b[0m\n\u001b[1;37m     ^\u001b[0m\n\u001b[1;31mSyntaxError\u001b[0m\u001b[1;31m:\u001b[0m invalid syntax\n"
     ]
    }
   ],
   "source": [
    "7orkun = 10 "
   ]
  },
  {
   "cell_type": "code",
   "execution_count": 20,
   "id": "9fdd5c79",
   "metadata": {},
   "outputs": [],
   "source": [
    "_orkun = 7"
   ]
  },
  {
   "cell_type": "code",
   "execution_count": 21,
   "id": "e6d1bcbe",
   "metadata": {},
   "outputs": [
    {
     "data": {
      "text/plain": [
       "7"
      ]
     },
     "execution_count": 21,
     "metadata": {},
     "output_type": "execute_result"
    }
   ],
   "source": [
    "_orkun"
   ]
  },
  {
   "cell_type": "code",
   "execution_count": 22,
   "id": "d4a4457a",
   "metadata": {},
   "outputs": [
    {
     "ename": "SyntaxError",
     "evalue": "invalid syntax (<ipython-input-22-4eef66c1436e>, line 1)",
     "output_type": "error",
     "traceback": [
      "\u001b[1;36m  File \u001b[1;32m\"<ipython-input-22-4eef66c1436e>\"\u001b[1;36m, line \u001b[1;32m1\u001b[0m\n\u001b[1;33m    i? = 9\u001b[0m\n\u001b[1;37m     ^\u001b[0m\n\u001b[1;31mSyntaxError\u001b[0m\u001b[1;31m:\u001b[0m invalid syntax\n"
     ]
    }
   ],
   "source": [
    "i? = 9"
   ]
  },
  {
   "cell_type": "code",
   "execution_count": 25,
   "id": "9c8dbc3e",
   "metadata": {},
   "outputs": [
    {
     "data": {
      "text/plain": [
       "12.56"
      ]
     },
     "execution_count": 25,
     "metadata": {},
     "output_type": "execute_result"
    }
   ],
   "source": [
    "pi_sayisi = 3.14\n",
    "çap = 4 \n",
    "çevre = pi_sayisi * çap \n",
    "çevre"
   ]
  },
  {
   "cell_type": "code",
   "execution_count": 26,
   "id": "34bfccd4",
   "metadata": {},
   "outputs": [],
   "source": [
    "a = 4\n",
    "b = 3 \n"
   ]
  },
  {
   "cell_type": "code",
   "execution_count": 27,
   "id": "e1c598d5",
   "metadata": {},
   "outputs": [
    {
     "data": {
      "text/plain": [
       "4"
      ]
     },
     "execution_count": 27,
     "metadata": {},
     "output_type": "execute_result"
    }
   ],
   "source": [
    "a"
   ]
  },
  {
   "cell_type": "code",
   "execution_count": 28,
   "id": "1af548d9",
   "metadata": {},
   "outputs": [
    {
     "data": {
      "text/plain": [
       "3"
      ]
     },
     "execution_count": 28,
     "metadata": {},
     "output_type": "execute_result"
    }
   ],
   "source": [
    "b"
   ]
  },
  {
   "cell_type": "code",
   "execution_count": 29,
   "id": "f6544ab6",
   "metadata": {},
   "outputs": [],
   "source": [
    "a,b = b,a "
   ]
  },
  {
   "cell_type": "code",
   "execution_count": 30,
   "id": "fccd9ce4",
   "metadata": {},
   "outputs": [
    {
     "data": {
      "text/plain": [
       "3"
      ]
     },
     "execution_count": 30,
     "metadata": {},
     "output_type": "execute_result"
    }
   ],
   "source": [
    "a\n"
   ]
  },
  {
   "cell_type": "code",
   "execution_count": 31,
   "id": "1d465aa0",
   "metadata": {},
   "outputs": [
    {
     "data": {
      "text/plain": [
       "4"
      ]
     },
     "execution_count": 31,
     "metadata": {},
     "output_type": "execute_result"
    }
   ],
   "source": [
    "b"
   ]
  },
  {
   "cell_type": "code",
   "execution_count": 32,
   "id": "13195e73",
   "metadata": {},
   "outputs": [],
   "source": [
    "i = 5 "
   ]
  },
  {
   "cell_type": "code",
   "execution_count": 33,
   "id": "8c6647e4",
   "metadata": {},
   "outputs": [
    {
     "data": {
      "text/plain": [
       "5"
      ]
     },
     "execution_count": 33,
     "metadata": {},
     "output_type": "execute_result"
    }
   ],
   "source": [
    "i"
   ]
  },
  {
   "cell_type": "code",
   "execution_count": 34,
   "id": "7cebc30b",
   "metadata": {},
   "outputs": [],
   "source": [
    "i = i + 1"
   ]
  },
  {
   "cell_type": "code",
   "execution_count": 35,
   "id": "de6ab357",
   "metadata": {},
   "outputs": [
    {
     "data": {
      "text/plain": [
       "6"
      ]
     },
     "execution_count": 35,
     "metadata": {},
     "output_type": "execute_result"
    }
   ],
   "source": [
    "i"
   ]
  },
  {
   "cell_type": "code",
   "execution_count": 39,
   "id": "e8074026",
   "metadata": {},
   "outputs": [],
   "source": [
    "i += 1 "
   ]
  },
  {
   "cell_type": "code",
   "execution_count": 40,
   "id": "f5a69988",
   "metadata": {},
   "outputs": [
    {
     "data": {
      "text/plain": [
       "8"
      ]
     },
     "execution_count": 40,
     "metadata": {},
     "output_type": "execute_result"
    }
   ],
   "source": [
    "i"
   ]
  },
  {
   "cell_type": "code",
   "execution_count": 41,
   "id": "20b98f01",
   "metadata": {},
   "outputs": [],
   "source": [
    "i += 2"
   ]
  },
  {
   "cell_type": "code",
   "execution_count": 42,
   "id": "94312f65",
   "metadata": {},
   "outputs": [
    {
     "data": {
      "text/plain": [
       "10"
      ]
     },
     "execution_count": 42,
     "metadata": {},
     "output_type": "execute_result"
    }
   ],
   "source": [
    "i"
   ]
  },
  {
   "cell_type": "code",
   "execution_count": 43,
   "id": "0ca1e20a",
   "metadata": {},
   "outputs": [],
   "source": [
    "b = 3 "
   ]
  },
  {
   "cell_type": "code",
   "execution_count": 44,
   "id": "e992d0ff",
   "metadata": {},
   "outputs": [],
   "source": [
    "b *= 4"
   ]
  },
  {
   "cell_type": "code",
   "execution_count": 45,
   "id": "39aa34f5",
   "metadata": {},
   "outputs": [
    {
     "data": {
      "text/plain": [
       "12"
      ]
     },
     "execution_count": 45,
     "metadata": {},
     "output_type": "execute_result"
    }
   ],
   "source": [
    "b"
   ]
  },
  {
   "cell_type": "code",
   "execution_count": 46,
   "id": "386f8db5",
   "metadata": {},
   "outputs": [
    {
     "data": {
      "text/plain": [
       "7"
      ]
     },
     "execution_count": 46,
     "metadata": {},
     "output_type": "execute_result"
    }
   ],
   "source": [
    "\"\"\"\n",
    "orkun\n",
    " \n",
    "\"\"\" \n",
    "z = 7 \n",
    "z"
   ]
  },
  {
   "cell_type": "code",
   "execution_count": null,
   "id": "22d9e7a5",
   "metadata": {},
   "outputs": [],
   "source": []
  }
 ],
 "metadata": {
  "kernelspec": {
   "display_name": "Python 3",
   "language": "python",
   "name": "python3"
  },
  "language_info": {
   "codemirror_mode": {
    "name": "ipython",
    "version": 3
   },
   "file_extension": ".py",
   "mimetype": "text/x-python",
   "name": "python",
   "nbconvert_exporter": "python",
   "pygments_lexer": "ipython3",
   "version": "3.8.8"
  }
 },
 "nbformat": 4,
 "nbformat_minor": 5
}
