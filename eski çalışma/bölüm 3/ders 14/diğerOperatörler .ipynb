{
 "cells": [
  {
   "cell_type": "code",
   "execution_count": 1,
   "id": "aa06ebee",
   "metadata": {},
   "outputs": [
    {
     "data": {
      "text/plain": [
       "133"
      ]
     },
     "execution_count": 1,
     "metadata": {},
     "output_type": "execute_result"
    }
   ],
   "source": [
    "k = 34 \n",
    "l = 45\n",
    "m = 54\n",
    "k + l + m"
   ]
  },
  {
   "cell_type": "code",
   "execution_count": 2,
   "id": "4961f649",
   "metadata": {},
   "outputs": [
    {
     "data": {
      "text/plain": [
       "-11"
      ]
     },
     "execution_count": 2,
     "metadata": {},
     "output_type": "execute_result"
    }
   ],
   "source": [
    "k - l "
   ]
  },
  {
   "cell_type": "code",
   "execution_count": 3,
   "id": "74e89ed2",
   "metadata": {},
   "outputs": [
    {
     "data": {
      "text/plain": [
       "-9"
      ]
     },
     "execution_count": 3,
     "metadata": {},
     "output_type": "execute_result"
    }
   ],
   "source": [
    "l - m"
   ]
  },
  {
   "cell_type": "code",
   "execution_count": 4,
   "id": "5c89fd86",
   "metadata": {},
   "outputs": [
    {
     "data": {
      "text/plain": [
       "82620"
      ]
     },
     "execution_count": 4,
     "metadata": {},
     "output_type": "execute_result"
    }
   ],
   "source": [
    "k * l * m "
   ]
  },
  {
   "cell_type": "code",
   "execution_count": 5,
   "id": "e97ceca8",
   "metadata": {},
   "outputs": [
    {
     "data": {
      "text/plain": [
       "0.7555555555555555"
      ]
     },
     "execution_count": 5,
     "metadata": {},
     "output_type": "execute_result"
    }
   ],
   "source": [
    "k / l"
   ]
  },
  {
   "cell_type": "code",
   "execution_count": 6,
   "id": "41d6ed76",
   "metadata": {},
   "outputs": [
    {
     "data": {
      "text/plain": [
       "7.699999999999999"
      ]
     },
     "execution_count": 6,
     "metadata": {},
     "output_type": "execute_result"
    }
   ],
   "source": [
    "i = 3.4 \n",
    "j = 4.3 \n",
    "i + j "
   ]
  },
  {
   "cell_type": "code",
   "execution_count": 7,
   "id": "0331fff9",
   "metadata": {},
   "outputs": [
    {
     "data": {
      "text/plain": [
       "-0.8999999999999999"
      ]
     },
     "execution_count": 7,
     "metadata": {},
     "output_type": "execute_result"
    }
   ],
   "source": [
    "i - j "
   ]
  },
  {
   "cell_type": "code",
   "execution_count": 8,
   "id": "6acc939e",
   "metadata": {},
   "outputs": [
    {
     "data": {
      "text/plain": [
       "14.62"
      ]
     },
     "execution_count": 8,
     "metadata": {},
     "output_type": "execute_result"
    }
   ],
   "source": [
    "i * j "
   ]
  },
  {
   "cell_type": "code",
   "execution_count": 9,
   "id": "489bd12b",
   "metadata": {},
   "outputs": [
    {
     "data": {
      "text/plain": [
       "1.2647058823529411"
      ]
     },
     "execution_count": 9,
     "metadata": {},
     "output_type": "execute_result"
    }
   ],
   "source": [
    "j / i"
   ]
  },
  {
   "cell_type": "code",
   "execution_count": 10,
   "id": "05d7f692",
   "metadata": {},
   "outputs": [
    {
     "data": {
      "text/plain": [
       "9.583333333333334"
      ]
     },
     "execution_count": 10,
     "metadata": {},
     "output_type": "execute_result"
    }
   ],
   "source": [
    "a = 345\n",
    "b = 36\n",
    "a / b"
   ]
  },
  {
   "cell_type": "code",
   "execution_count": 12,
   "id": "582e06de",
   "metadata": {},
   "outputs": [
    {
     "data": {
      "text/plain": [
       "9"
      ]
     },
     "execution_count": 12,
     "metadata": {},
     "output_type": "execute_result"
    }
   ],
   "source": [
    "# tam sayı bölme işlemi küsuratı atar !! tam sayı verir sadece unutma !! \n",
    "a // b "
   ]
  },
  {
   "cell_type": "code",
   "execution_count": 13,
   "id": "6342f858",
   "metadata": {},
   "outputs": [
    {
     "data": {
      "text/plain": [
       "1.9912280701754386"
      ]
     },
     "execution_count": 13,
     "metadata": {},
     "output_type": "execute_result"
    }
   ],
   "source": [
    "22.7 / 11.4 "
   ]
  },
  {
   "cell_type": "code",
   "execution_count": 14,
   "id": "418bc92f",
   "metadata": {},
   "outputs": [
    {
     "data": {
      "text/plain": [
       "1.0"
      ]
     },
     "execution_count": 14,
     "metadata": {},
     "output_type": "execute_result"
    }
   ],
   "source": [
    "22.7 // 11.4"
   ]
  },
  {
   "cell_type": "code",
   "execution_count": 16,
   "id": "983e313a",
   "metadata": {},
   "outputs": [
    {
     "data": {
      "text/plain": [
       "1"
      ]
     },
     "execution_count": 16,
     "metadata": {},
     "output_type": "execute_result"
    }
   ],
   "source": [
    "13 % 4 "
   ]
  },
  {
   "cell_type": "markdown",
   "id": "23cfd794",
   "metadata": {},
   "source": [
    "22.7 "
   ]
  },
  {
   "cell_type": "code",
   "execution_count": 17,
   "id": "f94cfb18",
   "metadata": {},
   "outputs": [
    {
     "data": {
      "text/plain": [
       "11.299999999999999"
      ]
     },
     "execution_count": 17,
     "metadata": {},
     "output_type": "execute_result"
    }
   ],
   "source": [
    "22.7 % 11.4"
   ]
  },
  {
   "cell_type": "code",
   "execution_count": 1,
   "id": "06596529",
   "metadata": {},
   "outputs": [
    {
     "data": {
      "text/plain": [
       "0"
      ]
     },
     "execution_count": 1,
     "metadata": {},
     "output_type": "execute_result"
    }
   ],
   "source": [
    "4 % 2 "
   ]
  },
  {
   "cell_type": "code",
   "execution_count": 2,
   "id": "d1852790",
   "metadata": {},
   "outputs": [
    {
     "data": {
      "text/plain": [
       "2.0"
      ]
     },
     "execution_count": 2,
     "metadata": {},
     "output_type": "execute_result"
    }
   ],
   "source": [
    "4 / 2 "
   ]
  },
  {
   "cell_type": "code",
   "execution_count": 3,
   "id": "e739f5a3",
   "metadata": {},
   "outputs": [
    {
     "data": {
      "text/plain": [
       "64"
      ]
     },
     "execution_count": 3,
     "metadata": {},
     "output_type": "execute_result"
    }
   ],
   "source": [
    "4 ** 3"
   ]
  },
  {
   "cell_type": "code",
   "execution_count": 4,
   "id": "5d8e8847",
   "metadata": {},
   "outputs": [
    {
     "data": {
      "text/plain": [
       "16"
      ]
     },
     "execution_count": 4,
     "metadata": {},
     "output_type": "execute_result"
    }
   ],
   "source": [
    "2 ** 4 "
   ]
  },
  {
   "cell_type": "code",
   "execution_count": 5,
   "id": "b695aa6a",
   "metadata": {},
   "outputs": [
    {
     "data": {
      "text/plain": [
       "243"
      ]
     },
     "execution_count": 5,
     "metadata": {},
     "output_type": "execute_result"
    }
   ],
   "source": [
    "3 ** 5 "
   ]
  },
  {
   "cell_type": "code",
   "execution_count": 6,
   "id": "e717c7b7",
   "metadata": {},
   "outputs": [
    {
     "data": {
      "text/plain": [
       "49"
      ]
     },
     "execution_count": 6,
     "metadata": {},
     "output_type": "execute_result"
    }
   ],
   "source": [
    "7 ** 2 "
   ]
  },
  {
   "cell_type": "code",
   "execution_count": 7,
   "id": "ecda9b65",
   "metadata": {},
   "outputs": [
    {
     "data": {
      "text/plain": [
       "40.5"
      ]
     },
     "execution_count": 7,
     "metadata": {},
     "output_type": "execute_result"
    }
   ],
   "source": [
    "81 ** 1/2"
   ]
  },
  {
   "cell_type": "code",
   "execution_count": 8,
   "id": "aae59080",
   "metadata": {},
   "outputs": [
    {
     "data": {
      "text/plain": [
       "9.0"
      ]
     },
     "execution_count": 8,
     "metadata": {},
     "output_type": "execute_result"
    }
   ],
   "source": [
    "81 ** 0.5 "
   ]
  },
  {
   "cell_type": "code",
   "execution_count": 9,
   "id": "d51d5ca5",
   "metadata": {},
   "outputs": [
    {
     "data": {
      "text/plain": [
       "7.0"
      ]
     },
     "execution_count": 9,
     "metadata": {},
     "output_type": "execute_result"
    }
   ],
   "source": [
    "49 ** 0.5"
   ]
  },
  {
   "cell_type": "code",
   "execution_count": 10,
   "id": "ee6f05a2",
   "metadata": {},
   "outputs": [
    {
     "data": {
      "text/plain": [
       "2.0"
      ]
     },
     "execution_count": 10,
     "metadata": {},
     "output_type": "execute_result"
    }
   ],
   "source": [
    "8 ** (1/3)"
   ]
  },
  {
   "cell_type": "code",
   "execution_count": 11,
   "id": "b78a4ec8",
   "metadata": {},
   "outputs": [
    {
     "data": {
      "text/plain": [
       "8.0"
      ]
     },
     "execution_count": 11,
     "metadata": {},
     "output_type": "execute_result"
    }
   ],
   "source": [
    "64 ** (1/2)"
   ]
  },
  {
   "cell_type": "code",
   "execution_count": 13,
   "id": "e09b78b2",
   "metadata": {},
   "outputs": [
    {
     "data": {
      "text/plain": [
       "-4.0"
      ]
     },
     "execution_count": 13,
     "metadata": {},
     "output_type": "execute_result"
    }
   ],
   "source": [
    "8 + 4 * 3 / 2 - 18 "
   ]
  },
  {
   "cell_type": "code",
   "execution_count": null,
   "id": "c7208436",
   "metadata": {},
   "outputs": [],
   "source": []
  }
 ],
 "metadata": {
  "kernelspec": {
   "display_name": "Python 3",
   "language": "python",
   "name": "python3"
  },
  "language_info": {
   "codemirror_mode": {
    "name": "ipython",
    "version": 3
   },
   "file_extension": ".py",
   "mimetype": "text/x-python",
   "name": "python",
   "nbconvert_exporter": "python",
   "pygments_lexer": "ipython3",
   "version": "3.8.8"
  }
 },
 "nbformat": 4,
 "nbformat_minor": 5
}
