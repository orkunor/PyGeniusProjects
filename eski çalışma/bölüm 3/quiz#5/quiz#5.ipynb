{
 "cells": [
  {
   "cell_type": "code",
   "execution_count": 1,
   "id": "287fb8d1",
   "metadata": {},
   "outputs": [
    {
     "name": "stdout",
     "output_type": "stream",
     "text": [
      "Merhaba\n",
      "Nasılsın\n",
      "İyi misin ?\n"
     ]
    }
   ],
   "source": [
    "print(\"Merhaba\\nNasılsın\\nİyi misin ?\")"
   ]
  },
  {
   "cell_type": "code",
   "execution_count": 2,
   "id": "fcaad665",
   "metadata": {},
   "outputs": [
    {
     "name": "stdout",
     "output_type": "stream",
     "text": [
      "Orkun 43 54\n"
     ]
    }
   ],
   "source": [
    "print(\"{1} {0} {2}\".format(43,\"Orkun\",54))"
   ]
  },
  {
   "cell_type": "code",
   "execution_count": null,
   "id": "fa551846",
   "metadata": {},
   "outputs": [],
   "source": []
  }
 ],
 "metadata": {
  "kernelspec": {
   "display_name": "Python 3",
   "language": "python",
   "name": "python3"
  },
  "language_info": {
   "codemirror_mode": {
    "name": "ipython",
    "version": 3
   },
   "file_extension": ".py",
   "mimetype": "text/x-python",
   "name": "python",
   "nbconvert_exporter": "python",
   "pygments_lexer": "ipython3",
   "version": "3.8.8"
  }
 },
 "nbformat": 4,
 "nbformat_minor": 5
}
