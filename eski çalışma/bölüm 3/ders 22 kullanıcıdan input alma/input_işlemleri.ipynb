{
 "cells": [
  {
   "cell_type": "code",
   "execution_count": 1,
   "id": "fe3003ca",
   "metadata": {},
   "outputs": [
    {
     "name": "stdout",
     "output_type": "stream",
     "text": [
      "25\n"
     ]
    },
    {
     "data": {
      "text/plain": [
       "'25'"
      ]
     },
     "execution_count": 1,
     "metadata": {},
     "output_type": "execute_result"
    }
   ],
   "source": [
    "input()"
   ]
  },
  {
   "cell_type": "code",
   "execution_count": 2,
   "id": "44a43e86",
   "metadata": {},
   "outputs": [
    {
     "name": "stdout",
     "output_type": "stream",
     "text": [
      "Lütfen Bir Değer Giriniz : 25\n"
     ]
    },
    {
     "data": {
      "text/plain": [
       "'25'"
      ]
     },
     "execution_count": 2,
     "metadata": {},
     "output_type": "execute_result"
    }
   ],
   "source": [
    "input(\"Lütfen Bir Değer Giriniz : \")"
   ]
  },
  {
   "cell_type": "code",
   "execution_count": 3,
   "id": "90061e1e",
   "metadata": {},
   "outputs": [
    {
     "name": "stdout",
     "output_type": "stream",
     "text": [
      "Lütfen bir sayı giriniz : 25\n",
      "Kullanıcıdan alınan sayı :  25\n"
     ]
    }
   ],
   "source": [
    "a = input(\"Lütfen bir sayı giriniz : \")\n",
    "print(\"Kullanıcıdan alınan sayı : \",a)"
   ]
  },
  {
   "cell_type": "code",
   "execution_count": 4,
   "id": "44eb1112",
   "metadata": {},
   "outputs": [
    {
     "name": "stdout",
     "output_type": "stream",
     "text": [
      "Lütfen bir sayı giriniz : 35\n",
      "353535\n"
     ]
    }
   ],
   "source": [
    "a = input(\"Lütfen bir sayı giriniz : \")\n",
    "print(a * 3)"
   ]
  },
  {
   "cell_type": "code",
   "execution_count": 5,
   "id": "8658a042",
   "metadata": {},
   "outputs": [
    {
     "name": "stdout",
     "output_type": "stream",
     "text": [
      "Lütfen bir sayı giriniz : 35\n",
      "<class 'str'>\n"
     ]
    }
   ],
   "source": [
    "a = input(\"Lütfen bir sayı giriniz : \")\n",
    "print(type(a))"
   ]
  },
  {
   "cell_type": "code",
   "execution_count": 6,
   "id": "64dc7b18",
   "metadata": {},
   "outputs": [
    {
     "name": "stdout",
     "output_type": "stream",
     "text": [
      "Lütfen bir sayı giriniz : 35\n",
      "105\n"
     ]
    }
   ],
   "source": [
    "#dikkat et a'nın türü string olarak algılanmış !! \n",
    "#burada a'yı int değer haline getirmemiz gerekiyor \n",
    "a = int(input(\"Lütfen bir sayı giriniz : \"))\n",
    "print(a * 3)"
   ]
  },
  {
   "cell_type": "code",
   "execution_count": 7,
   "id": "47de9a1d",
   "metadata": {},
   "outputs": [
    {
     "name": "stdout",
     "output_type": "stream",
     "text": [
      "Birinci Sayi:7\n",
      "İkinci Sayi:12\n",
      "Üçüncü Sayi:34\n",
      "Sayıların Toplamları =  53\n"
     ]
    }
   ],
   "source": [
    "a = int(input(\"Birinci Sayi:\"))\n",
    "b = int(input(\"İkinci Sayi:\"))\n",
    "c = int(input(\"Üçüncü Sayi:\"))\n",
    "print(\"Sayıların Toplamları = \",a+b+c)"
   ]
  },
  {
   "cell_type": "code",
   "execution_count": 8,
   "id": "b00b196d",
   "metadata": {},
   "outputs": [
    {
     "name": "stdout",
     "output_type": "stream",
     "text": [
      "a:76dfsg\n"
     ]
    },
    {
     "ename": "ValueError",
     "evalue": "invalid literal for int() with base 10: '76dfsg'",
     "output_type": "error",
     "traceback": [
      "\u001b[1;31m---------------------------------------------------------------------------\u001b[0m",
      "\u001b[1;31mValueError\u001b[0m                                Traceback (most recent call last)",
      "\u001b[1;32m<ipython-input-8-2b1b13aad75d>\u001b[0m in \u001b[0;36m<module>\u001b[1;34m\u001b[0m\n\u001b[0;32m      1\u001b[0m \u001b[1;31m#int değer almaya çalıştığımız için hata verir harf olursa unutma !!\u001b[0m\u001b[1;33m\u001b[0m\u001b[1;33m\u001b[0m\u001b[1;33m\u001b[0m\u001b[0m\n\u001b[1;32m----> 2\u001b[1;33m \u001b[0ma\u001b[0m \u001b[1;33m=\u001b[0m \u001b[0mint\u001b[0m\u001b[1;33m(\u001b[0m\u001b[0minput\u001b[0m\u001b[1;33m(\u001b[0m\u001b[1;34m\"a:\"\u001b[0m\u001b[1;33m)\u001b[0m\u001b[1;33m)\u001b[0m\u001b[1;33m\u001b[0m\u001b[1;33m\u001b[0m\u001b[0m\n\u001b[0m\u001b[0;32m      3\u001b[0m \u001b[0mprint\u001b[0m\u001b[1;33m(\u001b[0m\u001b[0ma\u001b[0m\u001b[1;33m)\u001b[0m\u001b[1;33m\u001b[0m\u001b[1;33m\u001b[0m\u001b[0m\n",
      "\u001b[1;31mValueError\u001b[0m: invalid literal for int() with base 10: '76dfsg'"
     ]
    }
   ],
   "source": [
    "#int değer almaya çalıştığımız için hata verir harf olursa unutma !! \n",
    "a = int(input(\"a:\"))\n",
    "print(a)"
   ]
  },
  {
   "cell_type": "code",
   "execution_count": 10,
   "id": "2c2da8a5",
   "metadata": {},
   "outputs": [
    {
     "name": "stdout",
     "output_type": "stream",
     "text": [
      "a:35sfsdf\n",
      "hatalı işlem girişi lütfen yeniden deneyiniz \n"
     ]
    }
   ],
   "source": [
    "#örnek hata yok etmek için \n",
    "try :\n",
    "    a = int(input(\"a:\"))\n",
    "    print(a)\n",
    "except ValueError : \n",
    "        print(\"hatalı işlem girişi lütfen yeniden deneyiniz \")\n",
    "    "
   ]
  },
  {
   "cell_type": "code",
   "execution_count": 11,
   "id": "08c274e5",
   "metadata": {},
   "outputs": [
    {
     "name": "stdout",
     "output_type": "stream",
     "text": [
      "İsminizi giriniz : ORKUN \n",
      "girilen isim :  ORKUN \n"
     ]
    }
   ],
   "source": [
    "isim = input(\"İsminizi giriniz : \")\n",
    "print(\"girilen isim : \",isim)"
   ]
  },
  {
   "cell_type": "code",
   "execution_count": null,
   "id": "08ed63c1",
   "metadata": {},
   "outputs": [],
   "source": []
  }
 ],
 "metadata": {
  "kernelspec": {
   "display_name": "Python 3",
   "language": "python",
   "name": "python3"
  },
  "language_info": {
   "codemirror_mode": {
    "name": "ipython",
    "version": 3
   },
   "file_extension": ".py",
   "mimetype": "text/x-python",
   "name": "python",
   "nbconvert_exporter": "python",
   "pygments_lexer": "ipython3",
   "version": "3.8.8"
  }
 },
 "nbformat": 4,
 "nbformat_minor": 5
}
