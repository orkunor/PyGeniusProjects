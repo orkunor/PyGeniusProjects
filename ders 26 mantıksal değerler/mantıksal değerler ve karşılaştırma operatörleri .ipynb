{
 "cells": [
  {
   "cell_type": "code",
   "execution_count": 2,
   "id": "e436597c",
   "metadata": {},
   "outputs": [],
   "source": [
    "\"\"\"\n",
    "boolean(mantıksal ) veri tipleri sadece iki değere sahip olabilirler\n",
    "\n",
    "ya TRUE ya da FALSE değerlerini alabilirler bunun dışında değer alamazlar...\n",
    "\n",
    "BU mantıksal değerler koşullu durumlarda karşımıza çıkacaktır ve bir koışulun doğru olup olmadığını kontrol ederler\n",
    "\n",
    "koşul sağlanıyorsa boolean variable'ın değeri = True\n",
    "koşul sağlanmıyorsa BOOLEAN Variable'ın değeri = False olarak belirlenyor...\n",
    "\n",
    "\"\"\"\n",
    "a = 0\n"
   ]
  },
  {
   "cell_type": "code",
   "execution_count": 3,
   "id": "de8745f8",
   "metadata": {},
   "outputs": [
    {
     "data": {
      "text/plain": [
       "bool"
      ]
     },
     "execution_count": 3,
     "metadata": {},
     "output_type": "execute_result"
    }
   ],
   "source": [
    "a = True \n",
    "type(a)"
   ]
  },
  {
   "cell_type": "code",
   "execution_count": 4,
   "id": "a30ccc2d",
   "metadata": {},
   "outputs": [
    {
     "data": {
      "text/plain": [
       "bool"
      ]
     },
     "execution_count": 4,
     "metadata": {},
     "output_type": "execute_result"
    }
   ],
   "source": [
    "# göründüğü üzere Python'da Bool veri tipi olarak görülüyor yani mantıksal veri tipi olarak karşımıza çıkıyor... \n",
    "b = False\n",
    "type(b)"
   ]
  },
  {
   "cell_type": "code",
   "execution_count": 5,
   "id": "e7a2df04",
   "metadata": {},
   "outputs": [],
   "source": [
    "# PYTHON'da bir sayı değeri sıfırdan farklıysa TRUE sadece sıfır ise FALSE olarak anlam kazanmaktadır... "
   ]
  },
  {
   "cell_type": "code",
   "execution_count": 6,
   "id": "cfcd4842",
   "metadata": {},
   "outputs": [
    {
     "data": {
      "text/plain": [
       "True"
      ]
     },
     "execution_count": 6,
     "metadata": {},
     "output_type": "execute_result"
    }
   ],
   "source": [
    "bool(7)"
   ]
  },
  {
   "cell_type": "code",
   "execution_count": 7,
   "id": "09a35631",
   "metadata": {},
   "outputs": [
    {
     "data": {
      "text/plain": [
       "True"
      ]
     },
     "execution_count": 7,
     "metadata": {},
     "output_type": "execute_result"
    }
   ],
   "source": [
    "bool(-1)"
   ]
  },
  {
   "cell_type": "code",
   "execution_count": 8,
   "id": "a1f340a5",
   "metadata": {},
   "outputs": [
    {
     "data": {
      "text/plain": [
       "True"
      ]
     },
     "execution_count": 8,
     "metadata": {},
     "output_type": "execute_result"
    }
   ],
   "source": [
    "bool(0.2)"
   ]
  },
  {
   "cell_type": "code",
   "execution_count": 9,
   "id": "0d2bb1bd",
   "metadata": {},
   "outputs": [
    {
     "data": {
      "text/plain": [
       "False"
      ]
     },
     "execution_count": 9,
     "metadata": {},
     "output_type": "execute_result"
    }
   ],
   "source": [
    "bool(0)"
   ]
  },
  {
   "cell_type": "code",
   "execution_count": 10,
   "id": "2eab2945",
   "metadata": {},
   "outputs": [
    {
     "data": {
      "text/plain": [
       "True"
      ]
     },
     "execution_count": 10,
     "metadata": {},
     "output_type": "execute_result"
    }
   ],
   "source": [
    "# bu bool'u nerelerde kullanacağız peki ? tabi ki mantıksal operatörlerde karşımıza gelecektir. \n",
    "1 == 1"
   ]
  },
  {
   "cell_type": "code",
   "execution_count": 11,
   "id": "5cbaef08",
   "metadata": {},
   "outputs": [
    {
     "data": {
      "text/plain": [
       "False"
      ]
     },
     "execution_count": 11,
     "metadata": {},
     "output_type": "execute_result"
    }
   ],
   "source": [
    "1 == 2"
   ]
  },
  {
   "cell_type": "code",
   "execution_count": 12,
   "id": "b525fdd0",
   "metadata": {},
   "outputs": [],
   "source": [
    "# görüldüğü üzere karşılaştırma operatörlerini kontrol ederken boolean fonksiyonu kullanılmaktadır..."
   ]
  },
  {
   "cell_type": "code",
   "execution_count": 13,
   "id": "51f52e1c",
   "metadata": {},
   "outputs": [
    {
     "name": "stdout",
     "output_type": "stream",
     "text": [
      "None\n"
     ]
    }
   ],
   "source": [
    "# eğer biz bir değişkeninin değerini sonradan belirlemek istiyorsak değer None  atanır yani belirlenmemiş anlamına gelir \n",
    "# daha sonra da buna bir değer atanabilir... \n",
    "a = None\n",
    "print(a)"
   ]
  },
  {
   "cell_type": "code",
   "execution_count": 14,
   "id": "80920d98",
   "metadata": {},
   "outputs": [
    {
     "name": "stdout",
     "output_type": "stream",
     "text": [
      "4\n"
     ]
    }
   ],
   "source": [
    "# şimdi değer atamak istiyorum \n",
    "a = 4\n",
    "print(a)"
   ]
  },
  {
   "cell_type": "code",
   "execution_count": 15,
   "id": "a971ad08",
   "metadata": {},
   "outputs": [],
   "source": [
    "# == operatörü : iki değer birbirine eşitse sonuç True dönüyor , Değilse sonuç False dönüyor\n",
    "# != operatörü : iki değer birbirine eşit değilse sonuç True dönüyor , Değilse sonuç False dönüyor...\n",
    "# < operatörü : \n",
    "# > operatörü \n",
    "# <= operatörü :\n",
    "# >= operatörü : "
   ]
  },
  {
   "cell_type": "code",
   "execution_count": 16,
   "id": "ec3eebe9",
   "metadata": {},
   "outputs": [
    {
     "data": {
      "text/plain": [
       "True"
      ]
     },
     "execution_count": 16,
     "metadata": {},
     "output_type": "execute_result"
    }
   ],
   "source": [
    "\"Orkun\" == \"Orkun\""
   ]
  },
  {
   "cell_type": "code",
   "execution_count": 17,
   "id": "c8e2599c",
   "metadata": {},
   "outputs": [
    {
     "data": {
      "text/plain": [
       "False"
      ]
     },
     "execution_count": 17,
     "metadata": {},
     "output_type": "execute_result"
    }
   ],
   "source": [
    "\"Orkun\" == \"orkun\""
   ]
  },
  {
   "cell_type": "code",
   "execution_count": 18,
   "id": "e8e0ed36",
   "metadata": {},
   "outputs": [
    {
     "data": {
      "text/plain": [
       "False"
      ]
     },
     "execution_count": 18,
     "metadata": {},
     "output_type": "execute_result"
    }
   ],
   "source": [
    "\"Orkun\" == \"Fehmi\""
   ]
  },
  {
   "cell_type": "code",
   "execution_count": 19,
   "id": "97619d19",
   "metadata": {},
   "outputs": [
    {
     "data": {
      "text/plain": [
       "True"
      ]
     },
     "execution_count": 19,
     "metadata": {},
     "output_type": "execute_result"
    }
   ],
   "source": [
    "[1,2,3] == [1,2,3]"
   ]
  },
  {
   "cell_type": "code",
   "execution_count": 21,
   "id": "ac7229e4",
   "metadata": {},
   "outputs": [
    {
     "data": {
      "text/plain": [
       "True"
      ]
     },
     "execution_count": 21,
     "metadata": {},
     "output_type": "execute_result"
    }
   ],
   "source": [
    "# eşit olmadıkları için True dönderir \n",
    "\"Orkun\" != \"Fehmi\""
   ]
  },
  {
   "cell_type": "code",
   "execution_count": 22,
   "id": "1f457be1",
   "metadata": {},
   "outputs": [
    {
     "data": {
      "text/plain": [
       "True"
      ]
     },
     "execution_count": 22,
     "metadata": {},
     "output_type": "execute_result"
    }
   ],
   "source": [
    "2 < 4"
   ]
  },
  {
   "cell_type": "code",
   "execution_count": 23,
   "id": "f95174f9",
   "metadata": {},
   "outputs": [
    {
     "data": {
      "text/plain": [
       "True"
      ]
     },
     "execution_count": 23,
     "metadata": {},
     "output_type": "execute_result"
    }
   ],
   "source": [
    "\"Araba\" < \"Zula\""
   ]
  },
  {
   "cell_type": "code",
   "execution_count": null,
   "id": "e2f9a9a2",
   "metadata": {},
   "outputs": [],
   "source": []
  }
 ],
 "metadata": {
  "kernelspec": {
   "display_name": "Python 3",
   "language": "python",
   "name": "python3"
  },
  "language_info": {
   "codemirror_mode": {
    "name": "ipython",
    "version": 3
   },
   "file_extension": ".py",
   "mimetype": "text/x-python",
   "name": "python",
   "nbconvert_exporter": "python",
   "pygments_lexer": "ipython3",
   "version": "3.8.8"
  }
 },
 "nbformat": 4,
 "nbformat_minor": 5
}
