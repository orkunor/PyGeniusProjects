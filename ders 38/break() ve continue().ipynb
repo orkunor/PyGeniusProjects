{
 "cells": [
  {
   "cell_type": "code",
   "execution_count": 1,
   "id": "9593e3c6",
   "metadata": {},
   "outputs": [],
   "source": [
    "\"\"\"\n",
    "break() ve continue() ifadeleri döngülerde kullanılmaktadır... \n",
    "döngüleri daha efektif yazmak için kullanılan fonksiyonlardır break ve continue ifadeleri \n",
    "\"\"\"\n",
    "# break() ifadesi döngülerde en çok kullanılan ifadedir... \n",
    "#bu ifade döngünün içerisinde kaşımıza çıktığı zaman çalışmasını bir anda durdurur...\n",
    "# break ifadesi sadece içerisinde bulunduğu döngüyü sonlandırır dikkat et unutma ... \n",
    "a = 0"
   ]
  },
  {
   "cell_type": "code",
   "execution_count": 2,
   "id": "585e1e32",
   "metadata": {},
   "outputs": [
    {
     "name": "stdout",
     "output_type": "stream",
     "text": [
      "i :  0\n",
      "i :  1\n",
      "i :  2\n",
      "i :  3\n",
      "i :  4\n",
      "i :  5\n",
      "i :  6\n",
      "i :  7\n",
      "i :  8\n",
      "i :  9\n"
     ]
    }
   ],
   "source": [
    "i = 0\n",
    "\n",
    "while i < 10 : \n",
    "    print(\"i : \",i)\n",
    "    i += 1 "
   ]
  },
  {
   "cell_type": "code",
   "execution_count": 4,
   "id": "5fb324c4",
   "metadata": {},
   "outputs": [
    {
     "name": "stdout",
     "output_type": "stream",
     "text": [
      "i :  0\n",
      "i :  1\n",
      "i :  2\n",
      "i :  3\n",
      "i :  4\n"
     ]
    }
   ],
   "source": [
    "i = 0\n",
    "\n",
    "while i < 10 :\n",
    "    if i == 5:\n",
    "        break\n",
    "    print(\"i : \",i)\n",
    "    i += 1 "
   ]
  },
  {
   "cell_type": "code",
   "execution_count": 4,
   "id": "28b2317e",
   "metadata": {},
   "outputs": [
    {
     "name": "stdout",
     "output_type": "stream",
     "text": [
      "1\n",
      "2\n",
      "3\n",
      "Programda 4 geldiği için program sonlandırılıyor...\n"
     ]
    }
   ],
   "source": [
    "i = [1,2,3,4,5,6]\n",
    "\n",
    "for a in i:\n",
    "    if a == 4:\n",
    "        print(\"Programda 4 geldiği için program sonlandırılıyor...\")\n",
    "        break\n",
    "    print(a)"
   ]
  },
  {
   "cell_type": "code",
   "execution_count": 5,
   "id": "e2491db5",
   "metadata": {},
   "outputs": [
    {
     "name": "stdout",
     "output_type": "stream",
     "text": [
      "İsmini giriniz ; çıkmak için 'q' ya basınız...orkun\n",
      "İsmini giriniz ; çıkmak için 'q' ya basınız...orkun orulluoğlu \n",
      "İsmini giriniz ; çıkmak için 'q' ya basınız...ezgi aksoy\n",
      "İsmini giriniz ; çıkmak için 'q' ya basınız...fehmi orulluoğlu \n",
      "İsmini giriniz ; çıkmak için 'q' ya basınız...ebru orulluoğlu\n",
      "İsmini giriniz ; çıkmak için 'q' ya basınız...q\n"
     ]
    }
   ],
   "source": [
    "while True:\n",
    "    isim = input(\"İsmini giriniz ; çıkmak için 'q' ya basınız...\")\n",
    "    if isim == 'q':\n",
    "        break"
   ]
  },
  {
   "cell_type": "code",
   "execution_count": 6,
   "id": "efa1d559",
   "metadata": {},
   "outputs": [
    {
     "name": "stdout",
     "output_type": "stream",
     "text": [
      "İsmini giriniz ; çıkmak için 'q' ya basınız...orkun orulluoğlu \n",
      "İsmini giriniz ; çıkmak için 'q' ya basınız...ebru orulluoğlu \n",
      "İsmini giriniz ; çıkmak için 'q' ya basınız...fehmi orulluoğlu \n",
      "İsmini giriniz ; çıkmak için 'q' ya basınız...rüzgar orulluoğlu \n",
      "İsmini giriniz ; çıkmak için 'q' ya basınız...q\n",
      "Programdan çıkılıyor...\n"
     ]
    }
   ],
   "source": [
    "while True:\n",
    "    isim = input(\"İsmini giriniz ; çıkmak için 'q' ya basınız...\")\n",
    "    if isim == 'q':\n",
    "        print(\"Programdan çıkılıyor...\")\n",
    "        break"
   ]
  },
  {
   "cell_type": "code",
   "execution_count": 7,
   "id": "0d90ded9",
   "metadata": {},
   "outputs": [
    {
     "name": "stdout",
     "output_type": "stream",
     "text": [
      "İsmini giriniz ; çıkmak için 'q' ya basınız...orkun orulluoğlu \n",
      "isminiz :  orkun orulluoğlu \n",
      "İsmini giriniz ; çıkmak için 'q' ya basınız...ebru orulluoğlu \n",
      "isminiz :  ebru orulluoğlu \n",
      "İsmini giriniz ; çıkmak için 'q' ya basınız...q\n",
      "Programdan çıkılıyor...\n"
     ]
    }
   ],
   "source": [
    "while True:\n",
    "    isim = input(\"İsmini giriniz ; çıkmak için 'q' ya basınız...\")\n",
    "    if isim == 'q':\n",
    "        print(\"Programdan çıkılıyor...\")\n",
    "        break\n",
    "    print(\"isminiz : \",isim)"
   ]
  },
  {
   "cell_type": "code",
   "execution_count": 8,
   "id": "551ac028",
   "metadata": {},
   "outputs": [],
   "source": [
    "\"\"\"\n",
    "continue ifadesi break'e göre çok daha az kullanılmaktadır...\n",
    "döngü herhangi bir yerde veya herhangi bir zaman da bu ifadeyle karşılaştığı taktirde döngü bloğunda geriye kalan hiçbir\n",
    "işlemi yapmaksızın döngünün en başına geçiyor doğrudan \n",
    "\"\"\"\n",
    "a = True"
   ]
  },
  {
   "cell_type": "code",
   "execution_count": 12,
   "id": "52499bdb",
   "metadata": {},
   "outputs": [
    {
     "name": "stdout",
     "output_type": "stream",
     "text": [
      "[0, 1, 2, 3, 4, 5, 6, 7, 8, 9, 10]\n"
     ]
    }
   ],
   "source": [
    "liste = list(range(11))\n",
    "print(liste)"
   ]
  },
  {
   "cell_type": "code",
   "execution_count": 15,
   "id": "31268291",
   "metadata": {},
   "outputs": [
    {
     "name": "stdout",
     "output_type": "stream",
     "text": [
      "i:  0\n",
      "i:  1\n",
      "i:  2\n",
      "i:  3\n",
      "i:  4\n",
      "i:  5\n",
      "i:  6\n",
      "i:  7\n",
      "i:  8\n",
      "i:  9\n",
      "i:  10\n"
     ]
    }
   ],
   "source": [
    "for i in liste:\n",
    "    print(\"i: \",i)"
   ]
  },
  {
   "cell_type": "code",
   "execution_count": 17,
   "id": "c4dae6cd",
   "metadata": {},
   "outputs": [
    {
     "name": "stdout",
     "output_type": "stream",
     "text": [
      "i:  0\n",
      "i:  1\n",
      "i:  2\n",
      "i:  4\n",
      "i:  5\n",
      "i:  6\n",
      "i:  8\n",
      "i:  9\n",
      "i:  10\n"
     ]
    }
   ],
   "source": [
    "#bu kod sayesinde bunlara denk gelince atlamayı sağlayacak...\n",
    "for i in liste:\n",
    "    if (i == 3 or i == 7):\n",
    "        continue\n",
    "    print(\"i: \",i)"
   ]
  },
  {
   "cell_type": "code",
   "execution_count": 18,
   "id": "5488caca",
   "metadata": {},
   "outputs": [
    {
     "name": "stdout",
     "output_type": "stream",
     "text": [
      "i:  0\n",
      "i:  1\n",
      "i:  3\n",
      "i:  4\n",
      "i:  5\n",
      "i:  6\n",
      "i:  7\n",
      "i:  8\n",
      "i:  9\n"
     ]
    }
   ],
   "source": [
    "i = 0 \n",
    "\n",
    "while i < 10:\n",
    "    if i == 2:\n",
    "        i += 1\n",
    "        continue\n",
    "    print(\"i: \",i)\n",
    "    i += 1"
   ]
  },
  {
   "cell_type": "code",
   "execution_count": null,
   "id": "95fdebeb",
   "metadata": {},
   "outputs": [],
   "source": []
  }
 ],
 "metadata": {
  "kernelspec": {
   "display_name": "Python 3",
   "language": "python",
   "name": "python3"
  },
  "language_info": {
   "codemirror_mode": {
    "name": "ipython",
    "version": 3
   },
   "file_extension": ".py",
   "mimetype": "text/x-python",
   "name": "python",
   "nbconvert_exporter": "python",
   "pygments_lexer": "ipython3",
   "version": "3.8.8"
  }
 },
 "nbformat": 4,
 "nbformat_minor": 5
}
