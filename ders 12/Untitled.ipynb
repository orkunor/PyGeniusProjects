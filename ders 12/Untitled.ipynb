{
 "cells": [
  {
   "cell_type": "code",
   "execution_count": 1,
   "id": "7fdaaa7d",
   "metadata": {},
   "outputs": [
    {
     "data": {
      "text/plain": [
       "7"
      ]
     },
     "execution_count": 1,
     "metadata": {},
     "output_type": "execute_result"
    }
   ],
   "source": [
    "3 + 4 "
   ]
  },
  {
   "cell_type": "code",
   "execution_count": 2,
   "id": "3da2bbb0",
   "metadata": {},
   "outputs": [
    {
     "data": {
      "text/plain": [
       "-1"
      ]
     },
     "execution_count": 2,
     "metadata": {},
     "output_type": "execute_result"
    }
   ],
   "source": [
    "3-4"
   ]
  },
  {
   "cell_type": "code",
   "execution_count": 3,
   "id": "e9d279c6",
   "metadata": {},
   "outputs": [
    {
     "data": {
      "text/plain": [
       "-1"
      ]
     },
     "execution_count": 3,
     "metadata": {},
     "output_type": "execute_result"
    }
   ],
   "source": [
    "3  -   4"
   ]
  },
  {
   "cell_type": "code",
   "execution_count": 4,
   "id": "4b8cc993",
   "metadata": {},
   "outputs": [
    {
     "data": {
      "text/plain": [
       "42"
      ]
     },
     "execution_count": 4,
     "metadata": {},
     "output_type": "execute_result"
    }
   ],
   "source": [
    "7 * 6"
   ]
  },
  {
   "cell_type": "code",
   "execution_count": 5,
   "id": "e55d20ec",
   "metadata": {},
   "outputs": [
    {
     "data": {
      "text/plain": [
       "5.0"
      ]
     },
     "execution_count": 5,
     "metadata": {},
     "output_type": "execute_result"
    }
   ],
   "source": [
    "10 / 2"
   ]
  },
  {
   "cell_type": "code",
   "execution_count": 6,
   "id": "2f6510d6",
   "metadata": {},
   "outputs": [
    {
     "data": {
      "text/plain": [
       "56"
      ]
     },
     "execution_count": 6,
     "metadata": {},
     "output_type": "execute_result"
    }
   ],
   "source": [
    "2 * 4 * 7 "
   ]
  },
  {
   "cell_type": "code",
   "execution_count": 7,
   "id": "bd4658b3",
   "metadata": {},
   "outputs": [
    {
     "data": {
      "text/plain": [
       "8.9"
      ]
     },
     "execution_count": 7,
     "metadata": {},
     "output_type": "execute_result"
    }
   ],
   "source": [
    "3.7 + 5.2"
   ]
  },
  {
   "cell_type": "code",
   "execution_count": 1,
   "id": "55091b3e",
   "metadata": {},
   "outputs": [
    {
     "data": {
      "text/plain": [
       "-1.7000000000000002"
      ]
     },
     "execution_count": 1,
     "metadata": {},
     "output_type": "execute_result"
    }
   ],
   "source": [
    "#tam değeri gösterebilmek için float sonuç  veriyor \n",
    "2.5 - 4.2"
   ]
  },
  {
   "cell_type": "code",
   "execution_count": 2,
   "id": "4e1008a4",
   "metadata": {},
   "outputs": [
    {
     "data": {
      "text/plain": [
       "11.28"
      ]
     },
     "execution_count": 2,
     "metadata": {},
     "output_type": "execute_result"
    }
   ],
   "source": [
    "2.4 * 4.7"
   ]
  },
  {
   "cell_type": "code",
   "execution_count": 10,
   "id": "8754d82c",
   "metadata": {},
   "outputs": [
    {
     "data": {
      "text/plain": [
       "19.200000000000003"
      ]
     },
     "execution_count": 10,
     "metadata": {},
     "output_type": "execute_result"
    }
   ],
   "source": [
    "2.4 * 5 * 1.6"
   ]
  },
  {
   "cell_type": "code",
   "execution_count": 12,
   "id": "f4fdc537",
   "metadata": {},
   "outputs": [
    {
     "data": {
      "text/plain": [
       "4.051851851851852"
      ]
     },
     "execution_count": 12,
     "metadata": {},
     "output_type": "execute_result"
    }
   ],
   "source": [
    "54.7 / 13.5"
   ]
  },
  {
   "cell_type": "code",
   "execution_count": 3,
   "id": "302f0984",
   "metadata": {},
   "outputs": [
    {
     "data": {
      "text/plain": [
       "32"
      ]
     },
     "execution_count": 3,
     "metadata": {},
     "output_type": "execute_result"
    }
   ],
   "source": [
    "# çarpma işlmeinin öncleikli oldupğunu gördük yine.. \n",
    "# python'da işlemler matematikteki işlem sırasına göre yapılmaktadır...\n",
    "2 + 5 * 6 "
   ]
  },
  {
   "cell_type": "code",
   "execution_count": 17,
   "id": "87361a86",
   "metadata": {},
   "outputs": [
    {
     "data": {
      "text/plain": [
       "16"
      ]
     },
     "execution_count": 17,
     "metadata": {},
     "output_type": "execute_result"
    }
   ],
   "source": [
    "# çarpma işlemi önceliklidir\n",
    "2 * 5 + 6 "
   ]
  },
  {
   "cell_type": "code",
   "execution_count": 18,
   "id": "86fa1435",
   "metadata": {},
   "outputs": [],
   "source": [
    "# değişken bir veri tipinde değer tutan birimlerdir . \n",
    "# değişken ismi = değişken değeri \n",
    "i = 10 "
   ]
  },
  {
   "cell_type": "code",
   "execution_count": 19,
   "id": "196cf5d4",
   "metadata": {},
   "outputs": [
    {
     "data": {
      "text/plain": [
       "10"
      ]
     },
     "execution_count": 19,
     "metadata": {},
     "output_type": "execute_result"
    }
   ],
   "source": [
    "i"
   ]
  },
  {
   "cell_type": "code",
   "execution_count": 20,
   "id": "ee7bf01c",
   "metadata": {},
   "outputs": [
    {
     "name": "stdout",
     "output_type": "stream",
     "text": [
      "10\n"
     ]
    }
   ],
   "source": [
    "print(i)"
   ]
  },
  {
   "cell_type": "code",
   "execution_count": 21,
   "id": "553b6184",
   "metadata": {},
   "outputs": [],
   "source": [
    "orkun = 777"
   ]
  },
  {
   "cell_type": "code",
   "execution_count": 22,
   "id": "fa85e890",
   "metadata": {},
   "outputs": [
    {
     "data": {
      "text/plain": [
       "777"
      ]
     },
     "execution_count": 22,
     "metadata": {},
     "output_type": "execute_result"
    }
   ],
   "source": [
    "orkun"
   ]
  },
  {
   "cell_type": "code",
   "execution_count": 23,
   "id": "08f6ac27",
   "metadata": {},
   "outputs": [
    {
     "name": "stdout",
     "output_type": "stream",
     "text": [
      "777\n"
     ]
    }
   ],
   "source": [
    "print(orkun)"
   ]
  },
  {
   "cell_type": "code",
   "execution_count": 24,
   "id": "b1d921e0",
   "metadata": {},
   "outputs": [],
   "source": [
    "# değeri güncellemek için tekrar atama yapmalıyız . \n",
    "orkun= 11"
   ]
  },
  {
   "cell_type": "code",
   "execution_count": 25,
   "id": "5fa619c2",
   "metadata": {},
   "outputs": [
    {
     "data": {
      "text/plain": [
       "11"
      ]
     },
     "execution_count": 25,
     "metadata": {},
     "output_type": "execute_result"
    }
   ],
   "source": [
    "orkun "
   ]
  },
  {
   "cell_type": "code",
   "execution_count": 26,
   "id": "768b4368",
   "metadata": {},
   "outputs": [],
   "source": [
    "orkun = 7.777"
   ]
  },
  {
   "cell_type": "code",
   "execution_count": 27,
   "id": "e8819a16",
   "metadata": {},
   "outputs": [
    {
     "data": {
      "text/plain": [
       "7.777"
      ]
     },
     "execution_count": 27,
     "metadata": {},
     "output_type": "execute_result"
    }
   ],
   "source": [
    "orkun"
   ]
  },
  {
   "cell_type": "code",
   "execution_count": 28,
   "id": "f9f4e2ad",
   "metadata": {},
   "outputs": [
    {
     "data": {
      "text/plain": [
       "60.481729"
      ]
     },
     "execution_count": 28,
     "metadata": {},
     "output_type": "execute_result"
    }
   ],
   "source": [
    "orkun * orkun "
   ]
  },
  {
   "cell_type": "code",
   "execution_count": 29,
   "id": "008a1090",
   "metadata": {},
   "outputs": [
    {
     "data": {
      "text/plain": [
       "470.366406433"
      ]
     },
     "execution_count": 29,
     "metadata": {},
     "output_type": "execute_result"
    }
   ],
   "source": [
    "orkun * orkun * orkun "
   ]
  },
  {
   "cell_type": "code",
   "execution_count": 30,
   "id": "beae932e",
   "metadata": {},
   "outputs": [],
   "source": [
    "a = 7 \n",
    "b = 17 \n",
    "c = a + 2 * b"
   ]
  },
  {
   "cell_type": "code",
   "execution_count": 31,
   "id": "050ec151",
   "metadata": {},
   "outputs": [
    {
     "data": {
      "text/plain": [
       "41"
      ]
     },
     "execution_count": 31,
     "metadata": {},
     "output_type": "execute_result"
    }
   ],
   "source": [
    "c"
   ]
  },
  {
   "cell_type": "code",
   "execution_count": 32,
   "id": "2b011969",
   "metadata": {},
   "outputs": [
    {
     "data": {
      "text/plain": [
       "7"
      ]
     },
     "execution_count": 32,
     "metadata": {},
     "output_type": "execute_result"
    }
   ],
   "source": [
    "a"
   ]
  },
  {
   "cell_type": "code",
   "execution_count": 33,
   "id": "ffd75376",
   "metadata": {},
   "outputs": [
    {
     "data": {
      "text/plain": [
       "17"
      ]
     },
     "execution_count": 33,
     "metadata": {},
     "output_type": "execute_result"
    }
   ],
   "source": [
    "a\n",
    "\n",
    "b"
   ]
  },
  {
   "cell_type": "code",
   "execution_count": 34,
   "id": "e1a0e044",
   "metadata": {},
   "outputs": [
    {
     "data": {
      "text/plain": [
       "17"
      ]
     },
     "execution_count": 34,
     "metadata": {},
     "output_type": "execute_result"
    }
   ],
   "source": [
    "a\n",
    "b"
   ]
  },
  {
   "cell_type": "code",
   "execution_count": 35,
   "id": "8dba3b67",
   "metadata": {},
   "outputs": [
    {
     "data": {
      "text/plain": [
       "1"
      ]
     },
     "execution_count": 35,
     "metadata": {},
     "output_type": "execute_result"
    }
   ],
   "source": [
    "a & b "
   ]
  },
  {
   "cell_type": "code",
   "execution_count": 36,
   "id": "8d072fa0",
   "metadata": {},
   "outputs": [],
   "source": [
    "# anahtar kelimeler (while , not , for etc. ) kullanılamaz \n",
    "# bu kelimeler değişkenler belirlenirken kullanılmaz...\n",
    "# işaretler (%,&,?,/ etc.) kullanılamaz ... \n",
    "# boşluk bırakılamaz dikkat et ... "
   ]
  },
  {
   "cell_type": "code",
   "execution_count": 37,
   "id": "ae70998c",
   "metadata": {},
   "outputs": [],
   "source": [
    "pi = 2.71\n",
    "r = 3\n",
    "daire_cevre = 2 * pi * r"
   ]
  },
  {
   "cell_type": "code",
   "execution_count": 40,
   "id": "95d18554",
   "metadata": {},
   "outputs": [
    {
     "data": {
      "text/plain": [
       "16.259999999999998"
      ]
     },
     "execution_count": 40,
     "metadata": {},
     "output_type": "execute_result"
    }
   ],
   "source": [
    "daire_cevre"
   ]
  },
  {
   "cell_type": "code",
   "execution_count": 4,
   "id": "15c957eb",
   "metadata": {},
   "outputs": [],
   "source": [
    "# elimizde iki değişken değeri var ise bu değişkenlerin değerleri değiştirilebilir . \n",
    "# bu işlemler 2'de baya uzun sürer \n",
    "# a , b = b , a bu kod sayesinde a değişkeninin değeri ve b değişkenin atanan değerleri birbirlerine geçmektedir...\n",
    "# şöyle de düşünülebilir. a karşıdaki ilkine b ise ikinciye atanmıştır \n",
    "# a , b = b , a+b => örneğin bu kod bir fibonacci sayı dizisini göstermektedir...\n"
   ]
  },
  {
   "cell_type": "code",
   "execution_count": 5,
   "id": "f3cbce6e",
   "metadata": {},
   "outputs": [],
   "source": [
    "a = 7 \n"
   ]
  },
  {
   "cell_type": "code",
   "execution_count": 43,
   "id": "865d4f89",
   "metadata": {},
   "outputs": [],
   "source": [
    "b=11"
   ]
  },
  {
   "cell_type": "code",
   "execution_count": 44,
   "id": "ae21fc49",
   "metadata": {},
   "outputs": [
    {
     "data": {
      "text/plain": [
       "7"
      ]
     },
     "execution_count": 44,
     "metadata": {},
     "output_type": "execute_result"
    }
   ],
   "source": [
    "a"
   ]
  },
  {
   "cell_type": "code",
   "execution_count": 45,
   "id": "fcf2e15d",
   "metadata": {},
   "outputs": [
    {
     "data": {
      "text/plain": [
       "11"
      ]
     },
     "execution_count": 45,
     "metadata": {},
     "output_type": "execute_result"
    }
   ],
   "source": [
    "b"
   ]
  },
  {
   "cell_type": "code",
   "execution_count": 46,
   "id": "0d0af533",
   "metadata": {},
   "outputs": [],
   "source": [
    "a , b = b , a"
   ]
  },
  {
   "cell_type": "code",
   "execution_count": 47,
   "id": "d1781915",
   "metadata": {},
   "outputs": [
    {
     "data": {
      "text/plain": [
       "11"
      ]
     },
     "execution_count": 47,
     "metadata": {},
     "output_type": "execute_result"
    }
   ],
   "source": [
    "a"
   ]
  },
  {
   "cell_type": "code",
   "execution_count": 59,
   "id": "8d1b9404",
   "metadata": {},
   "outputs": [],
   "source": [
    "i = 19"
   ]
  },
  {
   "cell_type": "code",
   "execution_count": 60,
   "id": "e5adf732",
   "metadata": {},
   "outputs": [],
   "source": [
    "# kısa ve öz bu kod i'ye 1 ekle anlamında kullanılıyor \n",
    "i += 1 "
   ]
  },
  {
   "cell_type": "code",
   "execution_count": 61,
   "id": "ff5b609b",
   "metadata": {},
   "outputs": [
    {
     "data": {
      "text/plain": [
       "20"
      ]
     },
     "execution_count": 61,
     "metadata": {},
     "output_type": "execute_result"
    }
   ],
   "source": [
    "i"
   ]
  },
  {
   "cell_type": "code",
   "execution_count": 62,
   "id": "8a06a9d9",
   "metadata": {},
   "outputs": [],
   "source": [
    "i += 2"
   ]
  },
  {
   "cell_type": "code",
   "execution_count": 63,
   "id": "a1fd8eb6",
   "metadata": {},
   "outputs": [
    {
     "data": {
      "text/plain": [
       "22"
      ]
     },
     "execution_count": 63,
     "metadata": {},
     "output_type": "execute_result"
    }
   ],
   "source": [
    "i"
   ]
  },
  {
   "cell_type": "code",
   "execution_count": 64,
   "id": "496b8f93",
   "metadata": {},
   "outputs": [],
   "source": [
    "i += 7"
   ]
  },
  {
   "cell_type": "code",
   "execution_count": 65,
   "id": "710f22bb",
   "metadata": {},
   "outputs": [
    {
     "data": {
      "text/plain": [
       "29"
      ]
     },
     "execution_count": 65,
     "metadata": {},
     "output_type": "execute_result"
    }
   ],
   "source": [
    "i"
   ]
  },
  {
   "cell_type": "code",
   "execution_count": 66,
   "id": "bcdbed2d",
   "metadata": {},
   "outputs": [],
   "source": [
    "# çarpma işlemi de tıpkı böyledir \n",
    "b = 6\n",
    "b *= 4"
   ]
  },
  {
   "cell_type": "code",
   "execution_count": 67,
   "id": "13f58e36",
   "metadata": {},
   "outputs": [
    {
     "data": {
      "text/plain": [
       "24"
      ]
     },
     "execution_count": 67,
     "metadata": {},
     "output_type": "execute_result"
    }
   ],
   "source": [
    "b"
   ]
  },
  {
   "cell_type": "code",
   "execution_count": 74,
   "id": "cdc8e435",
   "metadata": {},
   "outputs": [
    {
     "name": "stdout",
     "output_type": "stream",
     "text": [
      "orkun\n"
     ]
    }
   ],
   "source": [
    "# -> tekli yorum satırı oluşturu \"#\"\n",
    "\"\"\"\n",
    "orkun\n",
    "\n",
    "\"\"\"\n",
    "# 3 tane tırnak işareti de toplu yorum satırı oluşturur. \n",
    "print(\"orkun\")"
   ]
  },
  {
   "cell_type": "code",
   "execution_count": 8,
   "id": "721d0c9a",
   "metadata": {},
   "outputs": [],
   "source": [
    "a = 2"
   ]
  },
  {
   "cell_type": "code",
   "execution_count": 9,
   "id": "c8d85042",
   "metadata": {},
   "outputs": [
    {
     "data": {
      "text/plain": [
       "8"
      ]
     },
     "execution_count": 9,
     "metadata": {},
     "output_type": "execute_result"
    }
   ],
   "source": [
    "a ** 3"
   ]
  },
  {
   "cell_type": "code",
   "execution_count": 10,
   "id": "2e89efcd",
   "metadata": {},
   "outputs": [
    {
     "data": {
      "text/plain": [
       "8"
      ]
     },
     "execution_count": 10,
     "metadata": {},
     "output_type": "execute_result"
    }
   ],
   "source": [
    "a * a * a"
   ]
  },
  {
   "cell_type": "code",
   "execution_count": 77,
   "id": "53db1a69",
   "metadata": {},
   "outputs": [],
   "source": [
    "a = 5 \n",
    "b = 6"
   ]
  },
  {
   "cell_type": "code",
   "execution_count": 78,
   "id": "36ff3bee",
   "metadata": {},
   "outputs": [],
   "source": [
    "a += 1\n",
    "b -= 2\n",
    "c = a + 2 * b"
   ]
  },
  {
   "cell_type": "code",
   "execution_count": 79,
   "id": "e0381f95",
   "metadata": {},
   "outputs": [
    {
     "data": {
      "text/plain": [
       "14"
      ]
     },
     "execution_count": 79,
     "metadata": {},
     "output_type": "execute_result"
    }
   ],
   "source": [
    "c"
   ]
  },
  {
   "cell_type": "code",
   "execution_count": 12,
   "id": "0672dbc5",
   "metadata": {},
   "outputs": [
    {
     "data": {
      "text/plain": [
       "4"
      ]
     },
     "execution_count": 12,
     "metadata": {},
     "output_type": "execute_result"
    }
   ],
   "source": [
    "# len() bu fonksiyon stringlerin uzunluğunun ölçülmesinde kullanılır \n",
    "# int bir değerin uzunluğunu len() fonksiyonu yardımıyla ölçemeyiz...\n",
    "len(\"1546\")"
   ]
  },
  {
   "cell_type": "code",
   "execution_count": 4,
   "id": "8f81764f",
   "metadata": {},
   "outputs": [
    {
     "data": {
      "text/plain": [
       "1"
      ]
     },
     "execution_count": 4,
     "metadata": {},
     "output_type": "execute_result"
    }
   ],
   "source": [
    "# burada string bir değer üzerinden işlem yapıyoruz\n",
    "a = 1234\n",
    "len(\"a\")"
   ]
  },
  {
   "cell_type": "code",
   "execution_count": 5,
   "id": "4a350b1b",
   "metadata": {},
   "outputs": [
    {
     "data": {
      "text/plain": [
       "234"
      ]
     },
     "execution_count": 5,
     "metadata": {},
     "output_type": "execute_result"
    }
   ],
   "source": [
    "#bu % işareti burada mod olarak kullanılır.. \n",
    "1234 % 1000"
   ]
  },
  {
   "cell_type": "code",
   "execution_count": 6,
   "id": "a0b90819",
   "metadata": {},
   "outputs": [
    {
     "data": {
      "text/plain": [
       "4"
      ]
     },
     "execution_count": 6,
     "metadata": {},
     "output_type": "execute_result"
    }
   ],
   "source": [
    "1234 % 10"
   ]
  },
  {
   "cell_type": "code",
   "execution_count": 7,
   "id": "7eb568e8",
   "metadata": {},
   "outputs": [
    {
     "data": {
      "text/plain": [
       "34"
      ]
     },
     "execution_count": 7,
     "metadata": {},
     "output_type": "execute_result"
    }
   ],
   "source": [
    "1234%100"
   ]
  },
  {
   "cell_type": "code",
   "execution_count": 1,
   "id": "b4ddf62a",
   "metadata": {},
   "outputs": [
    {
     "name": "stdout",
     "output_type": "stream",
     "text": [
      "a:1234\n"
     ]
    }
   ],
   "source": [
    "#input her zaman string değerolarak alacaktır... \n",
    "a = input(\"a:\")"
   ]
  },
  {
   "cell_type": "code",
   "execution_count": 9,
   "id": "6816341e",
   "metadata": {},
   "outputs": [
    {
     "data": {
      "text/plain": [
       "'1'"
      ]
     },
     "execution_count": 9,
     "metadata": {},
     "output_type": "execute_result"
    }
   ],
   "source": [
    "a[0]"
   ]
  },
  {
   "cell_type": "code",
   "execution_count": 10,
   "id": "872b2e45",
   "metadata": {},
   "outputs": [],
   "source": [
    "c = int(a[0])"
   ]
  },
  {
   "cell_type": "code",
   "execution_count": 11,
   "id": "57740264",
   "metadata": {},
   "outputs": [
    {
     "data": {
      "text/plain": [
       "1"
      ]
     },
     "execution_count": 11,
     "metadata": {},
     "output_type": "execute_result"
    }
   ],
   "source": [
    "c"
   ]
  },
  {
   "cell_type": "code",
   "execution_count": null,
   "id": "8bd2497f",
   "metadata": {},
   "outputs": [],
   "source": []
  }
 ],
 "metadata": {
  "kernelspec": {
   "display_name": "Python 3",
   "language": "python",
   "name": "python3"
  },
  "language_info": {
   "codemirror_mode": {
    "name": "ipython",
    "version": 3
   },
   "file_extension": ".py",
   "mimetype": "text/x-python",
   "name": "python",
   "nbconvert_exporter": "python",
   "pygments_lexer": "ipython3",
   "version": "3.8.8"
  }
 },
 "nbformat": 4,
 "nbformat_minor": 5
}
