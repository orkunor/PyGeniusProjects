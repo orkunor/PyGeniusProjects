{
 "cells": [
  {
   "cell_type": "code",
   "execution_count": 1,
   "id": "005b0e21",
   "metadata": {},
   "outputs": [],
   "source": [
    "\"\"\"\n",
    "Python'da her bir değişkenin , fonksiyonun ve ileride göreceğimiz sınıfların(class) aslında python'da bir kapsamı bulunuyor..\n",
    "ve her bir değişkeni bir isim alanında tanımlıyor. değişkenin isim alanı ise bu değişkenin nerelerde var olduğunu ve nerelerde\n",
    "kullanılabileceğini gösterir...\n",
    " \n",
    "Yerel değişkenler : Python'da fonksiyonlarda tanımlanan değişkenler python'da yerel değişkenler olarak adlandırılmaktadır...\n",
    "yani bir fonksiyon bloğunda oluşturulan değişkenler fonksiyona özgü oluyor ve fonksiyon çalışmasını bitirdikten sonra\n",
    "bu değişkenler bellekten silinirler... ve yok olurlar işte bu yüzden bu değişkenler yerel(local) değişkenler olarak adlandırı-\n",
    "lırlar. böylelikle fonksiyon içerisine tanımlanmış bir değişkene başka herhangi bir yerden erişilemez...\n",
    "\n",
    "GLOBAL DEĞİŞKENLER : Python'da en genel kapsama sahip değişkenler global değişkenler olarak adlandırılırlar... Global Değişken-\n",
    "lere tanımlandığı andan itibaren programın her yerinden ulaşabiliriz...\n",
    "\"\"\"\n",
    "g = 0"
   ]
  },
  {
   "cell_type": "code",
   "execution_count": 3,
   "id": "69cce286",
   "metadata": {},
   "outputs": [
    {
     "name": "stdout",
     "output_type": "stream",
     "text": [
      "10\n"
     ]
    },
    {
     "ename": "NameError",
     "evalue": "name 'a' is not defined",
     "output_type": "error",
     "traceback": [
      "\u001b[1;31m---------------------------------------------------------------------------\u001b[0m",
      "\u001b[1;31mNameError\u001b[0m                                 Traceback (most recent call last)",
      "\u001b[1;32m<ipython-input-3-f99abad6033e>\u001b[0m in \u001b[0;36m<module>\u001b[1;34m\u001b[0m\n\u001b[0;32m      3\u001b[0m     \u001b[0mprint\u001b[0m\u001b[1;33m(\u001b[0m\u001b[0ma\u001b[0m\u001b[1;33m)\u001b[0m\u001b[1;33m\u001b[0m\u001b[1;33m\u001b[0m\u001b[0m\n\u001b[0;32m      4\u001b[0m \u001b[0mfonksiyon\u001b[0m\u001b[1;33m(\u001b[0m\u001b[1;33m)\u001b[0m\u001b[1;33m\u001b[0m\u001b[1;33m\u001b[0m\u001b[0m\n\u001b[1;32m----> 5\u001b[1;33m \u001b[0mprint\u001b[0m\u001b[1;33m(\u001b[0m\u001b[0ma\u001b[0m\u001b[1;33m)\u001b[0m\u001b[1;33m\u001b[0m\u001b[1;33m\u001b[0m\u001b[0m\n\u001b[0m",
      "\u001b[1;31mNameError\u001b[0m: name 'a' is not defined"
     ]
    }
   ],
   "source": [
    "def fonksiyon():\n",
    "    a = 10\n",
    "    print(a)\n",
    "fonksiyon()    \n",
    "print(a)"
   ]
  },
  {
   "cell_type": "code",
   "execution_count": 4,
   "id": "6dd05bc2",
   "metadata": {},
   "outputs": [
    {
     "name": "stdout",
     "output_type": "stream",
     "text": [
      "5\n"
     ]
    }
   ],
   "source": [
    "#görüldüğü üzere önce a'yı daha sonra ise print(a)'yı basmaya çalıştı fakat a sadece fonksiyon içerisinde tanımlı olduğundan\n",
    "# hata verdi yani yerel bir değişkendir...\n",
    "# şimdi de GLOBAL DEĞİŞKENLERE BAKALIM => \n",
    "b = 5 \n",
    "def fonksiyon():\n",
    "    print(b)\n",
    "fonksiyon()"
   ]
  },
  {
   "cell_type": "code",
   "execution_count": 5,
   "id": "b08ca5e3",
   "metadata": {},
   "outputs": [
    {
     "ename": "NameError",
     "evalue": "name 's' is not defined",
     "output_type": "error",
     "traceback": [
      "\u001b[1;31m---------------------------------------------------------------------------\u001b[0m",
      "\u001b[1;31mNameError\u001b[0m                                 Traceback (most recent call last)",
      "\u001b[1;32m<ipython-input-5-5c190c46e2e8>\u001b[0m in \u001b[0;36m<module>\u001b[1;34m\u001b[0m\n\u001b[0;32m      1\u001b[0m \u001b[1;32mdef\u001b[0m \u001b[0mfonksiyon\u001b[0m\u001b[1;33m(\u001b[0m\u001b[1;33m)\u001b[0m\u001b[1;33m:\u001b[0m\u001b[1;33m\u001b[0m\u001b[1;33m\u001b[0m\u001b[0m\n\u001b[0;32m      2\u001b[0m     \u001b[0mprint\u001b[0m\u001b[1;33m(\u001b[0m\u001b[0ms\u001b[0m\u001b[1;33m)\u001b[0m\u001b[1;33m\u001b[0m\u001b[1;33m\u001b[0m\u001b[0m\n\u001b[1;32m----> 3\u001b[1;33m \u001b[0mfonksiyon\u001b[0m\u001b[1;33m(\u001b[0m\u001b[1;33m)\u001b[0m\u001b[1;33m\u001b[0m\u001b[1;33m\u001b[0m\u001b[0m\n\u001b[0m\u001b[0;32m      4\u001b[0m \u001b[0ms\u001b[0m \u001b[1;33m=\u001b[0m \u001b[1;34m\"Python\"\u001b[0m\u001b[1;33m\u001b[0m\u001b[1;33m\u001b[0m\u001b[0m\n",
      "\u001b[1;32m<ipython-input-5-5c190c46e2e8>\u001b[0m in \u001b[0;36mfonksiyon\u001b[1;34m()\u001b[0m\n\u001b[0;32m      1\u001b[0m \u001b[1;32mdef\u001b[0m \u001b[0mfonksiyon\u001b[0m\u001b[1;33m(\u001b[0m\u001b[1;33m)\u001b[0m\u001b[1;33m:\u001b[0m\u001b[1;33m\u001b[0m\u001b[1;33m\u001b[0m\u001b[0m\n\u001b[1;32m----> 2\u001b[1;33m     \u001b[0mprint\u001b[0m\u001b[1;33m(\u001b[0m\u001b[0ms\u001b[0m\u001b[1;33m)\u001b[0m\u001b[1;33m\u001b[0m\u001b[1;33m\u001b[0m\u001b[0m\n\u001b[0m\u001b[0;32m      3\u001b[0m \u001b[0mfonksiyon\u001b[0m\u001b[1;33m(\u001b[0m\u001b[1;33m)\u001b[0m\u001b[1;33m\u001b[0m\u001b[1;33m\u001b[0m\u001b[0m\n\u001b[0;32m      4\u001b[0m \u001b[0ms\u001b[0m \u001b[1;33m=\u001b[0m \u001b[1;34m\"Python\"\u001b[0m\u001b[1;33m\u001b[0m\u001b[1;33m\u001b[0m\u001b[0m\n",
      "\u001b[1;31mNameError\u001b[0m: name 's' is not defined"
     ]
    }
   ],
   "source": [
    "def fonksiyon():\n",
    "    print(s)\n",
    "fonksiyon()\n",
    "s = \"Python\""
   ]
  },
  {
   "cell_type": "code",
   "execution_count": 6,
   "id": "15865de1",
   "metadata": {},
   "outputs": [],
   "source": [
    "# Global tanımlanacak olan değerin işlemden önce tanımlanmış olması gerekmektedir çünkü program bunu yukarıdan aşağı doğru\n",
    "#sıra ile okumaktadır...\n"
   ]
  },
  {
   "cell_type": "code",
   "execution_count": 7,
   "id": "5afe1575",
   "metadata": {},
   "outputs": [
    {
     "name": "stdout",
     "output_type": "stream",
     "text": [
      "2\n",
      "10\n"
     ]
    }
   ],
   "source": [
    "c = 10 \n",
    "def fonksiyon():\n",
    "    c = 2\n",
    "    print(c)\n",
    "fonksiyon()\n",
    "print(c)"
   ]
  },
  {
   "cell_type": "code",
   "execution_count": 8,
   "id": "e80aa6c4",
   "metadata": {},
   "outputs": [
    {
     "name": "stdout",
     "output_type": "stream",
     "text": [
      "7\n",
      "7\n"
     ]
    }
   ],
   "source": [
    "# görüldüğü üzere global değil localdeki değeri fonksiyonun içerisinde bastırdı\n",
    "# bunu istersek globaldekini kullan şekline getirebiliriz...\n",
    "# görüldüğü üzere yanlış loca'dekini global yapıyor\n",
    "d = 10\n",
    "def fonksiyon():\n",
    "    global d \n",
    "    d = 7\n",
    "    print(d)\n",
    "fonksiyon()\n",
    "print(d)"
   ]
  },
  {
   "cell_type": "code",
   "execution_count": 9,
   "id": "88e27e10",
   "metadata": {},
   "outputs": [
    {
     "name": "stdout",
     "output_type": "stream",
     "text": [
      "7\n",
      "7\n"
     ]
    }
   ],
   "source": [
    "# herhangi farklı bir bloğun içerisinde de tanımlanırsa eğer global dğişken özelliği alacaktır...\n",
    "if True:\n",
    "    e = 7\n",
    "    print(e)\n",
    "print(e)"
   ]
  },
  {
   "cell_type": "code",
   "execution_count": null,
   "id": "d829318f",
   "metadata": {},
   "outputs": [],
   "source": []
  }
 ],
 "metadata": {
  "kernelspec": {
   "display_name": "Python 3",
   "language": "python",
   "name": "python3"
  },
  "language_info": {
   "codemirror_mode": {
    "name": "ipython",
    "version": 3
   },
   "file_extension": ".py",
   "mimetype": "text/x-python",
   "name": "python",
   "nbconvert_exporter": "python",
   "pygments_lexer": "ipython3",
   "version": "3.8.8"
  }
 },
 "nbformat": 4,
 "nbformat_minor": 5
}
