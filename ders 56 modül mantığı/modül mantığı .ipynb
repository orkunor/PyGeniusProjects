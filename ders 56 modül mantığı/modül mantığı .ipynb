{
 "cells": [
  {
   "cell_type": "code",
   "execution_count": 1,
   "id": "500d0b15",
   "metadata": {},
   "outputs": [],
   "source": [
    "\"\"\"\n",
    "MODÜL MANTIĞI => \n",
    "\n",
    "Python'da aslında her bir dosya bir modül olarak kabul edilmektedir...\n",
    "\n",
    "ve her bir modül kendi içinde fonksiyonlar sınıflar ve objeler barındırmaktadır\n",
    "\n",
    "biz de bu python modüllerini yani modüllerin içerisindeki işlemleri programlarımıza dahil ederek içerisindeki hazır kodları \n",
    "programlarımızda çalıştırabiliyoruzdur...\n",
    "\n",
    "Bu sayede biz programlarımızı daha hızlı ve efektif şekilde yazabilmekteyiz...\n",
    "\n",
    "Python'da python geliştiricileri tarafından yazılmış bir çok modül bulunmaktadır ve biz python'ı indirdikten sonra bunların \n",
    "tamamını bilgisiyarımıza kurmuş olacağız...\n",
    "\n",
    "Aynı zamanda programcıların github vs. gibi internet ortamına da yükledikleri birçok modül bulunmaktadır biz bunları bilgisayarı\n",
    "mıza kurarak kullanabiliriz...\n",
    "\"\"\"\n",
    "a = True"
   ]
  },
  {
   "cell_type": "code",
   "execution_count": null,
   "id": "b741a935",
   "metadata": {},
   "outputs": [],
   "source": []
  }
 ],
 "metadata": {
  "kernelspec": {
   "display_name": "Python 3",
   "language": "python",
   "name": "python3"
  },
  "language_info": {
   "codemirror_mode": {
    "name": "ipython",
    "version": 3
   },
   "file_extension": ".py",
   "mimetype": "text/x-python",
   "name": "python",
   "nbconvert_exporter": "python",
   "pygments_lexer": "ipython3",
   "version": "3.8.8"
  }
 },
 "nbformat": 4,
 "nbformat_minor": 5
}
