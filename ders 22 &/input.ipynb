{
 "cells": [
  {
   "cell_type": "code",
   "execution_count": 1,
   "id": "30b81e3b",
   "metadata": {},
   "outputs": [],
   "source": [
    "# bu videoda kullanıcıdan input() yani girdi almayı öğreneceğiz...\n"
   ]
  },
  {
   "cell_type": "code",
   "execution_count": 2,
   "id": "a828a4ae",
   "metadata": {},
   "outputs": [
    {
     "name": "stdout",
     "output_type": "stream",
     "text": [
      "Merhaba Python...\n"
     ]
    },
    {
     "data": {
      "text/plain": [
       "'Merhaba Python...'"
      ]
     },
     "execution_count": 2,
     "metadata": {},
     "output_type": "execute_result"
    }
   ],
   "source": [
    "input()"
   ]
  },
  {
   "cell_type": "code",
   "execution_count": 3,
   "id": "5eeb4ae7",
   "metadata": {},
   "outputs": [
    {
     "name": "stdout",
     "output_type": "stream",
     "text": [
      "25\n"
     ]
    },
    {
     "data": {
      "text/plain": [
       "'25'"
      ]
     },
     "execution_count": 3,
     "metadata": {},
     "output_type": "execute_result"
    }
   ],
   "source": [
    "input()"
   ]
  },
  {
   "cell_type": "code",
   "execution_count": 4,
   "id": "07d4a296",
   "metadata": {},
   "outputs": [
    {
     "name": "stdout",
     "output_type": "stream",
     "text": [
      "Lütfen bir sayı giriniz : 25\n"
     ]
    },
    {
     "data": {
      "text/plain": [
       "'25'"
      ]
     },
     "execution_count": 4,
     "metadata": {},
     "output_type": "execute_result"
    }
   ],
   "source": [
    "input(\"Lütfen bir sayı giriniz : \")"
   ]
  },
  {
   "cell_type": "code",
   "execution_count": 5,
   "id": "fc4cf18d",
   "metadata": {},
   "outputs": [
    {
     "name": "stdout",
     "output_type": "stream",
     "text": [
      "Lütfen Bir Sayı Giriniz : 777\n"
     ]
    }
   ],
   "source": [
    "# peki biz bu kullanıcıdan alınan değeri nasıl kullanabiliriz tabii ki de bunu bir değere atayarak kullanabiliriz.\n",
    "a = input(\"Lütfen Bir Sayı Giriniz : \")"
   ]
  },
  {
   "cell_type": "code",
   "execution_count": 6,
   "id": "1b194e63",
   "metadata": {},
   "outputs": [
    {
     "data": {
      "text/plain": [
       "'777'"
      ]
     },
     "execution_count": 6,
     "metadata": {},
     "output_type": "execute_result"
    }
   ],
   "source": [
    "a"
   ]
  },
  {
   "cell_type": "code",
   "execution_count": 7,
   "id": "ec6afbf0",
   "metadata": {},
   "outputs": [
    {
     "data": {
      "text/plain": [
       "str"
      ]
     },
     "execution_count": 7,
     "metadata": {},
     "output_type": "execute_result"
    }
   ],
   "source": [
    "type(a)"
   ]
  },
  {
   "cell_type": "code",
   "execution_count": 8,
   "id": "8c69d3e9",
   "metadata": {},
   "outputs": [],
   "source": [
    "b = int(a)"
   ]
  },
  {
   "cell_type": "code",
   "execution_count": 9,
   "id": "d036cf5c",
   "metadata": {},
   "outputs": [
    {
     "data": {
      "text/plain": [
       "777"
      ]
     },
     "execution_count": 9,
     "metadata": {},
     "output_type": "execute_result"
    }
   ],
   "source": [
    "b"
   ]
  },
  {
   "cell_type": "code",
   "execution_count": 10,
   "id": "6b9e251b",
   "metadata": {},
   "outputs": [
    {
     "data": {
      "text/plain": [
       "int"
      ]
     },
     "execution_count": 10,
     "metadata": {},
     "output_type": "execute_result"
    }
   ],
   "source": [
    "type(b)"
   ]
  },
  {
   "cell_type": "code",
   "execution_count": 11,
   "id": "f872141d",
   "metadata": {},
   "outputs": [
    {
     "name": "stdout",
     "output_type": "stream",
     "text": [
      "Kullanıcının girdiği değer :  777\n"
     ]
    }
   ],
   "source": [
    "print(\"Kullanıcının girdiği değer : \",a)"
   ]
  },
  {
   "cell_type": "code",
   "execution_count": 12,
   "id": "1119e22b",
   "metadata": {},
   "outputs": [
    {
     "name": "stdout",
     "output_type": "stream",
     "text": [
      "Kullanıcının girdiği değer :  777\n"
     ]
    }
   ],
   "source": [
    "print(\"Kullanıcının girdiği değer : \",b)"
   ]
  },
  {
   "cell_type": "code",
   "execution_count": 13,
   "id": "fe4940e7",
   "metadata": {},
   "outputs": [
    {
     "name": "stdout",
     "output_type": "stream",
     "text": [
      "Lütfen bir sayı giriniz => 777\n",
      "Girdiğiniz sayı =>  777\n"
     ]
    }
   ],
   "source": [
    "i = input(\"Lütfen bir sayı giriniz => \")\n",
    "print(\"Girdiğiniz sayı => \",i)"
   ]
  },
  {
   "cell_type": "code",
   "execution_count": 14,
   "id": "bb84c5f2",
   "metadata": {},
   "outputs": [
    {
     "name": "stdout",
     "output_type": "stream",
     "text": [
      "Lütfen bir sayı giriniz => 7\n",
      "777\n"
     ]
    }
   ],
   "source": [
    "i = input(\"Lütfen bir sayı giriniz => \")\n",
    "print(i * 3)"
   ]
  },
  {
   "cell_type": "code",
   "execution_count": 15,
   "id": "2e3c7113",
   "metadata": {},
   "outputs": [],
   "source": [
    "# neden böyle çıktı çünkü python input fonksiyonu ile girilen değeri bir string değer olarak kabul etti bu yüzden string çarptı\n"
   ]
  },
  {
   "cell_type": "code",
   "execution_count": 16,
   "id": "926d0856",
   "metadata": {},
   "outputs": [
    {
     "data": {
      "text/plain": [
       "str"
      ]
     },
     "execution_count": 16,
     "metadata": {},
     "output_type": "execute_result"
    }
   ],
   "source": [
    "type(i)"
   ]
  },
  {
   "cell_type": "code",
   "execution_count": 17,
   "id": "896f8287",
   "metadata": {},
   "outputs": [],
   "source": [
    "#görüldüğü üzere string bir değer aldı "
   ]
  },
  {
   "cell_type": "code",
   "execution_count": 18,
   "id": "05a577aa",
   "metadata": {},
   "outputs": [],
   "source": [
    "i = int(i)"
   ]
  },
  {
   "cell_type": "code",
   "execution_count": 19,
   "id": "92cee8c9",
   "metadata": {},
   "outputs": [
    {
     "data": {
      "text/plain": [
       "7"
      ]
     },
     "execution_count": 19,
     "metadata": {},
     "output_type": "execute_result"
    }
   ],
   "source": [
    "i"
   ]
  },
  {
   "cell_type": "code",
   "execution_count": 20,
   "id": "c46b9c43",
   "metadata": {},
   "outputs": [
    {
     "name": "stdout",
     "output_type": "stream",
     "text": [
      "21\n"
     ]
    }
   ],
   "source": [
    "print(i * 3)"
   ]
  },
  {
   "cell_type": "code",
   "execution_count": 21,
   "id": "bf978ab6",
   "metadata": {},
   "outputs": [],
   "source": [
    "# int() fonksiyonunun içerisine alarak değeri int'e çevirebiliriz dikkat et ... "
   ]
  },
  {
   "cell_type": "code",
   "execution_count": 23,
   "id": "ee20ac67",
   "metadata": {},
   "outputs": [
    {
     "name": "stdout",
     "output_type": "stream",
     "text": [
      "Lütfen birinci sayıyı  giriniz => 5\n",
      "Lütfen ikinci sayıyı giriniz => 7\n",
      "Lütfen üçüncü sayıyı giriniz => 8\n",
      "Toplamları = 20\n"
     ]
    }
   ],
   "source": [
    "a = int(input(\"Lütfen birinci sayıyı  giriniz => \"))\n",
    "b = int(input(\"Lütfen ikinci sayıyı giriniz => \"))\n",
    "c = int(input(\"Lütfen üçüncü sayıyı giriniz => \"))\n",
    "print(\"Toplamları =\",a + b + c)"
   ]
  },
  {
   "cell_type": "code",
   "execution_count": 24,
   "id": "d88d5f5c",
   "metadata": {},
   "outputs": [],
   "source": [
    "#veri tipi dönüşümü yaparak değeri int yapmaya çalışırken tüm karakterlerin birer rakam olmasına dikkat etmeliyiz...\n"
   ]
  },
  {
   "cell_type": "code",
   "execution_count": 25,
   "id": "aa4092cd",
   "metadata": {},
   "outputs": [
    {
     "name": "stdout",
     "output_type": "stream",
     "text": [
      "Birinci sayıyı giriniz : 5\n",
      "İkinci sayıyı giriniz : 6\n",
      "Üçüncü sayıyı giriniz : 7\n",
      "Toplamları  567\n"
     ]
    }
   ],
   "source": [
    "# unutma veri tipinden dolayı input fonksiyonu girdiyi string olarak tutmaktadır buna dikkat et \n",
    "a = input(\"Birinci sayıyı giriniz : \")\n",
    "b = input(\"İkinci sayıyı giriniz : \")\n",
    "c = input(\"Üçüncü sayıyı giriniz : \")\n",
    "print(\"Toplamları \",a+b+c)"
   ]
  },
  {
   "cell_type": "code",
   "execution_count": null,
   "id": "e47c7784",
   "metadata": {},
   "outputs": [],
   "source": []
  }
 ],
 "metadata": {
  "kernelspec": {
   "display_name": "Python 3",
   "language": "python",
   "name": "python3"
  },
  "language_info": {
   "codemirror_mode": {
    "name": "ipython",
    "version": 3
   },
   "file_extension": ".py",
   "mimetype": "text/x-python",
   "name": "python",
   "nbconvert_exporter": "python",
   "pygments_lexer": "ipython3",
   "version": "3.8.8"
  }
 },
 "nbformat": 4,
 "nbformat_minor": 5
}
