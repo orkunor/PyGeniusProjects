{
 "cells": [
  {
   "cell_type": "code",
   "execution_count": 1,
   "id": "243657e5",
   "metadata": {},
   "outputs": [],
   "source": [
    "# sınıfların özel metodlarını nasıl kendimiz yazarız ?? \n",
    "# burada bunu öğreneceğiz...\n",
    "# özel metodlar: bizim özel olarak üretmediğimiz fakat her class'a doğuştan verilen metotlardır....\n",
    "# bunların çoğu biz tanımlamasak bile python tarafından otomatik olarak tanımlanır...\n",
    "# örneğin init metodu otomatik geliyordu fakat biz tanımlayarak kullanınca daha yararlı bir şekilde kullanabildik...\n"
   ]
  },
  {
   "cell_type": "code",
   "execution_count": 2,
   "id": "829ca7b8",
   "metadata": {},
   "outputs": [],
   "source": [
    "class Kitap():\n",
    "    pass"
   ]
  },
  {
   "cell_type": "code",
   "execution_count": 3,
   "id": "522df786",
   "metadata": {},
   "outputs": [],
   "source": [
    "kitap = Kitap() #python burada gidip __init__ metodunu çağırıyor"
   ]
  },
  {
   "cell_type": "code",
   "execution_count": 7,
   "id": "44746f5e",
   "metadata": {},
   "outputs": [
    {
     "name": "stdout",
     "output_type": "stream",
     "text": [
      "<__main__.Kitap object at 0x0000019D01539C70>\n"
     ]
    }
   ],
   "source": [
    "print(kitap) # burada ise python otomatik olarak yine metod tanımlıyor => __str__"
   ]
  },
  {
   "cell_type": "code",
   "execution_count": 8,
   "id": "03adf79e",
   "metadata": {},
   "outputs": [
    {
     "ename": "TypeError",
     "evalue": "object of type 'Kitap' has no len()",
     "output_type": "error",
     "traceback": [
      "\u001b[1;31m---------------------------------------------------------------------------\u001b[0m",
      "\u001b[1;31mTypeError\u001b[0m                                 Traceback (most recent call last)",
      "\u001b[1;32m<ipython-input-8-f6ed7aed7f69>\u001b[0m in \u001b[0;36m<module>\u001b[1;34m\u001b[0m\n\u001b[1;32m----> 1\u001b[1;33m \u001b[0mlen\u001b[0m\u001b[1;33m(\u001b[0m\u001b[0mkitap\u001b[0m\u001b[1;33m)\u001b[0m\u001b[1;33m\u001b[0m\u001b[1;33m\u001b[0m\u001b[0m\n\u001b[0m",
      "\u001b[1;31mTypeError\u001b[0m: object of type 'Kitap' has no len()"
     ]
    }
   ],
   "source": [
    "len(kitap) # python bunu tanımlamayı bilmediği için bizim tanımlamamızı istedi burada "
   ]
  },
  {
   "cell_type": "code",
   "execution_count": 9,
   "id": "c486d2bb",
   "metadata": {},
   "outputs": [],
   "source": [
    "del kitap # __del__ metodu çağırıldı otomatik olarak "
   ]
  },
  {
   "cell_type": "code",
   "execution_count": 10,
   "id": "cbd2b370",
   "metadata": {},
   "outputs": [
    {
     "ename": "NameError",
     "evalue": "name 'kitap' is not defined",
     "output_type": "error",
     "traceback": [
      "\u001b[1;31m---------------------------------------------------------------------------\u001b[0m",
      "\u001b[1;31mNameError\u001b[0m                                 Traceback (most recent call last)",
      "\u001b[1;32m<ipython-input-10-1a7f1cf5fe3f>\u001b[0m in \u001b[0;36m<module>\u001b[1;34m\u001b[0m\n\u001b[1;32m----> 1\u001b[1;33m \u001b[0mkitap\u001b[0m\u001b[1;33m\u001b[0m\u001b[1;33m\u001b[0m\u001b[0m\n\u001b[0m",
      "\u001b[1;31mNameError\u001b[0m: name 'kitap' is not defined"
     ]
    }
   ],
   "source": [
    "kitap"
   ]
  },
  {
   "cell_type": "code",
   "execution_count": 25,
   "id": "29356196",
   "metadata": {},
   "outputs": [],
   "source": [
    "def Kitap():\n",
    "    def __init__(self,isim,yazar,sayfa_sayısı,tür):\n",
    "        print(\"inti fonksiyonu çalıştırılıyor\")\n",
    "        self.isim = isim\n",
    "        self.yazar = yazar\n",
    "        self.sayfa_sayısı = sayfa_sayısı\n",
    "        self.tür = tür\n",
    "        "
   ]
  },
  {
   "cell_type": "code",
   "execution_count": 26,
   "id": "6e899c85",
   "metadata": {},
   "outputs": [
    {
     "ename": "TypeError",
     "evalue": "Kitap() takes 0 positional arguments but 4 were given",
     "output_type": "error",
     "traceback": [
      "\u001b[1;31m---------------------------------------------------------------------------\u001b[0m",
      "\u001b[1;31mTypeError\u001b[0m                                 Traceback (most recent call last)",
      "\u001b[1;32m<ipython-input-26-16ca4b3bf368>\u001b[0m in \u001b[0;36m<module>\u001b[1;34m\u001b[0m\n\u001b[1;32m----> 1\u001b[1;33m \u001b[0mkitap\u001b[0m \u001b[1;33m=\u001b[0m \u001b[0mKitap\u001b[0m\u001b[1;33m(\u001b[0m\u001b[1;34m\"ROMAN\"\u001b[0m\u001b[1;33m,\u001b[0m\u001b[1;34m\"Orkun\"\u001b[0m\u001b[1;33m,\u001b[0m\u001b[1;36m177\u001b[0m\u001b[1;33m,\u001b[0m\u001b[1;34m\"Komedi\"\u001b[0m\u001b[1;33m)\u001b[0m\u001b[1;33m\u001b[0m\u001b[1;33m\u001b[0m\u001b[0m\n\u001b[0m",
      "\u001b[1;31mTypeError\u001b[0m: Kitap() takes 0 positional arguments but 4 were given"
     ]
    }
   ],
   "source": [
    "kitap = Kitap(\"ROMAN\",\"Orkun\",177,\"Komedi\")"
   ]
  },
  {
   "cell_type": "code",
   "execution_count": 28,
   "id": "960164b5",
   "metadata": {},
   "outputs": [],
   "source": [
    "def Kitap():\n",
    "    def __init__(self,isim,yazar,sayfa_sayısı,tür):\n",
    "        print(\"inti fonksiyonu çalıştırılıyor\")\n",
    "        self.isim = isim\n",
    "        self.yazar = yazar\n",
    "        self.sayfa_sayısı = sayfa_sayısı\n",
    "        self.tür = tür\n",
    "        \n",
    "    def __str__(self):\n",
    "        return \"İsim : {}\\nYazar : \\nSayfa Sayısı : {}\\nTür : {}\\n\".format(self.isim,self.yazar,self.sayfa_sayısı,self.tür)"
   ]
  },
  {
   "cell_type": "code",
   "execution_count": 29,
   "id": "ea87d5e9",
   "metadata": {},
   "outputs": [
    {
     "ename": "TypeError",
     "evalue": "Kitap() takes 0 positional arguments but 4 were given",
     "output_type": "error",
     "traceback": [
      "\u001b[1;31m---------------------------------------------------------------------------\u001b[0m",
      "\u001b[1;31mTypeError\u001b[0m                                 Traceback (most recent call last)",
      "\u001b[1;32m<ipython-input-29-57efb0dfc8c7>\u001b[0m in \u001b[0;36m<module>\u001b[1;34m\u001b[0m\n\u001b[1;32m----> 1\u001b[1;33m \u001b[0mkitap\u001b[0m \u001b[1;33m=\u001b[0m \u001b[0mKitap\u001b[0m\u001b[1;33m(\u001b[0m\u001b[1;34m\"aaa\"\u001b[0m\u001b[1;33m,\u001b[0m\u001b[1;34m\"bbb\"\u001b[0m\u001b[1;33m,\u001b[0m\u001b[1;36m345\u001b[0m\u001b[1;33m,\u001b[0m\u001b[1;34m\"sdfdsfd\"\u001b[0m\u001b[1;33m)\u001b[0m\u001b[1;33m\u001b[0m\u001b[1;33m\u001b[0m\u001b[0m\n\u001b[0m",
      "\u001b[1;31mTypeError\u001b[0m: Kitap() takes 0 positional arguments but 4 were given"
     ]
    }
   ],
   "source": [
    "kitap = Kitap(\"aaa\",\"bbb\",345,\"sdfdsfd\")"
   ]
  },
  {
   "cell_type": "code",
   "execution_count": 33,
   "id": "dd6b1f2f",
   "metadata": {},
   "outputs": [],
   "source": [
    "class Kitap():\n",
    "    def __init__(self,isim,yazar,sayfa_sayısı,tür): \n",
    "        print(\"Kitap Objesi oluşuyor....\")\n",
    "        self.isim = isim\n",
    "        self.yazar = yazar\n",
    "        self.sayfa_sayısı = sayfa_sayısı\n",
    "        self.tür = tür\n",
    "    def __str__(self):\n",
    "        # Return kullanmamız gerekli\n",
    "        return \"İsim: {}\\nYazar: {}\\nSayfa Sayısı: {}\\nTür: {}\".format(self.isim,self.yazar,self.sayfa_sayısı,self.tür)"
   ]
  },
  {
   "cell_type": "code",
   "execution_count": 34,
   "id": "c4966dde",
   "metadata": {},
   "outputs": [
    {
     "name": "stdout",
     "output_type": "stream",
     "text": [
      "Kitap Objesi oluşuyor....\n"
     ]
    }
   ],
   "source": [
    "kitap1 = Kitap(\"İstanbul Hatırası\",\"Ahmet Ümit\",561,\"Polisiye\")"
   ]
  },
  {
   "cell_type": "code",
   "execution_count": 38,
   "id": "0e44ed99",
   "metadata": {},
   "outputs": [
    {
     "name": "stdout",
     "output_type": "stream",
     "text": [
      "İsim: İstanbul Hatırası\n",
      "Yazar: Ahmet Ümit\n",
      "Sayfa Sayısı: 561\n",
      "Tür: Polisiye\n"
     ]
    }
   ],
   "source": [
    "print(kitap1)"
   ]
  },
  {
   "cell_type": "code",
   "execution_count": 39,
   "id": "a957f9dd",
   "metadata": {},
   "outputs": [],
   "source": [
    "class Kitap():\n",
    "    def __init__(self,isim,yazar,sayfa_sayısı,tür): \n",
    "        print(\"Kitap Objesi oluşuyor....\")\n",
    "        self.isim = isim\n",
    "        self.yazar = yazar\n",
    "        self.sayfa_sayısı = sayfa_sayısı\n",
    "        self.tür = tür\n",
    "    def __str__(self):\n",
    "        # Return kullanmamız gerekli\n",
    "        return \"İsim: {}\\nYazar: {}\\nSayfa Sayısı: {}\\nTür: {}\".format(self.isim,self.yazar,self.sayfa_sayısı,self.tür)\n",
    "    def __len__(self):\n",
    "        return self.sayfa_sayısı"
   ]
  },
  {
   "cell_type": "code",
   "execution_count": 40,
   "id": "e4684508",
   "metadata": {},
   "outputs": [
    {
     "name": "stdout",
     "output_type": "stream",
     "text": [
      "Kitap Objesi oluşuyor....\n"
     ]
    }
   ],
   "source": [
    "kitap1 = Kitap(\"İstanbul Hatırası\",\"Ahmet Ümit\",561,\"Polisiye\")"
   ]
  },
  {
   "cell_type": "code",
   "execution_count": 41,
   "id": "f27995ee",
   "metadata": {},
   "outputs": [
    {
     "data": {
      "text/plain": [
       "561"
      ]
     },
     "execution_count": 41,
     "metadata": {},
     "output_type": "execute_result"
    }
   ],
   "source": [
    "len(kitap1)"
   ]
  },
  {
   "cell_type": "code",
   "execution_count": 49,
   "id": "2b7ccd38",
   "metadata": {},
   "outputs": [],
   "source": [
    "# del metodu biraz özel bir metottur => \n",
    "class Kitap():\n",
    "    def __init__(self,isim,yazar,sayfa_sayısı,tür): \n",
    "        print(\"Kitap Objesi oluşuyor....\")\n",
    "        self.isim = isim\n",
    "        self.yazar = yazar\n",
    "        self.sayfa_sayısı = sayfa_sayısı\n",
    "        self.tür = tür\n",
    "    def __str__(self):\n",
    "        # Return kullanmamız gerekli\n",
    "        return \"İsim: {}\\nYazar: {}\\nSayfa Sayısı: {}\\nTür: {}\".format(self.isim,self.yazar,self.sayfa_sayısı,self.tür)\n",
    "    def __len__(self):\n",
    "        return self.sayfa_sayısı\n",
    "    def __del__(self): #diğerlerinden farkı biz burada override etmiyoruz extra özellikler ekliyoruz...\n",
    "        print(\"Kitap objesi siliniyor...\")\n",
    "        "
   ]
  },
  {
   "cell_type": "code",
   "execution_count": 50,
   "id": "1cafec27",
   "metadata": {},
   "outputs": [
    {
     "name": "stdout",
     "output_type": "stream",
     "text": [
      "Kitap Objesi oluşuyor....\n",
      "Kitap objesi siliniyor...\n"
     ]
    }
   ],
   "source": [
    "kitap1 = Kitap(\"İstanbul Hatırası\",\"Ahmet Ümit\",561,\"Polisiye\")"
   ]
  },
  {
   "cell_type": "code",
   "execution_count": 53,
   "id": "bcffff5f",
   "metadata": {},
   "outputs": [
    {
     "name": "stdout",
     "output_type": "stream",
     "text": [
      "Kitap objesi siliniyor...\n"
     ]
    }
   ],
   "source": [
    "del kitap1"
   ]
  },
  {
   "cell_type": "code",
   "execution_count": null,
   "id": "e9024014",
   "metadata": {},
   "outputs": [],
   "source": [
    "\"\"\"\n",
    "Siz de bunlar gibi çoğu özel metodu ihtiyacınız olduğu zaman kendiniz yazabilirsiniz. \n",
    "Özel metodlar için güzel bir ingilizce kaynak için şuradan faydalanabilirsiniz.\n",
    "\n",
    "https://www.diveinto.org/python3/special-method-names.html\n",
    "\n",
    "\n",
    "\"\"\""
   ]
  }
 ],
 "metadata": {
  "kernelspec": {
   "display_name": "Python 3",
   "language": "python",
   "name": "python3"
  },
  "language_info": {
   "codemirror_mode": {
    "name": "ipython",
    "version": 3
   },
   "file_extension": ".py",
   "mimetype": "text/x-python",
   "name": "python",
   "nbconvert_exporter": "python",
   "pygments_lexer": "ipython3",
   "version": "3.8.8"
  }
 },
 "nbformat": 4,
 "nbformat_minor": 5
}
