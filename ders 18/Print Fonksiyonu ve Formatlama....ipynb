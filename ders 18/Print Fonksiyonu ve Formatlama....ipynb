{
 "cells": [
  {
   "cell_type": "code",
   "execution_count": 1,
   "id": "58585025",
   "metadata": {},
   "outputs": [
    {
     "name": "stdout",
     "output_type": "stream",
     "text": [
      "35\n"
     ]
    }
   ],
   "source": [
    "# print() bu fonksiyon python'da kullanılan en temel fonksiyonlardan biridir ve ekrana değer yazdırmak için kullanılır... \n",
    "# print() bu fonksiyon ekrana değer yazdırmak için kullanılır... \n",
    "print(35)"
   ]
  },
  {
   "cell_type": "code",
   "execution_count": 2,
   "id": "d0191b76",
   "metadata": {},
   "outputs": [
    {
     "name": "stdout",
     "output_type": "stream",
     "text": [
      "79\n"
     ]
    }
   ],
   "source": [
    "print(79)"
   ]
  },
  {
   "cell_type": "code",
   "execution_count": 3,
   "id": "05ac69a3",
   "metadata": {},
   "outputs": [
    {
     "name": "stdout",
     "output_type": "stream",
     "text": [
      "Esgiiii\n"
     ]
    }
   ],
   "source": [
    "print(\"Esgiiii\")"
   ]
  },
  {
   "cell_type": "code",
   "execution_count": 4,
   "id": "2da83fca",
   "metadata": {},
   "outputs": [
    {
     "data": {
      "text/plain": [
       "'Orkun Orulluoğlu'"
      ]
     },
     "execution_count": 4,
     "metadata": {},
     "output_type": "execute_result"
    }
   ],
   "source": [
    "\"Orkun Orulluoğlu\""
   ]
  },
  {
   "cell_type": "code",
   "execution_count": 5,
   "id": "5dd57461",
   "metadata": {},
   "outputs": [
    {
     "name": "stdout",
     "output_type": "stream",
     "text": [
      "20\n"
     ]
    }
   ],
   "source": [
    "a = 7 \n",
    "b = 13\n",
    "print(a+b)"
   ]
  },
  {
   "cell_type": "code",
   "execution_count": 6,
   "id": "c43e7d42",
   "metadata": {},
   "outputs": [
    {
     "name": "stdout",
     "output_type": "stream",
     "text": [
      "23 17 13 Orkun Merhaba Dünya Dönüyor...\n"
     ]
    }
   ],
   "source": [
    "# virgül kullanarak da farklı şeyleri aynı anda bastırabiliriz... \n",
    "print(23,17,13,\"Orkun\",\"Merhaba\",\"Dünya Dönüyor...\")"
   ]
  },
  {
   "cell_type": "code",
   "execution_count": 9,
   "id": "46bbadfd",
   "metadata": {},
   "outputs": [
    {
     "name": "stdout",
     "output_type": "stream",
     "text": [
      "Orkun\n",
      "Orulluoğlu\n"
     ]
    }
   ],
   "source": [
    "# stinglerle alakalı özel kullanılan ifadeler vardır bunlara bakalım \n",
    "# birinci kullanım ters slash n ==> \\n \n",
    "print(\"Orkun\\nOrulluoğlu\")"
   ]
  },
  {
   "cell_type": "code",
   "execution_count": 10,
   "id": "4aa76267",
   "metadata": {},
   "outputs": [
    {
     "name": "stdout",
     "output_type": "stream",
     "text": [
      "Merhaba\n",
      "Bugün güneş doğdu\n",
      "Ardından kütüphaneye geldim\n",
      "Çalışıyorum...\n"
     ]
    }
   ],
   "source": [
    "print(\"Merhaba\\nBugün güneş doğdu\\nArdından kütüphaneye geldim\\nÇalışıyorum...\")"
   ]
  },
  {
   "cell_type": "code",
   "execution_count": 11,
   "id": "26aab502",
   "metadata": {},
   "outputs": [],
   "source": [
    "#\\n ifadesi sadece stinglerde geçerlidir... "
   ]
  },
  {
   "cell_type": "code",
   "execution_count": 16,
   "id": "2792ffbc",
   "metadata": {},
   "outputs": [
    {
     "name": "stdout",
     "output_type": "stream",
     "text": [
      "Orkun \t Alex \t Ruzgar \t Evdeler\n"
     ]
    }
   ],
   "source": [
    "# bir diğer karkater ise \\t karakteridir \n",
    "# \\t karakteri ile biz stirnglerin arasında boşluk bırakabiliriz... \n",
    "print(\"Orkun \\t Alex \\t Ruzgar \\t Evdeler\")"
   ]
  },
  {
   "cell_type": "code",
   "execution_count": 17,
   "id": "6bf42b76",
   "metadata": {},
   "outputs": [
    {
     "name": "stdout",
     "output_type": "stream",
     "text": [
      "Orkun\t\t\t\tOrulluoğlu\n"
     ]
    }
   ],
   "source": [
    "print(\"Orkun\\t\\t\\t\\tOrulluoğlu\")"
   ]
  },
  {
   "cell_type": "code",
   "execution_count": 18,
   "id": "6124670e",
   "metadata": {},
   "outputs": [
    {
     "data": {
      "text/plain": [
       "int"
      ]
     },
     "execution_count": 18,
     "metadata": {},
     "output_type": "execute_result"
    }
   ],
   "source": [
    "#type() => bu fonksiyon bize verilen variable'ın türünü vermektedir\n",
    "type(37)"
   ]
  },
  {
   "cell_type": "code",
   "execution_count": 20,
   "id": "cdf18fb4",
   "metadata": {},
   "outputs": [
    {
     "data": {
      "text/plain": [
       "str"
      ]
     },
     "execution_count": 20,
     "metadata": {},
     "output_type": "execute_result"
    }
   ],
   "source": [
    "type(\"orkun\")"
   ]
  },
  {
   "cell_type": "code",
   "execution_count": 21,
   "id": "d5cd81d3",
   "metadata": {},
   "outputs": [
    {
     "data": {
      "text/plain": [
       "float"
      ]
     },
     "execution_count": 21,
     "metadata": {},
     "output_type": "execute_result"
    }
   ],
   "source": [
    "type(3.14)"
   ]
  },
  {
   "cell_type": "code",
   "execution_count": 22,
   "id": "e2b732a5",
   "metadata": {},
   "outputs": [],
   "source": [
    "# Python'da kullanılan bazı özel parametreler vardır bunlardan biri sep=\"\" parametresidiir\n",
    "# sep = \"karakter(string)\" şeklinde kullanılır bu parametre..."
   ]
  },
  {
   "cell_type": "code",
   "execution_count": 25,
   "id": "a467f55f",
   "metadata": {},
   "outputs": [
    {
     "name": "stdout",
     "output_type": "stream",
     "text": [
      "11/1/2000\n"
     ]
    }
   ],
   "source": [
    "print(11,1,2000,sep=\"/\")"
   ]
  },
  {
   "cell_type": "code",
   "execution_count": 28,
   "id": "4fee1bdf",
   "metadata": {},
   "outputs": [
    {
     "name": "stdout",
     "output_type": "stream",
     "text": [
      "Fehmi ==> Ebru ==> Orkun ==> Ruzgar ==> Boncuk ==> Alex\n"
     ]
    }
   ],
   "source": [
    "print(\"Fehmi\",\"Ebru\",\"Orkun\",\"Ruzgar\",\"Boncuk\",\"Alex\",sep = \" ==> \")"
   ]
  },
  {
   "cell_type": "code",
   "execution_count": 30,
   "id": "512b5e0f",
   "metadata": {},
   "outputs": [
    {
     "name": "stdout",
     "output_type": "stream",
     "text": [
      " Fehmi \n",
      " Ebru \n",
      " Orkun \n",
      " Ruzgar \n",
      " Boncuk \n",
      " Alex\n"
     ]
    }
   ],
   "source": [
    "print(\" Fehmi\",\"Ebru\",\"Orkun\",\"Ruzgar\",\"Boncuk\",\"Alex\",sep = \" \\n \")"
   ]
  },
  {
   "cell_type": "code",
   "execution_count": 31,
   "id": "43712015",
   "metadata": {},
   "outputs": [
    {
     "name": "stdout",
     "output_type": "stream",
     "text": [
      "08/01/2000\n"
     ]
    }
   ],
   "source": [
    "print(\"08\",\"01\",\"2000\", sep = \"/\")"
   ]
  },
  {
   "cell_type": "code",
   "execution_count": 32,
   "id": "66e61dd1",
   "metadata": {},
   "outputs": [
    {
     "name": "stdout",
     "output_type": "stream",
     "text": [
      "P y t h o n\n"
     ]
    }
   ],
   "source": [
    "# bir diğer kullanım şekli ise ==> \n",
    "# yıldızlı parametlerdir bunlar ise \n",
    "print(*\"Python\")"
   ]
  },
  {
   "cell_type": "code",
   "execution_count": 33,
   "id": "4126e195",
   "metadata": {},
   "outputs": [
    {
     "name": "stdout",
     "output_type": "stream",
     "text": [
      "P/y/t/h/o/n\n"
     ]
    }
   ],
   "source": [
    "print(*\"Python\",sep=\"/\")"
   ]
  },
  {
   "cell_type": "code",
   "execution_count": 34,
   "id": "51e524a7",
   "metadata": {},
   "outputs": [
    {
     "name": "stdout",
     "output_type": "stream",
     "text": [
      "T.B.M.M\n"
     ]
    }
   ],
   "source": [
    "print(\"T\",\"B\",\"M\",\"M\",sep=\".\")"
   ]
  },
  {
   "cell_type": "code",
   "execution_count": 36,
   "id": "3b38f30f",
   "metadata": {},
   "outputs": [
    {
     "name": "stdout",
     "output_type": "stream",
     "text": [
      "T.B.M.M\n"
     ]
    }
   ],
   "source": [
    "#yıldızlı parametre ve sep parametresi yardımıyla aralarına nokta koyabildik gördüğümüz gibi... \n",
    "print(*\"TBMM\",sep=\".\")"
   ]
  },
  {
   "cell_type": "code",
   "execution_count": 39,
   "id": "45d83b60",
   "metadata": {},
   "outputs": [
    {
     "data": {
      "text/plain": [
       "'13 7 9'"
      ]
     },
     "execution_count": 39,
     "metadata": {},
     "output_type": "execute_result"
    }
   ],
   "source": [
    "# bir diğer konu ise stringlerde form atlama olarak görülmektedir... \n",
    "# stringlerde formatlama yapılırken {} bu parantezler ve format fonksiyonu kullanılır...\n",
    "a=13\n",
    "b=7\n",
    "c=9\n",
    "\"{} {} {}\".format(a,b,c)"
   ]
  },
  {
   "cell_type": "code",
   "execution_count": 41,
   "id": "7d9e6eed",
   "metadata": {},
   "outputs": [
    {
     "name": "stdout",
     "output_type": "stream",
     "text": [
      "7 ve 11 sayılarının toplamı =>> 18 sayısıdır\n"
     ]
    }
   ],
   "source": [
    "i = 7\n",
    "t = 11\n",
    "print(\"{} ve {} sayılarının toplamı =>> {} sayısıdır\".format(i,t,i+t))"
   ]
  },
  {
   "cell_type": "code",
   "execution_count": 42,
   "id": "e2f27c0b",
   "metadata": {},
   "outputs": [
    {
     "data": {
      "text/plain": [
       "'Orkun beş yaşında'"
      ]
     },
     "execution_count": 42,
     "metadata": {},
     "output_type": "execute_result"
    }
   ],
   "source": [
    "# süslü parantezlerin içine indeks yerleştirerekte yazdırabiliriz \n",
    "\"{0} {2} {1}\".format(\"Orkun\",\"yaşında\",\"beş\")"
   ]
  },
  {
   "cell_type": "code",
   "execution_count": 43,
   "id": "d80865fb",
   "metadata": {},
   "outputs": [],
   "source": [
    "# ondalıklı sayılara bu işlemi yaparken sadece belirli decimalleri aldırabiliriz bu kullanımlarla... "
   ]
  },
  {
   "cell_type": "code",
   "execution_count": 47,
   "id": "b0d7b38c",
   "metadata": {},
   "outputs": [
    {
     "data": {
      "text/plain": [
       "'3.13 7.124 17.1'"
      ]
     },
     "execution_count": 47,
     "metadata": {},
     "output_type": "execute_result"
    }
   ],
   "source": [
    "\"{:.2f} {:.3f} {:.1f}\".format(3.13,7.124324,17.12312)"
   ]
  },
  {
   "cell_type": "code",
   "execution_count": null,
   "id": "cad8d268",
   "metadata": {},
   "outputs": [],
   "source": []
  }
 ],
 "metadata": {
  "kernelspec": {
   "display_name": "Python 3",
   "language": "python",
   "name": "python3"
  },
  "language_info": {
   "codemirror_mode": {
    "name": "ipython",
    "version": 3
   },
   "file_extension": ".py",
   "mimetype": "text/x-python",
   "name": "python",
   "nbconvert_exporter": "python",
   "pygments_lexer": "ipython3",
   "version": "3.8.8"
  }
 },
 "nbformat": 4,
 "nbformat_minor": 5
}
