{
 "cells": [
  {
   "cell_type": "code",
   "execution_count": 1,
   "id": "6b915806",
   "metadata": {},
   "outputs": [],
   "source": [
    "#intheritance yani kalıtım bir sınıfın başka bir sınıfın özelliklerini miras alması işlemine verilen isimdir... \n",
    "# başka bir class'dan miras alma işlemine intharitance yani kalıtım adı verilmektedir...\n",
    "# örneğin bir program yazarken bir tane ana class tanımlayıp diğerlerine buradan kalıtım almasına yarar\n",
    "# "
   ]
  },
  {
   "cell_type": "code",
   "execution_count": 15,
   "id": "48176120",
   "metadata": {},
   "outputs": [],
   "source": [
    "class Çalışan():# bu class bizim ana class'ımızdır...\n",
    "    def __init__(self,isim,maaş,departman):\n",
    "        print(\"Çalışan class'ının init fonksiyonu ççalıştırılıyor....\")\n",
    "        self.isim=isim\n",
    "        self.maaş=maaş\n",
    "        self.departman = departman\n",
    "    def bilgilerigöster(self):\n",
    "        print(\"Çalışan sınıfının bilgileri==>\\n\")\n",
    "        print(\"İSİM : {}\\nMAAŞ : {}\\nDEPARTMAN : {}\".format(self.isim,self.maaş,self.departman))\n",
    "    def departman_değiştir(self,yeni_departman):\n",
    "        self.departman = yeni_departman\n",
    "        \n",
    "    "
   ]
  },
  {
   "cell_type": "code",
   "execution_count": 16,
   "id": "d2e68395",
   "metadata": {},
   "outputs": [],
   "source": [
    "# şimdi çalışan class'ını oluşturduk ama biz başka bir class oluşturarak bu metotları miras alacağaız...\n",
    "class Yönetici(Çalışan):#görüldüğü üzere çalışan class'ından miras alındı...\n",
    "    pass"
   ]
  },
  {
   "cell_type": "code",
   "execution_count": 17,
   "id": "1e883d91",
   "metadata": {},
   "outputs": [
    {
     "name": "stdout",
     "output_type": "stream",
     "text": [
      "Çalışan class'ının init fonksiyonu ççalıştırılıyor....\n"
     ]
    }
   ],
   "source": [
    "yönetici = Yönetici(\"BAYRAM ORKUN ORULLUOĞLU\",7000,\"Electrical Engineering\")"
   ]
  },
  {
   "cell_type": "code",
   "execution_count": 18,
   "id": "ef666528",
   "metadata": {},
   "outputs": [
    {
     "name": "stdout",
     "output_type": "stream",
     "text": [
      "Çalışan sınıfının bilgileri==>\n",
      "\n",
      "İSİM : BAYRAM ORKUN ORULLUOĞLU\n",
      "MAAŞ : 7000\n",
      "DEPARTMAN : Electrical Engineering\n"
     ]
    }
   ],
   "source": [
    "yönetici.bilgilerigöster()"
   ]
  },
  {
   "cell_type": "code",
   "execution_count": 19,
   "id": "4689a069",
   "metadata": {},
   "outputs": [],
   "source": [
    "yönetici.departman_değiştir(\"İnsan kaynakları\")"
   ]
  },
  {
   "cell_type": "code",
   "execution_count": 20,
   "id": "a0c0f4b0",
   "metadata": {},
   "outputs": [
    {
     "name": "stdout",
     "output_type": "stream",
     "text": [
      "Çalışan sınıfının bilgileri==>\n",
      "\n",
      "İSİM : BAYRAM ORKUN ORULLUOĞLU\n",
      "MAAŞ : 7000\n",
      "DEPARTMAN : İnsan kaynakları\n"
     ]
    }
   ],
   "source": [
    "yönetici.bilgilerigöster()"
   ]
  },
  {
   "cell_type": "code",
   "execution_count": 21,
   "id": "5612057a",
   "metadata": {},
   "outputs": [
    {
     "data": {
      "text/plain": [
       "['__class__',\n",
       " '__delattr__',\n",
       " '__dict__',\n",
       " '__dir__',\n",
       " '__doc__',\n",
       " '__eq__',\n",
       " '__format__',\n",
       " '__ge__',\n",
       " '__getattribute__',\n",
       " '__gt__',\n",
       " '__hash__',\n",
       " '__init__',\n",
       " '__init_subclass__',\n",
       " '__le__',\n",
       " '__lt__',\n",
       " '__module__',\n",
       " '__ne__',\n",
       " '__new__',\n",
       " '__reduce__',\n",
       " '__reduce_ex__',\n",
       " '__repr__',\n",
       " '__setattr__',\n",
       " '__sizeof__',\n",
       " '__str__',\n",
       " '__subclasshook__',\n",
       " '__weakref__',\n",
       " 'bilgilerigöster',\n",
       " 'departman',\n",
       " 'departman_değiştir',\n",
       " 'isim',\n",
       " 'maaş']"
      ]
     },
     "execution_count": 21,
     "metadata": {},
     "output_type": "execute_result"
    }
   ],
   "source": [
    "# görüldüğü üzere sadece miras alarak bunların tamamına sahip olmuş olduk...\n",
    "dir(yönetici)"
   ]
  },
  {
   "cell_type": "code",
   "execution_count": 23,
   "id": "38972841",
   "metadata": {},
   "outputs": [],
   "source": [
    "class Yönetici(Çalışan):#görüldüğü üzere çalışan class'ından miras alındı...\n",
    "    def zam_yap(self,zam_miktarı):\n",
    "        self.maaş += zam_miktarı"
   ]
  },
  {
   "cell_type": "code",
   "execution_count": 24,
   "id": "3affcd17",
   "metadata": {},
   "outputs": [
    {
     "name": "stdout",
     "output_type": "stream",
     "text": [
      "Çalışan class'ının init fonksiyonu ççalıştırılıyor....\n"
     ]
    }
   ],
   "source": [
    "yönetici = Yönetici(\"Serhat Say \",3500,\"Temizlik\")"
   ]
  },
  {
   "cell_type": "code",
   "execution_count": 25,
   "id": "7392f6d0",
   "metadata": {},
   "outputs": [],
   "source": [
    "yönetici.zam_yap(127)"
   ]
  },
  {
   "cell_type": "code",
   "execution_count": 26,
   "id": "9161ac71",
   "metadata": {},
   "outputs": [
    {
     "name": "stdout",
     "output_type": "stream",
     "text": [
      "Çalışan sınıfının bilgileri==>\n",
      "\n",
      "İSİM : Serhat Say \n",
      "MAAŞ : 3627\n",
      "DEPARTMAN : Temizlik\n"
     ]
    }
   ],
   "source": [
    "yönetici.bilgilerigöster()"
   ]
  },
  {
   "cell_type": "code",
   "execution_count": 27,
   "id": "484d3a89",
   "metadata": {},
   "outputs": [],
   "source": [
    "\"\"\"\n",
    "OVERRİDİNG(İPTAL ETME) : bu konuya bakacak olursak => eğer biz miras aldığımız metodalrı aynı isimle tekrar tanımlarsak ,\n",
    "artık bu metodu çağırdığımızda miras aldığımız değil kendimiz yazdığımız metod çalışacaktır... \n",
    "-> yani metodlardan bir tanesi iptal edilmiş oluyor...\n",
    "\n",
    "\"\"\"\n",
    "g=0"
   ]
  },
  {
   "cell_type": "code",
   "execution_count": 28,
   "id": "9a52e9e1",
   "metadata": {},
   "outputs": [],
   "source": [
    "class Çalışan():# bu class bizim ana class'ımızdır...\n",
    "    def __init__(self,isim,maaş,departman):\n",
    "        print(\"Çalışan class'ının init fonksiyonu ççalıştırılıyor....\")\n",
    "        self.isim=isim\n",
    "        self.maaş=maaş\n",
    "        self.departman = departman\n",
    "    def bilgilerigöster(self):\n",
    "        print(\"Çalışan sınıfının bilgileri==>\\n\")\n",
    "        print(\"İSİM : {}\\nMAAŞ : {}\\nDEPARTMAN : {}\".format(self.isim,self.maaş,self.departman))\n",
    "    def departman_değiştir(self,yeni_departman):\n",
    "        self.departman = yeni_departman\n",
    "        "
   ]
  },
  {
   "cell_type": "code",
   "execution_count": 39,
   "id": "b0330a79",
   "metadata": {},
   "outputs": [],
   "source": [
    "class Yönetici(Çalışan): # init fonksiyonu yeniden burada tanımlamamız gerekiyor...\n",
    "    def __init__(self,isim,maaş,departman,kişi_sayısı):\n",
    "        print(\"Yönetici class'ının init fonksiyonu ççalıştırılıyor....\")\n",
    "        self.isim=isim\n",
    "        self.maaş=maaş\n",
    "        self.departman = departman\n",
    "        self.kişi_sayısı=kişi_sayısı\n",
    "    def bilgilerigöster(self):\n",
    "        print(\"Yönetici sınıfının bilgileri==>\\n\")\n",
    "        print(\"İSİM : {}\\nMAAŞ : {}\\nDEPARTMAN : {}\\nKİŞİ SAYISI : {}\\n\".format(self.isim,self.maaş,self.departman,self.kişi_sayısı))\n",
    "    def zam_yap(self,zam_miktarı):\n",
    "        self.maaş += zam_miktarı"
   ]
  },
  {
   "cell_type": "code",
   "execution_count": 40,
   "id": "1038da28",
   "metadata": {},
   "outputs": [
    {
     "name": "stdout",
     "output_type": "stream",
     "text": [
      "Yönetici class'ının init fonksiyonu ççalıştırılıyor....\n"
     ]
    }
   ],
   "source": [
    "yönetici = Yönetici(\"Orkun Orulluoğlu\",7000,\"Engineering\",100)"
   ]
  },
  {
   "cell_type": "code",
   "execution_count": 41,
   "id": "2c685694",
   "metadata": {},
   "outputs": [
    {
     "name": "stdout",
     "output_type": "stream",
     "text": [
      "Yönetici sınıfının bilgileri==>\n",
      "\n",
      "İSİM : Orkun Orulluoğlu\n",
      "MAAŞ : 7000\n",
      "DEPARTMAN : Engineering\n",
      "KİŞİ SAYISI : 100\n",
      "\n"
     ]
    }
   ],
   "source": [
    "yönetici.bilgilerigöster()"
   ]
  },
  {
   "cell_type": "code",
   "execution_count": 42,
   "id": "de65c06f",
   "metadata": {},
   "outputs": [],
   "source": [
    "\"\"\"\n",
    "SÜPER ANAHTAR KELİMESİ : bu özellik özellikle override ettiğimiz bir metodun içinde aynı zamanda miras aldığımız bir metodu kul-\n",
    "lanmak istersek kullanılabilir.\n",
    "yanni super en genel anlamıyla miras aldığımız sınıfın metotlarını alt sınıflardan kullanmamızı sağlayan anahtar kelimedir.\n",
    "\"\"\"\n",
    "g = 0"
   ]
  },
  {
   "cell_type": "code",
   "execution_count": 2,
   "id": "cab61b3e",
   "metadata": {},
   "outputs": [],
   "source": [
    "class Çalışan():# bu class bizim ana class'ımızdır...\n",
    "    def __init__(self,isim,maaş,departman):\n",
    "        print(\"Çalışan class'ının init fonksiyonu ççalıştırılıyor....\")\n",
    "        self.isim=isim\n",
    "        self.maaş=maaş\n",
    "        self.departman = departman\n",
    "    def bilgilerigöster(self):\n",
    "        print(\"Çalışan sınıfının bilgileri==>\\n\")\n",
    "        print(\"İSİM : {}\\nMAAŞ : {}\\nDEPARTMAN : {}\".format(self.isim,self.maaş,self.departman))\n",
    "    def departman_değiştir(self,yeni_departman):\n",
    "        self.departman = yeni_departman"
   ]
  },
  {
   "cell_type": "code",
   "execution_count": 3,
   "id": "d4b4905d",
   "metadata": {},
   "outputs": [],
   "source": [
    "class Yönetici(Çalışan): # init fonksiyonu yeniden burada tanımlamamız gerekiyor...\n",
    "    def __init__(self,isim,maaş,departman,kişi_sayısı):\n",
    "        print(\"Yönetici class'ının init fonksiyonu ççalıştırılıyor....\")\n",
    "        self.isim=isim\n",
    "        self.maaş=maaş\n",
    "        self.departman = departman\n",
    "        self.kişi_sayısı=kişi_sayısı\n",
    "    def bilgilerigöster(self):\n",
    "        print(\"Yönetici sınıfının bilgileri==>\\n\")\n",
    "        print(\"İSİM : {}\\nMAAŞ : {}\\nDEPARTMAN : {}\\nKİŞİ SAYISI : {}\\n\".format(self.isim,self.maaş,self.departman,self.kişi_sayısı))\n",
    "    def zam_yap(self,zam_miktarı):\n",
    "        self.maaş += zam_miktarı"
   ]
  },
  {
   "cell_type": "code",
   "execution_count": 4,
   "id": "d60d022c",
   "metadata": {},
   "outputs": [],
   "source": [
    "\"\"\"\n",
    "SUPER anahtar kelimesine bakacak olursak : \n",
    "SUPER anahtar kelimesi özellikle override ettiğimiz bir metodun içerisinde aynı zamanda miras aldığımız bir metodu kullanmak \n",
    "istersek super anahtar kelimesini kullanırız\n",
    "   Yani super en genel anlamıyla miras aldığımız sınıfın metodlarını alt sınıflardan kullanmamızı sağlar \n",
    "\"\"\"\n",
    "g = 0"
   ]
  },
  {
   "cell_type": "code",
   "execution_count": 5,
   "id": "86db5d74",
   "metadata": {},
   "outputs": [],
   "source": [
    "class Çalışan():# bu class bizim ana class'ımızdır...\n",
    "    def __init__(self,isim,maaş,departman):\n",
    "        print(\"Çalışan class'ının init fonksiyonu ççalıştırılıyor....\")\n",
    "        self.isim=isim\n",
    "        self.maaş=maaş\n",
    "        self.departman = departman\n",
    "    def bilgilerigöster(self):\n",
    "        print(\"Çalışan sınıfının bilgileri==>\\n\")\n",
    "        print(\"İSİM : {}\\nMAAŞ : {}\\nDEPARTMAN : {}\".format(self.isim,self.maaş,self.departman))\n",
    "    def departman_değiştir(self,yeni_departman):\n",
    "        self.departman = yeni_departman"
   ]
  },
  {
   "cell_type": "code",
   "execution_count": 7,
   "id": "dcffe31c",
   "metadata": {},
   "outputs": [],
   "source": [
    "class Yönetici(Çalışan): # init fonksiyonu yeniden burada tanımlamamız gerekiyor...\n",
    "    def __init__(self,isim,maaş,departman,kişi_sayısı):\n",
    "        super().__init__(isim,maaş,departman) # böylelikle extra hepsini tekrar yazmamıza gerek kalmadı...\n",
    "        print(\"Yönetici class'ının init fonksiyonu ççalıştırılıyor....\")\n",
    "        \n",
    "        self.kişi_sayısı=kişi_sayısı\n",
    "    def bilgilerigöster(self):\n",
    "        print(\"Yönetici sınıfının bilgileri==>\\n\")\n",
    "        print(\"İSİM : {}\\nMAAŞ : {}\\nDEPARTMAN : {}\\nKİŞİ SAYISI : {}\\n\".format(self.isim,self.maaş,self.departman,self.kişi_sayısı))\n",
    "    def zam_yap(self,zam_miktarı):\n",
    "        self.maaş += zam_miktarı"
   ]
  },
  {
   "cell_type": "code",
   "execution_count": 8,
   "id": "8b7e982a",
   "metadata": {},
   "outputs": [
    {
     "name": "stdout",
     "output_type": "stream",
     "text": [
      "Çalışan class'ının init fonksiyonu ççalıştırılıyor....\n",
      "Yönetici class'ının init fonksiyonu ççalıştırılıyor....\n"
     ]
    }
   ],
   "source": [
    "yönetici = Yönetici(\"Orkun Orulluoğlu\",7000,\"Engineer\",100)"
   ]
  },
  {
   "cell_type": "code",
   "execution_count": 9,
   "id": "1a12b78c",
   "metadata": {},
   "outputs": [
    {
     "name": "stdout",
     "output_type": "stream",
     "text": [
      "Yönetici sınıfının bilgileri==>\n",
      "\n",
      "İSİM : Orkun Orulluoğlu\n",
      "MAAŞ : 7000\n",
      "DEPARTMAN : Engineer\n",
      "KİŞİ SAYISI : 100\n",
      "\n"
     ]
    }
   ],
   "source": [
    "# görüldüğü üzere her ikisini de çalıştırdı böylelikle...\n",
    "yönetici.bilgilerigöster()"
   ]
  },
  {
   "cell_type": "code",
   "execution_count": 4,
   "id": "784adb7b",
   "metadata": {},
   "outputs": [
    {
     "ename": "ValueError",
     "evalue": "too many values to unpack (expected 2)",
     "output_type": "error",
     "traceback": [
      "\u001b[1;31m---------------------------------------------------------------------------\u001b[0m",
      "\u001b[1;31mValueError\u001b[0m                                Traceback (most recent call last)",
      "\u001b[1;32m<ipython-input-4-70ceb3a4ef92>\u001b[0m in \u001b[0;36m<module>\u001b[1;34m\u001b[0m\n\u001b[0;32m      1\u001b[0m \u001b[0mliste1\u001b[0m \u001b[1;33m=\u001b[0m \u001b[1;33m[\u001b[0m\u001b[1;36m1\u001b[0m\u001b[1;33m,\u001b[0m\u001b[1;36m2\u001b[0m\u001b[1;33m,\u001b[0m\u001b[1;36m3\u001b[0m\u001b[1;33m,\u001b[0m\u001b[1;36m4\u001b[0m\u001b[1;33m,\u001b[0m\u001b[1;36m5\u001b[0m\u001b[1;33m]\u001b[0m\u001b[1;33m\u001b[0m\u001b[1;33m\u001b[0m\u001b[0m\n\u001b[0;32m      2\u001b[0m \u001b[0mliste2\u001b[0m \u001b[1;33m=\u001b[0m \u001b[1;33m[\u001b[0m\u001b[1;36m6\u001b[0m\u001b[1;33m,\u001b[0m\u001b[1;36m7\u001b[0m\u001b[1;33m,\u001b[0m\u001b[1;36m8\u001b[0m\u001b[1;33m,\u001b[0m\u001b[1;36m9\u001b[0m\u001b[1;33m,\u001b[0m\u001b[1;36m10\u001b[0m\u001b[1;33m]\u001b[0m\u001b[1;33m\u001b[0m\u001b[1;33m\u001b[0m\u001b[0m\n\u001b[1;32m----> 3\u001b[1;33m \u001b[1;32mfor\u001b[0m \u001b[0mi\u001b[0m\u001b[1;33m,\u001b[0m\u001b[0mj\u001b[0m \u001b[1;32min\u001b[0m \u001b[0mliste1\u001b[0m\u001b[1;33m,\u001b[0m\u001b[0mliste2\u001b[0m\u001b[1;33m:\u001b[0m\u001b[1;33m\u001b[0m\u001b[1;33m\u001b[0m\u001b[0m\n\u001b[0m\u001b[0;32m      4\u001b[0m     \u001b[0mprint\u001b[0m\u001b[1;33m(\u001b[0m\u001b[0mi\u001b[0m\u001b[1;33m*\u001b[0m\u001b[0mj\u001b[0m\u001b[1;33m)\u001b[0m\u001b[1;33m\u001b[0m\u001b[1;33m\u001b[0m\u001b[0m\n",
      "\u001b[1;31mValueError\u001b[0m: too many values to unpack (expected 2)"
     ]
    }
   ],
   "source": [
    "liste1 = [1,2,3,4,5]\n",
    "liste2 = [6,7,8,9,10]\n",
    "for i,j in liste1,liste2:\n",
    "    print(i*j)"
   ]
  },
  {
   "cell_type": "code",
   "execution_count": null,
   "id": "e32a41e0",
   "metadata": {},
   "outputs": [],
   "source": []
  }
 ],
 "metadata": {
  "kernelspec": {
   "display_name": "Python 3",
   "language": "python",
   "name": "python3"
  },
  "language_info": {
   "codemirror_mode": {
    "name": "ipython",
    "version": 3
   },
   "file_extension": ".py",
   "mimetype": "text/x-python",
   "name": "python",
   "nbconvert_exporter": "python",
   "pygments_lexer": "ipython3",
   "version": "3.8.8"
  }
 },
 "nbformat": 4,
 "nbformat_minor": 5
}
