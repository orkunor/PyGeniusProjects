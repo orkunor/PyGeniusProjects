{
 "cells": [
  {
   "cell_type": "code",
   "execution_count": 1,
   "id": "eb864302",
   "metadata": {},
   "outputs": [],
   "source": [
    "# bu dersimizde ise demetler(tuplelar) adı verilen yapıyı öğrenmeye çalışacağız..."
   ]
  },
  {
   "cell_type": "code",
   "execution_count": 2,
   "id": "5b86f1d8",
   "metadata": {},
   "outputs": [],
   "source": [
    "# demetler listelere çok fazla benzerler fakat listelerden en temel farkları ise demetler değiştirilemezler...\n",
    "# listeler üzerinde değişiklikler yapabiliriz fakat demetler üzreinde herhangi bir değişiklik yapamayız...."
   ]
  },
  {
   "cell_type": "code",
   "execution_count": 3,
   "id": "e9245f72",
   "metadata": {},
   "outputs": [],
   "source": [
    "\"\"\"\n",
    "demetlerin temel mantığı ise eğer bir programın içerisinde değiştirilmeyecek temel veriler var ise biz bunu demet içerisinde\n",
    "tutabiliriz\n",
    "\"\"\"\n",
    "a = 0"
   ]
  },
  {
   "cell_type": "code",
   "execution_count": 4,
   "id": "2d06d075",
   "metadata": {},
   "outputs": [],
   "source": [
    "demet = (1,2,3,4,5,6,7)"
   ]
  },
  {
   "cell_type": "code",
   "execution_count": 5,
   "id": "88f4a566",
   "metadata": {},
   "outputs": [
    {
     "data": {
      "text/plain": [
       "tuple"
      ]
     },
     "execution_count": 5,
     "metadata": {},
     "output_type": "execute_result"
    }
   ],
   "source": [
    "type(demet)"
   ]
  },
  {
   "cell_type": "code",
   "execution_count": 6,
   "id": "7ad93474",
   "metadata": {},
   "outputs": [
    {
     "data": {
      "text/plain": [
       "1"
      ]
     },
     "execution_count": 6,
     "metadata": {},
     "output_type": "execute_result"
    }
   ],
   "source": [
    "#yine tıpkı listelerdeki gibi demetlerin de elemanlarına ulaşabiliriz... \n",
    "demet[0]"
   ]
  },
  {
   "cell_type": "code",
   "execution_count": 7,
   "id": "c2c629f2",
   "metadata": {},
   "outputs": [
    {
     "data": {
      "text/plain": [
       "4"
      ]
     },
     "execution_count": 7,
     "metadata": {},
     "output_type": "execute_result"
    }
   ],
   "source": [
    "demet[3]"
   ]
  },
  {
   "cell_type": "code",
   "execution_count": 8,
   "id": "39fa4ee4",
   "metadata": {},
   "outputs": [
    {
     "data": {
      "text/plain": [
       "7"
      ]
     },
     "execution_count": 8,
     "metadata": {},
     "output_type": "execute_result"
    }
   ],
   "source": [
    "demet[-1]"
   ]
  },
  {
   "cell_type": "code",
   "execution_count": 11,
   "id": "707f14ba",
   "metadata": {},
   "outputs": [
    {
     "data": {
      "text/plain": [
       "1"
      ]
     },
     "execution_count": 11,
     "metadata": {},
     "output_type": "execute_result"
    }
   ],
   "source": [
    "demet[0]"
   ]
  },
  {
   "cell_type": "code",
   "execution_count": 12,
   "id": "6820885b",
   "metadata": {},
   "outputs": [
    {
     "data": {
      "text/plain": [
       "7"
      ]
     },
     "execution_count": 12,
     "metadata": {},
     "output_type": "execute_result"
    }
   ],
   "source": [
    "len(demet)"
   ]
  },
  {
   "cell_type": "code",
   "execution_count": 13,
   "id": "14af956f",
   "metadata": {},
   "outputs": [
    {
     "data": {
      "text/plain": [
       "7"
      ]
     },
     "execution_count": 13,
     "metadata": {},
     "output_type": "execute_result"
    }
   ],
   "source": [
    "demet[6]"
   ]
  },
  {
   "cell_type": "code",
   "execution_count": 14,
   "id": "ab3740b0",
   "metadata": {},
   "outputs": [
    {
     "data": {
      "text/plain": [
       "(1, 2, 3)"
      ]
     },
     "execution_count": 14,
     "metadata": {},
     "output_type": "execute_result"
    }
   ],
   "source": [
    "demet[:3]"
   ]
  },
  {
   "cell_type": "code",
   "execution_count": 15,
   "id": "1608f55f",
   "metadata": {},
   "outputs": [
    {
     "data": {
      "text/plain": [
       "(7, 6, 5, 4, 3, 2, 1)"
      ]
     },
     "execution_count": 15,
     "metadata": {},
     "output_type": "execute_result"
    }
   ],
   "source": [
    "demet[::-1]"
   ]
  },
  {
   "cell_type": "code",
   "execution_count": 16,
   "id": "801f983b",
   "metadata": {},
   "outputs": [],
   "source": [
    "# demetlerin diziler kadar çok özellikleri yoktur çünkü demetler listeler gibi değiştirilemezler...\n"
   ]
  },
  {
   "cell_type": "code",
   "execution_count": 17,
   "id": "bb7cbf1b",
   "metadata": {},
   "outputs": [],
   "source": [
    "t = (1,1,1,1,1,2,2,2,3,3,3,4,5,6,6)"
   ]
  },
  {
   "cell_type": "code",
   "execution_count": 18,
   "id": "5ede4d78",
   "metadata": {},
   "outputs": [],
   "source": [
    "# count fonksiyonu sayesinde demetlerin içerisindeki verilerin tekrar etme sayılarına bakacağız..."
   ]
  },
  {
   "cell_type": "code",
   "execution_count": 19,
   "id": "a3b30243",
   "metadata": {},
   "outputs": [
    {
     "data": {
      "text/plain": [
       "5"
      ]
     },
     "execution_count": 19,
     "metadata": {},
     "output_type": "execute_result"
    }
   ],
   "source": [
    "t.count(1)"
   ]
  },
  {
   "cell_type": "code",
   "execution_count": 20,
   "id": "0147eb3b",
   "metadata": {},
   "outputs": [
    {
     "data": {
      "text/plain": [
       "2"
      ]
     },
     "execution_count": 20,
     "metadata": {},
     "output_type": "execute_result"
    }
   ],
   "source": [
    "t.count(6)"
   ]
  },
  {
   "cell_type": "code",
   "execution_count": 21,
   "id": "56ef2264",
   "metadata": {},
   "outputs": [],
   "source": [
    "# demetlerde kullanılan bir diğer fonksiyon ise index fonksiyonudur =>>"
   ]
  },
  {
   "cell_type": "code",
   "execution_count": 25,
   "id": "01db26e6",
   "metadata": {},
   "outputs": [
    {
     "data": {
      "text/plain": [
       "0"
      ]
     },
     "execution_count": 25,
     "metadata": {},
     "output_type": "execute_result"
    }
   ],
   "source": [
    "i = (\"Python\",\"Php\",\"Java\",\"C\",67)\n",
    "i.index(\"Python\")"
   ]
  },
  {
   "cell_type": "code",
   "execution_count": 26,
   "id": "327918cc",
   "metadata": {},
   "outputs": [
    {
     "data": {
      "text/plain": [
       "2"
      ]
     },
     "execution_count": 26,
     "metadata": {},
     "output_type": "execute_result"
    }
   ],
   "source": [
    "#görüldüğü üzere bu fonksiyon yardımıyla kaçıncı index'te olduğunu bulabiliyoruz... \n",
    "i.index(\"Java\")"
   ]
  },
  {
   "cell_type": "code",
   "execution_count": 27,
   "id": "ed578c76",
   "metadata": {},
   "outputs": [
    {
     "data": {
      "text/plain": [
       "4"
      ]
     },
     "execution_count": 27,
     "metadata": {},
     "output_type": "execute_result"
    }
   ],
   "source": [
    "i.index(67)"
   ]
  },
  {
   "cell_type": "code",
   "execution_count": 28,
   "id": "2cc3319e",
   "metadata": {},
   "outputs": [
    {
     "data": {
      "text/plain": [
       "5"
      ]
     },
     "execution_count": 28,
     "metadata": {},
     "output_type": "execute_result"
    }
   ],
   "source": [
    "len(i)"
   ]
  },
  {
   "cell_type": "code",
   "execution_count": 29,
   "id": "f532f514",
   "metadata": {},
   "outputs": [],
   "source": [
    "# !!! demetler değiştirilemez...\n",
    "e =(1,2,3,4,5,65,7)"
   ]
  },
  {
   "cell_type": "code",
   "execution_count": 30,
   "id": "66f284cc",
   "metadata": {},
   "outputs": [
    {
     "data": {
      "text/plain": [
       "tuple"
      ]
     },
     "execution_count": 30,
     "metadata": {},
     "output_type": "execute_result"
    }
   ],
   "source": [
    "type(e)"
   ]
  },
  {
   "cell_type": "code",
   "execution_count": 31,
   "id": "721b16c8",
   "metadata": {},
   "outputs": [
    {
     "ename": "TypeError",
     "evalue": "'tuple' object does not support item assignment",
     "output_type": "error",
     "traceback": [
      "\u001b[1;31m---------------------------------------------------------------------------\u001b[0m",
      "\u001b[1;31mTypeError\u001b[0m                                 Traceback (most recent call last)",
      "\u001b[1;32m<ipython-input-31-7a632b25b08e>\u001b[0m in \u001b[0;36m<module>\u001b[1;34m\u001b[0m\n\u001b[1;32m----> 1\u001b[1;33m \u001b[0me\u001b[0m\u001b[1;33m[\u001b[0m\u001b[1;33m-\u001b[0m\u001b[1;36m1\u001b[0m\u001b[1;33m]\u001b[0m \u001b[1;33m=\u001b[0m \u001b[1;36m9\u001b[0m\u001b[1;33m\u001b[0m\u001b[1;33m\u001b[0m\u001b[0m\n\u001b[0m",
      "\u001b[1;31mTypeError\u001b[0m: 'tuple' object does not support item assignment"
     ]
    }
   ],
   "source": [
    "e[-1] = 9"
   ]
  },
  {
   "cell_type": "code",
   "execution_count": null,
   "id": "e7e50297",
   "metadata": {},
   "outputs": [],
   "source": [
    "\"\"\"\n",
    "\n",
    "Demetler nerelerde kullanılırlar en önemli nokta budur... \n",
    "\n",
    "==> Demetler değiştirilemez fonksiyonlardır bu yüzden değiştirilmemesi gereken yapılar için demetler kullanılabiliriler\n",
    "==> Demetler değiştirilemediği için listelerden daha hızlı çalışırlar...\n",
    "\n",
    "\"\"\""
   ]
  }
 ],
 "metadata": {
  "kernelspec": {
   "display_name": "Python 3",
   "language": "python",
   "name": "python3"
  },
  "language_info": {
   "codemirror_mode": {
    "name": "ipython",
    "version": 3
   },
   "file_extension": ".py",
   "mimetype": "text/x-python",
   "name": "python",
   "nbconvert_exporter": "python",
   "pygments_lexer": "ipython3",
   "version": "3.8.8"
  }
 },
 "nbformat": 4,
 "nbformat_minor": 5
}
