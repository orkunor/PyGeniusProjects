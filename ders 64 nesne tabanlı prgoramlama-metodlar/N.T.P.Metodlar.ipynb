{
 "cells": [
  {
   "cell_type": "code",
   "execution_count": 1,
   "id": "9dc652ed",
   "metadata": {},
   "outputs": [],
   "source": [
    "# bu videoda ise bir sınıf içerisinde metodlarımızı nasıl tanımlayacağımızı öğrenmeye çalışacağız...\n",
    "# bunun için bir sınıf tanımlayıp bunun içerisine daha önceden belirlediğimiz metodlarımızı atmaya çalışalım...\n",
    "# normal bir şekilde fonksiyon tanımlamaya benzemektedir...\n"
   ]
  },
  {
   "cell_type": "code",
   "execution_count": 7,
   "id": "5d009936",
   "metadata": {},
   "outputs": [],
   "source": [
    "class Yazılımcı():\n",
    "    def __init__(self,isim,soyisim,numara,maaş,diller):\n",
    "        self.isim = isim\n",
    "        self.soyisim = soyisim\n",
    "        self.numara = numara   # yazılımcı objelerinin özellikleri...\n",
    "        self.maaş = maaş\n",
    "        self.diller = diller\n",
    "    def bilgilerigöster(self):#ben bu metodu bir obje üzerine uygulayacağım için ve biz bu objeye ulaşacağımız için mutlaka self\n",
    "        print(\"\"\"\n",
    "        Yazılımcı objesinin özellikler :\n",
    "        \n",
    "        İsim = {}\n",
    "        \n",
    "        Soyisim = {}\n",
    "        \n",
    "        Numara = {}\n",
    "        \n",
    "        Maaş = {}\n",
    "        \n",
    "        Bildiği Diller : {} \n",
    "        \"\"\".format(self.isim,self.soyisim,self.numara,self.maaş,self.diller))\n",
    "    def zam_yap(self,zam_miktarı):\n",
    "        print(\"Zam Yapılıyor...\")\n",
    "        self.maaş += zam_miktarı\n",
    "    def dil_ekle(self,yeni_dil):\n",
    "        print(\"Dil ekleniyor....\")\n",
    "        self.diller.append(yeni_dil)"
   ]
  },
  {
   "cell_type": "code",
   "execution_count": 8,
   "id": "e175b5ff",
   "metadata": {},
   "outputs": [],
   "source": [
    "yazılımcı = Yazılımcı(\"Orkun\",\"Orulluoğlu\",5398450656,1000,[\"Python\",\"C\",\"C++\",\"SQL\"])"
   ]
  },
  {
   "cell_type": "code",
   "execution_count": 9,
   "id": "76da4494",
   "metadata": {},
   "outputs": [
    {
     "data": {
      "text/plain": [
       "<__main__.Yazılımcı at 0x17a4de09460>"
      ]
     },
     "execution_count": 9,
     "metadata": {},
     "output_type": "execute_result"
    }
   ],
   "source": [
    "yazılımcı"
   ]
  },
  {
   "cell_type": "code",
   "execution_count": 10,
   "id": "7abebee3",
   "metadata": {},
   "outputs": [
    {
     "name": "stdout",
     "output_type": "stream",
     "text": [
      "\n",
      "        Yazılımcı objesinin özellikler :\n",
      "        \n",
      "        İsim = Orkun\n",
      "        \n",
      "        Soyisim = Orulluoğlu\n",
      "        \n",
      "        Numara = 5398450656\n",
      "        \n",
      "        Maaş = 1000\n",
      "        \n",
      "        Bildiği Diller : ['Python', 'C', 'C++', 'SQL'] \n",
      "        \n"
     ]
    }
   ],
   "source": [
    "yazılımcı.bilgilerigöster()"
   ]
  },
  {
   "cell_type": "code",
   "execution_count": 11,
   "id": "eab3630e",
   "metadata": {},
   "outputs": [
    {
     "name": "stdout",
     "output_type": "stream",
     "text": [
      "Dil ekleniyor....\n"
     ]
    }
   ],
   "source": [
    "yazılımcı.dil_ekle(\"GoLang\")"
   ]
  },
  {
   "cell_type": "code",
   "execution_count": 15,
   "id": "6e572a66",
   "metadata": {},
   "outputs": [
    {
     "name": "stdout",
     "output_type": "stream",
     "text": [
      "\n",
      "        Yazılımcı objesinin özellikler :\n",
      "        \n",
      "        İsim = Orkun\n",
      "        \n",
      "        Soyisim = Orulluoğlu\n",
      "        \n",
      "        Numara = 5398450656\n",
      "        \n",
      "        Maaş = 1000\n",
      "        \n",
      "        Bildiği Diller : ['Python', 'C', 'C++', 'SQL', 'GoLang'] \n",
      "        \n"
     ]
    }
   ],
   "source": [
    "yazılımcı.bilgilerigöster()"
   ]
  },
  {
   "cell_type": "code",
   "execution_count": 16,
   "id": "4fce8ae6",
   "metadata": {},
   "outputs": [
    {
     "name": "stdout",
     "output_type": "stream",
     "text": [
      "Zam Yapılıyor...\n"
     ]
    }
   ],
   "source": [
    "yazılımcı.zam_yap(7000)"
   ]
  },
  {
   "cell_type": "code",
   "execution_count": 17,
   "id": "d73ed265",
   "metadata": {},
   "outputs": [
    {
     "name": "stdout",
     "output_type": "stream",
     "text": [
      "\n",
      "        Yazılımcı objesinin özellikler :\n",
      "        \n",
      "        İsim = Orkun\n",
      "        \n",
      "        Soyisim = Orulluoğlu\n",
      "        \n",
      "        Numara = 5398450656\n",
      "        \n",
      "        Maaş = 8000\n",
      "        \n",
      "        Bildiği Diller : ['Python', 'C', 'C++', 'SQL', 'GoLang'] \n",
      "        \n"
     ]
    }
   ],
   "source": [
    "yazılımcı.bilgilerigöster()"
   ]
  },
  {
   "cell_type": "code",
   "execution_count": null,
   "id": "0cd3ffa1",
   "metadata": {},
   "outputs": [],
   "source": []
  }
 ],
 "metadata": {
  "kernelspec": {
   "display_name": "Python 3",
   "language": "python",
   "name": "python3"
  },
  "language_info": {
   "codemirror_mode": {
    "name": "ipython",
    "version": 3
   },
   "file_extension": ".py",
   "mimetype": "text/x-python",
   "name": "python",
   "nbconvert_exporter": "python",
   "pygments_lexer": "ipython3",
   "version": "3.8.8"
  }
 },
 "nbformat": 4,
 "nbformat_minor": 5
}
