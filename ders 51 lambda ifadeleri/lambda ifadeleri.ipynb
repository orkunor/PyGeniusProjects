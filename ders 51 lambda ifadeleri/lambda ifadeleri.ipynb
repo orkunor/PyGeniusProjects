{
 "cells": [
  {
   "cell_type": "code",
   "execution_count": 1,
   "id": "e76e1213",
   "metadata": {},
   "outputs": [],
   "source": [
    "# lambda ifadeleri fonksiyonlarımızı oluşturmak için python'da bulunan pratik bir yöntemdir...\n",
    "# önceden list compherension sayesinde tek bir satırda bir tane listeyi tanımlayabiliyorduk...\n",
    "# tek satırda  liste oluşturabildiğimiz list compherensi'a çok benzemektedir...\n",
    "# lambda ifadeleri de tek satırda fonksiyon oluşturabilmektedir..."
   ]
  },
  {
   "cell_type": "code",
   "execution_count": 2,
   "id": "806bf7fe",
   "metadata": {},
   "outputs": [],
   "source": [
    "liste1 = [1,2,3,4,5]\n",
    "\n",
    "liste2 = [i*2 for i in liste1]\n"
   ]
  },
  {
   "cell_type": "code",
   "execution_count": 3,
   "id": "db455430",
   "metadata": {},
   "outputs": [
    {
     "data": {
      "text/plain": [
       "[2, 4, 6, 8, 10]"
      ]
     },
     "execution_count": 3,
     "metadata": {},
     "output_type": "execute_result"
    }
   ],
   "source": [
    "liste2"
   ]
  },
  {
   "cell_type": "code",
   "execution_count": 4,
   "id": "947eb31e",
   "metadata": {},
   "outputs": [
    {
     "name": "stdout",
     "output_type": "stream",
     "text": [
      "6\n"
     ]
    }
   ],
   "source": [
    "def ikiyleçarp(x):\n",
    "    return x * 2\n",
    "print(ikiyleçarp(3))"
   ]
  },
  {
   "cell_type": "code",
   "execution_count": 5,
   "id": "b7fcb44d",
   "metadata": {},
   "outputs": [],
   "source": [
    "# lambda ifadesiyle oluşturuken => \n",
    "ikiyleçarp = lambda x : x * 2 "
   ]
  },
  {
   "cell_type": "code",
   "execution_count": 6,
   "id": "3e7821f6",
   "metadata": {},
   "outputs": [
    {
     "data": {
      "text/plain": [
       "14"
      ]
     },
     "execution_count": 6,
     "metadata": {},
     "output_type": "execute_result"
    }
   ],
   "source": [
    "ikiyleçarp(7)"
   ]
  },
  {
   "cell_type": "code",
   "execution_count": 7,
   "id": "11fe3075",
   "metadata": {},
   "outputs": [],
   "source": [
    "üçletopla = lambda a : a + 3 # görüldüğü üzere genellikle tek kullanımlık fonksiyonlar yazarken lambda ifadeleri oluştururuz"
   ]
  },
  {
   "cell_type": "code",
   "execution_count": 8,
   "id": "6e6401db",
   "metadata": {},
   "outputs": [
    {
     "data": {
      "text/plain": [
       "9"
      ]
     },
     "execution_count": 8,
     "metadata": {},
     "output_type": "execute_result"
    }
   ],
   "source": [
    "üçletopla(6)"
   ]
  },
  {
   "cell_type": "code",
   "execution_count": 9,
   "id": "c3c4530c",
   "metadata": {},
   "outputs": [
    {
     "name": "stdout",
     "output_type": "stream",
     "text": [
      "9\n"
     ]
    }
   ],
   "source": [
    "def toplama(x,y,z):\n",
    "    return x+y+z\n",
    "print(toplama(2,3,4))"
   ]
  },
  {
   "cell_type": "code",
   "execution_count": 10,
   "id": "e365c8e2",
   "metadata": {},
   "outputs": [],
   "source": [
    "toplamaişlemi = lambda a,b,c : a+b+c"
   ]
  },
  {
   "cell_type": "code",
   "execution_count": 11,
   "id": "e87363b6",
   "metadata": {},
   "outputs": [
    {
     "data": {
      "text/plain": [
       "21"
      ]
     },
     "execution_count": 11,
     "metadata": {},
     "output_type": "execute_result"
    }
   ],
   "source": [
    "toplamaişlemi(6,7,8)"
   ]
  },
  {
   "cell_type": "code",
   "execution_count": 12,
   "id": "4ad0ecc7",
   "metadata": {},
   "outputs": [
    {
     "name": "stdout",
     "output_type": "stream",
     "text": [
      "nohtyP\n"
     ]
    }
   ],
   "source": [
    "def tersçevir(s):\n",
    "    return s[::-1]\n",
    "print(tersçevir(\"Python\"))"
   ]
  },
  {
   "cell_type": "code",
   "execution_count": 13,
   "id": "4eeb9258",
   "metadata": {},
   "outputs": [
    {
     "data": {
      "text/plain": [
       "'ulğoullurO nukrO'"
      ]
     },
     "execution_count": 13,
     "metadata": {},
     "output_type": "execute_result"
    }
   ],
   "source": [
    "terss = lambda s : s[::-1]\n",
    "terss(\"Orkun Orulluoğlu\")"
   ]
  },
  {
   "cell_type": "code",
   "execution_count": 14,
   "id": "b3fab735",
   "metadata": {},
   "outputs": [],
   "source": [
    "# lambda ifadeleri küçük fonksiyonları kullanmak için gayet akıllıcadır... \n",
    "# büyük fonksiyonlar yazılacaklarsa lambda ifadeleri kullanılmaz dikkat et. "
   ]
  },
  {
   "cell_type": "code",
   "execution_count": null,
   "id": "cc5f797b",
   "metadata": {},
   "outputs": [],
   "source": []
  }
 ],
 "metadata": {
  "kernelspec": {
   "display_name": "Python 3",
   "language": "python",
   "name": "python3"
  },
  "language_info": {
   "codemirror_mode": {
    "name": "ipython",
    "version": 3
   },
   "file_extension": ".py",
   "mimetype": "text/x-python",
   "name": "python",
   "nbconvert_exporter": "python",
   "pygments_lexer": "ipython3",
   "version": "3.8.8"
  }
 },
 "nbformat": 4,
 "nbformat_minor": 5
}
