{
 "cells": [
  {
   "cell_type": "code",
   "execution_count": 1,
   "id": "8b0b40ec",
   "metadata": {},
   "outputs": [],
   "source": [
    "i = range(1,11)"
   ]
  },
  {
   "cell_type": "code",
   "execution_count": 2,
   "id": "eb0087b2",
   "metadata": {},
   "outputs": [
    {
     "data": {
      "text/plain": [
       "range(1, 11)"
      ]
     },
     "execution_count": 2,
     "metadata": {},
     "output_type": "execute_result"
    }
   ],
   "source": [
    "i"
   ]
  },
  {
   "cell_type": "code",
   "execution_count": 3,
   "id": "1044b0ec",
   "metadata": {},
   "outputs": [
    {
     "name": "stdout",
     "output_type": "stream",
     "text": [
      "range(1, 11)\n"
     ]
    }
   ],
   "source": [
    "print(i)"
   ]
  },
  {
   "cell_type": "code",
   "execution_count": 14,
   "id": "3e0c102d",
   "metadata": {},
   "outputs": [
    {
     "name": "stdout",
     "output_type": "stream",
     "text": [
      "23\n"
     ]
    }
   ],
   "source": [
    "toplam = 0\n",
    "for a in range(1,10):\n",
    "    if a % 3 == 0:\n",
    "        toplam = toplam + a\n",
    "    elif a % 5 == 0:\n",
    "        toplam = toplam + a\n",
    "print(toplam)\n",
    "        "
   ]
  },
  {
   "cell_type": "code",
   "execution_count": 16,
   "id": "fc34fd97",
   "metadata": {},
   "outputs": [
    {
     "name": "stdout",
     "output_type": "stream",
     "text": [
      "233168\n",
      "33165\n"
     ]
    }
   ],
   "source": [
    "# tüm toplamdan ortak olan katsayıların toplamını çıkartırsak sonuca ulaşırız...\n",
    "toplam1 = 0\n",
    "toplam2 = 0 \n",
    "for a in range(1,1000):\n",
    "    if a % 3 == 0:\n",
    "        toplam1 = toplam1 + a\n",
    "    elif a % 5 == 0:\n",
    "        toplam1 = toplam1 + a\n",
    "print(toplam1)\n",
    "\n",
    "for b in range(1,1000):\n",
    "    if b % 15 == 0 : \n",
    "        toplam2 = toplam2 + b\n",
    "print(toplam2)"
   ]
  },
  {
   "cell_type": "code",
   "execution_count": 17,
   "id": "4dc95202",
   "metadata": {},
   "outputs": [
    {
     "name": "stdout",
     "output_type": "stream",
     "text": [
      "60\n"
     ]
    }
   ],
   "source": [
    "toplam = 0\n",
    "for a in range(1,16):\n",
    "    if a % 3 == 0:\n",
    "        toplam = toplam + a\n",
    "    elif a % 5 == 0:\n",
    "        toplam = toplam + a\n",
    "print(toplam)"
   ]
  },
  {
   "cell_type": "code",
   "execution_count": null,
   "id": "b8c6fd26",
   "metadata": {},
   "outputs": [],
   "source": []
  }
 ],
 "metadata": {
  "kernelspec": {
   "display_name": "Python 3",
   "language": "python",
   "name": "python3"
  },
  "language_info": {
   "codemirror_mode": {
    "name": "ipython",
    "version": 3
   },
   "file_extension": ".py",
   "mimetype": "text/x-python",
   "name": "python",
   "nbconvert_exporter": "python",
   "pygments_lexer": "ipython3",
   "version": "3.8.8"
  }
 },
 "nbformat": 4,
 "nbformat_minor": 5
}
