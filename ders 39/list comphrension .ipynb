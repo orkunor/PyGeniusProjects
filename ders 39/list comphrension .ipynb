{
 "cells": [
  {
   "cell_type": "code",
   "execution_count": 1,
   "id": "9c880d8b",
   "metadata": {},
   "outputs": [],
   "source": [
    "# listcompherension ==> \n",
    "# liste üretmek ve oluşturmak için pythonda bulunan pratik bi yöntemdir... \n",
    "# python'da kodlarımızı kısaltmak ve hızlandırmak için kullandığımız çok güzel bi metottur...\n"
   ]
  },
  {
   "cell_type": "code",
   "execution_count": 2,
   "id": "341229db",
   "metadata": {},
   "outputs": [],
   "source": [
    "# append metodunu hatırlayalım öncelikle \n",
    "liste = [1,2,3,4,5]\n",
    "liste.append(7)"
   ]
  },
  {
   "cell_type": "code",
   "execution_count": 3,
   "id": "43ad3a9d",
   "metadata": {},
   "outputs": [
    {
     "data": {
      "text/plain": [
       "[1, 2, 3, 4, 5, 7]"
      ]
     },
     "execution_count": 3,
     "metadata": {},
     "output_type": "execute_result"
    }
   ],
   "source": [
    "liste"
   ]
  },
  {
   "cell_type": "code",
   "execution_count": 4,
   "id": "1eb76d0d",
   "metadata": {},
   "outputs": [
    {
     "name": "stdout",
     "output_type": "stream",
     "text": [
      "[1, 2, 3, 4, 5]\n"
     ]
    }
   ],
   "source": [
    "liste1 = [1,2,3,4,5]\n",
    "liste2 = list()\n",
    "\n",
    "for i in liste1:\n",
    "    liste2.append(i)\n",
    "print(liste2)"
   ]
  },
  {
   "cell_type": "code",
   "execution_count": 5,
   "id": "6542a190",
   "metadata": {},
   "outputs": [
    {
     "data": {
      "text/plain": [
       "[1, 2, 3, 4, 5]"
      ]
     },
     "execution_count": 5,
     "metadata": {},
     "output_type": "execute_result"
    }
   ],
   "source": [
    "# bu kad ar uzun bi kod yazmaktansa list compherension yaparak bu işi bitirebiliriz... \n",
    "# for döngüsü bir liste üzerinde gezinerek bunu diğerinin içerisine atabilecektir...\n",
    "\n",
    "liste3 = [1,2,3,4,5]\n",
    "\n",
    "liste4 = [i for i in liste3]\n",
    "\n",
    "liste4"
   ]
  },
  {
   "cell_type": "code",
   "execution_count": 6,
   "id": "8c2733a3",
   "metadata": {},
   "outputs": [],
   "source": [
    "a = [3,4,5]\n",
    "\n",
    "listeyeni = [i * 2 for i in a]"
   ]
  },
  {
   "cell_type": "code",
   "execution_count": 7,
   "id": "e5f5d913",
   "metadata": {},
   "outputs": [
    {
     "data": {
      "text/plain": [
       "[6, 8, 10]"
      ]
     },
     "execution_count": 7,
     "metadata": {},
     "output_type": "execute_result"
    }
   ],
   "source": [
    "listeyeni"
   ]
  },
  {
   "cell_type": "code",
   "execution_count": 8,
   "id": "a969aa77",
   "metadata": {},
   "outputs": [],
   "source": [
    "liste = [(1,2),(3,4),(5,6)]\n",
    "liste1 = [i*j for i,j in liste]"
   ]
  },
  {
   "cell_type": "code",
   "execution_count": 9,
   "id": "fc8adc9e",
   "metadata": {},
   "outputs": [
    {
     "data": {
      "text/plain": [
       "[2, 12, 30]"
      ]
     },
     "execution_count": 9,
     "metadata": {},
     "output_type": "execute_result"
    }
   ],
   "source": [
    "liste1"
   ]
  },
  {
   "cell_type": "code",
   "execution_count": 10,
   "id": "7a850a26",
   "metadata": {},
   "outputs": [
    {
     "data": {
      "text/plain": [
       "['PPP', 'yyy', 'ttt', 'hhh', 'ooo', 'nnn']"
      ]
     },
     "execution_count": 10,
     "metadata": {},
     "output_type": "execute_result"
    }
   ],
   "source": [
    "s = \"Python\"\n",
    "\n",
    "liste = [i * 3 for i in s]\n",
    "liste"
   ]
  },
  {
   "cell_type": "code",
   "execution_count": 1,
   "id": "8ba23d47",
   "metadata": {},
   "outputs": [],
   "source": [
    "# iç içe listeleri tek bir listeye atarak list compherension şeklinde yapacağız... \n",
    "liste = [[1,2,3],[4,5,6,7,8],[9,10,11,12,13,14,15]]\n",
    "\n",
    "#yeni_liste = [1,2,3,4,5,6,7,8,9,10,11,12,13,14,15]"
   ]
  },
  {
   "cell_type": "code",
   "execution_count": 2,
   "id": "2f72bf0b",
   "metadata": {},
   "outputs": [
    {
     "name": "stdout",
     "output_type": "stream",
     "text": [
      "[1, 2, 3]\n",
      "[4, 5, 6, 7, 8]\n",
      "[9, 10, 11, 12, 13, 14, 15]\n"
     ]
    }
   ],
   "source": [
    "liste = [[1,2,3],[4,5,6,7,8],[9,10,11,12,13,14,15]]\n",
    "for i in liste:\n",
    "    print(i)"
   ]
  },
  {
   "cell_type": "code",
   "execution_count": 3,
   "id": "04bc4b2f",
   "metadata": {},
   "outputs": [
    {
     "name": "stdout",
     "output_type": "stream",
     "text": [
      "1\n",
      "2\n",
      "3\n",
      "4\n",
      "5\n",
      "6\n",
      "7\n",
      "8\n",
      "9\n",
      "10\n",
      "11\n",
      "12\n",
      "13\n",
      "14\n",
      "15\n"
     ]
    }
   ],
   "source": [
    "liste = [[1,2,3],[4,5,6,7,8],[9,10,11,12,13,14,15]]\n",
    "for i in liste:\n",
    "    for x in i:\n",
    "        print(x)"
   ]
  },
  {
   "cell_type": "code",
   "execution_count": 5,
   "id": "2b0fea62",
   "metadata": {},
   "outputs": [
    {
     "data": {
      "text/plain": [
       "[1, 2, 3, 4, 5, 6, 7, 8, 9, 10, 11, 12, 13, 14, 15]"
      ]
     },
     "execution_count": 5,
     "metadata": {},
     "output_type": "execute_result"
    }
   ],
   "source": [
    "#2 kere for döngüsü açarak üzerlerinde ayrı ayrı gezme şansımız oldu dikkat et \n",
    "liste = [[1,2,3],[4,5,6,7,8],[9,10,11,12,13,14,15]]\n",
    "liste1 = list()\n",
    "for i in liste:\n",
    "    for x in i:\n",
    "        liste1.append(x)\n",
    "liste1"
   ]
  },
  {
   "cell_type": "code",
   "execution_count": 6,
   "id": "cfe93017",
   "metadata": {},
   "outputs": [
    {
     "data": {
      "text/plain": [
       "[1, 2, 3, 4, 5, 6, 7, 8, 9, 10, 11, 12, 13, 14, 15]"
      ]
     },
     "execution_count": 6,
     "metadata": {},
     "output_type": "execute_result"
    }
   ],
   "source": [
    "liste = [[1,2,3],[4,5,6,7,8],[9,10,11,12,13,14,15]]\n",
    "liste1 = [x for i in liste for x in i]\n",
    "liste1"
   ]
  },
  {
   "cell_type": "code",
   "execution_count": null,
   "id": "b6d85db5",
   "metadata": {},
   "outputs": [],
   "source": []
  }
 ],
 "metadata": {
  "kernelspec": {
   "display_name": "Python 3",
   "language": "python",
   "name": "python3"
  },
  "language_info": {
   "codemirror_mode": {
    "name": "ipython",
    "version": 3
   },
   "file_extension": ".py",
   "mimetype": "text/x-python",
   "name": "python",
   "nbconvert_exporter": "python",
   "pygments_lexer": "ipython3",
   "version": "3.8.8"
  }
 },
 "nbformat": 4,
 "nbformat_minor": 5
}
