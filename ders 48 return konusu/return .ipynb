{
 "cells": [
  {
   "cell_type": "code",
   "execution_count": 1,
   "id": "99254bd3",
   "metadata": {},
   "outputs": [],
   "source": [
    "\"\"\"\n",
    "Fonksiyonlar da RETURN ifadsi : \n",
    "-> bu ifade fonksiyonlarda değer döndürmemizi sağlar...\n",
    "-> önceki oluşturduğumuz fonksiyonlar sadece print() fonksiyonu ile ekrana değer yazdırıyorlardı ancak herhangi bir değer\n",
    "döndürmüyorlardı\n",
    "-> ancak biz fonksiyon sonucunda ortaya çıkan değerleri alıp programlarımızın bambaika yerlerinde kullanmak isteyebiliriz\n",
    "-> return : fonksiyonun işlemi bittikten sonra çağırdığı yere değer döndürmesi anlamına gelir...\n",
    "-> böylelikle fonksiyondan aldığımız değeri bir değişkende depolayabilir ve bu değeri programın herhangi bir yerinde kullanabiliriz\n",
    "\"\"\"\n",
    "g = 0"
   ]
  },
  {
   "cell_type": "code",
   "execution_count": 2,
   "id": "83d8c024",
   "metadata": {},
   "outputs": [],
   "source": [
    "def toplama(a,b,c):\n",
    "    print(\"Toplamları = \",a+b+c)"
   ]
  },
  {
   "cell_type": "code",
   "execution_count": 3,
   "id": "cfb35109",
   "metadata": {},
   "outputs": [],
   "source": [
    "def ikiyleçarp(a):\n",
    "    print(\"İkiyle çarp : \",a * 2)"
   ]
  },
  {
   "cell_type": "code",
   "execution_count": 4,
   "id": "edc501a3",
   "metadata": {},
   "outputs": [
    {
     "name": "stdout",
     "output_type": "stream",
     "text": [
      "Toplamları =  12\n"
     ]
    },
    {
     "ename": "TypeError",
     "evalue": "unsupported operand type(s) for *: 'NoneType' and 'int'",
     "output_type": "error",
     "traceback": [
      "\u001b[1;31m---------------------------------------------------------------------------\u001b[0m",
      "\u001b[1;31mTypeError\u001b[0m                                 Traceback (most recent call last)",
      "\u001b[1;32m<ipython-input-4-beb04a31c466>\u001b[0m in \u001b[0;36m<module>\u001b[1;34m\u001b[0m\n\u001b[0;32m      1\u001b[0m \u001b[0mtoplam\u001b[0m \u001b[1;33m=\u001b[0m \u001b[0mtoplama\u001b[0m\u001b[1;33m(\u001b[0m\u001b[1;36m3\u001b[0m\u001b[1;33m,\u001b[0m\u001b[1;36m4\u001b[0m\u001b[1;33m,\u001b[0m\u001b[1;36m5\u001b[0m\u001b[1;33m)\u001b[0m\u001b[1;33m\u001b[0m\u001b[1;33m\u001b[0m\u001b[0m\n\u001b[1;32m----> 2\u001b[1;33m \u001b[0mikiyleçarp\u001b[0m\u001b[1;33m(\u001b[0m\u001b[0mtoplam\u001b[0m\u001b[1;33m)\u001b[0m\u001b[1;33m\u001b[0m\u001b[1;33m\u001b[0m\u001b[0m\n\u001b[0m",
      "\u001b[1;32m<ipython-input-3-a09ef17dc578>\u001b[0m in \u001b[0;36mikiyleçarp\u001b[1;34m(a)\u001b[0m\n\u001b[0;32m      1\u001b[0m \u001b[1;32mdef\u001b[0m \u001b[0mikiyleçarp\u001b[0m\u001b[1;33m(\u001b[0m\u001b[0ma\u001b[0m\u001b[1;33m)\u001b[0m\u001b[1;33m:\u001b[0m\u001b[1;33m\u001b[0m\u001b[1;33m\u001b[0m\u001b[0m\n\u001b[1;32m----> 2\u001b[1;33m     \u001b[0mprint\u001b[0m\u001b[1;33m(\u001b[0m\u001b[1;34m\"İkiyle çarp : \"\u001b[0m\u001b[1;33m,\u001b[0m\u001b[0ma\u001b[0m \u001b[1;33m*\u001b[0m \u001b[1;36m2\u001b[0m\u001b[1;33m)\u001b[0m\u001b[1;33m\u001b[0m\u001b[1;33m\u001b[0m\u001b[0m\n\u001b[0m",
      "\u001b[1;31mTypeError\u001b[0m: unsupported operand type(s) for *: 'NoneType' and 'int'"
     ]
    }
   ],
   "source": [
    "toplam = toplama(3,4,5)\n",
    "ikiyleçarp(toplam)"
   ]
  },
  {
   "cell_type": "code",
   "execution_count": 6,
   "id": "4bb7d0ca",
   "metadata": {},
   "outputs": [
    {
     "data": {
      "text/plain": [
       "NoneType"
      ]
     },
     "execution_count": 6,
     "metadata": {},
     "output_type": "execute_result"
    }
   ],
   "source": [
    "type(toplam) # fonksiyonda return ile döndürme işlemi olmadığından dolayı sadece print işlmei yapıyor değer döndüremiyor..."
   ]
  },
  {
   "cell_type": "code",
   "execution_count": 7,
   "id": "d7ac1389",
   "metadata": {},
   "outputs": [],
   "source": [
    "def toplama(a,b,c):\n",
    "    return a+b+c\n",
    "def ikiyleçarp(a):\n",
    "    return a*2\n"
   ]
  },
  {
   "cell_type": "code",
   "execution_count": 9,
   "id": "008e29ad",
   "metadata": {},
   "outputs": [
    {
     "name": "stdout",
     "output_type": "stream",
     "text": [
      "24\n"
     ]
    }
   ],
   "source": [
    "toplam = toplama(3,4,5)\n",
    "print(ikiyleçarp(toplam))"
   ]
  },
  {
   "cell_type": "code",
   "execution_count": 10,
   "id": "3b16ed6e",
   "metadata": {},
   "outputs": [],
   "source": [
    "def üçleçarp(a):\n",
    "    print(\"1.fonksiyon çalıştı\")\n",
    "    return a*3\n",
    "def ikiyletopla(a):\n",
    "    print(\"2.fonksiyon çalıştı\")\n",
    "    return a + 2\n",
    "def dördeböl(a):\n",
    "    print(\"3.fonksiyon çalıştı\")\n",
    "    return a / 4"
   ]
  },
  {
   "cell_type": "code",
   "execution_count": 11,
   "id": "7ba1cbf0",
   "metadata": {},
   "outputs": [
    {
     "name": "stdout",
     "output_type": "stream",
     "text": [
      "1.fonksiyon çalıştı\n",
      "2.fonksiyon çalıştı\n",
      "3.fonksiyon çalıştı\n",
      "4.25\n"
     ]
    }
   ],
   "source": [
    "# 3 ünü beraber kullanalım.\n",
    "\n",
    "print(dördeböl(ikiyletopla(üçleçarp(5))))"
   ]
  },
  {
   "cell_type": "code",
   "execution_count": 14,
   "id": "e91aa746",
   "metadata": {},
   "outputs": [
    {
     "name": "stdout",
     "output_type": "stream",
     "text": [
      "6\n"
     ]
    }
   ],
   "source": [
    "# return fonksiyonu tamamen sonlandıran bir ifadedir yani fonksiyon bloğunu tamamen kapatıyor...\n",
    "def toplama(a,b,c):\n",
    "    return a + b + c\n",
    "    print(\"Toplama fonksiyonu\") # Çalıştırılmadı.\n",
    "\n",
    "print(toplama(1,2,3))"
   ]
  },
  {
   "cell_type": "code",
   "execution_count": 16,
   "id": "18a8a598",
   "metadata": {},
   "outputs": [
    {
     "name": "stdout",
     "output_type": "stream",
     "text": [
      "Toplama fonksiyonu\n"
     ]
    },
    {
     "data": {
      "text/plain": [
       "6"
      ]
     },
     "execution_count": 16,
     "metadata": {},
     "output_type": "execute_result"
    }
   ],
   "source": [
    "def toplama(a,b,c):\n",
    "    print(\"Toplama fonksiyonu\") # Çalıştırıldı.\n",
    "    return a + b + c\n",
    "toplama(1,2,3)"
   ]
  },
  {
   "cell_type": "code",
   "execution_count": null,
   "id": "a81dcb09",
   "metadata": {},
   "outputs": [],
   "source": [
    "# return kullanılmayan değer döndürmeyen fonksiyonlara void fonksiyon adı verilmektedir..."
   ]
  }
 ],
 "metadata": {
  "kernelspec": {
   "display_name": "Python 3",
   "language": "python",
   "name": "python3"
  },
  "language_info": {
   "codemirror_mode": {
    "name": "ipython",
    "version": 3
   },
   "file_extension": ".py",
   "mimetype": "text/x-python",
   "name": "python",
   "nbconvert_exporter": "python",
   "pygments_lexer": "ipython3",
   "version": "3.8.8"
  }
 },
 "nbformat": 4,
 "nbformat_minor": 5
}
