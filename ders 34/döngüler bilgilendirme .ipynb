{
 "cells": [
  {
   "cell_type": "code",
   "execution_count": 1,
   "id": "6f6d5cfd",
   "metadata": {},
   "outputs": [],
   "source": [
    "\"\"\"\n",
    " => bizim şimdiye kadar yazdığımız programlar da yazdığımız kodlar sadece bir kere çalışıyor ve sona eriyordu...\n",
    " => Ancak biz çoğu zaman programlarımızın sürekli devam etrmesini ve işlemlerin tekrarını isteyebiliriz...\n",
    " => bunları yapmamızı sağlayan yapılara döngü yapıları adı verilir...\n",
    " => düngüler bütün programlama dillerinde bulunan ve belirli koşullarda sürekli işlemlerini tekrar eden yapılardır...\n",
    " => Bu döngüleri kullanarak programlarımızı çok daha efektif bir şekilde yazabiliriz..\n",
    " => while ve for döngüleri vardır \n",
    " => programlarmızı belirli koşullarda tekrar tekrar çalıştıracağız...\n",
    "\"\"\"\n",
    "a = True"
   ]
  },
  {
   "cell_type": "code",
   "execution_count": null,
   "id": "4109e2cb",
   "metadata": {},
   "outputs": [],
   "source": []
  }
 ],
 "metadata": {
  "kernelspec": {
   "display_name": "Python 3",
   "language": "python",
   "name": "python3"
  },
  "language_info": {
   "codemirror_mode": {
    "name": "ipython",
    "version": 3
   },
   "file_extension": ".py",
   "mimetype": "text/x-python",
   "name": "python",
   "nbconvert_exporter": "python",
   "pygments_lexer": "ipython3",
   "version": "3.8.8"
  }
 },
 "nbformat": 4,
 "nbformat_minor": 5
}
