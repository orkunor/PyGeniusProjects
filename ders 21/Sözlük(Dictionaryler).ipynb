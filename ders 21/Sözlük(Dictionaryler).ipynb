{
 "cells": [
  {
   "cell_type": "code",
   "execution_count": 1,
   "id": "d80dc5ba",
   "metadata": {},
   "outputs": [],
   "source": [
    "\"\"\"\n",
    "==> bu diğer yapılardan tamamen farklıdır.\n",
    "==> diğerlerinde her biri birer değerğden oluşurken burada anahtar değer ilişkisi vardır en önemli noktası budur\n",
    "==> çalışma mantığı tıpkı bir sözlük gibidir örneğin gerçek \n",
    "hayata bakarsak sözlükler ve karşılık geldiği anlamdan oluşur onun aynısıdır\n",
    "\n",
    "\"\"\"\n",
    "a = 0"
   ]
  },
  {
   "cell_type": "code",
   "execution_count": 11,
   "id": "6cd0e322",
   "metadata": {},
   "outputs": [],
   "source": [
    "sözlük1 = {\"bir\":1,\"iki\":2,\"uc\":3,\"dort\":4,\"bes\":5,\"alti\":6}"
   ]
  },
  {
   "cell_type": "code",
   "execution_count": 4,
   "id": "784e8ddf",
   "metadata": {},
   "outputs": [
    {
     "data": {
      "text/plain": [
       "dict"
      ]
     },
     "execution_count": 4,
     "metadata": {},
     "output_type": "execute_result"
    }
   ],
   "source": [
    "type(sözlük1)"
   ]
  },
  {
   "cell_type": "code",
   "execution_count": 5,
   "id": "faa5bc99",
   "metadata": {},
   "outputs": [],
   "source": [
    "t = {}"
   ]
  },
  {
   "cell_type": "code",
   "execution_count": 6,
   "id": "4d3c871f",
   "metadata": {},
   "outputs": [
    {
     "data": {
      "text/plain": [
       "dict"
      ]
     },
     "execution_count": 6,
     "metadata": {},
     "output_type": "execute_result"
    }
   ],
   "source": [
    "type(t)"
   ]
  },
  {
   "cell_type": "code",
   "execution_count": 7,
   "id": "67f6756d",
   "metadata": {},
   "outputs": [],
   "source": [
    "i = dict()"
   ]
  },
  {
   "cell_type": "code",
   "execution_count": 8,
   "id": "55d59501",
   "metadata": {},
   "outputs": [
    {
     "data": {
      "text/plain": [
       "{}"
      ]
     },
     "execution_count": 8,
     "metadata": {},
     "output_type": "execute_result"
    }
   ],
   "source": [
    "i"
   ]
  },
  {
   "cell_type": "code",
   "execution_count": 9,
   "id": "60e31f5b",
   "metadata": {},
   "outputs": [
    {
     "data": {
      "text/plain": [
       "{'bir': 1, 'iki': 2, 'uc': 3, 'dort': 4, 'bes': 5, 'alti': 6}"
      ]
     },
     "execution_count": 9,
     "metadata": {},
     "output_type": "execute_result"
    }
   ],
   "source": [
    "#sözlükteki değerlere nasıl erişiriz peki ? \n",
    "#bunun için anahtar kelimleri kullanmaktayız dikkat et...\n",
    "sözlük1"
   ]
  },
  {
   "cell_type": "code",
   "execution_count": 11,
   "id": "3f7cd659",
   "metadata": {},
   "outputs": [
    {
     "data": {
      "text/plain": [
       "1"
      ]
     },
     "execution_count": 11,
     "metadata": {},
     "output_type": "execute_result"
    }
   ],
   "source": [
    "sözlük1[\"bir\"]"
   ]
  },
  {
   "cell_type": "code",
   "execution_count": 12,
   "id": "a46635b5",
   "metadata": {},
   "outputs": [
    {
     "data": {
      "text/plain": [
       "5"
      ]
     },
     "execution_count": 12,
     "metadata": {},
     "output_type": "execute_result"
    }
   ],
   "source": [
    "sözlük1[\"bes\"]"
   ]
  },
  {
   "cell_type": "code",
   "execution_count": 13,
   "id": "23e93399",
   "metadata": {},
   "outputs": [
    {
     "data": {
      "text/plain": [
       "{'bir': 1, 'iki': 2, 'uc': 3, 'dort': 4, 'bes': 5, 'alti': 6}"
      ]
     },
     "execution_count": 13,
     "metadata": {},
     "output_type": "execute_result"
    }
   ],
   "source": [
    "# sözlüğe dinamik olarak doğrudan eleman ekleyebiliriz... \n",
    "sözlük1"
   ]
  },
  {
   "cell_type": "code",
   "execution_count": 14,
   "id": "ced264d6",
   "metadata": {},
   "outputs": [],
   "source": [
    "sözlük1[\"yedi\"] = 7"
   ]
  },
  {
   "cell_type": "code",
   "execution_count": 15,
   "id": "6990429b",
   "metadata": {},
   "outputs": [
    {
     "data": {
      "text/plain": [
       "{'bir': 1, 'iki': 2, 'uc': 3, 'dort': 4, 'bes': 5, 'alti': 6, 'yedi': 7}"
      ]
     },
     "execution_count": 15,
     "metadata": {},
     "output_type": "execute_result"
    }
   ],
   "source": [
    "sözlük1\n"
   ]
  },
  {
   "cell_type": "code",
   "execution_count": 16,
   "id": "2b5a1393",
   "metadata": {},
   "outputs": [],
   "source": [
    "# dikkat et indexle erişim yok anahtar kelimelerle erişim yapıyoruzz...."
   ]
  },
  {
   "cell_type": "code",
   "execution_count": 27,
   "id": "52afd73a",
   "metadata": {},
   "outputs": [],
   "source": [
    "a = {\"bir\" : [1,2,3,4], \"iki\": [[1,2],[3,4],[5,6]],\"üç\" : 15}"
   ]
  },
  {
   "cell_type": "code",
   "execution_count": 28,
   "id": "1eed0b38",
   "metadata": {},
   "outputs": [
    {
     "data": {
      "text/plain": [
       "[[1, 2], [3, 4], [5, 6]]"
      ]
     },
     "execution_count": 28,
     "metadata": {},
     "output_type": "execute_result"
    }
   ],
   "source": [
    "a[\"iki\"]"
   ]
  },
  {
   "cell_type": "code",
   "execution_count": 29,
   "id": "4a3d0823",
   "metadata": {},
   "outputs": [
    {
     "data": {
      "text/plain": [
       "4"
      ]
     },
     "execution_count": 29,
     "metadata": {},
     "output_type": "execute_result"
    }
   ],
   "source": [
    "a[\"iki\"][1][1]"
   ]
  },
  {
   "cell_type": "code",
   "execution_count": 30,
   "id": "ae374431",
   "metadata": {},
   "outputs": [],
   "source": [
    "# sözlükteki yapıların değeri doğrudan değiştirebiliriz... bunun için \n",
    "a[\"üç\"] = 3"
   ]
  },
  {
   "cell_type": "code",
   "execution_count": 31,
   "id": "edf50ea8",
   "metadata": {},
   "outputs": [
    {
     "data": {
      "text/plain": [
       "{'bir': [1, 2, 3, 4], 'iki': [[1, 2], [3, 4], [5, 6]], 'üç': 3}"
      ]
     },
     "execution_count": 31,
     "metadata": {},
     "output_type": "execute_result"
    }
   ],
   "source": [
    "a"
   ]
  },
  {
   "cell_type": "code",
   "execution_count": 32,
   "id": "529d5407",
   "metadata": {},
   "outputs": [],
   "source": [
    "a[\"üç\"] *= 7"
   ]
  },
  {
   "cell_type": "code",
   "execution_count": 33,
   "id": "fb775003",
   "metadata": {},
   "outputs": [
    {
     "data": {
      "text/plain": [
       "{'bir': [1, 2, 3, 4], 'iki': [[1, 2], [3, 4], [5, 6]], 'üç': 21}"
      ]
     },
     "execution_count": 33,
     "metadata": {},
     "output_type": "execute_result"
    }
   ],
   "source": [
    "a"
   ]
  },
  {
   "cell_type": "code",
   "execution_count": 1,
   "id": "a3d73f41",
   "metadata": {},
   "outputs": [],
   "source": [
    "# bir diğer nokta ise iç içe sözlüklerdir... "
   ]
  },
  {
   "cell_type": "code",
   "execution_count": 2,
   "id": "f437f0e8",
   "metadata": {},
   "outputs": [],
   "source": [
    "# İç içe sözlük\n",
    "\n",
    "a = {\"sayılar\":{\"bir\":1,\"iki\":2,\"üç\":3},\"meyveler\":{\"kiraz\":\"yaz\",\"portakal\":\"kış\",\"erik\":\"yaz\"}}"
   ]
  },
  {
   "cell_type": "code",
   "execution_count": 4,
   "id": "d1274c73",
   "metadata": {},
   "outputs": [
    {
     "data": {
      "text/plain": [
       "{'bir': 1, 'iki': 2, 'üç': 3}"
      ]
     },
     "execution_count": 4,
     "metadata": {},
     "output_type": "execute_result"
    }
   ],
   "source": [
    "a[\"sayılar\"]"
   ]
  },
  {
   "cell_type": "code",
   "execution_count": 5,
   "id": "c0c8faa9",
   "metadata": {},
   "outputs": [
    {
     "data": {
      "text/plain": [
       "2"
      ]
     },
     "execution_count": 5,
     "metadata": {},
     "output_type": "execute_result"
    }
   ],
   "source": [
    "a[\"sayılar\"][\"iki\"]"
   ]
  },
  {
   "cell_type": "code",
   "execution_count": 6,
   "id": "0260cbd8",
   "metadata": {},
   "outputs": [
    {
     "data": {
      "text/plain": [
       "'kış'"
      ]
     },
     "execution_count": 6,
     "metadata": {},
     "output_type": "execute_result"
    }
   ],
   "source": [
    "a[\"meyveler\"][\"portakal\"]"
   ]
  },
  {
   "cell_type": "code",
   "execution_count": 7,
   "id": "86384ad2",
   "metadata": {},
   "outputs": [],
   "source": [
    "# hatırlayalım dictionarylerin temel mantığı neydi ?  ==> temel de bir kelime ve bunun tuttuğu değer gibi düşün \n",
    "# anahtar ve kelime bütünleşmesinden bahsediyoruz..."
   ]
  },
  {
   "cell_type": "code",
   "execution_count": 8,
   "id": "9c7c15ad",
   "metadata": {},
   "outputs": [
    {
     "data": {
      "text/plain": [
       "{'kiraz': 'yaz', 'portakal': 'kış', 'erik': 'yaz'}"
      ]
     },
     "execution_count": 8,
     "metadata": {},
     "output_type": "execute_result"
    }
   ],
   "source": [
    "a[\"meyveler\"]"
   ]
  },
  {
   "cell_type": "code",
   "execution_count": 9,
   "id": "cc7d59a6",
   "metadata": {},
   "outputs": [],
   "source": [
    "# bazı temel sözlük metodları vardır... \n",
    "# sözlüklerin kendi içerisinde çok fazla metodu vardır biz burada özellikle for döngülerinde lazım olacakları inceleyeceğiz...\n"
   ]
  },
  {
   "cell_type": "code",
   "execution_count": 12,
   "id": "e036b583",
   "metadata": {},
   "outputs": [
    {
     "data": {
      "text/plain": [
       "{'bir': 1, 'iki': 2, 'uc': 3, 'dort': 4, 'bes': 5, 'alti': 6}"
      ]
     },
     "execution_count": 12,
     "metadata": {},
     "output_type": "execute_result"
    }
   ],
   "source": [
    "sözlük1"
   ]
  },
  {
   "cell_type": "code",
   "execution_count": 13,
   "id": "01c3e4ec",
   "metadata": {},
   "outputs": [
    {
     "data": {
      "text/plain": [
       "dict_keys(['bir', 'iki', 'uc', 'dort', 'bes', 'alti'])"
      ]
     },
     "execution_count": 13,
     "metadata": {},
     "output_type": "execute_result"
    }
   ],
   "source": [
    "# örneğin sadece anahtarları almak istiyorsak keys() metodunu kullanabiliriz...\n",
    "sözlük1.keys()"
   ]
  },
  {
   "cell_type": "code",
   "execution_count": 15,
   "id": "9c2ab295",
   "metadata": {},
   "outputs": [
    {
     "data": {
      "text/plain": [
       "dict_values([1, 2, 3, 4, 5, 6])"
      ]
     },
     "execution_count": 15,
     "metadata": {},
     "output_type": "execute_result"
    }
   ],
   "source": [
    "# sadece değerleri almak istiyorsak bu metodu kullnabiliriz \n",
    "sözlük1.values()"
   ]
  },
  {
   "cell_type": "code",
   "execution_count": 16,
   "id": "7a9b70ad",
   "metadata": {},
   "outputs": [
    {
     "data": {
      "text/plain": [
       "dict_items([('bir', 1), ('iki', 2), ('uc', 3), ('dort', 4), ('bes', 5), ('alti', 6)])"
      ]
     },
     "execution_count": 16,
     "metadata": {},
     "output_type": "execute_result"
    }
   ],
   "source": [
    "# biz bunları demetler halinde de alabiliriz... \n",
    "sözlük1.items()"
   ]
  },
  {
   "cell_type": "code",
   "execution_count": 22,
   "id": "b0a84600",
   "metadata": {},
   "outputs": [
    {
     "name": "stdout",
     "output_type": "stream",
     "text": [
      "bir => 1\n",
      "iki => 2\n",
      "uc => 3\n",
      "dort => 4\n",
      "bes => 5\n",
      "alti => 6\n"
     ]
    }
   ],
   "source": [
    "# demetler içerisinde geezerek çıktı alabileceğiz örneğin => \n",
    "for k,v in sözlük1.items():\n",
    "    print(k,\"=>\",v)"
   ]
  },
  {
   "cell_type": "code",
   "execution_count": null,
   "id": "efdbd832",
   "metadata": {},
   "outputs": [],
   "source": []
  }
 ],
 "metadata": {
  "kernelspec": {
   "display_name": "Python 3",
   "language": "python",
   "name": "python3"
  },
  "language_info": {
   "codemirror_mode": {
    "name": "ipython",
    "version": 3
   },
   "file_extension": ".py",
   "mimetype": "text/x-python",
   "name": "python",
   "nbconvert_exporter": "python",
   "pygments_lexer": "ipython3",
   "version": "3.8.8"
  }
 },
 "nbformat": 4,
 "nbformat_minor": 5
}
