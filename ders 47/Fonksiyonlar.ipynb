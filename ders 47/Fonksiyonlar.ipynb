{
 "cells": [
  {
   "cell_type": "code",
   "execution_count": 1,
   "id": "4d741c6a",
   "metadata": {},
   "outputs": [],
   "source": [
    "\"\"\"\n",
    "Fonksiyonlar...\n",
    "\n",
    "   Fonksiyonlar programlarda belirli işlevleri olan ve tekrar tekrar kullandığımız yapılardır...\n",
    "   Örneğin ; print() fonksiyonu bunun görevi aslında içine verdiğimiz değerleri ekrana yazdırmaktır \n",
    "   Python tasarlarnırken bu fonksiyon python geliştiricileri tarafından bir kere yazılmış ve sürekli olarak biz bu fonksiyonu \n",
    "kullanabilmekteyiz...\n",
    "    Fonksiyonlar tanımlanıyorlar ve ihtiyacımız olduğu zaman biz bu fonksiyonları istediğimiz yerde kullanabiliyoruz...\n",
    "    Ayrıca fonksiyonlar kod tekrarını da engellerler örneğin farklı farklı yerlerde aynı işlemi tekrar tekrar yapcaksak bu kodl\n",
    "arı yapıştırmak yerine tek bir yerde fonksiyon oluşturarak işlemi bitirebiliriz...\n",
    "\"\"\"\n",
    "\"\"\"\n",
    "Fonksiyon tanımlamanın yapısı şu şekildedir;\n",
    "\n",
    "        def fonksiyon_adı(parametre1,parametre2..... (opsiyonel)):\n",
    "            # Fonksiyon bloğu\n",
    "            Yapılacak işlemler\n",
    "            # dönüş değeri - Opsiyonel\n",
    "İsterseniz şimdi bir tane \"selamla\" isimli bir fonksiyon tanımlayalım.\n",
    "\n",
    "\"\"\"\n",
    "g = 0"
   ]
  },
  {
   "cell_type": "code",
   "execution_count": 2,
   "id": "4373cc1e",
   "metadata": {},
   "outputs": [
    {
     "ename": "NameError",
     "evalue": "name 'selamla' is not defined",
     "output_type": "error",
     "traceback": [
      "\u001b[1;31m---------------------------------------------------------------------------\u001b[0m",
      "\u001b[1;31mNameError\u001b[0m                                 Traceback (most recent call last)",
      "\u001b[1;32m<ipython-input-2-837d7766cd6a>\u001b[0m in \u001b[0;36m<module>\u001b[1;34m\u001b[0m\n\u001b[1;32m----> 1\u001b[1;33m \u001b[0mtype\u001b[0m\u001b[1;33m(\u001b[0m\u001b[0mselamla\u001b[0m\u001b[1;33m)\u001b[0m\u001b[1;33m\u001b[0m\u001b[1;33m\u001b[0m\u001b[0m\n\u001b[0m",
      "\u001b[1;31mNameError\u001b[0m: name 'selamla' is not defined"
     ]
    }
   ],
   "source": [
    "type(selamla)"
   ]
  },
  {
   "cell_type": "code",
   "execution_count": 3,
   "id": "7d17158b",
   "metadata": {},
   "outputs": [],
   "source": [
    "def selamla():\n",
    "    print(\"Merhaba...\")\n",
    "    print(\"Nasılsınızz\")"
   ]
  },
  {
   "cell_type": "code",
   "execution_count": 4,
   "id": "e4fc33a5",
   "metadata": {},
   "outputs": [
    {
     "data": {
      "text/plain": [
       "function"
      ]
     },
     "execution_count": 4,
     "metadata": {},
     "output_type": "execute_result"
    }
   ],
   "source": [
    "type(selamla)"
   ]
  },
  {
   "cell_type": "code",
   "execution_count": 5,
   "id": "9ebc0f56",
   "metadata": {},
   "outputs": [
    {
     "name": "stdout",
     "output_type": "stream",
     "text": [
      "Merhaba...\n",
      "Nasılsınızz\n"
     ]
    }
   ],
   "source": [
    "# fonksiyonu çağırmak için ise : \n",
    "selamla()"
   ]
  },
  {
   "cell_type": "code",
   "execution_count": 6,
   "id": "cfb63f2c",
   "metadata": {},
   "outputs": [
    {
     "ename": "TypeError",
     "evalue": "selamla() takes 0 positional arguments but 1 was given",
     "output_type": "error",
     "traceback": [
      "\u001b[1;31m---------------------------------------------------------------------------\u001b[0m",
      "\u001b[1;31mTypeError\u001b[0m                                 Traceback (most recent call last)",
      "\u001b[1;32m<ipython-input-6-b29c75dcd473>\u001b[0m in \u001b[0;36m<module>\u001b[1;34m\u001b[0m\n\u001b[0;32m      1\u001b[0m \u001b[1;31m# bir argüman vermediğimiz için bir şey göndermek istersek sorun olacaktır\u001b[0m\u001b[1;33m\u001b[0m\u001b[1;33m\u001b[0m\u001b[1;33m\u001b[0m\u001b[0m\n\u001b[1;32m----> 2\u001b[1;33m \u001b[0mselamla\u001b[0m\u001b[1;33m(\u001b[0m\u001b[1;34m\"Python\"\u001b[0m\u001b[1;33m)\u001b[0m\u001b[1;33m\u001b[0m\u001b[1;33m\u001b[0m\u001b[0m\n\u001b[0m",
      "\u001b[1;31mTypeError\u001b[0m: selamla() takes 0 positional arguments but 1 was given"
     ]
    }
   ],
   "source": [
    "# bir argüman vermediğimiz için bir şey göndermek istersek sorun olacaktır\n",
    "selamla(\"Python\")"
   ]
  },
  {
   "cell_type": "code",
   "execution_count": 11,
   "id": "6e0ea0c0",
   "metadata": {},
   "outputs": [
    {
     "name": "stdout",
     "output_type": "stream",
     "text": [
      "Merhaba...\n",
      "Nasılsınızz\n",
      "\n",
      "\n",
      "Merhaba...\n",
      "Nasılsınızz\n",
      "\n",
      "\n",
      "Merhaba...\n",
      "Nasılsınızz\n",
      "\n",
      "\n",
      "Merhaba...\n",
      "Nasılsınızz\n"
     ]
    }
   ],
   "source": [
    "selamla()\n",
    "print(\"\\n\")\n",
    "selamla()\n",
    "print(\"\\n\")\n",
    "selamla()\n",
    "print(\"\\n\")\n",
    "selamla()"
   ]
  },
  {
   "cell_type": "code",
   "execution_count": 12,
   "id": "7680193d",
   "metadata": {},
   "outputs": [],
   "source": [
    "\"\"\"\n",
    "PARAMETRELER VE ARGÜMANLAR => \n",
    "\n",
    "   parametreler ve argümanlar ise fonksiyonların çalışma şekillerini değiştirecektir örneğin hep aynı çalışmak yerine \n",
    "istenilen yerlerde istenildiği gibi çalışması sağlanacaktır...\n",
    "\n",
    "\"\"\"\n",
    "g = 0"
   ]
  },
  {
   "cell_type": "code",
   "execution_count": 15,
   "id": "40b023da",
   "metadata": {},
   "outputs": [],
   "source": [
    "# buradaki parametredir\n",
    "def selamla(isim):\n",
    "    print(\"İsminiz :\",isim)\n",
    "    "
   ]
  },
  {
   "cell_type": "code",
   "execution_count": 16,
   "id": "840cb845",
   "metadata": {},
   "outputs": [
    {
     "name": "stdout",
     "output_type": "stream",
     "text": [
      "İsminiz : Orkun\n"
     ]
    }
   ],
   "source": [
    "#buradaki gönderdiğimiz değer ise argüman olarak görülmektedir...\n",
    "selamla(\"Orkun\")"
   ]
  },
  {
   "cell_type": "code",
   "execution_count": 17,
   "id": "ba3e20da",
   "metadata": {},
   "outputs": [
    {
     "name": "stdout",
     "output_type": "stream",
     "text": [
      "İsminiz : Ayşe\n"
     ]
    }
   ],
   "source": [
    "selamla(\"Ayşe\")"
   ]
  },
  {
   "cell_type": "code",
   "execution_count": 18,
   "id": "18e09163",
   "metadata": {},
   "outputs": [
    {
     "name": "stdout",
     "output_type": "stream",
     "text": [
      "İsminiz : Fatma\n"
     ]
    }
   ],
   "source": [
    "selamla(\"Fatma\")"
   ]
  },
  {
   "cell_type": "code",
   "execution_count": 21,
   "id": "1b6f68ec",
   "metadata": {},
   "outputs": [],
   "source": [
    "def toplama(a,b,c):\n",
    "    print(\"TOPLAMLARI : {} + {} + {} = \".format(a,b,c),a+b+c)\n",
    "    \n"
   ]
  },
  {
   "cell_type": "code",
   "execution_count": 22,
   "id": "8bb464de",
   "metadata": {},
   "outputs": [
    {
     "name": "stdout",
     "output_type": "stream",
     "text": [
      "TOPLAMLARI : 1 + 2 + 3 =  6\n"
     ]
    }
   ],
   "source": [
    "toplama(1,2,3)"
   ]
  },
  {
   "cell_type": "code",
   "execution_count": 23,
   "id": "b6b8c670",
   "metadata": {},
   "outputs": [
    {
     "name": "stdout",
     "output_type": "stream",
     "text": [
      "TOPLAMLARI : 7 + 13 + 9 =  29\n"
     ]
    }
   ],
   "source": [
    "toplama(7,13,9)"
   ]
  },
  {
   "cell_type": "code",
   "execution_count": 38,
   "id": "a329d0f5",
   "metadata": {},
   "outputs": [],
   "source": [
    "def faktoriyel(sayı):\n",
    "    a = 1\n",
    "    if sayı == 0 or sayı == 1:\n",
    "        print(\"Faktoriyel = \",a)\n",
    "    else:\n",
    "        while sayı >= 1:\n",
    "            a *= sayı\n",
    "            sayı -= 1\n",
    "        print(\"Faktoriyel = \",a)"
   ]
  },
  {
   "cell_type": "code",
   "execution_count": 39,
   "id": "c63ec2c7",
   "metadata": {},
   "outputs": [
    {
     "name": "stdout",
     "output_type": "stream",
     "text": [
      "Faktoriyel =  1\n"
     ]
    }
   ],
   "source": [
    "faktoriyel(1)"
   ]
  },
  {
   "cell_type": "code",
   "execution_count": 40,
   "id": "4bd43d21",
   "metadata": {},
   "outputs": [
    {
     "name": "stdout",
     "output_type": "stream",
     "text": [
      "Faktoriyel =  720\n"
     ]
    }
   ],
   "source": [
    "faktoriyel(6)"
   ]
  },
  {
   "cell_type": "code",
   "execution_count": 41,
   "id": "18140969",
   "metadata": {},
   "outputs": [
    {
     "name": "stdout",
     "output_type": "stream",
     "text": [
      "Faktoriyel =  3628800\n"
     ]
    }
   ],
   "source": [
    "faktoriyel(10)    "
   ]
  },
  {
   "cell_type": "code",
   "execution_count": null,
   "id": "007f9037",
   "metadata": {},
   "outputs": [],
   "source": []
  }
 ],
 "metadata": {
  "kernelspec": {
   "display_name": "Python 3",
   "language": "python",
   "name": "python3"
  },
  "language_info": {
   "codemirror_mode": {
    "name": "ipython",
    "version": 3
   },
   "file_extension": ".py",
   "mimetype": "text/x-python",
   "name": "python",
   "nbconvert_exporter": "python",
   "pygments_lexer": "ipython3",
   "version": "3.8.8"
  }
 },
 "nbformat": 4,
 "nbformat_minor": 5
}
