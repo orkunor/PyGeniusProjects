{
 "cells": [
  {
   "cell_type": "code",
   "execution_count": 1,
   "id": "780d0bb9",
   "metadata": {},
   "outputs": [],
   "source": [
    "\"\"\"\n",
    " => Önceki durumlarda biz sadece iki durumu kontrol edebiliyorduk fakat şimdi birden fazla durumu karşılaştırmak \n",
    "yani koşullu duruma sokmak için elif bloklarını da işe dahil edeceğiz...\n",
    "\n",
    "=> bir durum birçok koşula bağlı olabiliyor bunun için de biz if-elif-else bloklarını kullanacağız... \n",
    "\n",
    "if koşul:\n",
    "    işlemler\n",
    "elif ikinci koşul:\n",
    "    işlemler \n",
    "elif üçüncü koşul:\n",
    "    işlemler\n",
    "    *\n",
    "    *\n",
    "    *\n",
    "    *\n",
    "else:\n",
    "    diğer durumdaki son işlemlr \n",
    "    \n",
    "    \n",
    "    \n",
    " => else bloğunun yazılması kesinlikle zorunlu değildir bu tamamıyla bize bağlıdır... \n",
    " \n",
    "\n",
    "\"\"\"\n",
    "a = True"
   ]
  },
  {
   "cell_type": "code",
   "execution_count": 12,
   "id": "d25b66ac",
   "metadata": {},
   "outputs": [
    {
     "name": "stdout",
     "output_type": "stream",
     "text": [
      "İstediğiniz işlemler birini giriniz : 4\n",
      "4. işlemi seçtiniz...\n",
      "...PROGRAM SONLANDIRILIYOR...\n"
     ]
    }
   ],
   "source": [
    "# işlemlerden oluşan bir programımız olsun => \n",
    "\n",
    "a = int(input(\"İstediğiniz işlemler birini giriniz : \"))\n",
    "\n",
    "if a == 1:\n",
    "    print(\"1. işlemi seçtiniz...\")\n",
    "elif a == 2:\n",
    "    print(\"2. işlemi seçtiniz...\")\n",
    "elif a == 3:\n",
    "    print(\"3. işlemi seçtiniz...\")\n",
    "elif a == 4:\n",
    "    print(\"4. işlemi seçtiniz...\")\n",
    "else:\n",
    "    print(\"farklı bir işlem seçtiniz\")\n",
    "    \n",
    "print(\"...PROGRAM SONLANDIRILIYOR...\")\n",
    "# program bloğa girince o koşulu sağlayıp bitirdiği için if bloğundan kurtulup çıkıyor... \n",
    "\n"
   ]
  },
  {
   "cell_type": "code",
   "execution_count": 13,
   "id": "77a15249",
   "metadata": {},
   "outputs": [],
   "source": [
    "# else bloğu herhangi bir koşulu tek başına sağlamadığı için tek başına kullanılmaz...\n",
    "# elif bloğu herhangi bir koşulu tek başına sağlamadığı için tek başına kullanılmaz..."
   ]
  },
  {
   "cell_type": "code",
   "execution_count": 18,
   "id": "f94e850d",
   "metadata": {},
   "outputs": [
    {
     "name": "stdout",
     "output_type": "stream",
     "text": [
      "Lütfen öğrencinin aldığı notu giriniz : 20\n",
      "=> KALDINIZ <=\n",
      "                                   ...PROGRAM SONLANDIRILIYOR...\n"
     ]
    }
   ],
   "source": [
    "note = float(input(\"Lütfen öğrencinin aldığı notu giriniz : \"))\n",
    "\n",
    "if note >= 90:\n",
    "    print(\"Öğrencinin notu : AA\")\n",
    "elif note >= 80:\n",
    "    print(\"Öğrencinin notu : BB\")\n",
    "elif note >= 70:\n",
    "    print(\"Öğrencinin notu : CC\")\n",
    "elif note >= 60:\n",
    "    print(\"Öğrencinin notu : DD\")\n",
    "else:\n",
    "    print(\"=> KALDINIZ <=\")\n",
    "    \n",
    "print(\"                                   ...PROGRAM SONLANDIRILIYOR...\")"
   ]
  },
  {
   "cell_type": "code",
   "execution_count": 19,
   "id": "a4a1e229",
   "metadata": {},
   "outputs": [],
   "source": [
    "# elif bloğu if'e bağlı olduğu için ona göre çalışır dikkat et "
   ]
  },
  {
   "cell_type": "code",
   "execution_count": null,
   "id": "aec231d0",
   "metadata": {},
   "outputs": [],
   "source": []
  }
 ],
 "metadata": {
  "kernelspec": {
   "display_name": "Python 3",
   "language": "python",
   "name": "python3"
  },
  "language_info": {
   "codemirror_mode": {
    "name": "ipython",
    "version": 3
   },
   "file_extension": ".py",
   "mimetype": "text/x-python",
   "name": "python",
   "nbconvert_exporter": "python",
   "pygments_lexer": "ipython3",
   "version": "3.8.8"
  }
 },
 "nbformat": 4,
 "nbformat_minor": 5
}
