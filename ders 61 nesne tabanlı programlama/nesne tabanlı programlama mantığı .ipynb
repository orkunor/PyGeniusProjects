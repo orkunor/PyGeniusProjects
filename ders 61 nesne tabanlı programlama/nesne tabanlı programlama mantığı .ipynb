{
 "cells": [
  {
   "cell_type": "code",
   "execution_count": 1,
   "id": "5994776a",
   "metadata": {},
   "outputs": [],
   "source": [
    "\"\"\"\n",
    "ingilizce anlamı OBJECT ORIENTED PRORAMMING \n",
    "en basit anlamıyla gerçek hayatı programlamaya uyarlamak olarak düşünülebilir...\n",
    "\n",
    "   örneğin biz bir program ile öğrenci otomasyon sistemi yazmak istiyoruz bunun için öğretmenleri öğrencileri ve kursları birer \n",
    "nesne olarak öncelikle oluşturmamız gerekmektedir...\n",
    "\n",
    "   class oluşturarak aslında biz bir nesne oluşturmaktayız....\n",
    "   bu nesneden\n",
    "\n",
    "   böyle bir sistemi oluşturmak için ise her bir nesneyi tanımlayıp bu nesnelerden bu yapıları tanımlamamız gerekir\n",
    "işte bu nesne tabanlı programlamadır\n",
    "\n",
    "  Öncelikle obje ve nesne nedir farkları nelerdir bunları anlamaya çalışalım...\n",
    "\"\"\"\n",
    "g = 0"
   ]
  },
  {
   "cell_type": "code",
   "execution_count": 2,
   "id": "fc9f1522",
   "metadata": {},
   "outputs": [],
   "source": [
    "#python'da da tıpkı gerçek hayattaki gibi her şey bir objedir...\n",
    "liste = [1,2,3,4,5] #liste objesi oluşturduk...\n",
    "#bu listenin kendi içerisinde değişik özellikleri ve metodları vardır.\n"
   ]
  },
  {
   "cell_type": "code",
   "execution_count": 3,
   "id": "74ca7193",
   "metadata": {},
   "outputs": [],
   "source": [
    "#örneğin buna bir method uygulayalım =>\n",
    "liste.append(6)"
   ]
  },
  {
   "cell_type": "code",
   "execution_count": 4,
   "id": "4d57fbc5",
   "metadata": {},
   "outputs": [
    {
     "data": {
      "text/plain": [
       "[1, 2, 3, 4, 5, 6]"
      ]
     },
     "execution_count": 4,
     "metadata": {},
     "output_type": "execute_result"
    }
   ],
   "source": [
    "liste"
   ]
  },
  {
   "cell_type": "code",
   "execution_count": 6,
   "id": "6f17e723",
   "metadata": {},
   "outputs": [
    {
     "data": {
      "text/plain": [
       "list"
      ]
     },
     "execution_count": 6,
     "metadata": {},
     "output_type": "execute_result"
    }
   ],
   "source": [
    "type(liste) # python bunu liste veri tipinden bir obje olarak adlandırıyor..."
   ]
  },
  {
   "cell_type": "code",
   "execution_count": 7,
   "id": "4a5ca45b",
   "metadata": {},
   "outputs": [],
   "source": [
    "#liste,tuple,dict,fonksiyonlar gibi yapılar birer objedir..."
   ]
  },
  {
   "cell_type": "code",
   "execution_count": 8,
   "id": "e81b6921",
   "metadata": {},
   "outputs": [],
   "source": [
    "#python'daki her şey birer objedir yani \n",
    "# şimdi python bize diyor ki sen nesne tabanlı programlamayla kendi objelerini kurabilirsin diyor..."
   ]
  },
  {
   "cell_type": "code",
   "execution_count": null,
   "id": "4771846c",
   "metadata": {},
   "outputs": [],
   "source": []
  }
 ],
 "metadata": {
  "kernelspec": {
   "display_name": "Python 3",
   "language": "python",
   "name": "python3"
  },
  "language_info": {
   "codemirror_mode": {
    "name": "ipython",
    "version": 3
   },
   "file_extension": ".py",
   "mimetype": "text/x-python",
   "name": "python",
   "nbconvert_exporter": "python",
   "pygments_lexer": "ipython3",
   "version": "3.8.8"
  }
 },
 "nbformat": 4,
 "nbformat_minor": 5
}
