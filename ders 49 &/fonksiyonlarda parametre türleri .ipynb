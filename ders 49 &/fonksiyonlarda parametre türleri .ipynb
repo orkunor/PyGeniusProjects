{
 "cells": [
  {
   "cell_type": "code",
   "execution_count": 1,
   "id": "ed730b90",
   "metadata": {},
   "outputs": [],
   "source": [
    "# fonksiyonlara parametre vermenin fakrlı yollarını öğrenerek fonksiyonlarımızı daha esnek bir şekilde yazabileceğiz\n"
   ]
  },
  {
   "cell_type": "code",
   "execution_count": 4,
   "id": "59074855",
   "metadata": {},
   "outputs": [],
   "source": [
    "# \"isim\" bir parametredir...\n",
    "# fonksiyonu define ettikten sonra içersine verilen şey parametredir. 1'den fazla da olabilir ona göre eşitlersin de dikkat et  \n",
    "def selamla(isim):\n",
    "    print(\"Selam\",isim)\n",
    "    "
   ]
  },
  {
   "cell_type": "code",
   "execution_count": 5,
   "id": "f0d807ed",
   "metadata": {},
   "outputs": [
    {
     "name": "stdout",
     "output_type": "stream",
     "text": [
      "Selam Orkun\n"
     ]
    }
   ],
   "source": [
    "selamla(\"Orkun\")"
   ]
  },
  {
   "cell_type": "code",
   "execution_count": 6,
   "id": "a37794d5",
   "metadata": {},
   "outputs": [
    {
     "ename": "TypeError",
     "evalue": "selamla() missing 1 required positional argument: 'isim'",
     "output_type": "error",
     "traceback": [
      "\u001b[1;31m---------------------------------------------------------------------------\u001b[0m",
      "\u001b[1;31mTypeError\u001b[0m                                 Traceback (most recent call last)",
      "\u001b[1;32m<ipython-input-6-dd79f90a9d9e>\u001b[0m in \u001b[0;36m<module>\u001b[1;34m\u001b[0m\n\u001b[0;32m      1\u001b[0m \u001b[1;31m# bu fonksiyonun içerisini boş bırakamayız çünkü Python parametre alıyor mutlaka\u001b[0m\u001b[1;33m\u001b[0m\u001b[1;33m\u001b[0m\u001b[1;33m\u001b[0m\u001b[0m\n\u001b[1;32m----> 2\u001b[1;33m \u001b[0mselamla\u001b[0m\u001b[1;33m(\u001b[0m\u001b[1;33m)\u001b[0m\u001b[1;33m\u001b[0m\u001b[1;33m\u001b[0m\u001b[0m\n\u001b[0m",
      "\u001b[1;31mTypeError\u001b[0m: selamla() missing 1 required positional argument: 'isim'"
     ]
    }
   ],
   "source": [
    "# bu fonksiyonun içerisini boş bırakamayız çünkü Python parametre alıyor mutlaka\n",
    "# boş bırakacaksak da ona göre parameremizi bir şeye eşitlememiz gerekmektedir...\n",
    "selamla()"
   ]
  },
  {
   "cell_type": "code",
   "execution_count": 7,
   "id": "91b01083",
   "metadata": {},
   "outputs": [],
   "source": [
    "# bu sorunu bir adet varsayılan değer atayarak ortadan kaldırabiliriz\n",
    "def selamla(isim = \"İsimsiz\"):\n",
    "    print(\"Selam\",isim)\n",
    "    "
   ]
  },
  {
   "cell_type": "code",
   "execution_count": 8,
   "id": "daea531b",
   "metadata": {},
   "outputs": [
    {
     "name": "stdout",
     "output_type": "stream",
     "text": [
      "Selam Orkun\n"
     ]
    }
   ],
   "source": [
    "selamla(\"Orkun\")"
   ]
  },
  {
   "cell_type": "code",
   "execution_count": 9,
   "id": "e57b7bd1",
   "metadata": {},
   "outputs": [
    {
     "name": "stdout",
     "output_type": "stream",
     "text": [
      "Selam İsimsiz\n"
     ]
    }
   ],
   "source": [
    "# bunun anlamı basit burada değer vermediğimiz taktirde onun yerine parametreye eşitlenen gelir yoksa bizim eşitlediğimiz gelir\n",
    "selamla()"
   ]
  },
  {
   "cell_type": "code",
   "execution_count": 18,
   "id": "2bbfa4a1",
   "metadata": {},
   "outputs": [],
   "source": [
    "def bilgilerigöster(ad,soyad,numara):\n",
    "    print(\"Ad:\",ad,\"\\tSoyad:\",soyad,\"\\tNumara:\",numara)\n",
    "    "
   ]
  },
  {
   "cell_type": "code",
   "execution_count": 19,
   "id": "ae6a0340",
   "metadata": {},
   "outputs": [
    {
     "name": "stdout",
     "output_type": "stream",
     "text": [
      "Ad: Orkun \tSoyad: Orulluoğlu \tNumara: 123445\n"
     ]
    }
   ],
   "source": [
    "bilgilerigöster(\"Orkun\",\"Orulluoğlu\",\"123445\")"
   ]
  },
  {
   "cell_type": "code",
   "execution_count": 20,
   "id": "9dd41121",
   "metadata": {},
   "outputs": [],
   "source": [
    "def bilgilerigöster(ad = \"Bilgi yok\",soyad = \"Bilgi yok\",numara = \"Bilgi yok\"):\n",
    "    print(\"Ad:\",ad,\"\\tSoyad:\",soyad,\"\\tNumara:\",numara)"
   ]
  },
  {
   "cell_type": "code",
   "execution_count": 21,
   "id": "78d9dd82",
   "metadata": {},
   "outputs": [
    {
     "name": "stdout",
     "output_type": "stream",
     "text": [
      "Ad: Bilgi yok \tSoyad: Bilgi yok \tNumara: Bilgi yok\n"
     ]
    }
   ],
   "source": [
    "bilgilerigöster()"
   ]
  },
  {
   "cell_type": "code",
   "execution_count": 22,
   "id": "57138e7a",
   "metadata": {},
   "outputs": [
    {
     "name": "stdout",
     "output_type": "stream",
     "text": [
      "Ad: Bilgi yok \tSoyad: Bilgi yok \tNumara: 123445\n"
     ]
    }
   ],
   "source": [
    "# örneğin ad ve soyadı girip numarayı girmeyeceksek sırasıyla ilk ikisini girince otomatik olarak 3. boşta kalır...\n",
    "# eğer karışık olarak bilgileri vereceksek direkt parametreleri göstererek veririz...\n",
    "bilgilerigöster(numara = \"123445\")"
   ]
  },
  {
   "cell_type": "code",
   "execution_count": 23,
   "id": "9980a8fb",
   "metadata": {},
   "outputs": [
    {
     "name": "stdout",
     "output_type": "stream",
     "text": [
      "Ad: Orkun \tSoyad: Orulluoğlu \tNumara: Bilgi yok\n"
     ]
    }
   ],
   "source": [
    "bilgilerigöster(soyad=\"Orulluoğlu\" , ad = \"Orkun\")"
   ]
  },
  {
   "cell_type": "code",
   "execution_count": 1,
   "id": "ce49b57b",
   "metadata": {},
   "outputs": [
    {
     "name": "stdout",
     "output_type": "stream",
     "text": [
      "Orkun Bayram Orulluoğlu\n"
     ]
    }
   ],
   "source": [
    "# biz bu varsayılan değerleri aslında kursumuzun başlarından belli görüyoruz dikkat et \n",
    "# örneğin => \n",
    "print(\"Orkun\",\"Bayram\",\"Orulluoğlu\")"
   ]
  },
  {
   "cell_type": "code",
   "execution_count": 2,
   "id": "f8e9597d",
   "metadata": {},
   "outputs": [
    {
     "name": "stdout",
     "output_type": "stream",
     "text": [
      "Orkun/Bayram/Orulluoğlu\n"
     ]
    }
   ],
   "source": [
    "# sep parametresi yardımıyla boşlukları dolduruyoruz dikkat et \n",
    "print(\"Orkun\",\"Bayram\",\"Orulluoğlu\",sep=\"/\")"
   ]
  },
  {
   "cell_type": "code",
   "execution_count": 3,
   "id": "4336bc37",
   "metadata": {},
   "outputs": [
    {
     "name": "stdout",
     "output_type": "stream",
     "text": [
      "Help on built-in function print in module builtins:\n",
      "\n",
      "print(...)\n",
      "    print(value, ..., sep=' ', end='\\n', file=sys.stdout, flush=False)\n",
      "    \n",
      "    Prints the values to a stream, or to sys.stdout by default.\n",
      "    Optional keyword arguments:\n",
      "    file:  a file-like object (stream); defaults to the current sys.stdout.\n",
      "    sep:   string inserted between values, default a space.\n",
      "    end:   string appended after the last value, default a newline.\n",
      "    flush: whether to forcibly flush the stream.\n",
      "\n"
     ]
    }
   ],
   "source": [
    "help(print)"
   ]
  },
  {
   "cell_type": "code",
   "execution_count": 4,
   "id": "dd1230c9",
   "metadata": {},
   "outputs": [],
   "source": [
    "# ESNEK SAYIDA DEĞERLER KONUSU => \n",
    "# eğer biz bir fonksiyonu farklı sayıda değerle kullanmak istiyorsak esnek sayıda değerler konusunu kullanabiliriz...\n",
    "def toplama(a,b,c):\n",
    "    print(a+b+c)\n"
   ]
  },
  {
   "cell_type": "code",
   "execution_count": 5,
   "id": "d3be9f95",
   "metadata": {},
   "outputs": [
    {
     "name": "stdout",
     "output_type": "stream",
     "text": [
      "9\n"
     ]
    }
   ],
   "source": [
    "toplama(2,3,4)"
   ]
  },
  {
   "cell_type": "code",
   "execution_count": 6,
   "id": "22e407ec",
   "metadata": {},
   "outputs": [
    {
     "ename": "TypeError",
     "evalue": "toplama() takes 3 positional arguments but 4 were given",
     "output_type": "error",
     "traceback": [
      "\u001b[1;31m---------------------------------------------------------------------------\u001b[0m",
      "\u001b[1;31mTypeError\u001b[0m                                 Traceback (most recent call last)",
      "\u001b[1;32m<ipython-input-6-3729e3a2f7e0>\u001b[0m in \u001b[0;36m<module>\u001b[1;34m\u001b[0m\n\u001b[1;32m----> 1\u001b[1;33m \u001b[0mtoplama\u001b[0m\u001b[1;33m(\u001b[0m\u001b[1;36m2\u001b[0m\u001b[1;33m,\u001b[0m\u001b[1;36m3\u001b[0m\u001b[1;33m,\u001b[0m\u001b[1;36m4\u001b[0m\u001b[1;33m,\u001b[0m\u001b[1;36m5\u001b[0m\u001b[1;33m)\u001b[0m\u001b[1;33m\u001b[0m\u001b[1;33m\u001b[0m\u001b[0m\n\u001b[0m",
      "\u001b[1;31mTypeError\u001b[0m: toplama() takes 3 positional arguments but 4 were given"
     ]
    }
   ],
   "source": [
    "toplama(2,3,4,5)"
   ]
  },
  {
   "cell_type": "code",
   "execution_count": 7,
   "id": "ae030da0",
   "metadata": {},
   "outputs": [],
   "source": [
    "# görüldüğü üzere 3 tane parametre olduğundan dolayı 4.'de hata verdi \n",
    "# esnek sayıda değerlerle bunun önüne geçebiliriz...\n",
    "def toplama(*a):\n",
    "    print(a)"
   ]
  },
  {
   "cell_type": "code",
   "execution_count": 8,
   "id": "ff453cc1",
   "metadata": {},
   "outputs": [
    {
     "name": "stdout",
     "output_type": "stream",
     "text": [
      "(1, 2, 3, 4)\n"
     ]
    }
   ],
   "source": [
    "toplama(1,2,3,4)"
   ]
  },
  {
   "cell_type": "code",
   "execution_count": 9,
   "id": "044f18bc",
   "metadata": {},
   "outputs": [
    {
     "name": "stdout",
     "output_type": "stream",
     "text": [
      "(3, 4, 5, 6, 7, 8, 9)\n"
     ]
    }
   ],
   "source": [
    "toplama(3,4,5,6,7,8,9)"
   ]
  },
  {
   "cell_type": "code",
   "execution_count": 15,
   "id": "d765e73f",
   "metadata": {},
   "outputs": [],
   "source": [
    "# burada tuple şeklinde görüldüğü üzere değerler tutuluyor ben bunların üzerinde for döngüsüyle dolaşabilirim..\n",
    "\n",
    "def toplama(*a):\n",
    "    toplam = 0\n",
    "    for i in a:\n",
    "        toplam += i\n",
    "    print(toplam)"
   ]
  },
  {
   "cell_type": "code",
   "execution_count": 16,
   "id": "3e758b0c",
   "metadata": {},
   "outputs": [
    {
     "name": "stdout",
     "output_type": "stream",
     "text": [
      "10\n"
     ]
    }
   ],
   "source": [
    "toplama(1,2,3,4)"
   ]
  },
  {
   "cell_type": "code",
   "execution_count": 17,
   "id": "d9bde315",
   "metadata": {},
   "outputs": [
    {
     "name": "stdout",
     "output_type": "stream",
     "text": [
      "88\n"
     ]
    }
   ],
   "source": [
    "toplama(3,4,5,6,7,8,9,10,11,12,13)"
   ]
  },
  {
   "cell_type": "code",
   "execution_count": 18,
   "id": "5f119b77",
   "metadata": {},
   "outputs": [
    {
     "name": "stdout",
     "output_type": "stream",
     "text": [
      "Help on built-in function print in module builtins:\n",
      "\n",
      "print(...)\n",
      "    print(value, ..., sep=' ', end='\\n', file=sys.stdout, flush=False)\n",
      "    \n",
      "    Prints the values to a stream, or to sys.stdout by default.\n",
      "    Optional keyword arguments:\n",
      "    file:  a file-like object (stream); defaults to the current sys.stdout.\n",
      "    sep:   string inserted between values, default a space.\n",
      "    end:   string appended after the last value, default a newline.\n",
      "    flush: whether to forcibly flush the stream.\n",
      "\n"
     ]
    }
   ],
   "source": [
    "# örneğin print() fonksiyonunda da esnek sayıda değer vardır\n",
    "help(print)"
   ]
  },
  {
   "cell_type": "code",
   "execution_count": null,
   "id": "448b3b29",
   "metadata": {},
   "outputs": [],
   "source": []
  }
 ],
 "metadata": {
  "kernelspec": {
   "display_name": "Python 3",
   "language": "python",
   "name": "python3"
  },
  "language_info": {
   "codemirror_mode": {
    "name": "ipython",
    "version": 3
   },
   "file_extension": ".py",
   "mimetype": "text/x-python",
   "name": "python",
   "nbconvert_exporter": "python",
   "pygments_lexer": "ipython3",
   "version": "3.8.8"
  }
 },
 "nbformat": 4,
 "nbformat_minor": 5
}
